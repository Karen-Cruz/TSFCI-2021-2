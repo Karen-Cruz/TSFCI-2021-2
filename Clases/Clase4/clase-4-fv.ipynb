{
 "cells": [
  {
   "cell_type": "markdown",
   "metadata": {
    "ExecuteTime": {
     "end_time": "2020-03-04T01:21:08.810200Z",
     "start_time": "2020-03-04T01:21:08.804251Z"
    }
   },
   "source": [
    "<font size=4 color='blue'>\n",
    "\n",
    "# <center> Clase 4, junio 16 del 2021 </center>"
   ]
  },
  {
   "cell_type": "markdown",
   "metadata": {
    "ExecuteTime": {
     "end_time": "2020-10-11T23:31:40.881412Z",
     "start_time": "2020-10-11T23:31:40.873889Z"
    }
   },
   "source": [
    "<font size=6 color='blue'>\n",
    "Topico: Mortalidad por diabetes"
   ]
  },
  {
   "cell_type": "markdown",
   "metadata": {},
   "source": [
    "<font size=5 color='blue'>\n",
    "    \n",
    "Información sobre el tópico"
   ]
  },
  {
   "cell_type": "markdown",
   "metadata": {},
   "source": [
    "<font size=4>\n",
    "\n",
    "Evolución de la enfermedad de pacientes con Diabetes Mellitus despues de un año.\n",
    "    \n",
    "En el presente trabajo, la diabetes la caracterizamos con los siguientes diez rasgos: edad, sexo, índice de masa corporal, presión arterial promedio y seis mediciones de suero sanguíneo:\n",
    "\n",
    "     Colesterol Total \n",
    "     Baja densidad de liporoteinas\n",
    "     Alta densidad de lipoproteinas\n",
    "     Triglicéridos\n",
    "     Concentración de Lamorigina\n",
    "     Glucosa"
   ]
  },
  {
   "cell_type": "markdown",
   "metadata": {},
   "source": [
    "<font size=5 color='blue'>\n",
    "    \n",
    "Cuantificación de esta información"
   ]
  },
  {
   "cell_type": "markdown",
   "metadata": {},
   "source": [
    "<font size=4>\n",
    "\n",
    "Se tienen información de 442 pacientes (m = 442). La respuesta de interés, Y, es una medida cuantitativa de la progresión de la enfermedad un año después del inicio del estudio. Los valores de Y varían entre 25 y 346\n",
    "\n",
    "Fuente de la información: [diabetes data](https://www4.stat.ncsu.edu/~boos/var.select/diabetes.html)    Artículo original: [Least-Angle-Regression_2004](./Literatura/Least-Angle-Regression_2004.pdf)"
   ]
  },
  {
   "cell_type": "code",
   "execution_count": null,
   "metadata": {
    "ExecuteTime": {
     "end_time": "2020-10-17T23:57:51.129270Z",
     "start_time": "2020-10-17T23:57:50.706058Z"
    }
   },
   "outputs": [],
   "source": [
    "import pandas as pd\n",
    "import numpy as np\n",
    "import matplotlib.pyplot as plt"
   ]
  },
  {
   "cell_type": "code",
   "execution_count": null,
   "metadata": {
    "ExecuteTime": {
     "end_time": "2020-10-17T23:57:51.136527Z",
     "start_time": "2020-10-17T23:57:51.130690Z"
    }
   },
   "outputs": [],
   "source": [
    "# Los datos se encuentran el el archivo diabetes.csv. Estos se cargan en el objeto df del tipo DataFrame\n",
    "\n",
    "df = pd.read_csv('diabetes.csv', sep ='\\t')\n",
    "\n",
    "# el objeto df contiene los 10 rasgos relevantes de los pacientes diabéticos,\n",
    "# así como el progreso (Y) de la enfermedad un año después de comenzado el estudio. "
   ]
  },
  {
   "cell_type": "code",
   "execution_count": null,
   "metadata": {
    "ExecuteTime": {
     "end_time": "2020-10-17T23:57:51.154711Z",
     "start_time": "2020-10-17T23:57:51.138047Z"
    }
   },
   "outputs": [],
   "source": [
    "# Se despliegan las primeras 5 muestras (rasgos, objetivo)\n",
    "\n",
    "df.head()"
   ]
  },
  {
   "cell_type": "markdown",
   "metadata": {},
   "source": [
    "<font size=4>\n",
    "Las abreviaciones tienen el siguiente significado:\n",
    "    \n",
    "    AGE = Age\n",
    "    SEX = Sex\n",
    "    BMI = Body Mass Index (BMI)\n",
    "     BP = Mean Arterial Pressure (MAP)\n",
    "     S1 = Total Cholesterol (TC)\n",
    "     S2 = Low Density lipoproteins (LDL)\n",
    "     S3 = High Density lipoproteins (HDL)\n",
    "     S4 = Triglyceride (TG, TCH)\n",
    "     S5 = Serum Concentration of Lamorigine (LTG)\n",
    "     S6 = Glucose (GLU)\n",
    "      Y = Quantitative Measure of Diabetes Mellitus Disease Progression (QMDMDP) one year after the baseline."
   ]
  },
  {
   "cell_type": "code",
   "execution_count": null,
   "metadata": {
    "ExecuteTime": {
     "end_time": "2020-10-17T23:57:51.199643Z",
     "start_time": "2020-10-17T23:57:51.155939Z"
    }
   },
   "outputs": [],
   "source": [
    "# El método \"describe()\" del DataFrame df genera una tabla con informacion estadistica\n",
    "# de cada uno de los rasgos y del objetivo.\n",
    "\n",
    "df.describe()\n",
    "\n"
   ]
  },
  {
   "cell_type": "markdown",
   "metadata": {},
   "source": [
    "## Se crean los histogramas para cada uno de los rasgos que caracteriza a los pacientes con diabetes:"
   ]
  },
  {
   "cell_type": "code",
   "execution_count": null,
   "metadata": {
    "ExecuteTime": {
     "end_time": "2020-10-17T23:57:51.758142Z",
     "start_time": "2020-10-17T23:57:51.201017Z"
    }
   },
   "outputs": [],
   "source": [
    "plt.figure(figsize=(20,8)) \n",
    "\n",
    "ax1 = plt.subplot(2,4,1)\n",
    "ax2 = plt.subplot(2,4,2)\n",
    "ax3 = plt.subplot(2,4,3)\n",
    "ax4 = plt.subplot(2,4,4)\n",
    "\n",
    "ax1.hist(df.AGE, bins=30, color='green',edgecolor='purple', alpha=0.5)\n",
    "ax1.set_xlabel('Age (years)', size=15)\n",
    "ax1.set_ylabel('Frequency', size=15)\n",
    "\n",
    "ax2.hist(df.SEX, bins=30, color='orange',edgecolor='purple', alpha=0.5)\n",
    "ax2.set_xlabel('Sex', size=15)\n",
    "\n",
    "ax3.hist(df.BMI, bins=30, color='red',edgecolor='purple', alpha=0.5)\n",
    "ax3.set_xlabel('Body_mass_index', size=15)\n",
    "\n",
    "ax4.hist(df.BP, bins=30, color='blue',edgecolor='purple', alpha=0.5)\n",
    "ax4.set_xlabel('Mean_Arterial_Pressure', size=15);"
   ]
  },
  {
   "cell_type": "code",
   "execution_count": null,
   "metadata": {
    "ExecuteTime": {
     "end_time": "2020-10-17T23:57:52.267659Z",
     "start_time": "2020-10-17T23:57:51.760134Z"
    }
   },
   "outputs": [],
   "source": [
    "plt.figure(figsize=(20,8)) \n",
    "\n",
    "ax1 = plt.subplot(2,4,1)\n",
    "ax2 = plt.subplot(2,4,2)\n",
    "ax3 = plt.subplot(2,4,3)\n",
    "ax4 = plt.subplot(2,4,4)\n",
    "\n",
    "ax1.hist(df.S1, bins=30, color='green',edgecolor='purple', alpha=0.5)\n",
    "ax1.set_xlabel('Total Cholesterol', size=15)\n",
    "ax1.set_ylabel('Frequency', size=15)\n",
    "\n",
    "ax2.hist(df.S2, bins=30, color='orange',edgecolor='purple', alpha=0.5)\n",
    "ax2.set_xlabel('Low Density lipoproteins', size=15)\n",
    "\n",
    "ax3.hist(df.S3, bins=30, color='red',edgecolor='purple', alpha=0.5)\n",
    "ax3.set_xlabel('High Density lipoproteins', size=15)\n",
    "\n",
    "ax4.hist(df.S4, bins=30, color='blue',edgecolor='purple', alpha=0.5)\n",
    "ax4.set_xlabel('Triglyceride', size=15);"
   ]
  },
  {
   "cell_type": "code",
   "execution_count": null,
   "metadata": {
    "ExecuteTime": {
     "end_time": "2020-10-17T23:57:52.646479Z",
     "start_time": "2020-10-17T23:57:52.269275Z"
    }
   },
   "outputs": [],
   "source": [
    "plt.figure(figsize=(15,8)) \n",
    "\n",
    "ax1 = plt.subplot(2,3,1)\n",
    "ax2 = plt.subplot(2,3,2)\n",
    "ax3 = plt.subplot(2,3,3)\n",
    "\n",
    "ax1.hist(df.S5, bins=30, color='green',edgecolor='purple', alpha=0.5)\n",
    "ax1.set_xlabel('Serum Concentration of Lamorigine', size=15)\n",
    "ax1.set_ylabel('Frequency', size=15)\n",
    "\n",
    "ax2.hist(df.S6, bins=30, color='orange',edgecolor='purple', alpha=0.5)\n",
    "ax2.set_xlabel('Glucose', size=15)\n",
    "\n",
    "ax3.hist(df.Y, bins=30, color='purple',edgecolor='black', alpha=0.5)\n",
    "ax3.set_xlabel('Y(Diabetes Mellitus Disease Progression)', size=15)\n"
   ]
  },
  {
   "cell_type": "markdown",
   "metadata": {
    "ExecuteTime": {
     "end_time": "2020-10-13T21:40:41.245228Z",
     "start_time": "2020-10-13T21:40:41.238690Z"
    }
   },
   "source": [
    "<font size=5 color='blue'>\n",
    "\n",
    "# <center> Linear Regression Analysis </center>"
   ]
  },
  {
   "cell_type": "markdown",
   "metadata": {
    "ExecuteTime": {
     "end_time": "2020-10-13T19:15:39.725146Z",
     "start_time": "2020-10-13T19:15:39.717561Z"
    }
   },
   "source": [
    "<font size=5 color='blue'>\n",
    "\n",
    "Regression analysis"
   ]
  },
  {
   "cell_type": "markdown",
   "metadata": {},
   "source": [
    "<font size=4 color='black'>\n",
    "    \n",
    "In statistical modeling, $\\textbf {regression analysis}$ is a set of statistical processes for estimating the relationships between a dependent variable (often called the 'outcome variable') and one or more independent variables (often called 'predictors', 'covariates', or 'features').\n",
    "    \n",
    "More: [Regression analysis](https://en.wikipedia.org/wiki/Regression_analysis)"
   ]
  },
  {
   "cell_type": "markdown",
   "metadata": {},
   "source": [
    "<font size=5 color='blue'>\n",
    "    \n",
    "Implementacion de un sistema de aprendizaje, empleando un análisis de regresion lineal"
   ]
  },
  {
   "cell_type": "markdown",
   "metadata": {},
   "source": [
    "<font size=4 >\n",
    "Los pasos principales para construir el sistema son:\n",
    "\n",
    "1. Definir un modelo proponiendo un algoritmo que relacione las variables X y Y.\n",
    "2. Inicializar las variables asociadas al modelo, $w, b$ (pesos y biases).\n",
    "3. Realizar lo siguiente en cada época:\n",
    "     - Calcular el costo ($J$).\n",
    "     - Calcular el gradiente del costo respecto a las variables asociadas al modelo.\n",
    "     - Actualizar los pesos y los biases empleando el algoritmo propuesto para optimización. Por ejemplo, gradiente descendente "
   ]
  },
  {
   "cell_type": "markdown",
   "metadata": {
    "ExecuteTime": {
     "end_time": "2020-10-13T20:46:28.106905Z",
     "start_time": "2020-10-13T20:46:28.101767Z"
    }
   },
   "source": [
    "<font size=5 color='blue'>\n",
    "Algoritmo que relaciona las variables X y Y"
   ]
  },
  {
   "cell_type": "markdown",
   "metadata": {},
   "source": [
    "<font size=4 >\n",
    "    \n",
    "Si se tienen $m$ muestras.\n",
    "    \n",
    "Para una muestra $j\\in m$, con sus valores de la variable $x$, $x^{(j)}$, se genera la variable $z^{(j)}$ mediante la siguiente relación lineal:\n",
    "\n",
    "$$z^{(j)} = w^T x^{(j)} + b = \\sum_{i \\in j} w_{i} x_{i}^{(j)} + b $$\n",
    "\n",
    "$z^{(j)}$ es la combinacion lineal entre los pesos, $w_{i}$ y los valores $x^{(j)}$ + el bias b. Posteriormente esta sumatoria es transformada (activada) con una función, para generar la variable de salida $a^{(j)}$. \n",
    "    \n",
    "Dado que inicialmente nos interesa realizar un aprendizaje con con regresión lineal, la función de transformación es la identidad $f(z)=z$.\n",
    "\n",
    "$$F(x^{(j)}) = a^{(j)} = f(z^{(j)})=z^{(j)}$$ \n",
    "\n",
    "Para realizar el aprendizaje, se genera una métrica definida por la función de perdida (*loss*), tambien llamada función de costo *cost*, $J$. Esta función se obtienes realizando el promedio, sobre todas las $m$ muestras, de la diferencia al cuadrado entre el valor ($y^{(j)}$) de la muestra $j$ y el valor de la función $F(x^{(j)})$.  \n",
    "\n",
    "$$ J = \\frac{1}{m} \\sum_{j=1}^m (y^{(j)} -F(x^{(j)}))^2$$\n",
    "\n",
    "\n"
   ]
  },
  {
   "cell_type": "markdown",
   "metadata": {
    "ExecuteTime": {
     "end_time": "2020-10-13T20:21:23.071130Z",
     "start_time": "2020-10-13T20:21:23.062454Z"
    }
   },
   "source": [
    "<font size=4>\n",
    "\n",
    "Para quitar cuarquier posible correlación entre las muestras, estas se reordenan al azar."
   ]
  },
  {
   "cell_type": "code",
   "execution_count": null,
   "metadata": {
    "ExecuteTime": {
     "end_time": "2020-10-17T23:57:52.652481Z",
     "start_time": "2020-10-17T23:57:52.648837Z"
    }
   },
   "outputs": [],
   "source": [
    "df = df.sample(frac=1)"
   ]
  },
  {
   "cell_type": "code",
   "execution_count": null,
   "metadata": {
    "ExecuteTime": {
     "end_time": "2020-10-17T23:57:52.664671Z",
     "start_time": "2020-10-17T23:57:52.655013Z"
    }
   },
   "outputs": [],
   "source": [
    "print(df.shape)"
   ]
  },
  {
   "cell_type": "code",
   "execution_count": null,
   "metadata": {
    "ExecuteTime": {
     "end_time": "2020-10-17T23:57:52.676868Z",
     "start_time": "2020-10-17T23:57:52.666661Z"
    }
   },
   "outputs": [],
   "source": [
    "print(len(df.values[:,:]))"
   ]
  },
  {
   "cell_type": "markdown",
   "metadata": {},
   "source": [
    "<font size=5 color='blue'>\n",
    "División de las muestras para aprender y para hacer predicciones"
   ]
  },
  {
   "cell_type": "markdown",
   "metadata": {},
   "source": [
    "<font size=4>\n",
    "    \n",
    "Se dividen la muestras originales en 2 conjuntos: 90 % para el entrenamiento y 10 % para hacer inferencias (predicciones) con el sistema de aprendizaje."
   ]
  },
  {
   "cell_type": "code",
   "execution_count": null,
   "metadata": {
    "ExecuteTime": {
     "end_time": "2020-10-17T23:57:52.689714Z",
     "start_time": "2020-10-17T23:57:52.678071Z"
    }
   },
   "outputs": [],
   "source": [
    "test_ratio = 0.1\n",
    "\n",
    "train_ratio = int((1.0-test_ratio)*len(df.values[:,:]))\n",
    "\n",
    "df_train = df.iloc[0:train_ratio,:]\n",
    "df_test  = df.iloc[train_ratio:,:]"
   ]
  },
  {
   "cell_type": "code",
   "execution_count": null,
   "metadata": {
    "ExecuteTime": {
     "end_time": "2020-10-17T23:57:52.701737Z",
     "start_time": "2020-10-17T23:57:52.690890Z"
    }
   },
   "outputs": [],
   "source": [
    "print(df_train.shape)\n",
    "print(df_test.shape)"
   ]
  },
  {
   "cell_type": "markdown",
   "metadata": {},
   "source": [
    "<font size=5 color='blue'>  \n",
    "Dada una distribución, podemos calcular su valor promedio $\\mu$ y su varianza $\\sigma$"
   ]
  },
  {
   "attachments": {
    "image.png": {
     "image/png": "[encoded data removed]"
    }
   },
   "cell_type": "markdown",
   "metadata": {},
   "source": [
    "![image.png](attachment:image.png)\n"
   ]
  },
  {
   "cell_type": "markdown",
   "metadata": {},
   "source": [
    "<font size=4>\n",
    "\n",
    "Para trabajar con los modelos de aprendizaje,es adecuado que todas las variables tengan el mismo orden de magnitud. Por ello, se normalizan sus valores en las muestras que se emplearán en el entrenamiento, tanto los rasgos (X) y las variables objetivo (Y):\n",
    "\n",
    "$$x_{i,norm} = \\dfrac{x_{i}-\\mu}{\\sigma}$$\n",
    "    \n",
    "$$y_{i,norm} = \\dfrac{y_{i}-\\mu}{\\sigma}$$"
   ]
  },
  {
   "cell_type": "code",
   "execution_count": null,
   "metadata": {
    "ExecuteTime": {
     "end_time": "2020-10-17T23:57:52.732678Z",
     "start_time": "2020-10-17T23:57:52.703137Z"
    }
   },
   "outputs": [],
   "source": [
    "df_train_norm = (df_train - df_train.mean()) / df_train.std()\n",
    "df_train_norm.head()"
   ]
  },
  {
   "cell_type": "markdown",
   "metadata": {},
   "source": [
    "<font size=5 color='blue'> \n",
    "Nota importante: La normalización de las muestras de prueba se realiza con los valores de $\\mu$ y $\\sigma$ obtenidos con las muestras empleadas para el entrenamiento"
   ]
  },
  {
   "cell_type": "code",
   "execution_count": null,
   "metadata": {
    "ExecuteTime": {
     "end_time": "2020-10-17T23:57:52.755370Z",
     "start_time": "2020-10-17T23:57:52.734406Z"
    }
   },
   "outputs": [],
   "source": [
    "df_test_norm = (df_test - df_train.mean()) / df_train.std()\n",
    "df_test_norm.head()"
   ]
  },
  {
   "cell_type": "markdown",
   "metadata": {},
   "source": [
    "<font size=4>\n",
    "    \n",
    "Histogramas de las variables que se emplearán en el entrenamiento:"
   ]
  },
  {
   "cell_type": "code",
   "execution_count": null,
   "metadata": {
    "ExecuteTime": {
     "end_time": "2020-10-17T23:57:53.246996Z",
     "start_time": "2020-10-17T23:57:52.757608Z"
    }
   },
   "outputs": [],
   "source": [
    "plt.figure(figsize=(20,8)) \n",
    "\n",
    "ax1 = plt.subplot(2,4,1)\n",
    "ax2 = plt.subplot(2,4,2)\n",
    "ax3 = plt.subplot(2,4,3)\n",
    "ax4 = plt.subplot(2,4,4)\n",
    "\n",
    "ax1.hist(df_train_norm.AGE, bins=30, color='green',edgecolor='purple', alpha=0.5)\n",
    "ax1.set_xlabel('x1(Age)', size=15)\n",
    "ax1.set_ylabel('Frequency', size=15)\n",
    "\n",
    "ax2.hist(df_train_norm.SEX, bins=30, color='orange',edgecolor='purple', alpha=0.5)\n",
    "ax2.set_xlabel('x2(Sex)', size=15)\n",
    "\n",
    "ax3.hist(df_train_norm.BMI, bins=30, color='red',edgecolor='purple', alpha=0.5)\n",
    "ax3.set_xlabel('x3(Body_mass_index)', size=15)\n",
    "\n",
    "ax4.hist(df_train_norm.BP, bins=30, color='blue',edgecolor='purple', alpha=0.5)\n",
    "ax4.set_xlabel('x4(Mean_Arterial_Pressure)', size=15);"
   ]
  },
  {
   "cell_type": "code",
   "execution_count": null,
   "metadata": {
    "ExecuteTime": {
     "end_time": "2020-10-17T23:57:53.790418Z",
     "start_time": "2020-10-17T23:57:53.248703Z"
    }
   },
   "outputs": [],
   "source": [
    "plt.figure(figsize=(20,8)) \n",
    "\n",
    "ax1 = plt.subplot(2,4,1)\n",
    "ax2 = plt.subplot(2,4,2)\n",
    "ax3 = plt.subplot(2,4,3)\n",
    "ax4 = plt.subplot(2,4,4)\n",
    "\n",
    "ax1.hist(df_train_norm.S1, bins=30, color='green',edgecolor='purple', alpha=0.5)\n",
    "ax1.set_xlabel('x5(Total Cholesterol)', size=15)\n",
    "ax1.set_ylabel('Frequency', size=15)\n",
    "\n",
    "ax2.hist(df_train_norm.S2, bins=30, color='orange',edgecolor='purple', alpha=0.5)\n",
    "ax2.set_xlabel('x6(Low Density lipoproteins)', size=15)\n",
    "\n",
    "ax3.hist(df_train_norm.S3, bins=30, color='red',edgecolor='purple', alpha=0.5)\n",
    "ax3.set_xlabel('x7(High Density lipoproteins)', size=15)\n",
    "\n",
    "ax4.hist(df_train_norm.S4, bins=30, color='blue',edgecolor='purple', alpha=0.5)\n",
    "ax4.set_xlabel('x8(Triglyceride)', size=15);"
   ]
  },
  {
   "cell_type": "code",
   "execution_count": null,
   "metadata": {
    "ExecuteTime": {
     "end_time": "2020-10-17T23:57:54.151410Z",
     "start_time": "2020-10-17T23:57:53.792394Z"
    }
   },
   "outputs": [],
   "source": [
    "plt.figure(figsize=(20,8)) \n",
    "\n",
    "ax1 = plt.subplot(2,3,1)\n",
    "ax2 = plt.subplot(2,3,2)\n",
    "ax3 = plt.subplot(2,3,3)\n",
    "\n",
    "ax1.hist(df_train_norm.S5, bins=30, color='green',edgecolor='purple', alpha=0.5)\n",
    "ax1.set_xlabel('x9(Serum Concentration of Lamorigine)', size=15)\n",
    "ax1.set_ylabel('Frequency', size=15)\n",
    "\n",
    "ax2.hist(df_train_norm.S6, bins=30, color='orange',edgecolor='purple', alpha=0.5)\n",
    "ax2.set_xlabel('x10(Glucose)', size=15)\n",
    "\n",
    "ax3.hist(df_train_norm.Y, bins=30, color='purple',edgecolor='black', alpha=0.5)\n",
    "ax3.set_xlabel('Y(Diabetes Mellitus Disease Progression)', size=15)\n"
   ]
  },
  {
   "cell_type": "markdown",
   "metadata": {},
   "source": [
    "<font size=4>\n",
    "Los valores de las variables X e Y se extraen de las columnas del DataFrame."
   ]
  },
  {
   "cell_type": "code",
   "execution_count": null,
   "metadata": {
    "ExecuteTime": {
     "end_time": "2020-10-17T23:57:54.157108Z",
     "start_time": "2020-10-17T23:57:54.152848Z"
    }
   },
   "outputs": [],
   "source": [
    "x_train = df_train_norm.values[:,:-1]\n",
    "y_train = df_train_norm.values[:,-1:]\n",
    "print(type(x_train), type(y_train))\n",
    "print(x_train.shape)\n",
    "print(y_train.shape)"
   ]
  },
  {
   "cell_type": "code",
   "execution_count": null,
   "metadata": {
    "ExecuteTime": {
     "end_time": "2020-10-17T23:57:54.170083Z",
     "start_time": "2020-10-17T23:57:54.159004Z"
    }
   },
   "outputs": [],
   "source": [
    "x_test = df_test_norm.values[:,:-1]\n",
    "y_test = df_test_norm.values[:,-1:]\n",
    "print(type(x_test), type(y_test))\n",
    "print(x_test.shape)\n",
    "print(y_test.shape)"
   ]
  },
  {
   "cell_type": "code",
   "execution_count": null,
   "metadata": {
    "ExecuteTime": {
     "end_time": "2020-10-17T23:57:54.181603Z",
     "start_time": "2020-10-17T23:57:54.172269Z"
    }
   },
   "outputs": [],
   "source": [
    "train_x = x_train.T\n",
    "test_x = x_test.T\n",
    "\n",
    "train_y = y_train\n",
    "test_y =  y_test"
   ]
  },
  {
   "cell_type": "code",
   "execution_count": null,
   "metadata": {
    "ExecuteTime": {
     "end_time": "2020-10-17T23:57:54.198697Z",
     "start_time": "2020-10-17T23:57:54.182988Z"
    }
   },
   "outputs": [],
   "source": [
    "print(train_x.shape)\n",
    "print(train_y.shape)\n",
    "print(test_x.shape)\n",
    "print(test_y.shape)"
   ]
  },
  {
   "cell_type": "code",
   "execution_count": null,
   "metadata": {
    "ExecuteTime": {
     "end_time": "2020-10-17T23:57:54.211139Z",
     "start_time": "2020-10-17T23:57:54.199997Z"
    }
   },
   "outputs": [],
   "source": [
    "train_x[:,1:3]"
   ]
  },
  {
   "cell_type": "markdown",
   "metadata": {},
   "source": [
    " <font size=5 color='blue'>    \n",
    "1. Se inicializan los parámetros de la función, $F(X)$ que define la relación entre X y Y. "
   ]
  },
  {
   "cell_type": "markdown",
   "metadata": {},
   "source": [
    "<font size=4>\n",
    "Debido a que las variables X y Y fueron normalizadas a distribuciones con un deviación estándard de 1, los valores de los parámetros $w$ se inicializan con valores pequeños, mientras que el bias se inicializa con cero."
   ]
  },
  {
   "cell_type": "code",
   "execution_count": null,
   "metadata": {
    "ExecuteTime": {
     "end_time": "2020-10-17T23:57:54.222322Z",
     "start_time": "2020-10-17T23:57:54.214162Z"
    }
   },
   "outputs": [],
   "source": [
    "def initialize_params(dim):\n",
    "    \"\"\"\n",
    "    This function creates a vector of zeros of shape (dim, 1) for w and initializes b to 0.\n",
    "    \n",
    "    Argument:\n",
    "    dim -- size of the w vector we want (or number of parameters in this case)\n",
    "    \n",
    "    Returns:\n",
    "    w -- initialized vector of shape (dim, 1)\n",
    "    b -- initialized scalar (corresponds to the bias)\n",
    "    \"\"\"\n",
    "    \n",
    "    w = np.reshape(np.random.uniform(-0.1, 0.1, dim), (dim, 1))\n",
    "    b = 0\n",
    "\n",
    "    assert(w.shape == (dim, 1))\n",
    "    assert(isinstance(b, float) or isinstance(b, int))\n",
    "    \n",
    "    return w, b"
   ]
  },
  {
   "cell_type": "code",
   "execution_count": null,
   "metadata": {
    "ExecuteTime": {
     "end_time": "2020-10-17T23:57:54.234878Z",
     "start_time": "2020-10-17T23:57:54.224177Z"
    }
   },
   "outputs": [],
   "source": [
    "#Testing the function initialize_params (dim)\n",
    "\n",
    "dim = train_x.shape[0]\n",
    "w, b = initialize_params(dim)\n",
    "print (\"w = \" + str(w))\n",
    "print (\"b = \" + str(b))"
   ]
  },
  {
   "cell_type": "markdown",
   "metadata": {},
   "source": [
    " <font size=5 color='blue'> \n",
    "    \n",
    "2. Cálculo de la función de costo y sus derivadas parciales respecto a sus parámetros"
   ]
  },
  {
   "cell_type": "markdown",
   "metadata": {},
   "source": [
    "<font size=4>\n",
    "Una vez inicializados los pesos y el bias, se calcula la función de costo, y sus derivadas parciales respecto a cada uno de los pesos $w_{i}$ y el bias $b$. Estas derivadas se emplean para proponer nuevos valores tanto para los pesos como para el bias. \n",
    "\n",
    "La funcion *propagate( )* calcula la función de costo y su gradiente:\n",
    "\n",
    "- Se tiene X $$ $$\n",
    "- Se calcula $$A = (w^T X + b) = (a^{(1)}, a^{(2)}, ..., a^{(m-1)}, a^{(m)})$$ $$ $$\n",
    "- Se calcula la función de costo: $$J = \\frac{1}{m}\\sum_{i=1}^m(y^{(i)} -F(x^{(i)}))^2$$\n",
    "\n",
    "\n",
    "Las derivadas de la funcion de costo respecto a los pesos $ w_k$ y el bias $ b$ son:\n",
    "\n",
    "\n",
    "$$ \\frac{\\partial J}{\\partial w_k} = \\frac{1}{m}X(A-Y)^T$$ $$ $$\n",
    "$$ \\frac{\\partial J}{\\partial b} = \\frac{1}{m} \\sum_{i=1}^m (F(x^{(i)})-y^{(i)}))$$"
   ]
  },
  {
   "cell_type": "code",
   "execution_count": null,
   "metadata": {
    "ExecuteTime": {
     "end_time": "2020-10-17T23:57:54.246339Z",
     "start_time": "2020-10-17T23:57:54.236349Z"
    }
   },
   "outputs": [],
   "source": [
    "#Función para transformar los efectos no lineales. En el presente caso se considera un modelo completamente\n",
    "#lineal. Por ello la función es la identidad.\n",
    "\n",
    "def identity(z):\n",
    "    \"\"\"\n",
    "    Arguments:\n",
    "    z -- A scalar or numpy array of any size.\n",
    "\n",
    "    Return:\n",
    "    s -- z\n",
    "    \"\"\"\n",
    "    s = 1.0 * z\n",
    "    \n",
    "    return s"
   ]
  },
  {
   "cell_type": "code",
   "execution_count": null,
   "metadata": {
    "ExecuteTime": {
     "end_time": "2020-10-17T23:57:54.258237Z",
     "start_time": "2020-10-17T23:57:54.247688Z"
    }
   },
   "outputs": [],
   "source": [
    "def propagate(w, b, X, Y,X_val,Y_val):\n",
    "    \n",
    "    m = X.shape[1]\n",
    "    m_val = X_val.shape[1]\n",
    "    \n",
    "    A = identity(np.dot(w.T, X)+b)\n",
    "    A_val = identity(np.dot(w.T,X_val)+b)\n",
    "    \n",
    "    cost = (1/m)*np.sum((Y-A)**2)\n",
    "    cost_val = (1/m_val)*np.sum((Y_val-A_val)**2)\n",
    "    \n",
    "    dw = (1/m)*np.dot(X, (A-Y).T)\n",
    "    \n",
    "    db = (1/m)*np.sum(A-Y)\n",
    "    \n",
    "\n",
    "    assert(dw.shape == w.shape)\n",
    "    assert(db.dtype == float)\n",
    "    cost = np.squeeze(cost)\n",
    "    cost_val = np.squeeze(cost_val)\n",
    "    assert(cost.shape == ())\n",
    "    \n",
    "    grads = {\"dw\": dw,\n",
    "             \"db\": db}\n",
    "    \n",
    "    return grads, cost, cost_val"
   ]
  },
  {
   "cell_type": "markdown",
   "metadata": {},
   "source": [
    "<font size=5 color='blue'> \n",
    "3. Actualizacion de los pesos y el bias"
   ]
  },
  {
   "cell_type": "markdown",
   "metadata": {},
   "source": [
    "<font size=5 color='black'> \n",
    "Para monitorear el aprendizaje, las muestras para el aprendizaje se dividen en dos grupos:"
   ]
  },
  {
   "cell_type": "markdown",
   "metadata": {},
   "source": [
    "<font size=4 color='black'>\n",
    "El 90% de ellas se emplean para realizar el aprendizaje y el 10% restante para evaluar, \"validar\", la calidad del aprendizaje."
   ]
  },
  {
   "cell_type": "markdown",
   "metadata": {},
   "source": [
    "<font size=4>\n",
    "    \n",
    "La función *optimize(  )*  actualiza los pesos $w$ y el bias $b$ usando el método de gradiente descendente.\n",
    "\n",
    "Se calcula la función de costo para las muestras empleadas en el entrenamiento y para las asignadas a la validación.\n",
    "    \n",
    "Los pesos $ w $ y el bias $ b $ son modificados en cada época hasta que la función de costo $ J $ llega a su valor mínimo. \n",
    "\n",
    "Los pesos $ w_{k} $ y el bias $b$ se actualizan mediante la siguientes relaciones: $$ $$ $$ w_{k} := w_{k} - \\alpha \\frac{\\partial J}{\\partial w_{k}} $$\n",
    "\n",
    "$$ b := b - \\alpha \\frac{\\partial J}{\\partial b} $$ $$ $$ $ \\alpha $ es el hyperparámetro que define la relación de aprendizaje."
   ]
  },
  {
   "cell_type": "code",
   "execution_count": null,
   "metadata": {
    "ExecuteTime": {
     "end_time": "2020-10-17T23:57:54.270017Z",
     "start_time": "2020-10-17T23:57:54.259818Z"
    }
   },
   "outputs": [],
   "source": [
    "def optimize(w, b, X, Y, X_val, Y_val, epochs, learning_rate, print_cost = False):\n",
    "    \n",
    "    costs = []\n",
    "    costs_val = []\n",
    "    \n",
    "    for i in range(epochs):\n",
    "        \n",
    "        \n",
    "        grads, cost, cost_val = propagate(w, b, X, Y,X_val,Y_val)\n",
    "        \n",
    "        dw = grads[\"dw\"]\n",
    "        db = grads[\"db\"]\n",
    "        \n",
    "        w = w-learning_rate*dw\n",
    "        b = b-learning_rate*db\n",
    "        \n",
    "        if i % 100 == 0:\n",
    "            costs.append(cost)\n",
    "            costs_val.append(cost_val)\n",
    "        \n",
    "        # Print the cost every 100 training iterations\n",
    "        if print_cost and i % 100 == 0:\n",
    "            print (\"Cost and Cost_val after epoch %i: %f %f\" %(i, cost, cost_val))\n",
    "    \n",
    "    params = {\"w\": w,\n",
    "              \"b\": b}\n",
    "    \n",
    "    grads = {\"dw\": dw,\n",
    "             \"db\": db}\n",
    "    \n",
    "    return params, grads, costs, costs_val"
   ]
  },
  {
   "cell_type": "markdown",
   "metadata": {},
   "source": [
    "<font size=5 color='blue'>\n",
    "4. Calculo de inferencias (predicciones)"
   ]
  },
  {
   "cell_type": "markdown",
   "metadata": {},
   "source": [
    "<font size=4>\n",
    "    \n",
    "Una vez que se encuentran los valores de los pesos $w$ y del bias $b$ que minimizan la función de costo, la función, $F(X)$ que se genera con estos valores se emplea para inferir valores de Y asociados a las muestras de prueba, los cuales se comparan con los valores Y conocidos de estas muestras.\n",
    "\n",
    "La función `predic()` calcula $F(X)=w ^ T X + b$ empleando los valores de $w$ y $b$ para los cuales el costo es mínimo.\n"
   ]
  },
  {
   "cell_type": "code",
   "execution_count": null,
   "metadata": {
    "ExecuteTime": {
     "end_time": "2020-10-17T23:57:54.284327Z",
     "start_time": "2020-10-17T23:57:54.271215Z"
    }
   },
   "outputs": [],
   "source": [
    "def predict(w, b, X):\n",
    "    \n",
    "    w = w.reshape(X.shape[0], 1)\n",
    "    \n",
    "    A = identity(np.dot(w.T, X)+b)\n",
    "    \n",
    "    return A"
   ]
  },
  {
   "cell_type": "markdown",
   "metadata": {},
   "source": [
    "<font size=4>\n",
    "Para calcular la precision del modelo, a manera de ejemplo, se usa el error cuadático medio, MSE: $$ $$\n",
    "\n",
    "$$100-MSE*100$$\n",
    "\n",
    "es decir\n",
    "\n",
    "$$100-(\\dfrac{1}{m_{test}}\\sum_{i}^{m_{test}} (y^{(i)}-a^{(i)})^2)*100$$ "
   ]
  },
  {
   "cell_type": "markdown",
   "metadata": {},
   "source": [
    "<font size=5 color='blue'>\n",
    "$$ $$\n",
    "5. Sistema de aprendizaje: se juntan los pasos 1, 2,  y 3"
   ]
  },
  {
   "cell_type": "code",
   "execution_count": null,
   "metadata": {
    "ExecuteTime": {
     "end_time": "2020-10-17T23:57:54.300640Z",
     "start_time": "2020-10-17T23:57:54.285674Z"
    }
   },
   "outputs": [],
   "source": [
    "def model(X_train, Y_train, val_ratio, epochs = 2000, learning_rate = 0.5, print_cost = False):\n",
    "\n",
    "    \n",
    "    train_ratio = int((1-val_ratio)*X_train.shape[1])\n",
    "    X_val = X_train[:,train_ratio:]\n",
    "    Y_val = Y_train[:,train_ratio:]\n",
    "\n",
    "    X_train = X_train[:,:train_ratio]\n",
    "    Y_train = Y_train[:,:train_ratio]\n",
    "    \n",
    "    print(\"Train\",X_train.shape,Y_train.shape)\n",
    "    print(\"val\",X_val.shape,Y_val.shape)\n",
    "    \n",
    "    # 1. inicializacion de parametros\n",
    "    w, b = initialize_params(X_train.shape[0])\n",
    "\n",
    "    # 2. y 3. Actualizacion de parametros\n",
    "    parameters, grads, costs, costs_val = optimize(w, b, X_train, Y_train, X_val, Y_val, epochs, learning_rate, print_cost = print_cost)\n",
    "    \n",
    "    w = parameters[\"w\"]\n",
    "    b = parameters[\"b\"]\n",
    "    \n",
    "    # 4. Predicciones\n",
    "    Y_prediction_val = predict(w, b, X_val)\n",
    "    Y_prediction_train = predict(w, b, X_train)\n",
    "\n",
    "    # Print train/test Errors\n",
    "    print(\"train accuracy: {} %\".format(100 - np.mean(np.power(Y_prediction_train - Y_train, 2)) * 100))\n",
    "    print(\"test accuracy: {} %\".format(100 - np.mean(np.power(Y_prediction_val - Y_val, 2)) * 100))\n",
    "\n",
    "    \n",
    "    d = {\"costs\": costs, \"costs_val\": costs_val,\n",
    "         \"Y_prediction_val\": Y_prediction_val, \n",
    "         \"Y_prediction_train\" : Y_prediction_train, \n",
    "         \"w\" : w, \n",
    "         \"b\" : b,\n",
    "         \"learning_rate\" : learning_rate,\n",
    "         \"epochs\": epochs}\n",
    "    \n",
    "    return d"
   ]
  },
  {
   "cell_type": "code",
   "execution_count": null,
   "metadata": {
    "ExecuteTime": {
     "end_time": "2020-10-17T23:57:54.315641Z",
     "start_time": "2020-10-17T23:57:54.301964Z"
    }
   },
   "outputs": [],
   "source": [
    "print(train_x.shape[1])\n"
   ]
  },
  {
   "cell_type": "code",
   "execution_count": null,
   "metadata": {
    "ExecuteTime": {
     "end_time": "2020-10-17T23:57:54.437598Z",
     "start_time": "2020-10-17T23:57:54.316934Z"
    }
   },
   "outputs": [],
   "source": [
    "epochs = 2000\n",
    "learning_rate = 0.01\n",
    "val_ratio = 0.1\n",
    "d = model(train_x, train_y.T, val_ratio=val_ratio, epochs = epochs, \n",
    "          learning_rate = learning_rate, print_cost = True)"
   ]
  },
  {
   "cell_type": "code",
   "execution_count": null,
   "metadata": {
    "ExecuteTime": {
     "end_time": "2020-10-17T23:57:54.556965Z",
     "start_time": "2020-10-17T23:57:54.438826Z"
    }
   },
   "outputs": [],
   "source": [
    "costs = np.squeeze(d['costs'])\n",
    "costs_val = np.squeeze(d['costs_val'])\n",
    "\n",
    "plt.plot(costs)\n",
    "plt.plot(costs_val)\n",
    "plt.ylabel('cost', size=16)\n",
    "plt.xlabel('epochs (x100)', size=16)\n",
    "plt.title(\"Learning rate =\" + str(d[\"learning_rate\"]))\n",
    "plt.legend(['Train', 'Val'], loc='upper right')\n",
    "plt.show()"
   ]
  },
  {
   "cell_type": "code",
   "execution_count": null,
   "metadata": {
    "ExecuteTime": {
     "end_time": "2020-10-17T23:57:54.977588Z",
     "start_time": "2020-10-17T23:57:54.558563Z"
    }
   },
   "outputs": [],
   "source": [
    "learning_rates = [0.01, 0.005, 0.001]\n",
    "val_ratio = 0.1\n",
    "models = {}\n",
    "for i in learning_rates:\n",
    "    print (\"learning rate is: \", i)\n",
    "    models[str(i)] = model(train_x, train_y.T, val_ratio=val_ratio, epochs = 2000, learning_rate = i, print_cost = False)\n",
    "    print ('\\n' + \"-------------------------------------------------------\" + '\\n')\n",
    "\n",
    "for i in learning_rates:\n",
    "    plt.plot(np.squeeze(models[str(i)][\"costs\"]), label= str(models[str(i)][\"learning_rate\"]))\n",
    "    plt.plot(np.squeeze(models[str(i)][\"costs_val\"]), label= str(models[str(i)][\"learning_rate\"]))\n",
    "    \n",
    "plt.ylabel('cost')\n",
    "plt.xlabel('epocs (x100)')\n",
    "\n",
    "legend = plt.legend(loc='upper center', shadow=True)\n",
    "frame = legend.get_frame()\n",
    "frame.set_facecolor('0.90')\n",
    "plt.show()"
   ]
  },
  {
   "cell_type": "markdown",
   "metadata": {},
   "source": [
    "<font size=6 color='blue'>\n",
    "$$ $$\n",
    "<center> Non-Linear Regression Analysis </center>"
   ]
  },
  {
   "cell_type": "markdown",
   "metadata": {},
   "source": [
    "<font size=4>\n",
    "    \n",
    "Para nuestro nuevo sistema de aprendizaje, la función $F(X)$ ya no varía linealmente con X. La relación (2) de las siguientes ecuaciones ya no es válida:\n",
    "    \n",
    "$$z^{(j)} = w^T x^{(j)} + b = \\sum_{i \\in j} w_{i} x_{i}^{(j)} + b $$\n",
    "    \n",
    "$$F(x^{(j)}) = a^{(j)} = f(z^{(j)})=z^{(j)}$$ \n",
    "\n",
    "\n",
    "Para tomar en cuenta la no linealidad, la función $f(z)=z$ se cambia por una función ligeramente no lineal alrededor de cero. Esto se logra empleando en su lugar una función del tipo sigmoid, por ejemplo $f(z)=tanh(z)$. Con este cambio, la ecuación (2) se transforma entonces en: $$ $$\n",
    "$$F(x^{(j)}) = a^{(j)} = f(z^{(j)}) = tanh(z^{(j)})$$     "
   ]
  },
  {
   "cell_type": "code",
   "execution_count": null,
   "metadata": {
    "ExecuteTime": {
     "end_time": "2020-10-17T23:57:54.983850Z",
     "start_time": "2020-10-17T23:57:54.979582Z"
    }
   },
   "outputs": [],
   "source": [
    "def tanh(x):\n",
    "    return (np.exp(x)-np.exp(-x))/(np.exp(x)+np.exp(-x))"
   ]
  },
  {
   "cell_type": "code",
   "execution_count": null,
   "metadata": {
    "ExecuteTime": {
     "end_time": "2020-10-17T23:57:55.160371Z",
     "start_time": "2020-10-17T23:57:54.985631Z"
    }
   },
   "outputs": [],
   "source": [
    "#The following arrays are generated for plotting the Function F(x, weight_0, bias_0)\n",
    "x_ = np.arange(-2, 2.0, 0.1)\n",
    "y_ = 1.7159*tanh((2/3*x_))\n",
    "\n",
    "#Samples and function F are plotted\n",
    "plt.figure(figsize=(13,8))\n",
    "plt.figure(figsize=(13,8))\n",
    "plt.rc('xtick', labelsize=16)\n",
    "plt.rc('ytick', labelsize=16)\n",
    "plt.rc('legend', fontsize=16)\n",
    "plt.ylabel('Y', fontsize=16)\n",
    "plt.xlabel('X', fontsize=16)\n",
    "plt.grid(True)\n",
    "plt.title('Sigmoid-type = 1.7159*tanh((2/3*x)', size=20)\n",
    "\n",
    "#Plotting function\n",
    "plt.plot(x_, y_, color='green', lw=4)\n",
    "\n",
    "plt.show()"
   ]
  },
  {
   "cell_type": "markdown",
   "metadata": {
    "ExecuteTime": {
     "end_time": "2020-10-13T20:46:28.106905Z",
     "start_time": "2020-10-13T20:46:28.101767Z"
    }
   },
   "source": [
    "<font size=5 color='blue'>\n",
    "Sistema de aprendizaje que relaciona las variables X y Y"
   ]
  },
  {
   "cell_type": "markdown",
   "metadata": {},
   "source": [
    "<font size= 4>\n",
    "Se tienen $m$ muestras. \n",
    "    \n",
    "Para una muestra $j \\in m$ $x^{(j)}$:\n",
    "\n",
    "$$z^{(j)} = w^T x^{(j)} + b $$\n",
    "\n",
    "$z^{(j)}$ es la combinacion lineal entre los pesos ($w$) y la muestra $x^{(j)}$ + el bias b. Posteriormente esta sumatoria es transformada, para generar el valor de salida $a^{(j)}$, mediante una función. En el presente caso la función es del tipo sigmoide (*tanh*), porque la relación es ligeramente no-lineal.\n",
    "\n",
    "$$ a^{(j)} = tanh(z^{(j)})$$ \n",
    "\n",
    "La funcion de perdida (*loss*), tambien llamada costo *cost*, $\\textbf {J}$, es el promedio, sobre todas las muestras, de la diferencia al cuadrado entre el valor medido ($y^{(j)}$) y el valor que predice la funcion de activacion ($a^{(j)}$).  \n",
    "\n",
    "$$ J = \\frac{1}{m} \\sum_{j=1}^m (a^{(j)} - y^{(j)})^2$$\n",
    "\n",
    "\n"
   ]
  },
  {
   "cell_type": "markdown",
   "metadata": {},
   "source": [
    "<font size=4>\n",
    "\n",
    "En lugar de emplear la función $f(z^{(j)})=tanh(z^{(j)})$ para la activación, empleamos la función $$ $$\n",
    "     $$ f(z^{(j)}) = 1.7159*tanh(2*z^{(j)}/3) $$\n",
    "\n",
    "[Activation-function](./Literatura/Efficient-backprop_Lecun_1998.pdf)$$ $$\n",
    "Con ello, la varianza es cercana a 1, el valor de la función es ligeramente no lineal entre -1 y +1, y la derivada es máxima para $z^{(j)} = 1$ \n",
    "$$ $$\n",
    "Con esto, la función de costo, $J$ está dada por:\n",
    "\n",
    "$$ J = \\dfrac{1}{m}\\sum_{i=0}^{m}(1.7159*tanh(2*z^{(j)}/3)-y^{(j)})^2$$"
   ]
  },
  {
   "cell_type": "markdown",
   "metadata": {},
   "source": [
    "<font size=5 color='blue'>   \n",
    "1. Se inicializan las variables del sistema de aprendizaje que define la relación entre X y Y. "
   ]
  },
  {
   "cell_type": "code",
   "execution_count": null,
   "metadata": {
    "ExecuteTime": {
     "end_time": "2020-10-17T23:57:55.168377Z",
     "start_time": "2020-10-17T23:57:55.162285Z"
    }
   },
   "outputs": [],
   "source": [
    "def initialize_params_1(dim):\n",
    "    \"\"\"\n",
    "    This function creates a vector of zeros of shape (dim, 1) for w and initializes b to 0.\n",
    "    \n",
    "    Argument:\n",
    "    dim -- size of the w vector we want (or number of parameters in this case)\n",
    "    \n",
    "    Returns:\n",
    "    w -- initialized vector of shape (dim, 1)\n",
    "    b -- initialized scalar (corresponds to the bias)\n",
    "    \"\"\"\n",
    "    \n",
    "    w = np.reshape(np.random.uniform(-0.1, 0.1, dim), (dim, 1))\n",
    "    b = 0\n",
    "\n",
    "    assert(w.shape == (dim, 1))\n",
    "    assert(isinstance(b, float) or isinstance(b, int))\n",
    "    \n",
    "    return w, b"
   ]
  },
  {
   "cell_type": "code",
   "execution_count": null,
   "metadata": {
    "ExecuteTime": {
     "end_time": "2020-10-17T23:57:55.179764Z",
     "start_time": "2020-10-17T23:57:55.170265Z"
    }
   },
   "outputs": [],
   "source": [
    "def atanh(x):\n",
    "    return 1.7159*tanh(2*x/3)"
   ]
  },
  {
   "cell_type": "code",
   "execution_count": null,
   "metadata": {
    "ExecuteTime": {
     "end_time": "2020-10-17T23:57:55.191514Z",
     "start_time": "2020-10-17T23:57:55.181549Z"
    }
   },
   "outputs": [],
   "source": [
    "def d_atanh(z):\n",
    "    return 1.7159*(1-np.square(atanh(z)))*(2/3)"
   ]
  },
  {
   "cell_type": "code",
   "execution_count": null,
   "metadata": {
    "ExecuteTime": {
     "end_time": "2020-10-17T23:57:55.203805Z",
     "start_time": "2020-10-17T23:57:55.193608Z"
    }
   },
   "outputs": [],
   "source": [
    "# Probando el código\n",
    "\n",
    "dim = train_x.shape[0]\n",
    "w, b = initialize_params(dim)\n",
    "print (\"w = \" + str(w))\n",
    "print (\"b = \" + str(b))"
   ]
  },
  {
   "cell_type": "code",
   "execution_count": null,
   "metadata": {
    "ExecuteTime": {
     "end_time": "2020-10-17T23:57:55.217077Z",
     "start_time": "2020-10-17T23:57:55.204973Z"
    }
   },
   "outputs": [],
   "source": [
    "def propagate_1(w, b, X, Y, X_val, Y_val):\n",
    "    \n",
    "    m = X.shape[1]\n",
    "    m_val = X.shape[1]\n",
    "    \n",
    "    A = atanh(np.dot(w.T, X)+b)\n",
    "    A_val = atanh(np.dot(w.T,X_val)+b)\n",
    "    \n",
    "    cost = (1/m)*np.sum((Y-A)**2)\n",
    "    cost_val = (1/m_val)*np.sum((Y_val-A_val)**2)\n",
    "    \n",
    "    dA = A-Y\n",
    "    dZ = d_atanh(np.dot(w.T, X)+b)\n",
    "    \n",
    "    dw = (1/m)*np.dot(dA, (dZ*X).T).T    \n",
    "    db = (1/m)*np.sum((A-Y)*(1-np.power(A, 2)), axis=1, keepdims=True)  \n",
    "    \n",
    "    \n",
    "    assert(dw.shape == w.shape)\n",
    "    assert(db.dtype == float)\n",
    "    cost = np.squeeze(cost)\n",
    "    assert(cost.shape == ())\n",
    "    \n",
    "    grads = {\"dw\": dw,\n",
    "             \"db\": db}\n",
    "    \n",
    "    return grads, cost, cost_val"
   ]
  },
  {
   "cell_type": "code",
   "execution_count": null,
   "metadata": {
    "ExecuteTime": {
     "end_time": "2020-10-17T23:57:55.233740Z",
     "start_time": "2020-10-17T23:57:55.218278Z"
    }
   },
   "outputs": [],
   "source": [
    "x1_val = np.array([[1.,2.,-2.],[2.,4.,-3.2]])\n",
    "y1_val = np.array([[1,0,2]])\n",
    "\n",
    "w, b, X, Y = np.array([[1.],[2.]]), 2., np.array([[1.,2.,-1.],[3.,4.,-3.2]]), np.array([[1,0,1]])\n",
    "grads, cost, cost_val = propagate_1(w, b, X, Y,x1_val, y1_val)\n",
    "print (\"dw = \" + str(grads[\"dw\"]))\n",
    "print (\"db = \" + str(grads[\"db\"]))\n",
    "print (\"cost = \" + str(cost))\n"
   ]
  },
  {
   "cell_type": "markdown",
   "metadata": {},
   "source": [
    "<font size=4>\n",
    "    \n",
    "La función *optimize_1(  )*  actualiza los pesos $w$ y el bias $b$ usando el método de gradiente descendente.\n",
    "\n",
    "Se calcula la función de costo para las muestras empleadas en el entrenamiento y para las asignadas a la validación.\n",
    "    \n",
    "Los pesos $ w $ y el bias $ b $ son modificados en cada época hasta que la función de costo $ J $ llega a su valor mínimo. \n",
    "\n",
    "Los pesos $ w_{i} $ y el bias $b$ se actualizan mediante la siguientes relaciones: $$ $$ $$ w_{i} := w_{i} - \\alpha \\frac{\\partial J}{\\partial w_{i}} $$\n",
    "\n",
    "$$ b := b - \\alpha \\frac{\\partial J}{\\partial b} $$ $$ $$ $ \\alpha $ es el hyperparámetro que define la relación de aprendizaje."
   ]
  },
  {
   "cell_type": "code",
   "execution_count": null,
   "metadata": {
    "ExecuteTime": {
     "end_time": "2020-10-17T23:57:55.244912Z",
     "start_time": "2020-10-17T23:57:55.235001Z"
    }
   },
   "outputs": [],
   "source": [
    "def optimize_1(w, b, X, Y, X_val, Y_val, epochs, learning_rate, print_cost = False):\n",
    "    \n",
    "    costs = []\n",
    "    costs_val = []\n",
    "    \n",
    "    for i in range(epochs):\n",
    "        \n",
    "        grads, cost, cost_val = propagate_1(w, b, X, Y, X_val, Y_val)\n",
    "        \n",
    "        # Retrieve derivatives from grads\n",
    "        dw = grads[\"dw\"]\n",
    "        db = grads[\"db\"]\n",
    "        \n",
    "        # update parameters\n",
    "        w = w-learning_rate*dw\n",
    "        b = b-learning_rate*db\n",
    "        \n",
    "        # Record the costs\n",
    "        if i % 100 == 0:\n",
    "            costs.append(cost)\n",
    "            costs_val.append(cost_val)\n",
    "        \n",
    "        # Print the cost every 100 training iterations\n",
    "        if print_cost and i % 100 == 0:\n",
    "            print (\"Cost and Cost_val after iteration %i: %f %f\" %(i, cost, cost_val))\n",
    "    \n",
    "    params = {\"w\": w,\n",
    "              \"b\": b}\n",
    "    \n",
    "    grads = {\"dw\": dw,\n",
    "             \"db\": db}\n",
    "    \n",
    "    return params, grads, costs, costs_val"
   ]
  },
  {
   "cell_type": "code",
   "execution_count": null,
   "metadata": {
    "ExecuteTime": {
     "end_time": "2020-10-17T23:57:55.269075Z",
     "start_time": "2020-10-17T23:57:55.246082Z"
    }
   },
   "outputs": [],
   "source": [
    "epochs = 100\n",
    "params, grads, costs, costs_val = optimize_1(w, b, X, Y, x1_val, y1_val, epochs=epochs, learning_rate = 0.009, print_cost = False)\n",
    "\n",
    "print (\"w = \" + str(params[\"w\"]))\n",
    "print (\"b = \" + str(params[\"b\"]))\n",
    "print (\"dw = \" + str(grads[\"dw\"]))\n",
    "print (\"db = \" + str(grads[\"db\"]))"
   ]
  },
  {
   "cell_type": "markdown",
   "metadata": {},
   "source": [
    "<font size=4>\n",
    "Una vez que se encuentran los valores de los pesos 𝑤 y del bias 𝑏 que minimizan la función de costo, la función, 𝐹(𝑋) que se genera con estos valores se emplea para inferir valores de Y asociados a las muestras de prueba, los cuales se comparan con los valores Y conocidos de estas muestras.\n",
    "$$ $$\n",
    "\n",
    "    \n",
    "La función *predic()_1* calcula $𝐹(𝑋)$ empleando los valores de 𝑤 y 𝑏\n",
    "para los cuales el costo es mínimo.\n",
    "\n"
   ]
  },
  {
   "cell_type": "code",
   "execution_count": null,
   "metadata": {
    "ExecuteTime": {
     "end_time": "2020-10-17T23:57:55.281324Z",
     "start_time": "2020-10-17T23:57:55.270434Z"
    }
   },
   "outputs": [],
   "source": [
    "def predict_1(w, b, X):\n",
    "    \n",
    "    #m = X.shape[1]\n",
    "    #Y_prediction = np.zeros((1,m))\n",
    "    w = w.reshape(X.shape[0], 1)\n",
    "    \n",
    "    # Compute vector \"A\" predicting the probabilities of a cat being present in the picture\n",
    "    #A = sigmoid(np.dot(w.T, X)+b)\n",
    "    A = atanh(np.dot(w.T, X)+b)\n",
    "    \n",
    "    return A"
   ]
  },
  {
   "cell_type": "code",
   "execution_count": null,
   "metadata": {
    "ExecuteTime": {
     "end_time": "2020-10-17T23:57:55.298379Z",
     "start_time": "2020-10-17T23:57:55.282603Z"
    }
   },
   "outputs": [],
   "source": [
    "w = np.array([[0.1124579],[0.23106775]])\n",
    "b = 0.0\n",
    "X = np.array([[1.,-1.1,-3.2],[1.2,2.,0.1]])\n",
    "print (\"predictions = \" + str(predict_1(w, b, X)))"
   ]
  },
  {
   "cell_type": "markdown",
   "metadata": {},
   "source": [
    "<font size=4>\n",
    "Para estructurar el sistema de aprendizaje, se juntan todos las funciones implementadas en las partes anteriores, en el orden correcto.\n"
   ]
  },
  {
   "cell_type": "code",
   "execution_count": null,
   "metadata": {
    "ExecuteTime": {
     "end_time": "2020-10-17T23:57:55.310029Z",
     "start_time": "2020-10-17T23:57:55.299780Z"
    }
   },
   "outputs": [],
   "source": [
    "def model_1(X_train, Y_train, val_ratio, epochs = 2000, learning_rate = 0.5, print_cost = False):\n",
    "    \"\"\"\n",
    "    Builds the logistic regression model by calling the function you've implemented previously\n",
    "    \n",
    "    Arguments:\n",
    "    X_train -- training set represented by a numpy array of shape (num_px * num_px * 3, m_train)\n",
    "    Y_train -- training labels represented by a numpy array (vector) of shape (1, m_train)\n",
    "    X_test -- test set represented by a numpy array of shape (num_px * num_px * 3, m_test)\n",
    "    Y_test -- test labels represented by a numpy array (vector) of shape (1, m_test)\n",
    "    epochs -- hyperparameter representing the number of iterations to optimize the parameters\n",
    "    learning_rate -- hyperparameter representing the learning rate used in the update rule of optimize()\n",
    "    print_cost -- Set to true to print the cost every 100 iterations\n",
    "    \n",
    "    Returns:\n",
    "    d -- dictionary containing information about the model.\n",
    "    \"\"\"\n",
    "    \n",
    "    train_ratio = int((1-val_ratio)*X_train.shape[1])\n",
    "    X_val = X_train[:,train_ratio:]\n",
    "    Y_val = Y_train[:,train_ratio:]\n",
    "\n",
    "    X_train = X_train[:,:train_ratio]\n",
    "    Y_train = Y_train[:,:train_ratio]\n",
    "    \n",
    "    print(\"Train\",X_train.shape,Y_train.shape)\n",
    "    print(\"val\",X_val.shape,Y_val.shape)\n",
    "\n",
    "    \n",
    "    # initialize parameters\n",
    "    w, b = initialize_params_1(X_train.shape[0])\n",
    "\n",
    "    # Gradient descent \n",
    "    parameters, grads, costs, costs_val = optimize_1(w, b, X_train, Y_train, X_val, Y_val, epochs, learning_rate, print_cost = print_cost)\n",
    "    \n",
    "    # Retrieve parameters w and b from dictionary \"parameters\"\n",
    "    w = parameters[\"w\"]\n",
    "    b = parameters[\"b\"]\n",
    "    \n",
    "    print(w.shape)\n",
    "    \n",
    "    # Predict test/train set examples\n",
    "    Y_prediction_val = predict_1(w, b, X_val)\n",
    "    Y_prediction_train = predict_1(w, b, X_train)\n",
    "\n",
    "    # Print train/test Errors\n",
    "    print(\"train accuracy: {} %\".format(100 - np.mean(np.power(Y_prediction_train - Y_train, 2)) * 100))\n",
    "    print(\"test accuracy: {} %\".format(100 - np.mean(np.power(Y_prediction_val - Y_val, 2)) * 100))\n",
    "\n",
    "    \n",
    "    d = {\"costs\": costs,\"costs_val\": costs_val,\n",
    "         \"Y_prediction_val\": Y_prediction_val, \n",
    "         \"Y_prediction_train\" : Y_prediction_train, \n",
    "         \"w\" : w, \n",
    "         \"b\" : b,\n",
    "         \"learning_rate\" : learning_rate,\n",
    "         \"num_iterations\": epochs}\n",
    "    \n",
    "    return d"
   ]
  },
  {
   "cell_type": "code",
   "execution_count": null,
   "metadata": {
    "ExecuteTime": {
     "end_time": "2020-10-17T23:57:55.494349Z",
     "start_time": "2020-10-17T23:57:55.311458Z"
    }
   },
   "outputs": [],
   "source": [
    "epochs = 1000\n",
    "learning_rate = 0.005\n",
    "val_ratio = 0.1\n",
    "\n",
    "d = model_1(train_x, train_y.T, val_ratio=val_ratio, epochs = epochs, \n",
    "          learning_rate = learning_rate, print_cost = True)"
   ]
  },
  {
   "cell_type": "code",
   "execution_count": null,
   "metadata": {
    "ExecuteTime": {
     "end_time": "2020-10-17T23:57:55.589961Z",
     "start_time": "2020-10-17T23:57:55.495831Z"
    }
   },
   "outputs": [],
   "source": [
    "costs = np.squeeze(d['costs'])\n",
    "costs_val = np.squeeze(d['costs_val'])\n",
    "\n",
    "plt.plot(costs, color='red')\n",
    "plt.plot(costs_val, color='green')\n",
    "plt.ylabel('cost', size=16)\n",
    "plt.xlabel('epoch x 100', size=16)\n",
    "plt.title(\"Learning rate =\" + str(d[\"learning_rate\"]))\n",
    "plt.legend(['Train', 'Val'], loc='upper right')\n",
    "plt.show()"
   ]
  },
  {
   "cell_type": "code",
   "execution_count": null,
   "metadata": {
    "ExecuteTime": {
     "end_time": "2020-10-17T23:57:56.194420Z",
     "start_time": "2020-10-17T23:57:55.591519Z"
    }
   },
   "outputs": [],
   "source": [
    "learning_rates = [0.005, 0.003, 0.001]\n",
    "val_ratio = 0.1\n",
    "models = {}\n",
    "for i in learning_rates:\n",
    "    print (\"learning rate is: \", i)\n",
    "    models[str(i)] = model_1(train_x, train_y.T, val_ratio=val_ratio, epochs = 1000, learning_rate = i, print_cost = False)\n",
    "    print ('\\n' + \"-------------------------------------------------------\" + '\\n')\n",
    "\n",
    "for i in learning_rates:\n",
    "    plt.plot(np.squeeze(models[str(i)][\"costs\"]), label= str(models[str(i)][\"learning_rate\"]))\n",
    "    plt.plot(np.squeeze(models[str(i)][\"costs_val\"]), label= str(models[str(i)][\"learning_rate\"]))\n",
    "plt.ylabel('cost')\n",
    "plt.xlabel('epochx100')\n",
    "\n",
    "legend = plt.legend(loc='upper center', shadow=True)\n",
    "frame = legend.get_frame()\n",
    "frame.set_facecolor('0.90')\n",
    "plt.show()"
   ]
  },
  {
   "cell_type": "markdown",
   "metadata": {},
   "source": [
    "<font size=6 color='blue'>\n",
    "\n",
    "<center> Artificial Neural Networks </center>\n",
    "\n",
    "\n"
   ]
  },
  {
   "cell_type": "markdown",
   "metadata": {},
   "source": [
    "<font size=4>\n",
    "\n",
    "Inspirandose en modelos que intentan describir las conecciones entre las neuronas en nuestro cerebro, se propusieron (y se siguen proponiendo) modelos de redes neuronales para generar sistemas de aprendizaje. Se les conoce con el nombre de redes neuronales artificiales, o simplemente como redes neuronales."
   ]
  },
  {
   "cell_type": "markdown",
   "metadata": {},
   "source": [
    "<font size=5 color='blue'>\n",
    "Implementación de una red neuronal del tipo \"Full Feed-forward (FFF)\"."
   ]
  },
  {
   "cell_type": "markdown",
   "metadata": {},
   "source": [
    "<font size=4>\n",
    "\n",
    "<p>En nuestro primer modelo, la red neuronal tiene 3 capas: la capa de entrada, la capa de salida y una capa interior (en la literatura, a esta capa interna se le da el nombre de capa oculta). </p>\n",
    "<p>El objetivo del modelo es encontrar una función que describa la evolución de la Diabetes Mellitus en una año, a partir de su linea base, con los rasgos de la persona que se consideran importantes para su evolución. Los rasgos propuestos son: edad, sexo, índice de masa corporal, presión arterial promedio y las seis mediciones de suero sanguíneo descritas al inicio: el colesterol total, la densidad baja de lipoproteinas, la densidad alta de lipoproteinas, los trigliceridos, la concentración de lamorigina y la glucosa</p>\n",
    "<p>Esta función se genera mediante una red de neuronas artificiales. Se entiende como neurona un modelo matemático simple de una neurona biológica.</p>\n",
    "</font>"
   ]
  },
  {
   "cell_type": "markdown",
   "metadata": {
    "ExecuteTime": {
     "end_time": "2020-10-14T17:48:13.294187Z",
     "start_time": "2020-10-14T17:48:13.290898Z"
    }
   },
   "source": [
    "<font size=5 color='blue'>\n",
    "\n",
    "Adecuando lo datos de alimentación al sistema de aprendizaje"
   ]
  },
  {
   "cell_type": "markdown",
   "metadata": {},
   "source": [
    "<font size=4>\n",
    "\n",
    "Antes de inciar el desarrollo del sistema, transformamos los datos de entrada para que sean compatibles con el modelo que desarrollaremos. El fomato de entrada de las variables X y Y, tanto para el entrenamiento como para la prueba es un poco diferente al empleado en los sistemas de aprendizaje anteriores."
   ]
  },
  {
   "cell_type": "code",
   "execution_count": null,
   "metadata": {
    "ExecuteTime": {
     "end_time": "2020-10-17T23:57:56.199327Z",
     "start_time": "2020-10-17T23:57:56.195855Z"
    }
   },
   "outputs": [],
   "source": [
    "print(train_x.shape)\n",
    "print(train_y.shape)\n",
    "print(test_x.shape)\n",
    "print(test_y.shape)"
   ]
  },
  {
   "cell_type": "code",
   "execution_count": null,
   "metadata": {
    "ExecuteTime": {
     "end_time": "2020-10-17T23:57:56.210118Z",
     "start_time": "2020-10-17T23:57:56.200597Z"
    }
   },
   "outputs": [],
   "source": [
    "train_y = train_y.T\n",
    "test_y = test_y.T"
   ]
  },
  {
   "cell_type": "code",
   "execution_count": null,
   "metadata": {
    "ExecuteTime": {
     "end_time": "2020-10-17T23:57:56.222131Z",
     "start_time": "2020-10-17T23:57:56.211489Z"
    }
   },
   "outputs": [],
   "source": [
    "print(train_x.shape)\n",
    "print(train_y.shape)\n",
    "print(test_x.shape)\n",
    "print(test_y.shape)"
   ]
  },
  {
   "cell_type": "markdown",
   "metadata": {
    "ExecuteTime": {
     "end_time": "2020-10-13T17:06:46.389123Z",
     "start_time": "2020-10-13T17:06:46.381702Z"
    }
   },
   "source": [
    "<font size=4>\n",
    "    \n",
    "1.1 Definición de la arquitectura de la red neuronal.\n",
    "\n",
    "Se emplea indistintamente la palabra neurona o nodo para referirse al modelo matematico de la neurona.\n",
    "\n",
    "El número de nodos en la capa de entrada depende del numero de rasgos del sistema que definen la variable objetivo, la evolución de la diabetes en un año. En el presente caso el número de rasgos es diez.\n",
    "\n",
    "El número de nodos en la capa de salida depende del tipo de problema. En el presente caso, se tiene una sola neurona, cuya salida nos da un número que cuantifica la evolución de la diabetes en un año.\n",
    "\n",
    "En el presente modelo, sólo tenemos una capa interna, el número de nodos en ella es variable. Se hacen pruebas con diferentes números y se adopta el que de los mejores resultados.\n",
    "\n",
    "La función layer_sizes() genera la arquitectura de la red neuronal partiendo de los datos con que se van a alimentar a la red.\n"
   ]
  },
  {
   "cell_type": "code",
   "execution_count": null,
   "metadata": {
    "ExecuteTime": {
     "end_time": "2020-10-17T23:57:56.235570Z",
     "start_time": "2020-10-17T23:57:56.223198Z"
    }
   },
   "outputs": [],
   "source": [
    "def layer_sizes(X, Y, n_h):\n",
    "    \"\"\"\n",
    "    Arguments:\n",
    "    X -- input dataset of shape (input size, number of examples)\n",
    "    Y -- labels of shape (output size, number of examples)\n",
    "    \n",
    "    Returns:\n",
    "    n_x -- the size of the input layer\n",
    "    n_h -- the size of the hidden layer\n",
    "    n_y -- the size of the output layer\n",
    "    \"\"\"\n",
    "    \n",
    "    n_x = X.shape[0] \n",
    "    \n",
    "    n_h = n_h\n",
    "    \n",
    "    n_y = Y.shape[0]\n",
    "    \n",
    "    return (n_x, n_h, n_y)"
   ]
  },
  {
   "cell_type": "code",
   "execution_count": null,
   "metadata": {
    "ExecuteTime": {
     "end_time": "2020-10-17T23:57:56.249672Z",
     "start_time": "2020-10-17T23:57:56.239848Z"
    }
   },
   "outputs": [],
   "source": [
    "n_h = 4\n",
    "n_x, n_h, n_y = layer_sizes(train_x, train_y, n_h = n_h)"
   ]
  },
  {
   "cell_type": "code",
   "execution_count": null,
   "metadata": {
    "ExecuteTime": {
     "end_time": "2020-10-17T23:57:56.264099Z",
     "start_time": "2020-10-17T23:57:56.253427Z"
    }
   },
   "outputs": [],
   "source": [
    "print(n_x, n_h, n_y)"
   ]
  },
  {
   "cell_type": "markdown",
   "metadata": {},
   "source": [
    "<font size=5 color='blue'>\n",
    "Network Visualization     \n",
    " \n",
    "<font size=4 color='black'> \n",
    "    \n",
    "We will use NetworkX, which is a Python package for the creation, manipulation, and study of the structure, dynamics, and functions of complex networks.\n",
    "    \n",
    "[NetworkX](https://networkx.github.io/)"
   ]
  },
  {
   "cell_type": "code",
   "execution_count": null,
   "metadata": {
    "ExecuteTime": {
     "end_time": "2020-10-17T23:57:56.505789Z",
     "start_time": "2020-10-17T23:57:56.266754Z"
    }
   },
   "outputs": [],
   "source": [
    "import networkx as nx\n",
    "\n",
    "class Network(object):\n",
    "    \n",
    "    def  __init__ (self,sizes):\n",
    "        self.num_layers = len(sizes)\n",
    "        print(\"It has\", self.num_layers, \"layers,\")\n",
    "        self.sizes = sizes\n",
    "        print(\"with the following number of nodes per layer\",self.sizes)\n",
    "        self.biases = [np.random.randn(y, 1) for y in sizes[1:]]\n",
    "        self.weights = [np.random.randn(y, x)\n",
    "                        for x, y in zip(sizes[:-1], sizes[1:])]\n",
    "        \n",
    "    def feedforward(self, x_of_sample):\n",
    "        \"\"\"Return the output of the network F(x_of_sample) \"\"\"        \n",
    "        for b, w in zip(self.biases, self.weights):\n",
    "            x_of_sample = sigmoid(np.dot(w, x_of_sample)+b)\n",
    "        return x_of_sample\n",
    "    \n",
    "    def graph(self,sizes):\n",
    "        a=[]\n",
    "        ps={}\n",
    "        Q = nx.Graph()\n",
    "        for i in range(len(sizes)):\n",
    "            Qi=nx.Graph()    \n",
    "            n=sizes[i]\n",
    "            nodos=np.arange(n)\n",
    "            Qi.add_nodes_from(nodos)\n",
    "            l_i=Qi.nodes\n",
    "            Q = nx.union(Q, Qi, rename = (None, 'Q%i-'%i))\n",
    "            if len(l_i)==1:\n",
    "                ps['Q%i-0'%i]=[i/(len(sizes)), 1/2]\n",
    "            else:\n",
    "                for j in range(len(l_i)+1):\n",
    "                    ps['Q%i-%i'%(i,j)]=[i/(len(sizes)),(1/(len(l_i)*len(l_i)))+(j/(len(l_i)))]\n",
    "            a.insert(i,Qi)\n",
    "        for i in range(len(a)-1):\n",
    "            for j in range(len(a[i])):\n",
    "                for k in range(len(a[i+1])):\n",
    "                    Q.add_edge('Q%i-%i' %(i,j),'Q%i-%i' %(i+1,k))\n",
    "        nx.draw(Q, pos = ps)\n",
    "                "
   ]
  },
  {
   "cell_type": "code",
   "execution_count": null,
   "metadata": {
    "ExecuteTime": {
     "end_time": "2020-10-17T23:57:56.571703Z",
     "start_time": "2020-10-17T23:57:56.506874Z"
    }
   },
   "outputs": [],
   "source": [
    "layers = [n_x, n_h, n_y]\n",
    "net = Network(layers)\n",
    "net.graph(layers)"
   ]
  },
  {
   "cell_type": "markdown",
   "metadata": {},
   "source": [
    "<font size=5 color='blue'>\n",
    "    \n",
    " 1. Inicializacion de los pesos y el bias."
   ]
  },
  {
   "cell_type": "markdown",
   "metadata": {},
   "source": [
    "<font size=4>\n",
    "\n",
    "La funcion initialize_parameters() inicializa a los pesos $W$ y el bias $b$. \n",
    "\n",
    "Dado que se tiene un conjunto de variables independientes, se debe definir un peso para cada variable, esto para una sola neurona de la siguiente capa. \n",
    "\n",
    "Entonces $W_1$ ahora es una matriz de tamaño $(n_h, n_x)$, en donde $n_h$ es el numero de nodos en la capa intera y $n_x$ es el numero de nodos en la capa de entrada, es decir, es el numero de variables independientes (rasgos).\n",
    "\n",
    "Para cada neurona en la capa interna hay un bias, por lo que ahora $b_1$ es un vector de tamaño $(n_h, 1)$. \n",
    "\n",
    "En general para cada par de capas consecutivas debe haber un $W$ y un $b$.\n",
    "\n",
    "Generalizando:\n",
    "\n",
    "$W_i$ y $b_i$ son los parametros a definir entre la capa $i$ y la capa $i+1$. Si la capa $i$ tiene $n_i$ neuronas y la capa $i+1$ tiene $n_{i+1}$ neuronas, entonces las dimensiones de $W_{i}$ son $(n_{i+1}, n_i)$ y las de $b_i$ son $(n_{i+1}, 1)$."
   ]
  },
  {
   "cell_type": "code",
   "execution_count": null,
   "metadata": {
    "ExecuteTime": {
     "end_time": "2020-10-17T23:57:56.579009Z",
     "start_time": "2020-10-17T23:57:56.573181Z"
    }
   },
   "outputs": [],
   "source": [
    "def initialize_parameters(n_x, n_h, n_y):\n",
    "    \"\"\"\n",
    "    Argument:\n",
    "    n_x -- size of the input layer\n",
    "    n_h -- size of the hidden layer\n",
    "    n_y -- size of the output layer\n",
    "    \n",
    "    Returns:\n",
    "    params -- python dictionary containing your parameters:\n",
    "                    W1 -- weight matrix of shape (n_h, n_x)\n",
    "                    b1 -- bias vector of shape (n_h, 1)\n",
    "                    W2 -- weight matrix of shape (n_y, n_h)\n",
    "                    b2 -- bias vector of shape (n_y, 1)\n",
    "    \"\"\"\n",
    "    \n",
    "    np.random.seed(2) \n",
    "    \n",
    "    W1 = np.reshape(np.random.uniform(-0.1, 0.1, n_h*n_x), (n_h, n_x))\n",
    "        \n",
    "    b1 = np.zeros((n_h, 1))\n",
    "    \n",
    "    W2 = np.reshape(np.random.uniform(-0.1, 0.1, n_y*n_h), (n_y, n_h))\n",
    "        \n",
    "    b2 = np.zeros((n_y, 1))\n",
    "    \n",
    "    \n",
    "    assert (W1.shape == (n_h, n_x))\n",
    "    assert (b1.shape == (n_h, 1))\n",
    "    assert (W2.shape == (n_y, n_h))\n",
    "    assert (b2.shape == (n_y, 1))\n",
    "    \n",
    "    parameters = {\"W1\": W1,\n",
    "                  \"b1\": b1,\n",
    "                  \"W2\": W2,\n",
    "                  \"b2\": b2}\n",
    "    \n",
    "    return parameters"
   ]
  },
  {
   "cell_type": "code",
   "execution_count": null,
   "metadata": {
    "ExecuteTime": {
     "end_time": "2020-10-17T23:57:56.594021Z",
     "start_time": "2020-10-17T23:57:56.580505Z"
    }
   },
   "outputs": [],
   "source": [
    "initialize_parameters(n_x, n_h, n_y)"
   ]
  },
  {
   "cell_type": "markdown",
   "metadata": {
    "ExecuteTime": {
     "end_time": "2020-10-14T18:02:21.703636Z",
     "start_time": "2020-10-14T18:02:21.700427Z"
    }
   },
   "source": [
    "<font size=5 color='blue'>\n",
    "\n",
    "2. Conección entre las neuronas de capas contiguas."
   ]
  },
  {
   "cell_type": "markdown",
   "metadata": {},
   "source": [
    "<font size=4>\n",
    "\n",
    "La funcion *propagate()* realiza la combinacion lineal entre los valores de salida de los nodos de una capa con los pesos y bias definidos entre esa capa y la siguiente. \n",
    "\n",
    "La función de activación que se aplica a esta sumatoria, es para considerar efectos no lineales.\n",
    "\n",
    "\n",
    "___\n",
    "\n",
    "Funciones de activación disponibles en la presente notebook: "
   ]
  },
  {
   "cell_type": "code",
   "execution_count": null,
   "metadata": {
    "ExecuteTime": {
     "end_time": "2020-10-17T23:57:56.607211Z",
     "start_time": "2020-10-17T23:57:56.597472Z"
    }
   },
   "outputs": [],
   "source": [
    "#Función para considerar los efectos no lineales.\n",
    "#En el presente caso se considera un modelo completamente lineal.\n",
    "#Por ello la función es la identidad.\n",
    "\n",
    "def identity(z):\n",
    "    \"\"\"\n",
    "    Arguments:\n",
    "    z -- A scalar or numpy array of any size.\n",
    "\n",
    "    Return:\n",
    "    s -- z\n",
    "    \"\"\"\n",
    "    s = 1.0 * z\n",
    "    \n",
    "    return s"
   ]
  },
  {
   "cell_type": "code",
   "execution_count": null,
   "metadata": {
    "ExecuteTime": {
     "end_time": "2020-10-17T23:57:56.618570Z",
     "start_time": "2020-10-17T23:57:56.608841Z"
    }
   },
   "outputs": [],
   "source": [
    "def identity_derivative(z):\n",
    "    return 1.0 * z * (1/z)"
   ]
  },
  {
   "cell_type": "code",
   "execution_count": null,
   "metadata": {
    "ExecuteTime": {
     "end_time": "2020-10-17T23:57:56.630443Z",
     "start_time": "2020-10-17T23:57:56.619849Z"
    }
   },
   "outputs": [],
   "source": [
    "def tanh(z):\n",
    "    return (np.exp(z)-np.exp(-z))/(np.exp(z)+np.exp(-z))"
   ]
  },
  {
   "cell_type": "code",
   "execution_count": null,
   "metadata": {
    "ExecuteTime": {
     "end_time": "2020-10-17T23:57:56.642131Z",
     "start_time": "2020-10-17T23:57:56.632641Z"
    }
   },
   "outputs": [],
   "source": [
    "def tanh_derivative(z):\n",
    "    return 1-np.power(tanh(z), 2)"
   ]
  },
  {
   "cell_type": "code",
   "execution_count": null,
   "metadata": {
    "ExecuteTime": {
     "end_time": "2020-10-17T23:57:56.653762Z",
     "start_time": "2020-10-17T23:57:56.643815Z"
    }
   },
   "outputs": [],
   "source": [
    "def sigmoid(z):\n",
    "    \"\"\"\n",
    "    Compute the sigmoid of z\n",
    "\n",
    "    Arguments:\n",
    "    z -- A scalar or numpy array of any size.\n",
    "\n",
    "    Return:\n",
    "    s -- sigmoid(z)\n",
    "    \"\"\"\n",
    "    s = 1/(1+np.exp(-z))\n",
    "    \n",
    "    return s"
   ]
  },
  {
   "cell_type": "code",
   "execution_count": null,
   "metadata": {
    "ExecuteTime": {
     "end_time": "2020-10-17T23:57:56.665128Z",
     "start_time": "2020-10-17T23:57:56.655072Z"
    }
   },
   "outputs": [],
   "source": [
    "def sigmoid_derivative(z):\n",
    "    return sigmoid(z)*(1-sigmoid(z))"
   ]
  },
  {
   "cell_type": "code",
   "execution_count": null,
   "metadata": {
    "ExecuteTime": {
     "end_time": "2020-10-17T23:57:56.678488Z",
     "start_time": "2020-10-17T23:57:56.666362Z"
    }
   },
   "outputs": [],
   "source": [
    "def propagate(X, Y, parameters):\n",
    "    \"\"\"\n",
    "    Argument:\n",
    "    X -- input data of size (n_x, m)\n",
    "    parameters -- python dictionary containing your parameters (output of initialization function)\n",
    "    \n",
    "    Returns:\n",
    "    A2 -- The sigmoid output of the second activation\n",
    "    cache -- a dictionary containing \"Z1\", \"A1\", \"Z2\" and \"A2\"\n",
    "    \"\"\"\n",
    "    # Retrieve each parameter from the dictionary \"parameters\"\n",
    "    W1 = parameters[\"W1\"]\n",
    "    b1 = parameters[\"b1\"]\n",
    "    W2 = parameters[\"W2\"]\n",
    "    b2 = parameters[\"b2\"]\n",
    "    \n",
    "    # Zi es la combinacion lineal entre x y w\n",
    "    # Ai es la aplicacion de una funcion de activacion a Zi\n",
    "    \n",
    "    Z1 = np.dot(W1, X) + b1\n",
    "    A1 = tanh(Z1)\n",
    "    Z2 = np.dot(W2, A1) + b2\n",
    "    A2 = Z2\n",
    "    \n",
    "    \n",
    "    assert(A2.shape == (1, X.shape[1]))\n",
    "    \n",
    "    cache = {\"Z1\": Z1,\n",
    "             \"A1\": A1,\n",
    "             \"Z2\": Z2,\n",
    "             \"A2\": A2}\n",
    "    \n",
    "    m = Y.shape[1] # number of samples\n",
    "\n",
    "    cost = (1/m)*np.sum((Y-A2)**2)\n",
    "    \n",
    "    cost = np.squeeze(cost)     # makes sure cost is the dimension we expect. \n",
    "                                # E.g., turns [[17]] into 17 \n",
    "    assert(isinstance(cost, float))\n",
    "    \n",
    "    \n",
    "    m = X.shape[1]\n",
    "    \n",
    "    W1 = parameters[\"W1\"]\n",
    "    W2 = parameters[\"W2\"]\n",
    "        \n",
    "    A1 = cache[\"A1\"]\n",
    "    A2 = cache[\"A2\"]\n",
    "    \n",
    "    # Calculo de derivadas\n",
    "    \n",
    "    dZ2 = 2*(A2-Y)\n",
    "    dW2 = (1/m)*np.dot(dZ2, A1.T)\n",
    "    db2 = (1/m)*np.sum(dZ2, axis = 1, keepdims = True)\n",
    "    dZ1 = np.dot(W2.T, dZ2)*tanh_derivative(A1)\n",
    "    dW1 = (1/m)*np.dot(dZ1, X.T)\n",
    "    db1 = (1/m)*np.sum(dZ1, axis = 1, keepdims = True)\n",
    "    \n",
    "    grads = {\"dW1\": dW1,\n",
    "             \"db1\": db1,\n",
    "             \"dW2\": dW2,\n",
    "             \"db2\": db2}\n",
    "    \n",
    "    \n",
    "    return A2, cache, cost, grads"
   ]
  },
  {
   "cell_type": "code",
   "execution_count": null,
   "metadata": {
    "ExecuteTime": {
     "end_time": "2020-10-17T23:57:56.690985Z",
     "start_time": "2020-10-17T23:57:56.680112Z"
    }
   },
   "outputs": [],
   "source": [
    "def validation(X, Y, parameters):\n",
    "    \"\"\"\n",
    "    Argument:\n",
    "    X -- input data of size (n_x, m)\n",
    "    Y -- output data of size (n_y, m)\n",
    "    parameters -- python dictionary containing your parameters (output of initialization function)\n",
    "    \n",
    "    Returns:\n",
    "    A2 -- The sigmoid output of the second activation\n",
    "    cache -- a dictionary containing \"Z1\", \"A1\", \"Z2\" and \"A2\"\n",
    "    cost -- the value of cost\n",
    "    grads -- a dictionary contains derivatives to update parameters\n",
    "    \"\"\"\n",
    "    # Regresa cada parametro del diccionario \"parameters\"\n",
    "    \n",
    "    W1 = parameters[\"W1\"]\n",
    "    b1 = parameters[\"b1\"]\n",
    "    W2 = parameters[\"W2\"]\n",
    "    b2 = parameters[\"b2\"]\n",
    "    \n",
    "    # Pasos 1 y 2:\n",
    "    \n",
    "    # Zi es la combinacion lineal entre x y w\n",
    "    # Ai es la aplicacion de una funcion de activacion a Zi:\n",
    "    \n",
    "    Z1 = np.dot(W1, X) + b1\n",
    "    A1 = tanh(Z1)\n",
    "    Z2 = np.dot(W2, A1) + b2\n",
    "    A2 = Z2\n",
    "    \n",
    "    # se verifican las dimensiones de A2:\n",
    "    \n",
    "    assert(A2.shape == (1, X.shape[1]))\n",
    "\n",
    "    # Paso 3:\n",
    "    \n",
    "    # numero de muestras:\n",
    "    \n",
    "    m = Y.shape[1] \n",
    "    \n",
    "    # se calcula el costo:\n",
    "\n",
    "    cost = (1/m)*np.sum((Y-A2)**2)\n",
    "    \n",
    "    # Asegura que cost sea un escalar:\n",
    "    \n",
    "    cost = np.squeeze(cost)      \n",
    "                                \n",
    "    assert(isinstance(cost, float))  \n",
    "    \n",
    "    return cost"
   ]
  },
  {
   "cell_type": "markdown",
   "metadata": {},
   "source": [
    "<font size=5 color='blue'>\n",
    "\n",
    "3. Cálculo de la función de costo durante la optimización de los parámetros que definen al modelo."
   ]
  },
  {
   "cell_type": "markdown",
   "metadata": {},
   "source": [
    "<font size=4>\n",
    "\n",
    "Recordemos que la funcion de costo, $J$, nos permite saber qué tan bien se esta ajustando el modelo a la variable objetivo de las muestras. \n",
    "\n",
    "Para ello se buscan los parámetros que minimizen a esta función. \n",
    "\n",
    "En el presente caso, la función de costo está definida por la relación siguiente: \n",
    "\n",
    "$$J = \\dfrac{1}{m} \\sum_{i=1}^{m}(y_i-a_i)^2$$"
   ]
  },
  {
   "cell_type": "code",
   "execution_count": null,
   "metadata": {
    "ExecuteTime": {
     "end_time": "2020-10-17T23:57:56.707830Z",
     "start_time": "2020-10-17T23:57:56.696375Z"
    }
   },
   "outputs": [],
   "source": [
    "def compute_cost(A2, Y, parameters):\n",
    "    \"\"\"\n",
    "    Computes the cross-entropy cost given in equation (13)\n",
    "    \n",
    "    Arguments:\n",
    "    A2 -- The sigmoid output of the second activation, of shape (1, number of examples)\n",
    "    Y -- \"true\" labels vector of shape (1, number of examples)\n",
    "    parameters -- python dictionary containing your parameters W1, b1, W2 and b2\n",
    "    \n",
    "    Returns:\n",
    "    cost -- cross-entropy cost given equation (13)\n",
    "    \"\"\"\n",
    "    \n",
    "    m = Y.shape[1] # number of samples\n",
    "\n",
    "    cost = (1/m)*np.sum((Y-A2)**2)\n",
    "    \n",
    "    cost = np.squeeze(cost)     # makes sure cost is the dimension we expect. \n",
    "                                # E.g., turns [[17]] into 17 \n",
    "    assert(isinstance(cost, float))\n",
    "    \n",
    "    return cost"
   ]
  },
  {
   "cell_type": "markdown",
   "metadata": {},
   "source": [
    "<font size=4>\n",
    "\n",
    "Para encontrar a los valores optimos de los parametros, estos se acualizan en cada época empleando el algoritmo de gradiente descendente. El cual esta definido por la siguientes relaciones:\n",
    "\n",
    "$$ \\omega_k := \\omega_k - \\alpha \\dfrac{\\partial J(\\omega, b)}{\\partial \\omega_k}$$\n",
    "\n",
    "$$ b_l := b_l - \\alpha \\dfrac{\\partial J(\\omega, b)}{\\partial b_l}$$\n",
    "\n",
    "Es por ello necesario calcular las derivadas del costo respecto a cada uno de los parametros que definen al sistema de aprendizaje. $\\alpha$ es la relación de aprendizaje."
   ]
  },
  {
   "cell_type": "code",
   "execution_count": null,
   "metadata": {
    "ExecuteTime": {
     "end_time": "2020-10-17T23:57:56.724925Z",
     "start_time": "2020-10-17T23:57:56.709836Z"
    }
   },
   "outputs": [],
   "source": [
    "def calculation_of_derivatives(parameters, cache, X, Y):\n",
    "    \"\"\"\n",
    "    Implement the backward propagation using the instructions above.\n",
    "    \n",
    "    Arguments:\n",
    "    parameters -- python dictionary containing our parameters \n",
    "    cache -- a dictionary containing \"Z1\", \"A1\", \"Z2\" and \"A2\".\n",
    "    X -- input data of shape (2, number of examples)\n",
    "    Y -- \"true\" labels vector of shape (1, number of examples)\n",
    "    \n",
    "    Returns:\n",
    "    grads -- python dictionary containing your gradients with respect to different parameters\n",
    "    \"\"\"\n",
    "    m = X.shape[1]\n",
    "    \n",
    "    W1 = parameters[\"W1\"]\n",
    "    W2 = parameters[\"W2\"]\n",
    "        \n",
    "    A1 = cache[\"A1\"]\n",
    "    A2 = cache[\"A2\"]\n",
    "    \n",
    "    # Calculo de derivadas\n",
    "    \n",
    "    dZ2 = 2*(A2-Y)\n",
    "    dW2 = (1/m)*np.dot(dZ2, A1.T)\n",
    "    db2 = (1/m)*np.sum(dZ2, axis = 1, keepdims = True)\n",
    "    dZ1 = np.dot(W2.T, dZ2)*(1-np.power(A1, 2))\n",
    "    dW1 = (1/m)*np.dot(dZ1, X.T)\n",
    "    db1 = (1/m)*np.sum(dZ1, axis = 1, keepdims = True)\n",
    "    \n",
    "    grads = {\"dW1\": dW1,\n",
    "             \"db1\": db1,\n",
    "             \"dW2\": dW2,\n",
    "             \"db2\": db2}\n",
    "    \n",
    "    return grads"
   ]
  },
  {
   "cell_type": "markdown",
   "metadata": {},
   "source": [
    "<font size=5 color='blue'>\n",
    "4. Optimizacion de los pesos y los bias."
   ]
  },
  {
   "cell_type": "code",
   "execution_count": null,
   "metadata": {
    "ExecuteTime": {
     "end_time": "2020-10-17T23:57:56.739643Z",
     "start_time": "2020-10-17T23:57:56.726727Z"
    }
   },
   "outputs": [],
   "source": [
    "def optimize(parameters, grads, learning_rate = 0.1):\n",
    "    \"\"\"\n",
    "    Updates parameters using the gradient descent update rule given above\n",
    "    \n",
    "    Arguments:\n",
    "    parameters -- python dictionary containing your parameters \n",
    "    grads -- python dictionary containing your gradients \n",
    "    \n",
    "    Returns:\n",
    "    parameters -- python dictionary containing your updated parameters \n",
    "    \"\"\"\n",
    "    # Retrieve each parameter from the dictionary \"parameters\"\n",
    "    W1 = parameters[\"W1\"]\n",
    "    b1 = parameters[\"b1\"]\n",
    "    W2 = parameters[\"W2\"]\n",
    "    b2 = parameters[\"b2\"]\n",
    "    \n",
    "    # Retrieve each gradient from the dictionary \"grads\"\n",
    "    dW1 = grads[\"dW1\"]\n",
    "    db1 = grads[\"db1\"]\n",
    "    dW2 = grads[\"dW2\"]\n",
    "    db2 = grads[\"db2\"]\n",
    "    \n",
    "    # Update rule for each parameter\n",
    "    W1 = W1-learning_rate*dW1\n",
    "    b1 = b1-learning_rate*db1\n",
    "    W2 = W2-learning_rate*dW2\n",
    "    b2 = b2-learning_rate*db2\n",
    "    \n",
    "    parameters = {\"W1\": W1,\n",
    "                  \"b1\": b1,\n",
    "                  \"W2\": W2,\n",
    "                  \"b2\": b2}\n",
    "    \n",
    "    return parameters"
   ]
  },
  {
   "cell_type": "markdown",
   "metadata": {},
   "source": [
    "<font size=5 color='blue'>\n",
    "5. Las predicciones se realizan con los parametros óptimos encontrados en el entrenamiento."
   ]
  },
  {
   "cell_type": "code",
   "execution_count": null,
   "metadata": {
    "ExecuteTime": {
     "end_time": "2020-10-17T23:57:56.757563Z",
     "start_time": "2020-10-17T23:57:56.740953Z"
    }
   },
   "outputs": [],
   "source": [
    "def predict(parameters, X, Y):\n",
    "    \"\"\"\n",
    "    Using the learned parameters, predicts a class for each example in X\n",
    "    \n",
    "    Arguments:\n",
    "    parameters -- python dictionary containing your parameters \n",
    "    X -- input data of size (n_x, m)\n",
    "    \n",
    "    Returns\n",
    "    predictions -- vector of predictions of our model (red: 0 / blue: 1)\n",
    "    \"\"\"\n",
    "    predictions =  []\n",
    "    A2, cache, cost, grads = propagate(X, Y, parameters)\n",
    "    predictions = identity(A2) \n",
    "    \n",
    "    return predictions"
   ]
  },
  {
   "cell_type": "markdown",
   "metadata": {},
   "source": [
    "<font size=5 color='blue'>\n",
    "    \n",
    "Las funciones anteriores se integran para generar, entrenar y validar la red neuronal."
   ]
  },
  {
   "cell_type": "code",
   "execution_count": null,
   "metadata": {
    "ExecuteTime": {
     "end_time": "2020-10-17T23:57:56.773633Z",
     "start_time": "2020-10-17T23:57:56.759096Z"
    }
   },
   "outputs": [],
   "source": [
    "def nn_model(X, Y, val_ratio, n_h, epochs, alpha, print_cost=False):\n",
    "    \"\"\"\n",
    "    Arguments:\n",
    "    X -- dataset of shape (2, number of examples)\n",
    "    Y -- labels of shape (1, number of examples)\n",
    "    n_h -- size of the hidden layer\n",
    "    num_iterations -- Number of iterations in gradient descent loop\n",
    "    print_cost -- if True, print the cost every 1000 iterations\n",
    "    \n",
    "    Returns:\n",
    "    parameters -- parameters learnt by the model. They can then be used to predict.\n",
    "    \"\"\"\n",
    "    \n",
    "    train_ratio = int((1-val_ratio)*X.shape[1])\n",
    "    X_val = X[:,train_ratio:]\n",
    "    Y_val = Y[:,train_ratio:]\n",
    "\n",
    "    X = X[:,:train_ratio]\n",
    "    Y = Y[:,:train_ratio]\n",
    "    \n",
    "    print(\"Train\",X.shape,Y.shape)\n",
    "    print(\"val\",X_val.shape,Y_val.shape)\n",
    "    \n",
    "    np.random.seed(3)\n",
    "    \n",
    "    n_x, n_h, n_y = layer_sizes(X, Y, n_h = n_h)\n",
    "        \n",
    "    # Initialize parameters, then retrieve W1, b1, W2, b2. Inputs: \"n_x, n_h, n_y\". Outputs = \"W1, b1, W2, b2, parameters\".\n",
    "    parameters = initialize_parameters(n_x, n_h, n_y)\n",
    "    W1 = parameters[\"W1\"]\n",
    "    b1 = parameters[\"b1\"] \n",
    "    W2 = parameters[\"W2\"]\n",
    "    b2 = parameters[\"b2\"]\n",
    "    \n",
    "    # Loop (gradient descent)\n",
    "    \n",
    "    costs=[]\n",
    "    costs_val = []\n",
    "    params = []\n",
    "    \n",
    "\n",
    "    for i in range(0, epochs):\n",
    "         \n",
    "        A2, cache, cost, grads = propagate(X, Y, parameters)\n",
    "        \n",
    "        cost_val = validation(X_val, Y_val, parameters)\n",
    " \n",
    "        parameters = optimize(parameters, grads, alpha)\n",
    "        \n",
    "        params.append(parameters)\n",
    "        \n",
    "        costs.append(cost)\n",
    "        \n",
    "        costs_val.append(cost_val)\n",
    "                \n",
    "        # Print the cost every 1000 iterations\n",
    "        if print_cost and i % 100 == 0:\n",
    "            print (\"Cost and Cost_val in epoch %i: %f %f\" %(i, cost, cost_val))\n",
    "            \n",
    "    return parameters, costs, params, costs_val"
   ]
  },
  {
   "cell_type": "markdown",
   "metadata": {
    "ExecuteTime": {
     "end_time": "2020-10-13T17:25:36.366411Z",
     "start_time": "2020-10-13T17:25:36.359140Z"
    }
   },
   "source": [
    "<font size=5 color='blue'>\n",
    "\n",
    "Entrenamiento:"
   ]
  },
  {
   "cell_type": "markdown",
   "metadata": {},
   "source": [
    "<font size=5 color='black'> \n",
    "Para monitorear el aprendizaje, las muestras para el aprendizaje se dividen en dos grupos:"
   ]
  },
  {
   "cell_type": "markdown",
   "metadata": {},
   "source": [
    "<font size=4 color='black'>\n",
    "El (1.0 - val_ratio) (90% en el presente caso) de ellas se emplean para realizar el aprendizaje y el (val_ratio) (el 10% en el presente caso) restante para evaluar, \"validar\", la calidad del aprendizaje."
   ]
  },
  {
   "cell_type": "code",
   "execution_count": null,
   "metadata": {
    "ExecuteTime": {
     "end_time": "2020-10-17T23:57:57.476372Z",
     "start_time": "2020-10-17T23:57:56.774947Z"
    }
   },
   "outputs": [],
   "source": [
    "epochs = 2000\n",
    "learning_rate = 0.008\n",
    "val_ratio = 0.1\n",
    "n_h = 4\n",
    "\n",
    "opt_parameters, costs, params, costs_val = nn_model(train_x, train_y, val_ratio=val_ratio, n_h = n_h, epochs = epochs, alpha=learning_rate, print_cost=True)\n"
   ]
  },
  {
   "cell_type": "code",
   "execution_count": null,
   "metadata": {
    "ExecuteTime": {
     "end_time": "2020-10-17T23:57:57.569354Z",
     "start_time": "2020-10-17T23:57:57.477882Z"
    }
   },
   "outputs": [],
   "source": [
    "costs = np.squeeze(costs)\n",
    "plt.plot(costs, color='red')\n",
    "plt.plot(costs_val, color='green')\n",
    "\n",
    "plt.ylabel('Cost', size=16)\n",
    "plt.xlabel('epochs', size=16)\n",
    "plt.legend(['Train', 'Val'], loc='upper right')\n",
    "plt.show()"
   ]
  },
  {
   "cell_type": "markdown",
   "metadata": {},
   "source": [
    "<font size=4>\n",
    "    \n",
    " ## Precision:\n",
    "\n",
    "Para calcular la precision del modelo se usa el error cuadrático medio, MSE:\n",
    "\n",
    "$$100-MSE*100$$\n",
    "\n",
    "es decir\n",
    "\n",
    "$$100-(\\dfrac{1}{m_{test}}\\sum_{i=1}^{m_{test}} (y_{i}-a_{i})^2)*100$$"
   ]
  },
  {
   "cell_type": "code",
   "execution_count": null,
   "metadata": {
    "ExecuteTime": {
     "end_time": "2020-10-17T23:57:57.574988Z",
     "start_time": "2020-10-17T23:57:57.570820Z"
    }
   },
   "outputs": [],
   "source": [
    "predictions_train = predict(opt_parameters, train_x, train_y)\n",
    "\n",
    "print(\"train accuracy: {} %\".format(100 - np.mean(np.power(predictions_train-train_y, 2)) * 100))\n"
   ]
  },
  {
   "cell_type": "code",
   "execution_count": null,
   "metadata": {
    "ExecuteTime": {
     "end_time": "2020-10-17T23:57:57.586375Z",
     "start_time": "2020-10-17T23:57:57.576440Z"
    }
   },
   "outputs": [],
   "source": [
    "predictions_test = predict(opt_parameters, test_x, test_y)\n",
    "\n",
    "print(\"test accuracy: {} %\".format(100 - np.mean(np.power(predictions_test-test_y, 2)) * 100))\n"
   ]
  },
  {
   "cell_type": "code",
   "execution_count": null,
   "metadata": {},
   "outputs": [],
   "source": []
  }
 ],
 "metadata": {
  "kernelspec": {
   "display_name": "Python 3",
   "language": "python",
   "name": "python3"
  },
  "language_info": {
   "codemirror_mode": {
    "name": "ipython",
    "version": 3
   },
   "file_extension": ".py",
   "mimetype": "text/x-python",
   "name": "python",
   "nbconvert_exporter": "python",
   "pygments_lexer": "ipython3",
   "version": "3.7.10"
  }
 },
 "nbformat": 4,
 "nbformat_minor": 4
}
