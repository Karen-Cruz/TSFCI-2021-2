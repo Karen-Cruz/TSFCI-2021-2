{
 "cells": [
  {
   "cell_type": "markdown",
   "metadata": {
    "ExecuteTime": {
     "end_time": "2020-03-04T01:21:08.810200Z",
     "start_time": "2020-03-04T01:21:08.804251Z"
    }
   },
   "source": [
    "<font size=4 color='blue'>\n",
    "\n",
    "# <center> Clase 7, julio 7 del 2021 </center>"
   ]
  },
  {
   "cell_type": "markdown",
   "metadata": {
    "ExecuteTime": {
     "end_time": "2020-10-11T23:31:40.881412Z",
     "start_time": "2020-10-11T23:31:40.873889Z"
    }
   },
   "source": [
    "<font size=4 color='blue'>\n",
    "\n",
    "# <center> Topic that the Machine will learn: Mortality from diabetes </center>"
   ]
  },
  {
   "cell_type": "markdown",
   "metadata": {},
   "source": [
    "<font size=4 color='blue'>\n",
    "    \n",
    "## Information about the topic"
   ]
  },
  {
   "cell_type": "markdown",
   "metadata": {},
   "source": [
    "<font size=4>\n",
    "\n",
    "Evolution of diabetes after one year.\n",
    "    \n",
    "In the present work, we characterize diabetes with the following ten features: age, sex, body mass index, mean blood pressure, and six measurements of blood serum (S1, S2, S3, S4, S5, S6)."
   ]
  },
  {
   "cell_type": "markdown",
   "metadata": {},
   "source": [
    "<font size=4 color='blue'>\n",
    "    \n",
    "## Quantification of this information"
   ]
  },
  {
   "cell_type": "markdown",
   "metadata": {},
   "source": [
    "<font size=4>\n",
    "\n",
    "Information is available on 442 patients (samples). The response of interest, Y, is a quantitative measure of disease progression one year after the start of the study. Y values vary between 25 and 346​.\n",
    "\n",
    "Information source: [diabetes data (samples)](https://www4.stat.ncsu.edu/~boos/var.select/diabetes.html)    \n",
    "\n",
    "Original paper: [Least-Angle-Regression_2004](./Literatura/Least-Angle-Regression_2004.pdf)"
   ]
  },
  {
   "cell_type": "code",
   "execution_count": null,
   "metadata": {
    "ExecuteTime": {
     "end_time": "2020-11-11T00:35:36.157661Z",
     "start_time": "2020-11-11T00:35:34.979835Z"
    }
   },
   "outputs": [],
   "source": [
    "import pandas as pd\n",
    "import numpy as np\n",
    "import matplotlib.pyplot as plt\n",
    "import time"
   ]
  },
  {
   "cell_type": "code",
   "execution_count": null,
   "metadata": {
    "ExecuteTime": {
     "end_time": "2020-11-11T00:35:36.177930Z",
     "start_time": "2020-11-11T00:35:36.159152Z"
    }
   },
   "outputs": [],
   "source": [
    "# Samples are available in the file diabetes.csv\n",
    "\n",
    "df = pd.read_csv('diabetes.csv', sep ='\\t')"
   ]
  },
  {
   "cell_type": "code",
   "execution_count": null,
   "metadata": {
    "ExecuteTime": {
     "end_time": "2020-11-11T00:35:36.194483Z",
     "start_time": "2020-11-11T00:35:36.179617Z"
    }
   },
   "outputs": [],
   "source": [
    "# Showing the first 5 samples (features and target Y)\n",
    "\n",
    "df.head()"
   ]
  },
  {
   "cell_type": "markdown",
   "metadata": {},
   "source": [
    "<font size=4>\n",
    "Abreviation shave the following meaning:\n",
    "    \n",
    "    AGE = Age\n",
    "    SEX = Sex\n",
    "    BMI = Body Mass Index (BMI)\n",
    "     BP = Mean Arterial Pressure (MAP)\n",
    "     S1 = Total Cholesterol (TC)\n",
    "     S2 = Low Density lipoproteins (LDL)\n",
    "     S3 = High Density lipoproteins (HDL)\n",
    "     S4 = Triglyceride (TG, TCH)\n",
    "     S5 = Serum Concentration of Lamorigine (LTG)\n",
    "     S6 = Glucose (GLU)\n",
    "     Y = Quantitative Measure of Diabetes Mellitus Disease Progression (QMDMDP) one year after the baseline."
   ]
  },
  {
   "cell_type": "code",
   "execution_count": null,
   "metadata": {
    "ExecuteTime": {
     "end_time": "2020-11-11T00:35:36.238174Z",
     "start_time": "2020-11-11T00:35:36.196016Z"
    }
   },
   "outputs": [],
   "source": [
    "# The describe() method generates a table with statistical information \n",
    "# for each of the features and the target.\n",
    "\n",
    "df.describe()"
   ]
  },
  {
   "cell_type": "markdown",
   "metadata": {},
   "source": [
    "## Histograms are created for each of the features that characterize patients with diabetes:"
   ]
  },
  {
   "cell_type": "code",
   "execution_count": null,
   "metadata": {
    "ExecuteTime": {
     "end_time": "2020-11-11T00:35:36.835611Z",
     "start_time": "2020-11-11T00:35:36.239452Z"
    }
   },
   "outputs": [],
   "source": [
    "plt.figure(figsize=(20,8)) \n",
    "\n",
    "ax1 = plt.subplot(2,4,1)\n",
    "ax2 = plt.subplot(2,4,2)\n",
    "ax3 = plt.subplot(2,4,3)\n",
    "ax4 = plt.subplot(2,4,4)\n",
    "\n",
    "ax1.hist(df.AGE, bins=30, color='green',edgecolor='purple', alpha=0.5)\n",
    "ax1.set_xlabel('Age (years)', size=15)\n",
    "ax1.set_ylabel('Frequency', size=15)\n",
    "\n",
    "ax2.hist(df.SEX, bins=30, color='orange',edgecolor='purple', alpha=0.5)\n",
    "ax2.set_xlabel('Sex', size=15)\n",
    "\n",
    "ax3.hist(df.BMI, bins=30, color='red',edgecolor='purple', alpha=0.5)\n",
    "ax3.set_xlabel('Body_mass_index', size=15)\n",
    "\n",
    "ax4.hist(df.BP, bins=30, color='blue',edgecolor='purple', alpha=0.5)\n",
    "ax4.set_xlabel('Mean_Arterial_Pressure', size=15);"
   ]
  },
  {
   "cell_type": "code",
   "execution_count": null,
   "metadata": {
    "ExecuteTime": {
     "end_time": "2020-11-11T00:35:37.329866Z",
     "start_time": "2020-11-11T00:35:36.837416Z"
    }
   },
   "outputs": [],
   "source": [
    "plt.figure(figsize=(20,8)) \n",
    "\n",
    "ax1 = plt.subplot(2,4,1)\n",
    "ax2 = plt.subplot(2,4,2)\n",
    "ax3 = plt.subplot(2,4,3)\n",
    "ax4 = plt.subplot(2,4,4)\n",
    "\n",
    "ax1.hist(df.S1, bins=30, color='green',edgecolor='purple', alpha=0.5)\n",
    "ax1.set_xlabel('Total Cholesterol', size=15)\n",
    "ax1.set_ylabel('Frequency', size=15)\n",
    "\n",
    "ax2.hist(df.S2, bins=30, color='orange',edgecolor='purple', alpha=0.5)\n",
    "ax2.set_xlabel('Low Density lipoproteins', size=15)\n",
    "\n",
    "ax3.hist(df.S3, bins=30, color='red',edgecolor='purple', alpha=0.5)\n",
    "ax3.set_xlabel('High Density lipoproteins', size=15)\n",
    "\n",
    "ax4.hist(df.S4, bins=30, color='blue',edgecolor='purple', alpha=0.5)\n",
    "ax4.set_xlabel('Triglyceride', size=15);"
   ]
  },
  {
   "cell_type": "code",
   "execution_count": null,
   "metadata": {
    "ExecuteTime": {
     "end_time": "2020-11-11T00:35:37.704964Z",
     "start_time": "2020-11-11T00:35:37.331686Z"
    }
   },
   "outputs": [],
   "source": [
    "plt.figure(figsize=(15,8)) \n",
    "\n",
    "ax1 = plt.subplot(2,3,1)\n",
    "ax2 = plt.subplot(2,3,2)\n",
    "ax3 = plt.subplot(2,3,3)\n",
    "\n",
    "ax1.hist(df.S5, bins=30, color='green',edgecolor='purple', alpha=0.5)\n",
    "ax1.set_xlabel('Serum Concentration of Lamorigine', size=15)\n",
    "ax1.set_ylabel('Frequency', size=15)\n",
    "\n",
    "ax2.hist(df.S6, bins=30, color='orange',edgecolor='purple', alpha=0.5)\n",
    "ax2.set_xlabel('Glucose', size=15)\n",
    "\n",
    "ax3.hist(df.Y, bins=30, color='purple',edgecolor='black', alpha=0.5)\n",
    "ax3.set_xlabel('Y(Diabetes Mellitus Disease Progression)', size=15)"
   ]
  },
  {
   "cell_type": "markdown",
   "metadata": {
    "ExecuteTime": {
     "end_time": "2020-10-13T20:21:23.071130Z",
     "start_time": "2020-10-13T20:21:23.062454Z"
    }
   },
   "source": [
    "<font size=4>\n",
    "\n",
    "To remove any possible correlation between the samples (the rows of the DataFrame), they are randomly reordered."
   ]
  },
  {
   "cell_type": "code",
   "execution_count": null,
   "metadata": {
    "ExecuteTime": {
     "end_time": "2020-11-11T00:35:37.712173Z",
     "start_time": "2020-11-11T00:35:37.707248Z"
    }
   },
   "outputs": [],
   "source": [
    "np.random.seed(1)\n",
    "\n",
    "df = df.sample(frac=1)"
   ]
  },
  {
   "cell_type": "markdown",
   "metadata": {},
   "source": [
    "<font size=4>\n",
    "    \n",
    "The original samples are divided into 2 sets: 90% for learning and 10% for making inferences (predictions) after learning."
   ]
  },
  {
   "cell_type": "code",
   "execution_count": null,
   "metadata": {
    "ExecuteTime": {
     "end_time": "2020-11-11T00:35:37.725189Z",
     "start_time": "2020-11-11T00:35:37.713754Z"
    }
   },
   "outputs": [],
   "source": [
    "\n",
    "test_ratio = 0.1\n",
    "\n",
    "learn_ratio = int((1.0-test_ratio)*len(df.values[:,:]))\n",
    "\n",
    "df_learn = df.iloc[0:learn_ratio,:]\n",
    "df_test  = df.iloc[learn_ratio:,:]"
   ]
  },
  {
   "cell_type": "code",
   "execution_count": null,
   "metadata": {
    "ExecuteTime": {
     "end_time": "2020-11-11T00:35:37.737228Z",
     "start_time": "2020-11-11T00:35:37.727226Z"
    }
   },
   "outputs": [],
   "source": [
    "print(df_learn.shape)\n",
    "print(df_test.shape)"
   ]
  },
  {
   "cell_type": "markdown",
   "metadata": {},
   "source": [
    "<font size=4>\n",
    "\n",
    "All variables must have the same order of magnitude in order to operate with the models.\n",
    "As a result, both the features (X) and the target (Y) values are normalized in the samples that will be utilized in learning: \n",
    "    \n",
    "$$x_{i,norm} = \\dfrac{x_{i}-\\mu}{\\sigma}$$\n",
    "    \n",
    "$$y_{i,norm} = \\dfrac{y_{i}-\\mu}{\\sigma}$$"
   ]
  },
  {
   "cell_type": "code",
   "execution_count": null,
   "metadata": {},
   "outputs": [],
   "source": [
    "mu = df_learn.mean()\n",
    "sigma = df_learn.std()\n",
    "df_learn_norm = (df_learn - mu)/ sigma\n",
    "df_learn_norm.head()"
   ]
  },
  {
   "cell_type": "markdown",
   "metadata": {},
   "source": [
    "<font size=5 color='blue'> \n",
    "Important note: The normalization of the test samples is carried out with the values ​​of $ \\ mu $ and $ \\ sigma $ obtained with the samples used for learning"
   ]
  },
  {
   "cell_type": "code",
   "execution_count": null,
   "metadata": {},
   "outputs": [],
   "source": [
    "df_test_norm = (df_test - mu) / sigma\n",
    "df_test_norm.head()"
   ]
  },
  {
   "cell_type": "markdown",
   "metadata": {},
   "source": [
    "<font size=4>\n",
    "    \n",
    "Histograms of the variables to be used in the learning:"
   ]
  },
  {
   "cell_type": "code",
   "execution_count": null,
   "metadata": {
    "ExecuteTime": {
     "end_time": "2020-11-11T00:35:38.276209Z",
     "start_time": "2020-11-11T00:35:37.780174Z"
    }
   },
   "outputs": [],
   "source": [
    "plt.figure(figsize=(20,8)) \n",
    "\n",
    "ax1 = plt.subplot(2,4,1)\n",
    "ax2 = plt.subplot(2,4,2)\n",
    "ax3 = plt.subplot(2,4,3)\n",
    "ax4 = plt.subplot(2,4,4)\n",
    "\n",
    "ax1.hist(df_learn_norm.AGE, bins=30, color='green',edgecolor='purple', alpha=0.5)\n",
    "ax1.set_xlabel('x1(Age)', size=15)\n",
    "ax1.set_ylabel('Frequency', size=15)\n",
    "\n",
    "ax2.hist(df_learn_norm.SEX, bins=30, color='orange',edgecolor='purple', alpha=0.5)\n",
    "ax2.set_xlabel('x2(Sex)', size=15)\n",
    "\n",
    "ax3.hist(df_learn_norm.BMI, bins=30, color='red',edgecolor='purple', alpha=0.5)\n",
    "ax3.set_xlabel('x3(Body_mass_index)', size=15)\n",
    "\n",
    "ax4.hist(df_learn_norm.BP, bins=30, color='blue',edgecolor='purple', alpha=0.5)\n",
    "ax4.set_xlabel('x4(Mean_Arterial_Pressure)', size=15);"
   ]
  },
  {
   "cell_type": "code",
   "execution_count": null,
   "metadata": {
    "ExecuteTime": {
     "end_time": "2020-11-11T00:35:38.803209Z",
     "start_time": "2020-11-11T00:35:38.277795Z"
    }
   },
   "outputs": [],
   "source": [
    "plt.figure(figsize=(20,8)) \n",
    "\n",
    "ax1 = plt.subplot(2,4,1)\n",
    "ax2 = plt.subplot(2,4,2)\n",
    "ax3 = plt.subplot(2,4,3)\n",
    "ax4 = plt.subplot(2,4,4)\n",
    "\n",
    "ax1.hist(df_learn_norm.S1, bins=30, color='green',edgecolor='purple', alpha=0.5)\n",
    "ax1.set_xlabel('x5(Total Cholesterol)', size=15)\n",
    "ax1.set_ylabel('Frequency', size=15)\n",
    "\n",
    "ax2.hist(df_learn_norm.S2, bins=30, color='orange',edgecolor='purple', alpha=0.5)\n",
    "ax2.set_xlabel('x6(Low Density lipoproteins)', size=15)\n",
    "\n",
    "ax3.hist(df_learn_norm.S3, bins=30, color='red',edgecolor='purple', alpha=0.5)\n",
    "ax3.set_xlabel('x7(High Density lipoproteins)', size=15)\n",
    "\n",
    "ax4.hist(df_learn_norm.S4, bins=30, color='blue',edgecolor='purple', alpha=0.5)\n",
    "ax4.set_xlabel('x8(Triglyceride)', size=15);"
   ]
  },
  {
   "cell_type": "code",
   "execution_count": null,
   "metadata": {
    "ExecuteTime": {
     "end_time": "2020-11-11T00:35:39.161834Z",
     "start_time": "2020-11-11T00:35:38.805286Z"
    }
   },
   "outputs": [],
   "source": [
    "plt.figure(figsize=(20,8)) \n",
    "\n",
    "ax1 = plt.subplot(2,3,1)\n",
    "ax2 = plt.subplot(2,3,2)\n",
    "ax3 = plt.subplot(2,3,3)\n",
    "\n",
    "ax1.hist(df_learn_norm.S5, bins=30, color='green',edgecolor='purple', alpha=0.5)\n",
    "ax1.set_xlabel('x9(Serum Concentration of Lamorigine)', size=15)\n",
    "ax1.set_ylabel('Frequency', size=15)\n",
    "\n",
    "ax2.hist(df_learn_norm.S6, bins=30, color='orange',edgecolor='purple', alpha=0.5)\n",
    "ax2.set_xlabel('x10(Glucose)', size=15)\n",
    "\n",
    "ax3.hist(df_learn_norm.Y, bins=30, color='purple',edgecolor='black', alpha=0.5)\n",
    "ax3.set_xlabel('Y(Diabetes Mellitus Disease Progression)', size=15)\n"
   ]
  },
  {
   "cell_type": "markdown",
   "metadata": {},
   "source": [
    "<font size=4>\n",
    "X and Y values are extracted from the columns of the DataFrame."
   ]
  },
  {
   "cell_type": "code",
   "execution_count": null,
   "metadata": {
    "ExecuteTime": {
     "end_time": "2020-11-11T00:35:39.167248Z",
     "start_time": "2020-11-11T00:35:39.163909Z"
    }
   },
   "outputs": [],
   "source": [
    "learn_x = df_learn_norm.values[:,:-1]\n",
    "learn_y = df_learn_norm.values[:,-1:]"
   ]
  },
  {
   "cell_type": "code",
   "execution_count": null,
   "metadata": {
    "ExecuteTime": {
     "end_time": "2020-11-11T00:35:39.179496Z",
     "start_time": "2020-11-11T00:35:39.169182Z"
    }
   },
   "outputs": [],
   "source": [
    "test_x = df_test_norm.values[:,:-1]\n",
    "test_y = df_test_norm.values[:,-1:]"
   ]
  },
  {
   "cell_type": "code",
   "execution_count": null,
   "metadata": {
    "ExecuteTime": {
     "end_time": "2020-11-11T00:35:39.192106Z",
     "start_time": "2020-11-11T00:35:39.181116Z"
    }
   },
   "outputs": [],
   "source": [
    "print(learn_x.shape)\n",
    "print(learn_y.shape)\n",
    "print(test_x.shape)\n",
    "print(test_y.shape)"
   ]
  },
  {
   "cell_type": "markdown",
   "metadata": {},
   "source": [
    "<font size=5 color='blue'>\n",
    "\n",
    "# <center> Modeling different Learning Machines </center>\n",
    "\n",
    "\n"
   ]
  },
  {
   "cell_type": "markdown",
   "metadata": {},
   "source": [
    "<font size=4 color='blue'>\n",
    "\n",
    "# <center> Implemented using the Keras framework as frontend </center>\n",
    "\n",
    "\n",
    "<font size=4 color='mediumvioletred'>\n",
    "   \n",
    "[Keras](https://keras.io/)"
   ]
  },
  {
   "cell_type": "code",
   "execution_count": null,
   "metadata": {
    "ExecuteTime": {
     "end_time": "2020-11-11T00:35:43.115745Z",
     "start_time": "2020-11-11T00:35:39.193338Z"
    }
   },
   "outputs": [],
   "source": [
    "import tensorflow as tf\n",
    "from tensorflow import keras\n",
    "from tensorflow.keras.models import Sequential\n",
    "from tensorflow.keras.layers import Input, Dense, Flatten\n",
    "from tensorflow.keras.layers import Activation\n",
    "from tensorflow.keras.optimizers import SGD\n",
    "from tensorflow.keras.models import Model\n",
    "from tensorflow.keras.utils import plot_model\n",
    "from tensorflow.keras import initializers\n",
    "from tensorflow.keras import optimizers\n",
    "\n",
    "np.random.seed(1)"
   ]
  },
  {
   "cell_type": "code",
   "execution_count": null,
   "metadata": {},
   "outputs": [],
   "source": [
    "keras.__version__"
   ]
  },
  {
   "cell_type": "markdown",
   "metadata": {},
   "source": [
    "<font size=4 color='black'>\n",
    "\n",
    "The features that determine the phenomen are described by the vector  $X = (x_1, x_2, x_3, ...x_k,...x_K)$\n",
    "    \n",
    "The model assumes that the output Y varies linearly with each feature\n",
    "    $$ F(X) = \\sum_{k=1}^K w_k*x_k + b$$"
   ]
  },
  {
   "cell_type": "markdown",
   "metadata": {},
   "source": [
    "<font size=5 color='blue'>\n",
    "    \n",
    "## <center> The first Learning Machine</center> "
   ]
  },
  {
   "cell_type": "markdown",
   "metadata": {
    "ExecuteTime": {
     "end_time": "2020-10-19T18:46:25.160502Z",
     "start_time": "2020-10-19T18:46:25.155595Z"
    }
   },
   "source": [
    "<font size=5 color='blue'>\n",
    "\n",
    "Model of the Machine: the output $Y$ depends linearly on each of the features."
   ]
  },
  {
   "cell_type": "code",
   "execution_count": null,
   "metadata": {
    "ExecuteTime": {
     "end_time": "2020-11-11T00:35:43.479713Z",
     "start_time": "2020-11-11T00:35:43.117062Z"
    }
   },
   "outputs": [],
   "source": [
    "import networkx as nx\n",
    "\n",
    "class Network(object):\n",
    "    \n",
    "    def  __init__ (self,sizes):\n",
    "        self.num_layers = len(sizes)\n",
    "        print(\"It has\", self.num_layers, \"layers,\")\n",
    "        self.sizes = sizes\n",
    "        print(\"with the following number of nodes per layer\",self.sizes)\n",
    "        self.biases = [np.random.randn(y, 1) for y in sizes[1:]]\n",
    "        self.weights = [np.random.randn(y, x)\n",
    "                        for x, y in zip(sizes[:-1], sizes[1:])]\n",
    "        \n",
    "    def feedforward(self, x_of_sample):\n",
    "        \"\"\"Return the output of the network F(x_of_sample) \"\"\"        \n",
    "        for b, w in zip(self.biases, self.weights):\n",
    "            x_of_sample = sigmoid(np.dot(w, x_of_sample)+b)\n",
    "        return x_of_sample\n",
    "    \n",
    "    def graph(self,sizes):\n",
    "        a=[]\n",
    "        ps={}\n",
    "        Q = nx.Graph()\n",
    "        for i in range(len(sizes)):\n",
    "            Qi=nx.Graph()    \n",
    "            n=sizes[i]\n",
    "            nodos=np.arange(n)\n",
    "            Qi.add_nodes_from(nodos)\n",
    "            l_i=Qi.nodes\n",
    "            Q = nx.union(Q, Qi, rename = (None, 'Q%i-'%i))\n",
    "            if len(l_i)==1:\n",
    "                ps['Q%i-0'%i]=[i/(len(sizes)), 1/2]\n",
    "            else:\n",
    "                for j in range(len(l_i)+1):\n",
    "                    ps['Q%i-%i'%(i,j)]=[i/(len(sizes)),(1/(len(l_i)*len(l_i)))+(j/(len(l_i)))]\n",
    "            a.insert(i,Qi)\n",
    "        for i in range(len(a)-1):\n",
    "            for j in range(len(a[i])):\n",
    "                for k in range(len(a[i+1])):\n",
    "                    Q.add_edge('Q%i-%i' %(i,j),'Q%i-%i' %(i+1,k))            \n",
    "        nx.draw(Q, pos = ps)\n",
    "                "
   ]
  },
  {
   "cell_type": "code",
   "execution_count": null,
   "metadata": {
    "ExecuteTime": {
     "end_time": "2020-11-11T00:35:43.616943Z",
     "start_time": "2020-11-11T00:35:43.480934Z"
    }
   },
   "outputs": [],
   "source": [
    "n_x = learn_x.shape[1] \n",
    "n_y = learn_y.shape[1]\n",
    "    \n",
    "layers = [n_x, n_y]\n",
    "net = Network(layers)\n",
    "net.graph(layers)"
   ]
  },
  {
   "cell_type": "markdown",
   "metadata": {},
   "source": [
    "<font size=5 color='blue'>\n",
    "    \n",
    "Definition of the architecture. \n",
    "    \n",
    "It includes the initialization of weights and biases, as well as the activation functions."
   ]
  },
  {
   "cell_type": "code",
   "execution_count": null,
   "metadata": {
    "ExecuteTime": {
     "end_time": "2020-11-11T00:35:43.661595Z",
     "start_time": "2020-11-11T00:35:43.618469Z"
    }
   },
   "outputs": [],
   "source": [
    "np.random.seed(1)\n",
    "\n",
    "input_nodes = n_x     # The input layer has n_x nodes\n",
    "output_nodes = n_y    # The output layer has n_y nodes\n",
    "\n",
    "model = Sequential()\n",
    "\n",
    "# For the first layer, you need to indicate its input layer, which corresponds to\n",
    "# the input layer of the network.\n",
    "\n",
    "model.add(Dense(output_nodes,  kernel_initializer='uniform', bias_initializer='zeros', \\\n",
    "                input_dim=input_nodes, activation='linear'))\n"
   ]
  },
  {
   "cell_type": "markdown",
   "metadata": {
    "ExecuteTime": {
     "end_time": "2020-10-19T18:55:20.867257Z",
     "start_time": "2020-10-19T18:55:20.859036Z"
    }
   },
   "source": [
    "<font size=5 color='blue'>\n",
    "Architecture Summary and Chart"
   ]
  },
  {
   "cell_type": "code",
   "execution_count": null,
   "metadata": {
    "ExecuteTime": {
     "end_time": "2020-11-11T00:35:43.860403Z",
     "start_time": "2020-11-11T00:35:43.665173Z"
    }
   },
   "outputs": [],
   "source": [
    "plot_model(model, to_file='model.png', show_shapes=True, rankdir='TB', \n",
    "      expand_nested=True, show_layer_names=True, dpi=96)"
   ]
  },
  {
   "cell_type": "code",
   "execution_count": null,
   "metadata": {
    "ExecuteTime": {
     "end_time": "2020-11-11T00:35:43.871666Z",
     "start_time": "2020-11-11T00:35:43.865348Z"
    }
   },
   "outputs": [],
   "source": [
    "model.summary()"
   ]
  },
  {
   "cell_type": "markdown",
   "metadata": {},
   "source": [
    "<font size=5  color='blue'>\n",
    "    \n",
    "Compiling the model. Includes the optimizer definition"
   ]
  },
  {
   "cell_type": "code",
   "execution_count": null,
   "metadata": {
    "ExecuteTime": {
     "end_time": "2020-11-11T00:35:44.013867Z",
     "start_time": "2020-11-11T00:35:43.874027Z"
    }
   },
   "outputs": [],
   "source": [
    "# We define the optimizing function and their hyperparameters: learining rate(lr), \n",
    "# decay, momentum and nesterov (whether to apply Nesterov gradient)\n",
    "\n",
    "sgd = optimizers.SGD(lr=0.01, momentum=0.0, nesterov=False)\n",
    "\n",
    "model.compile(loss='mean_squared_error', optimizer=sgd)"
   ]
  },
  {
   "cell_type": "markdown",
   "metadata": {},
   "source": [
    "<font size=5 color='blue'>\n",
    "    \n",
    "The Machine is learning"
   ]
  },
  {
   "cell_type": "code",
   "execution_count": null,
   "metadata": {
    "ExecuteTime": {
     "end_time": "2020-11-11T00:35:59.317907Z",
     "start_time": "2020-11-11T00:35:44.015795Z"
    }
   },
   "outputs": [],
   "source": [
    "# 10 % of the learning samples will be used to validate the learning\n",
    "validation_ratio = 0.1\n",
    "epochs = 600\n",
    "\n",
    "history = model.fit(learn_x, learn_y, epochs=epochs, validation_split = validation_ratio, verbose=1)\n",
    "\n",
    "# the \"history\" object contains the information generated during the learning"
   ]
  },
  {
   "cell_type": "markdown",
   "metadata": {},
   "source": [
    "<font size=5 color='blue'>\n",
    "\n",
    "Plots of the cost function versus epoch    "
   ]
  },
  {
   "cell_type": "code",
   "execution_count": null,
   "metadata": {
    "ExecuteTime": {
     "end_time": "2020-11-11T00:35:59.473920Z",
     "start_time": "2020-11-11T00:35:59.319596Z"
    }
   },
   "outputs": [],
   "source": [
    "plt.figure(figsize=(10, 7))\n",
    "\n",
    "plt.plot(history.history['loss'], color='red')\n",
    "plt.plot(history.history['val_loss'], color='green')\n",
    "plt.title('Cost function', size=16)\n",
    "plt.ylabel('Cost', size=16)\n",
    "plt.xlabel('Epoch', size=16)\n",
    "plt.legend(['cost_train', 'cost_validation'], loc='upper right', prop={'size': 16})\n",
    "plt.show()\n"
   ]
  },
  {
   "cell_type": "markdown",
   "metadata": {},
   "source": [
    "<font size=5 color='blue'>\n",
    "\n",
    "Underfitting"
   ]
  },
  {
   "cell_type": "markdown",
   "metadata": {},
   "source": [
    "<font size = 5 color = 'blue'>\n",
    "    \n",
    "Evaluation of the Smart Machine. \n",
    "    \n",
    "This is done using the test samples."
   ]
  },
  {
   "cell_type": "code",
   "execution_count": null,
   "metadata": {
    "ExecuteTime": {
     "end_time": "2020-11-11T00:35:59.493623Z",
     "start_time": "2020-11-11T00:35:59.479124Z"
    }
   },
   "outputs": [],
   "source": [
    "preds = model.evaluate(x=test_x, y=test_y)\n",
    "\n",
    "print (\"Loss = \" + str(preds))"
   ]
  },
  {
   "cell_type": "markdown",
   "metadata": {},
   "source": [
    "<font size=5 color='blue'>\n",
    "    \n",
    "## <center> A new Learning Machine</center> "
   ]
  },
  {
   "cell_type": "markdown",
   "metadata": {
    "ExecuteTime": {
     "end_time": "2020-10-19T18:46:25.160502Z",
     "start_time": "2020-10-19T18:46:25.155595Z"
    }
   },
   "source": [
    "<font size=5 color='blue'>\n",
    "\n",
    "Model of the Machine: The output $Y$ does not depend linearly with the features. \n",
    "This fact is modeled with a sigmoid type function; for example, a hyperbolic tangent"
   ]
  },
  {
   "cell_type": "markdown",
   "metadata": {},
   "source": [
    "<font size=4 color='black'>\n",
    "\n",
    "The features that determine the phenomen are described by the vector  $X = (x_1, x_2, x_3, ...x_k,...x_K)$\n",
    "    \n",
    "The our model assumes that the output Y varies lienarly with each feature\n",
    "    $$ z = \\sum_{k=1}^K w_k*x_k + b$$\n",
    "    $$ F(X) = tanh(z)= \\frac{{e}^{2z} - 1}{{e}^{2z} + 1}$$"
   ]
  },
  {
   "cell_type": "code",
   "execution_count": null,
   "metadata": {
    "ExecuteTime": {
     "end_time": "2020-11-11T00:35:59.655334Z",
     "start_time": "2020-11-11T00:35:59.494732Z"
    }
   },
   "outputs": [],
   "source": [
    "def tanh(z):\n",
    "    return (np.exp(2*z)- 1)/(np.exp(2*z)+1)\n",
    "\n",
    "# The following array is generated for plotting the hyperbolic tangent function\n",
    "x1 = np.arange(-2, 2.0, 0.1)\n",
    "y1 = 1.759*tanh((2/3*x1))\n",
    "\n",
    "y2 = x1\n",
    "#Samples and function F are plotted\n",
    "plt.figure(figsize=(13,8))\n",
    "\n",
    "plt.rc('xtick', labelsize=16)\n",
    "plt.rc('ytick', labelsize=16)\n",
    "plt.rc('legend', fontsize=16)\n",
    "plt.ylabel('Y', fontsize=16)\n",
    "plt.xlabel('Z', fontsize=16)\n",
    "plt.grid(True)\n",
    "plt.title('Sigmoid-type = 1.7159*tanh((2/3*x)', size=20)\n",
    "\n",
    "#Plotting function\n",
    "plt.plot(x1, y1, color='green', lw=4)\n",
    "plt.plot(x1, y2, color='red', lw=3)\n",
    "\n",
    "plt.show()"
   ]
  },
  {
   "cell_type": "code",
   "execution_count": null,
   "metadata": {
    "ExecuteTime": {
     "end_time": "2020-11-11T00:35:59.718829Z",
     "start_time": "2020-11-11T00:35:59.656877Z"
    }
   },
   "outputs": [],
   "source": [
    "n_x = learn_x.shape[1] \n",
    "n_y = learn_y.shape[1]\n",
    "    \n",
    "layers = [n_x, n_y]\n",
    "net = Network(layers)\n",
    "net.graph(layers)"
   ]
  },
  {
   "cell_type": "markdown",
   "metadata": {},
   "source": [
    "<font size=5 color='blue'>\n",
    "    \n",
    "Model architecture \n"
   ]
  },
  {
   "cell_type": "code",
   "execution_count": null,
   "metadata": {
    "ExecuteTime": {
     "end_time": "2020-11-11T00:35:59.741499Z",
     "start_time": "2020-11-11T00:35:59.721154Z"
    }
   },
   "outputs": [],
   "source": [
    "np.random.seed(1)\n",
    "\n",
    "input_nodes = n_x     # The input layer has n_x nodes\n",
    "output_nodes = n_y    # The output layer has n_y nodes\n",
    "\n",
    "model = Sequential()\n",
    "\n",
    "model.add(Dense(output_nodes,  kernel_initializer='uniform', bias_initializer='zeros', \\\n",
    "                input_dim=input_nodes, activation='tanh'))\n"
   ]
  },
  {
   "cell_type": "markdown",
   "metadata": {
    "ExecuteTime": {
     "end_time": "2020-10-19T18:55:20.867257Z",
     "start_time": "2020-10-19T18:55:20.859036Z"
    }
   },
   "source": [
    "<font size=5 color='blue'>\n",
    "Architecture Summary and Chart"
   ]
  },
  {
   "cell_type": "code",
   "execution_count": null,
   "metadata": {
    "ExecuteTime": {
     "end_time": "2020-11-11T00:35:59.842995Z",
     "start_time": "2020-11-11T00:35:59.742835Z"
    }
   },
   "outputs": [],
   "source": [
    "plot_model(model, to_file='model.png', show_shapes=True, rankdir='TB', \n",
    "      expand_nested=True, show_layer_names=True, dpi=96)"
   ]
  },
  {
   "cell_type": "code",
   "execution_count": null,
   "metadata": {
    "ExecuteTime": {
     "end_time": "2020-11-11T00:35:59.848492Z",
     "start_time": "2020-11-11T00:35:59.844463Z"
    }
   },
   "outputs": [],
   "source": [
    "model.summary()"
   ]
  },
  {
   "cell_type": "markdown",
   "metadata": {},
   "source": [
    "<font size=5  color='blue'>\n",
    "    \n",
    "Compiling the model. Includes the optimizer definition"
   ]
  },
  {
   "cell_type": "code",
   "execution_count": null,
   "metadata": {
    "ExecuteTime": {
     "end_time": "2020-11-11T00:35:59.887698Z",
     "start_time": "2020-11-11T00:35:59.849776Z"
    }
   },
   "outputs": [],
   "source": [
    "sgd = optimizers.SGD(lr=0.01)\n",
    "\n",
    "model.compile(loss='mean_squared_error', optimizer=sgd)\n"
   ]
  },
  {
   "cell_type": "markdown",
   "metadata": {},
   "source": [
    "<font size=5 color='blue'>\n",
    "    \n",
    "The Machine is learning"
   ]
  },
  {
   "cell_type": "code",
   "execution_count": null,
   "metadata": {
    "ExecuteTime": {
     "end_time": "2020-11-11T00:36:10.047487Z",
     "start_time": "2020-11-11T00:35:59.888965Z"
    }
   },
   "outputs": [],
   "source": [
    "# 10 % of the learning data will be used to validate the training\n",
    "validation_fraction = 0.1\n",
    "epochs = 600\n",
    "\n",
    "history = model.fit(learn_x, learn_y, epochs=epochs, validation_split = validation_fraction, verbose=2)\n",
    "\n",
    "# the \"history\" object contains information generated during learning"
   ]
  },
  {
   "cell_type": "markdown",
   "metadata": {},
   "source": [
    "<font size=5 color='blue'>\n",
    "\n",
    "Plots of cost function versus epoch    "
   ]
  },
  {
   "cell_type": "code",
   "execution_count": null,
   "metadata": {
    "ExecuteTime": {
     "end_time": "2020-11-11T00:36:10.193820Z",
     "start_time": "2020-11-11T00:36:10.049096Z"
    },
    "scrolled": false
   },
   "outputs": [],
   "source": [
    "plt.figure(figsize=(10, 7))\n",
    "\n",
    "plt.plot(history.history['loss'], color='red')\n",
    "plt.plot(history.history['val_loss'], color='green')\n",
    "plt.title('Cost function', size=16)\n",
    "plt.ylabel('Cost', size=16)\n",
    "plt.xlabel('Epoch', size=16)\n",
    "plt.legend(['cost_train', 'cost_validation'],loc='upper right', prop={'size': 16})\n",
    "plt.show()\n"
   ]
  },
  {
   "cell_type": "markdown",
   "metadata": {},
   "source": [
    "<font size=5 color='blue'>\n",
    "\n",
    "Uderfitting"
   ]
  },
  {
   "cell_type": "markdown",
   "metadata": {},
   "source": [
    "<font size=5 color='blue'>\n",
    "    \n",
    "## <center> Learning Machines constructed with Artificial Neural Networks (ANN)</center> "
   ]
  },
  {
   "cell_type": "markdown",
   "metadata": {
    "ExecuteTime": {
     "end_time": "2020-11-10T13:48:16.441234Z",
     "start_time": "2020-11-10T13:48:16.437127Z"
    }
   },
   "source": [
    "<font size=5 color='black'>\n",
    "<center> SEM images of a neuron and a network of neurons. Neuron model and mathematical model of a neuron </center>    "
   ]
  },
  {
   "cell_type": "markdown",
   "metadata": {},
   "source": [
    "\n",
    "<table>\n",
    "  <tr>\n",
    "    <td>Neuron</td>\n",
    "     <td>Network of neurons</td>\n",
    "      <td>Neuron model</td>\n",
    "      <td>Mathematical model of a neuron</td>\n",
    "         \n",
    "  </tr>\n",
    "  <tr>\n",
    "    <td><img src=\"neuron_SEM.jpg\" width=290 height=480></td>\n",
    "    <td><img src=\"human-neuron.png\" width=270 height=480></td>\n",
    "    <td><img src=\"Neuron_labelled.png\" width=200 height=380></td>\n",
    "    <td><img src=\"neuron-mat-model.png\" width=370 height=380></td>\n",
    "  </tr>\n",
    " </table>"
   ]
  },
  {
   "cell_type": "markdown",
   "metadata": {
    "ExecuteTime": {
     "end_time": "2020-11-10T13:48:16.441234Z",
     "start_time": "2020-11-10T13:48:16.437127Z"
    }
   },
   "source": [
    "<font size=5 color='black'>\n",
    "<center> Approximation by Superpositions of a Sigmoidal Function </center>    "
   ]
  },
  {
   "cell_type": "markdown",
   "metadata": {},
   "source": [
    "<font size=4 color='black'>\n",
    "    \n",
    "[Reference](./Literatura/Approx-superpositions-sigmoids_1989.pdf)\n",
    "$$ $$    \n",
    "$\\bf Abstract$-In this paper we demonstrate that finite linear combinations of com-\n",
    "positions of a fixed, univariate function and a set ofaffine functionals can uniformly\n",
    "approximate any continuous function of n real variables with support in the unit\n",
    "hypercube; only mild conditions are imposed on the univariate function. Our\n",
    "results settle an open question about representability in the class of single bidden\n",
    "layer neural networks. In particular, we show that arbitrary decision regions can\n",
    "be arbitrarily well approximated by continuous feedforward neural networks with\n",
    "only a single internal, hidden layer and any continuous sigmoidal nonlinearity. The\n",
    "paper discusses approximation properties of other possible types of nonlinearities\n",
    "that might be implemented by artificial neural networks.\n",
    "    \n"
   ]
  },
  {
   "cell_type": "markdown",
   "metadata": {
    "ExecuteTime": {
     "end_time": "2020-11-10T13:48:16.441234Z",
     "start_time": "2020-11-10T13:48:16.437127Z"
    }
   },
   "source": [
    "<font size=5 color='black'>\n",
    "<center> Approximation Capabilities of Multilayer Feedforward Networks </center>    "
   ]
  },
  {
   "cell_type": "markdown",
   "metadata": {},
   "source": [
    "<font size=4 color='black'>\n",
    "$\\bf Abstract$--We show that standard multilayer feedfbrward networks with as few as a single hidden layer and\n",
    "arbitrary bounded and nonconstant activation function are universal approximators with respect to LP(lt) per-\n",
    "formance criteria, for arbitrary finite input environment measures p, provided only that sufficiently many hidden\n",
    "units are available. If the activation function is continuous, bounded and nonconstant, then continuous mappings\n",
    "can be learned uniformly over compact input sets. We also give very general conditions ensuring that networks\n",
    "with sufficiently smooth activation functions are capable of arbitrarily accurate approximation to a_Function and\n",
    "its derivatives.\n",
    "    \n",
    "[Reference](./Literatura/FF-NN-universal-Approximator_1991.pdf)"
   ]
  },
  {
   "cell_type": "markdown",
   "metadata": {},
   "source": [
    "<font size=5 color='blue'>\n",
    "    \n",
    "## <center>  A new Learning Machine</center> "
   ]
  },
  {
   "cell_type": "markdown",
   "metadata": {},
   "source": [
    "<font size=5 color='blue'>\n",
    "    \n",
    "Model of the Machine: Full-Connected Feed-Forward Network (FF) with one hidden layer with two neurons. The activation function of the last neuron is linear\n"
   ]
  },
  {
   "cell_type": "code",
   "execution_count": null,
   "metadata": {
    "ExecuteTime": {
     "end_time": "2020-11-11T00:36:10.261734Z",
     "start_time": "2020-11-11T00:36:10.195493Z"
    }
   },
   "outputs": [],
   "source": [
    "n_x = learn_x.shape[1] \n",
    "n_h = 2\n",
    "n_y = learn_y.shape[1]\n",
    "    \n",
    "layers = [n_x, n_h, n_y]\n",
    "net = Network(layers)\n",
    "net.graph(layers)"
   ]
  },
  {
   "cell_type": "markdown",
   "metadata": {},
   "source": [
    "<font size=5 color='blue'>\n",
    "    \n",
    "Model architecture \n"
   ]
  },
  {
   "cell_type": "code",
   "execution_count": null,
   "metadata": {
    "ExecuteTime": {
     "end_time": "2020-11-11T00:36:10.296004Z",
     "start_time": "2020-11-11T00:36:10.263079Z"
    }
   },
   "outputs": [],
   "source": [
    "np.random.seed(1)\n",
    "\n",
    "input_nodes = n_x     # The input layer has n_x nodes\n",
    "hlayer1_nodes = n_h   # The first hidden layer has n_h nodes\n",
    "output_nodes = n_y    # The output layer has n_y nodes\n",
    "\n",
    "model = Sequential()\n",
    "\n",
    "model.add(Dense(hlayer1_nodes,  kernel_initializer='uniform', bias_initializer='zeros', \\\n",
    "                input_dim=input_nodes, activation='tanh'))\n",
    "\n",
    "model.add(Dense(output_nodes, kernel_initializer='uniform', bias_initializer='zeros', activation='linear'))\n"
   ]
  },
  {
   "cell_type": "markdown",
   "metadata": {
    "ExecuteTime": {
     "end_time": "2020-10-19T18:55:20.867257Z",
     "start_time": "2020-10-19T18:55:20.859036Z"
    }
   },
   "source": [
    "<font size=5 color='blue'>\n",
    "Architecture Summary and Chart"
   ]
  },
  {
   "cell_type": "code",
   "execution_count": null,
   "metadata": {
    "ExecuteTime": {
     "end_time": "2020-11-11T00:36:10.374912Z",
     "start_time": "2020-11-11T00:36:10.297442Z"
    }
   },
   "outputs": [],
   "source": [
    "plot_model(model, to_file='model.png', show_shapes=True, rankdir='TB', \n",
    "      expand_nested=True, show_layer_names=True, dpi=96)"
   ]
  },
  {
   "cell_type": "code",
   "execution_count": null,
   "metadata": {
    "ExecuteTime": {
     "end_time": "2020-11-11T00:36:10.382039Z",
     "start_time": "2020-11-11T00:36:10.377259Z"
    }
   },
   "outputs": [],
   "source": [
    "model.summary()"
   ]
  },
  {
   "cell_type": "markdown",
   "metadata": {},
   "source": [
    "<font size=5  color='blue'>\n",
    "    \n",
    "Compiling the model. Includes the optimizer definition"
   ]
  },
  {
   "cell_type": "code",
   "execution_count": null,
   "metadata": {
    "ExecuteTime": {
     "end_time": "2020-11-11T00:36:10.418114Z",
     "start_time": "2020-11-11T00:36:10.383801Z"
    }
   },
   "outputs": [],
   "source": [
    "sgd = optimizers.SGD(lr=0.01)\n",
    "\n",
    "model.compile(loss='mean_squared_error', optimizer=sgd)"
   ]
  },
  {
   "cell_type": "markdown",
   "metadata": {},
   "source": [
    "<font size=5 color='blue'>\n",
    "    \n",
    "The Machine is learning"
   ]
  },
  {
   "cell_type": "code",
   "execution_count": null,
   "metadata": {
    "ExecuteTime": {
     "end_time": "2020-11-11T00:36:19.468081Z",
     "start_time": "2020-11-11T00:36:10.419800Z"
    }
   },
   "outputs": [],
   "source": [
    "validation_ratio = 0.1\n",
    "epochs = 600\n",
    "\n",
    "history = model.fit(learn_x, learn_y, epochs=epochs, validation_split = validation_ratio, verbose=0)"
   ]
  },
  {
   "cell_type": "markdown",
   "metadata": {},
   "source": [
    "<font size=5 color='blue'>\n",
    "\n",
    "Plots of cost function versus epoch    "
   ]
  },
  {
   "cell_type": "code",
   "execution_count": null,
   "metadata": {
    "ExecuteTime": {
     "end_time": "2020-11-11T00:36:19.608496Z",
     "start_time": "2020-11-11T00:36:19.469237Z"
    }
   },
   "outputs": [],
   "source": [
    "plt.figure(figsize=(10, 7))\n",
    "\n",
    "plt.plot(history.history['loss'], color='red')\n",
    "plt.plot(history.history['val_loss'], color='green')\n",
    "plt.title('Cost function', size=16)\n",
    "plt.ylabel('Cost', size=16)\n",
    "plt.xlabel('Epoch', size=16)\n",
    "plt.legend(['cost_train', 'cost_validation'],loc='upper right', prop={'size': 16})\n",
    "plt.show()\n"
   ]
  },
  {
   "cell_type": "markdown",
   "metadata": {},
   "source": [
    "<font size=5 color='blue'>\n",
    "\n",
    "A good model"
   ]
  },
  {
   "cell_type": "markdown",
   "metadata": {},
   "source": [
    "<font size=5 color='blue'>\n",
    "    \n",
    "## <center>  A new Learning Machine</center> "
   ]
  },
  {
   "cell_type": "markdown",
   "metadata": {},
   "source": [
    "<font size=5 color='blue'>\n",
    "    \n",
    "Model of the Machine: Full-Connected Feed-Forward Network (FF) with one hidden layer with two neurons. The activation function of the last neuron is a sigmoid function.\n"
   ]
  },
  {
   "cell_type": "code",
   "execution_count": null,
   "metadata": {
    "ExecuteTime": {
     "end_time": "2020-11-11T00:36:19.684816Z",
     "start_time": "2020-11-11T00:36:19.610657Z"
    }
   },
   "outputs": [],
   "source": [
    "n_x = learn_x.shape[1] \n",
    "n_h = 2\n",
    "n_y = learn_y.shape[1]\n",
    "    \n",
    "layers = [n_x, n_h, n_y]\n",
    "net = Network(layers)\n",
    "net.graph(layers)"
   ]
  },
  {
   "cell_type": "markdown",
   "metadata": {},
   "source": [
    "<font size=5 color='blue'>\n",
    "    \n",
    "Model architecture \n"
   ]
  },
  {
   "cell_type": "code",
   "execution_count": null,
   "metadata": {
    "ExecuteTime": {
     "end_time": "2020-11-11T00:36:19.719144Z",
     "start_time": "2020-11-11T00:36:19.686189Z"
    }
   },
   "outputs": [],
   "source": [
    "np.random.seed(1)\n",
    "\n",
    "input_nodes = n_x     # The input layer has n_x nodes\n",
    "hlayer1_nodes = n_h   # The first hidden layer has n_h nodes\n",
    "output_nodes = n_y    # The output layer has n_y nodes\n",
    "\n",
    "model = Sequential()\n",
    "\n",
    "model.add(Dense(hlayer1_nodes,  kernel_initializer='uniform', bias_initializer='zeros', \\\n",
    "                input_dim=input_nodes, activation='tanh'))\n",
    "\n",
    "model.add(Dense(output_nodes, kernel_initializer='uniform', bias_initializer='zeros', activation='tanh'))"
   ]
  },
  {
   "cell_type": "markdown",
   "metadata": {
    "ExecuteTime": {
     "end_time": "2020-10-19T18:55:20.867257Z",
     "start_time": "2020-10-19T18:55:20.859036Z"
    }
   },
   "source": [
    "<font size=5 color='blue'>\n",
    "Architecture Summary and Chart"
   ]
  },
  {
   "cell_type": "code",
   "execution_count": null,
   "metadata": {
    "ExecuteTime": {
     "end_time": "2020-11-11T00:36:19.798324Z",
     "start_time": "2020-11-11T00:36:19.720543Z"
    }
   },
   "outputs": [],
   "source": [
    "plot_model(model, to_file='model.png', show_shapes=True, rankdir='TB', \n",
    "      expand_nested=True, show_layer_names=True, dpi=96)"
   ]
  },
  {
   "cell_type": "code",
   "execution_count": null,
   "metadata": {
    "ExecuteTime": {
     "end_time": "2020-11-11T00:36:19.803927Z",
     "start_time": "2020-11-11T00:36:19.800138Z"
    }
   },
   "outputs": [],
   "source": [
    "model.summary()"
   ]
  },
  {
   "cell_type": "markdown",
   "metadata": {},
   "source": [
    "<font size=5  color='blue'>\n",
    "    \n",
    "Compiling the model. Includes the optimizer definition"
   ]
  },
  {
   "cell_type": "code",
   "execution_count": null,
   "metadata": {
    "ExecuteTime": {
     "end_time": "2020-11-11T00:36:19.839393Z",
     "start_time": "2020-11-11T00:36:19.805536Z"
    }
   },
   "outputs": [],
   "source": [
    "sgd = optimizers.SGD(lr=0.01)\n",
    "\n",
    "model.compile(loss='mean_squared_error', optimizer=sgd)"
   ]
  },
  {
   "cell_type": "markdown",
   "metadata": {},
   "source": [
    "<font size=5 color='blue'>\n",
    "    \n",
    "The Machine is Learning"
   ]
  },
  {
   "cell_type": "code",
   "execution_count": null,
   "metadata": {
    "ExecuteTime": {
     "end_time": "2020-11-11T00:36:28.836790Z",
     "start_time": "2020-11-11T00:36:19.841097Z"
    }
   },
   "outputs": [],
   "source": [
    "validation_ratio = 0.1\n",
    "epochs = 600\n",
    "\n",
    "history = model.fit(learn_x, learn_y, epochs=epochs, validation_split = validation_ratio, verbose=0)"
   ]
  },
  {
   "cell_type": "markdown",
   "metadata": {},
   "source": [
    "<font size=5 color='blue'>\n",
    "\n",
    "Plots of cost function versus epoch    "
   ]
  },
  {
   "cell_type": "code",
   "execution_count": null,
   "metadata": {
    "ExecuteTime": {
     "end_time": "2020-11-11T00:36:28.975756Z",
     "start_time": "2020-11-11T00:36:28.838007Z"
    }
   },
   "outputs": [],
   "source": [
    "plt.figure(figsize=(10, 7))\n",
    "\n",
    "plt.plot(history.history['loss'], color='red')\n",
    "plt.plot(history.history['val_loss'], color='green')\n",
    "plt.title('Cost function', size=16)\n",
    "plt.ylabel('Cost', size=16)\n",
    "plt.xlabel('Epoch', size=16)\n",
    "plt.legend(['cost_train', 'cost_validation'],loc='upper right', prop={'size': 16})\n",
    "plt.show()\n"
   ]
  },
  {
   "cell_type": "markdown",
   "metadata": {},
   "source": [
    "<font size=5 color='blue'>\n",
    "\n",
    "Overfitting"
   ]
  },
  {
   "cell_type": "markdown",
   "metadata": {},
   "source": [
    "<font size=5 color='blue'>\n",
    "    \n",
    "## <center> A new Learning Machine</center> "
   ]
  },
  {
   "cell_type": "markdown",
   "metadata": {},
   "source": [
    "<font size=5 color='blue'>\n",
    "    \n",
    "Model of the Machine: Full-Connected Feed-Forward Network (FF) with one hidden layer with three neurons. The activation function of the last neuron is linear.\n"
   ]
  },
  {
   "cell_type": "code",
   "execution_count": null,
   "metadata": {
    "ExecuteTime": {
     "end_time": "2020-11-11T00:36:29.044923Z",
     "start_time": "2020-11-11T00:36:28.977297Z"
    }
   },
   "outputs": [],
   "source": [
    "n_x = learn_x.shape[1] \n",
    "n_h = 3\n",
    "n_y = learn_y.shape[1]\n",
    "    \n",
    "layers = [n_x, n_h, n_y]\n",
    "net = Network(layers)\n",
    "net.graph(layers)"
   ]
  },
  {
   "cell_type": "markdown",
   "metadata": {},
   "source": [
    "<font size=5 color='blue'>\n",
    "    \n",
    "Model architecture \n"
   ]
  },
  {
   "cell_type": "code",
   "execution_count": null,
   "metadata": {
    "ExecuteTime": {
     "end_time": "2020-11-11T00:36:29.080209Z",
     "start_time": "2020-11-11T00:36:29.046514Z"
    }
   },
   "outputs": [],
   "source": [
    "np.random.seed(1)\n",
    "\n",
    "model = Sequential()\n",
    "\n",
    "input_nodes = n_x     #input layer has n_x nodes\n",
    "hlayer1_nodes = n_h   #first hidden layer has n_h nodes\n",
    "output_nodes = n_y    #output layer has n_y nodes\n",
    "\n",
    "model.add(Dense(hlayer1_nodes,  kernel_initializer='uniform', bias_initializer='zeros', \\\n",
    "                input_dim=input_nodes, activation='tanh'))\n",
    "\n",
    "model.add(Dense(output_nodes, kernel_initializer='uniform', bias_initializer='zeros', activation='linear'))"
   ]
  },
  {
   "cell_type": "markdown",
   "metadata": {
    "ExecuteTime": {
     "end_time": "2020-10-19T18:55:20.867257Z",
     "start_time": "2020-10-19T18:55:20.859036Z"
    }
   },
   "source": [
    "<font size=5 color='blue'>\n",
    "Architecture Summary and Chart"
   ]
  },
  {
   "cell_type": "code",
   "execution_count": null,
   "metadata": {
    "ExecuteTime": {
     "end_time": "2020-11-11T00:36:29.159360Z",
     "start_time": "2020-11-11T00:36:29.081488Z"
    }
   },
   "outputs": [],
   "source": [
    "plot_model(model, to_file='model.png', show_shapes=True, rankdir='TB', \n",
    "      expand_nested=True, show_layer_names=True, dpi=96)"
   ]
  },
  {
   "cell_type": "code",
   "execution_count": null,
   "metadata": {
    "ExecuteTime": {
     "end_time": "2020-11-11T00:36:29.165429Z",
     "start_time": "2020-11-11T00:36:29.161053Z"
    }
   },
   "outputs": [],
   "source": [
    "model.summary()"
   ]
  },
  {
   "cell_type": "markdown",
   "metadata": {},
   "source": [
    "<font size=5  color='blue'>\n",
    "    \n",
    "Compiling the model. Includes the optimizer definition."
   ]
  },
  {
   "cell_type": "code",
   "execution_count": null,
   "metadata": {
    "ExecuteTime": {
     "end_time": "2020-11-11T00:36:29.201395Z",
     "start_time": "2020-11-11T00:36:29.166888Z"
    }
   },
   "outputs": [],
   "source": [
    "sgd = optimizers.SGD(lr=0.01)\n",
    "\n",
    "model.compile(loss='mean_squared_error', optimizer=sgd)"
   ]
  },
  {
   "cell_type": "markdown",
   "metadata": {},
   "source": [
    "<font size=5 color='blue'>\n",
    "    \n",
    "The Machine is learning"
   ]
  },
  {
   "cell_type": "code",
   "execution_count": null,
   "metadata": {
    "ExecuteTime": {
     "end_time": "2020-11-11T00:36:38.110153Z",
     "start_time": "2020-11-11T00:36:29.202761Z"
    }
   },
   "outputs": [],
   "source": [
    "validation_ratio = 0.1\n",
    "epochs = 600\n",
    "\n",
    "history = model.fit(learn_x, learn_y, epochs=epochs, validation_split = validation_ratio, verbose=0)"
   ]
  },
  {
   "cell_type": "markdown",
   "metadata": {},
   "source": [
    "<font size=5 color='blue'>\n",
    "\n",
    "Plots of cost function versus epoch    "
   ]
  },
  {
   "cell_type": "code",
   "execution_count": null,
   "metadata": {
    "ExecuteTime": {
     "end_time": "2020-11-11T00:36:38.256723Z",
     "start_time": "2020-11-11T00:36:38.111481Z"
    }
   },
   "outputs": [],
   "source": [
    "plt.figure(figsize=(10, 7))\n",
    "\n",
    "plt.plot(history.history['loss'], color='red')\n",
    "plt.plot(history.history['val_loss'], color='green')\n",
    "plt.title('Cost function', size=16)\n",
    "plt.ylabel('Cost', size=16)\n",
    "plt.xlabel('Epoch', size=16)\n",
    "plt.legend(['cost_train', 'cost_validation'],loc='upper right', prop={'size': 16})\n",
    "plt.show()\n"
   ]
  },
  {
   "cell_type": "markdown",
   "metadata": {},
   "source": [
    "<font size=5 color='blue'>\n",
    "\n",
    "Overfitting"
   ]
  },
  {
   "cell_type": "markdown",
   "metadata": {},
   "source": [
    "<font size=5 color='blue'>\n",
    "    \n",
    "## <center> A new Learning Machine</center> "
   ]
  },
  {
   "cell_type": "markdown",
   "metadata": {},
   "source": [
    "<font size=5 color='blue'>\n",
    "    \n",
    "Model of the Machine: Full-Connected Feed-Forward Network (FF) with one hidden layer with four neurons. The activation function of the last neuron is linear.\n"
   ]
  },
  {
   "cell_type": "code",
   "execution_count": null,
   "metadata": {
    "ExecuteTime": {
     "end_time": "2020-11-11T00:36:38.330139Z",
     "start_time": "2020-11-11T00:36:38.258301Z"
    }
   },
   "outputs": [],
   "source": [
    "n_x = learn_x.shape[1] \n",
    "n_h = 4\n",
    "n_y = learn_y.shape[1]\n",
    "    \n",
    "layers = [n_x, n_h, n_y]\n",
    "net = Network(layers)\n",
    "net.graph(layers)"
   ]
  },
  {
   "cell_type": "markdown",
   "metadata": {},
   "source": [
    "<font size=5 color='blue'>\n",
    "    \n",
    "Model architecture \n"
   ]
  },
  {
   "cell_type": "code",
   "execution_count": null,
   "metadata": {
    "ExecuteTime": {
     "end_time": "2020-11-11T00:36:38.367409Z",
     "start_time": "2020-11-11T00:36:38.331857Z"
    }
   },
   "outputs": [],
   "source": [
    "np.random.seed(1)\n",
    "\n",
    "input_nodes = n_x     # The input layer has n_x nodes\n",
    "hlayer1_nodes = n_h   # The first hidden layer has n_h nodes\n",
    "output_nodes = n_y    # The output layer has n_y nodes\n",
    "\n",
    "\n",
    "model = Sequential()\n",
    "\n",
    "model.add(Dense(hlayer1_nodes,  kernel_initializer='uniform', bias_initializer='zeros', \\\n",
    "                input_dim=input_nodes, activation='tanh'))\n",
    "\n",
    "model.add(Dense(output_nodes, kernel_initializer='uniform', bias_initializer='zeros', activation='linear'))"
   ]
  },
  {
   "cell_type": "markdown",
   "metadata": {
    "ExecuteTime": {
     "end_time": "2020-10-19T18:55:20.867257Z",
     "start_time": "2020-10-19T18:55:20.859036Z"
    }
   },
   "source": [
    "<font size=5 color='blue'>\n",
    "Architecture Summary and Chart"
   ]
  },
  {
   "cell_type": "code",
   "execution_count": null,
   "metadata": {
    "ExecuteTime": {
     "end_time": "2020-11-11T00:36:38.450037Z",
     "start_time": "2020-11-11T00:36:38.368787Z"
    }
   },
   "outputs": [],
   "source": [
    "plot_model(model, to_file='model.png', show_shapes=True, rankdir='TB', \n",
    "      expand_nested=True, show_layer_names=True, dpi=96)"
   ]
  },
  {
   "cell_type": "code",
   "execution_count": null,
   "metadata": {
    "ExecuteTime": {
     "end_time": "2020-11-11T00:36:38.455051Z",
     "start_time": "2020-11-11T00:36:38.451443Z"
    }
   },
   "outputs": [],
   "source": [
    "model.summary()"
   ]
  },
  {
   "cell_type": "markdown",
   "metadata": {},
   "source": [
    "<font size=5  color='blue'>\n",
    "    \n",
    "Compiling the model. Includes the optimizer definition."
   ]
  },
  {
   "cell_type": "code",
   "execution_count": null,
   "metadata": {
    "ExecuteTime": {
     "end_time": "2020-11-11T00:36:38.491568Z",
     "start_time": "2020-11-11T00:36:38.456334Z"
    }
   },
   "outputs": [],
   "source": [
    "sgd = optimizers.SGD(lr=0.01)\n",
    "\n",
    "model.compile(loss='mean_squared_error', optimizer=sgd)"
   ]
  },
  {
   "cell_type": "markdown",
   "metadata": {},
   "source": [
    "<font size=5 color='blue'>\n",
    "    \n",
    "The Machine is Learning"
   ]
  },
  {
   "cell_type": "code",
   "execution_count": null,
   "metadata": {
    "ExecuteTime": {
     "end_time": "2020-11-11T00:36:47.626197Z",
     "start_time": "2020-11-11T00:36:38.492776Z"
    }
   },
   "outputs": [],
   "source": [
    "validation_ratio = 0.1\n",
    "epochs = 600\n",
    "\n",
    "history = model.fit(learn_x, learn_y, epochs=epochs, validation_split = validation_ratio,verbose=0)"
   ]
  },
  {
   "cell_type": "markdown",
   "metadata": {},
   "source": [
    "<font size=5 color='blue'>\n",
    "\n",
    "Plots of cost function versus epoch    "
   ]
  },
  {
   "cell_type": "code",
   "execution_count": null,
   "metadata": {
    "ExecuteTime": {
     "end_time": "2020-11-11T00:36:47.767678Z",
     "start_time": "2020-11-11T00:36:47.627416Z"
    }
   },
   "outputs": [],
   "source": [
    "plt.figure(figsize=(10, 7))\n",
    "\n",
    "plt.plot(history.history['loss'], color='red')\n",
    "plt.plot(history.history['val_loss'], color='green')\n",
    "plt.title('Cost function', size=16)\n",
    "plt.ylabel('Cost', size=16)\n",
    "plt.xlabel('Epoch', size=16)\n",
    "plt.legend(['cost_train', 'cost_validation'],loc='upper right', prop={'size': 16})\n",
    "plt.show()\n"
   ]
  },
  {
   "cell_type": "markdown",
   "metadata": {},
   "source": [
    "<font size=5 color='blue'>\n",
    "\n",
    "Overfitting   "
   ]
  },
  {
   "cell_type": "markdown",
   "metadata": {},
   "source": [
    "<font size=5 color='blue'>\n",
    "    \n",
    "## <center> A new Learning Machine</center> "
   ]
  },
  {
   "cell_type": "markdown",
   "metadata": {},
   "source": [
    "<font size=5 color='blue'>\n",
    "    \n",
    "Model of the Machine: A Full-Connected Feed-Forward Network (FF) with two hidden layers: the first of which has 5 neurons and the second is one that has 4 neurons. The activation function of the last neuron is linear.\n"
   ]
  },
  {
   "cell_type": "code",
   "execution_count": null,
   "metadata": {
    "ExecuteTime": {
     "end_time": "2020-11-11T00:36:47.843320Z",
     "start_time": "2020-11-11T00:36:47.769210Z"
    }
   },
   "outputs": [],
   "source": [
    "n_x = learn_x.shape[1] \n",
    "n_h1 = 5\n",
    "n_h2  = 4\n",
    "n_y = learn_y.shape[1]\n",
    "    \n",
    "layers = [n_x, n_h1, n_h2, n_y]\n",
    "net = Network(layers)\n",
    "net.graph(layers)"
   ]
  },
  {
   "cell_type": "markdown",
   "metadata": {},
   "source": [
    "<font size=5 color='blue'>\n",
    "    \n",
    "Model architecture \n"
   ]
  },
  {
   "cell_type": "code",
   "execution_count": null,
   "metadata": {
    "ExecuteTime": {
     "end_time": "2020-11-11T00:36:47.891769Z",
     "start_time": "2020-11-11T00:36:47.844983Z"
    }
   },
   "outputs": [],
   "source": [
    "np.random.seed(1)\n",
    "\n",
    "input_nodes = n_x     # The input layer has n_x nodes\n",
    "hlayer1_nodes = n_h1  # The first hidden layer has n_h1 nodes\n",
    "hlayer2_nodes = n_h2  # The second hidden layes has n_h2 nodes\n",
    "output_nodes = n_y    # The output layer has n_y nodes\n",
    "\n",
    "\n",
    "model = Sequential()\n",
    "\n",
    "model.add(Dense(hlayer1_nodes,  kernel_initializer='uniform', bias_initializer='zeros', \\\n",
    "                input_dim=input_nodes, activation='tanh'))\n",
    "\n",
    "model.add(Dense(hlayer2_nodes,  kernel_initializer='uniform', bias_initializer='zeros', \\\n",
    "                input_dim=input_nodes, activation='tanh'))\n",
    "\n",
    "\n",
    "model.add(Dense(output_nodes, kernel_initializer='uniform', bias_initializer='zeros', activation='linear'))"
   ]
  },
  {
   "cell_type": "markdown",
   "metadata": {
    "ExecuteTime": {
     "end_time": "2020-10-19T18:55:20.867257Z",
     "start_time": "2020-10-19T18:55:20.859036Z"
    }
   },
   "source": [
    "<font size=5 color='blue'>\n",
    "Architecture Summary and Chart"
   ]
  },
  {
   "cell_type": "code",
   "execution_count": null,
   "metadata": {
    "ExecuteTime": {
     "end_time": "2020-11-11T00:36:47.978233Z",
     "start_time": "2020-11-11T00:36:47.896723Z"
    }
   },
   "outputs": [],
   "source": [
    "plot_model(model, to_file='model.png', show_shapes=True, rankdir='TB', \n",
    "      expand_nested=True, show_layer_names=True, dpi=96)"
   ]
  },
  {
   "cell_type": "code",
   "execution_count": null,
   "metadata": {
    "ExecuteTime": {
     "end_time": "2020-11-11T00:36:47.985276Z",
     "start_time": "2020-11-11T00:36:47.980549Z"
    }
   },
   "outputs": [],
   "source": [
    "model.summary()"
   ]
  },
  {
   "cell_type": "markdown",
   "metadata": {},
   "source": [
    "<font size=5  color='blue'>\n",
    "    \n",
    "Compiling the model. Includes the optimizer definition."
   ]
  },
  {
   "cell_type": "code",
   "execution_count": null,
   "metadata": {
    "ExecuteTime": {
     "end_time": "2020-11-11T00:36:48.022958Z",
     "start_time": "2020-11-11T00:36:47.986531Z"
    }
   },
   "outputs": [],
   "source": [
    "sgd = optimizers.SGD(lr=0.01)\n",
    "\n",
    "model.compile(loss='mean_squared_error', optimizer=sgd)"
   ]
  },
  {
   "cell_type": "markdown",
   "metadata": {},
   "source": [
    "<font size=5 color='blue'>\n",
    "    \n",
    "The Machine is learning"
   ]
  },
  {
   "cell_type": "code",
   "execution_count": null,
   "metadata": {
    "ExecuteTime": {
     "end_time": "2020-11-11T00:36:58.257554Z",
     "start_time": "2020-11-11T00:36:48.024246Z"
    }
   },
   "outputs": [],
   "source": [
    "validation_ratio = 0.1\n",
    "epochs = 600\n",
    "\n",
    "history = model.fit(learn_x, learn_y, epochs=epochs, validation_split = validation_ratio,verbose=0)"
   ]
  },
  {
   "cell_type": "markdown",
   "metadata": {},
   "source": [
    "<font size=5 color='blue'>\n",
    "\n",
    "Plots of cost function versus epoch    "
   ]
  },
  {
   "cell_type": "code",
   "execution_count": null,
   "metadata": {
    "ExecuteTime": {
     "end_time": "2020-11-11T00:36:58.407673Z",
     "start_time": "2020-11-11T00:36:58.258785Z"
    },
    "scrolled": false
   },
   "outputs": [],
   "source": [
    "plt.figure(figsize=(10, 7))\n",
    "\n",
    "plt.plot(history.history['loss'], color='red')\n",
    "plt.plot(history.history['val_loss'], color='green')\n",
    "plt.title('Cost function', size=16)\n",
    "plt.ylabel('Cost', size=16)\n",
    "plt.xlabel('Epoch', size=16)\n",
    "plt.legend(['cost_train', 'cost_validation'],loc='upper right', prop={'size': 16})\n",
    "plt.show()\n"
   ]
  },
  {
   "cell_type": "markdown",
   "metadata": {},
   "source": [
    "<font size=5 color='blue'>\n",
    "\n",
    "Overfitting    "
   ]
  },
  {
   "cell_type": "code",
   "execution_count": null,
   "metadata": {},
   "outputs": [],
   "source": []
  }
 ],
 "metadata": {
  "kernelspec": {
   "display_name": "Python 3",
   "language": "python",
   "name": "python3"
  },
  "language_info": {
   "codemirror_mode": {
    "name": "ipython",
    "version": 3
   },
   "file_extension": ".py",
   "mimetype": "text/x-python",
   "name": "python",
   "nbconvert_exporter": "python",
   "pygments_lexer": "ipython3",
   "version": "3.7.10"
  }
 },
 "nbformat": 4,
 "nbformat_minor": 4
}
