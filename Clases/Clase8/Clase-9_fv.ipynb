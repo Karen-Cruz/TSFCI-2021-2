{
 "cells": [
  {
   "cell_type": "markdown",
   "metadata": {},
   "source": [
    "<font size=4 color='blue'>\n",
    "\n",
    "# <center>Clase 9, julio 14 del 2021</center>\n"
   ]
  },
  {
   "cell_type": "markdown",
   "metadata": {
    "ExecuteTime": {
     "end_time": "2020-11-22T12:50:36.354304Z",
     "start_time": "2020-11-22T12:50:36.345388Z"
    }
   },
   "source": [
    "<font size=5 color=\"blue\">\n",
    "\n",
    "Overfitting"
   ]
  },
  {
   "cell_type": "markdown",
   "metadata": {},
   "source": [
    "<img src=\"./images/1024px-Regularization.svg.png\" width=300 height=300 align = \"left\" > \n",
    " <img src=\"./images/Loss-function-no-dropout.png\" width=420 height=420 align = \"center\" >    "
   ]
  },
  {
   "cell_type": "markdown",
   "metadata": {
    "ExecuteTime": {
     "end_time": "2020-11-25T00:57:23.623361Z",
     "start_time": "2020-11-25T00:57:23.618614Z"
    }
   },
   "source": [
    "<img src=\"./images/Loss-function-dropout.png\" width=420 height=420 align = \"center\" >"
   ]
  },
  {
   "cell_type": "markdown",
   "metadata": {},
   "source": [
    "<font size=5 color=\"blue\">\n",
    "\n",
    "Regularization as a method to reduce overfitting"
   ]
  },
  {
   "cell_type": "markdown",
   "metadata": {},
   "source": [
    "<font size=4 color=\"black\">\n",
    "\n",
    "When an artificial intelligence method (for example neural networks) has many irrelevant features, the method presents overfitting, which is corrected by regularization, so that only a few features that are highly predictive of the outcome have large non-zero weights."
   ]
  },
  {
   "cell_type": "markdown",
   "metadata": {},
   "source": [
    "<font size=5 color=\"blue\">\n",
    "\n",
    "L1 regularization"
   ]
  },
  {
   "cell_type": "markdown",
   "metadata": {
    "ExecuteTime": {
     "end_time": "2020-03-30T13:12:56.281916Z",
     "start_time": "2020-03-30T13:12:56.277895Z"
    }
   },
   "source": [
    "<font size=4 color=\"black\">\n",
    "    \n",
    "[L1 regularization](./literature/Statistical_Debugging_of_Sampled_Programs.pdf)\n",
    "    \n",
    "<font size=5 color='black'>    \n",
    "$$   J = Error(y, F(x)) $$\n",
    "\n",
    "<font size=4 color='black'>    \n",
    "L1 regularization uses a penalty term which encourages the sum of the absolute values of the parameters (weights) to be small:\n",
    "        \n",
    "<font size=5 color='black'>\n",
    "$$   J = Error(y, F(x)) + \\lambda \\sum_{i = 1 }^{N} | \\omega_i | $$\n",
    "  \n",
    "<font size=4 color='black'>\n",
    "\n",
    "In many learning systems, it has frequently been observed that L1 regularization causes many parameters to equal zero, so that the parameter vector is sparse. $\\lambda$ is the regularization parameter.\n",
    "    \n",
    "$$ $$\n",
    "[More about L1 regularization](./literature/lasso.pdf)    "
   ]
  },
  {
   "cell_type": "markdown",
   "metadata": {},
   "source": [
    "<font size=5 color=\"blue\">\n",
    "\n",
    "L2 regularization"
   ]
  },
  {
   "cell_type": "markdown",
   "metadata": {
    "ExecuteTime": {
     "end_time": "2020-03-30T13:12:56.281916Z",
     "start_time": "2020-03-30T13:12:56.277895Z"
    }
   },
   "source": [
    "<font size=4 color=\"black\">\n",
    "\n",
    "[L2 regularization](./literature/L2_1999.pdf)\n",
    "    \n",
    "<font size=5 color='black'>    \n",
    "$$   J = Error(y, F(x)) $$\n",
    "\n",
    "<font size=4 color='black'> \n",
    "L2 regularization, encourages the sum of the squares of the parameters (weights) to be small:\n",
    "$$ $$\n",
    "    \n",
    "<font size=5 color='black'>     \n",
    "$$   J = Error(y, F(x)) + \\lambda \\sum_{i = 1 }^{N}  \\omega_i{^2}  $$  "
   ]
  },
  {
   "cell_type": "markdown",
   "metadata": {},
   "source": [
    "<font size=4 color=\"black\">\n",
    "\n",
    "[L1 versus L2 regularization](./literature/Regularization_Ng_2004.pdf)"
   ]
  },
  {
   "cell_type": "markdown",
   "metadata": {},
   "source": [
    "<font size=5 color=\"blue\">\n",
    "Dropout   "
   ]
  },
  {
   "cell_type": "markdown",
   "metadata": {},
   "source": [
    "<font size=4 color=\"black\">\n",
    "    \n",
    "[Dropout](./literature/dropout_2014.pdf)\n",
    "    \n"
   ]
  },
  {
   "cell_type": "markdown",
   "metadata": {
    "ExecuteTime": {
     "end_time": "2020-03-30T19:39:59.411767Z",
     "start_time": "2020-03-30T19:39:59.406252Z"
    }
   },
   "source": [
    "<font size=4 color=\"black\">\n",
    "    \n",
    "This method prevents overfitting and provides a way of approximately combining exponentially many different neural network architectures efficiently. The term “dropout” refers to dropping out units (hidden and visible) in a neural network.\n",
    "    \n",
    "<img src=\"./images/dropout_image.jpeg\" width=600 height=600 align = \"midle\" >     \n",
    "    \n"
   ]
  },
  {
   "cell_type": "markdown",
   "metadata": {},
   "source": [
    "<font size=5 color=\"blue\">\n",
    "More regularization methods\n",
    "    \n",
    "<font size=4 color=\"black\">\n",
    "    \n",
    "[Example: early stopping](./literature/early_stopping_1998.pdf)    "
   ]
  },
  {
   "cell_type": "markdown",
   "metadata": {},
   "source": [
    "<font size=5 color='blue'>\n",
    "Object Recognition through images"
   ]
  },
  {
   "cell_type": "markdown",
   "metadata": {},
   "source": [
    "<font size=5 color='blue'>\n",
    "CIFAR-10 database"
   ]
  },
  {
   "cell_type": "markdown",
   "metadata": {},
   "source": [
    "<font size=4 color=\"black\">\n",
    "\n",
    "[80 million tiny images from internet](./literature/80millionImages.pdf)\n",
    "\n",
    "The CIFAR-10 and CIFAR-100 are labeled subsets of a 80 million tiny images dataset. They were collected by Alex Krizhevsky, Vinod Nair, and Geoffrey Hinton. \n"
   ]
  },
  {
   "cell_type": "markdown",
   "metadata": {},
   "source": [
    " <font size=4 color='black'>   \n",
    "\n",
    "The data base can be downloaded from the following URL: \n",
    "    \n",
    "[CIFAR-10 data download](https://www.cs.toronto.edu/~kriz/cifar.html)\n",
    "\n",
    "$$ $$\n",
    " The CIFAR-10 dataset consists of 60,000 32x32 colour images in 10 classes, with 6000 images per class. There are 50.000 training images and 10,000 test images.\n",
    "\n",
    "The ten classes are:\n",
    "\n",
    " \n",
    "| index | class name |\n",
    "| --- | --- |\n",
    "| 0 | airplane |\n",
    "| 1 | automobile | \t\t\t\t\t\t\t\t\t\t\n",
    "| 2 | bird |\t\t\t\t\t\t\t\t\t\t\n",
    "| 3 | cat |\t\t\t\t\t\t\t\t\t\t\n",
    "| 4 | deer |\t\t\t\t\t\t\t\t\t\t\n",
    "| 5 | dog |\t\t\t\t\t\t\t\t\t\t\n",
    "| 6 | frog |\t\t\t\t\t\t\t\t\t\t\n",
    "| 7 | horse |\t\t\t\t\t\t\t\t\t\t\n",
    "| 8 | ship |\t\t\t\t\t\t\t\t\t\t\n",
    "| 9 | truck|"
   ]
  },
  {
   "cell_type": "code",
   "execution_count": 1,
   "metadata": {
    "ExecuteTime": {
     "end_time": "2021-01-28T12:05:26.481916Z",
     "start_time": "2021-01-28T12:05:20.162516Z"
    }
   },
   "outputs": [],
   "source": [
    "import numpy as np\n",
    "\n",
    "import tensorflow as tf\n",
    "from tensorflow import keras\n",
    "from tensorflow.keras import layers\n",
    "from tensorflow.keras.layers import Input, Dense, Activation, Flatten\n",
    "from tensorflow.keras.layers import Dropout\n",
    "from tensorflow.keras.models import Model\n",
    "from tensorflow.keras.preprocessing import image\n",
    "from tensorflow.keras.applications.imagenet_utils import preprocess_input\n",
    "import pydot\n",
    "from IPython.display import SVG\n",
    "from tensorflow.keras.utils import plot_model\n",
    "from tensorflow.keras.optimizers import SGD\n",
    "\n",
    "import matplotlib.pyplot as plt\n",
    "from matplotlib.pyplot import imshow\n",
    "\n",
    "import pickle\n",
    "\n",
    "\n",
    "np.random.seed(1)\n",
    "\n",
    "%matplotlib inline"
   ]
  },
  {
   "cell_type": "markdown",
   "metadata": {},
   "source": [
    "<font size = 5 color=\"blue\">\n",
    "\n",
    "CIFAR-10 data is also available from Keras: \n",
    "    \n"
   ]
  },
  {
   "cell_type": "markdown",
   "metadata": {},
   "source": [
    "<font size = 4 color=\"black\">\n",
    "\n",
    "[CIFAR-10 Keras](https://keras.io/api/datasets/cifar10/)"
   ]
  },
  {
   "cell_type": "code",
   "execution_count": 2,
   "metadata": {
    "ExecuteTime": {
     "end_time": "2021-01-28T12:05:26.487369Z",
     "start_time": "2021-01-28T12:05:26.484179Z"
    }
   },
   "outputs": [],
   "source": [
    "from tensorflow.keras.datasets import cifar10"
   ]
  },
  {
   "cell_type": "code",
   "execution_count": 3,
   "metadata": {
    "ExecuteTime": {
     "end_time": "2021-01-28T12:05:28.041050Z",
     "start_time": "2021-01-28T12:05:26.489960Z"
    }
   },
   "outputs": [],
   "source": [
    "(x_train, y_train), (x_test, y_test) = cifar10.load_data()"
   ]
  },
  {
   "cell_type": "code",
   "execution_count": 4,
   "metadata": {
    "ExecuteTime": {
     "end_time": "2021-01-28T12:05:28.048964Z",
     "start_time": "2021-01-28T12:05:28.042822Z"
    }
   },
   "outputs": [
    {
     "name": "stdout",
     "output_type": "stream",
     "text": [
      "The type of x_train is <class 'numpy.ndarray'>\n",
      "The type of y_train is <class 'numpy.ndarray'>\n",
      "\n",
      "The type of x_test is <class 'numpy.ndarray'>\n",
      "The type of y_test is <class 'numpy.ndarray'>\n"
     ]
    }
   ],
   "source": [
    "print('The type of x_train is', type(x_train))\n",
    "print('The type of y_train is', type(y_train))\n",
    "\n",
    "print('\\nThe type of x_test is', type(x_test))\n",
    "print('The type of y_test is', type(y_test))"
   ]
  },
  {
   "cell_type": "code",
   "execution_count": 5,
   "metadata": {
    "ExecuteTime": {
     "end_time": "2021-01-28T12:05:28.097981Z",
     "start_time": "2021-01-28T12:05:28.050333Z"
    }
   },
   "outputs": [
    {
     "name": "stdout",
     "output_type": "stream",
     "text": [
      "The shape of x_train is (50000, 32, 32, 3)\n",
      "The shape of y_train is (50000, 1)\n",
      "\n",
      "The shape of x_test is (10000, 32, 32, 3)\n",
      "The shape of y_test is (10000, 1)\n"
     ]
    }
   ],
   "source": [
    "print('The shape of x_train is', x_train.shape)\n",
    "print('The shape of y_train is', y_train.shape)\n",
    "\n",
    "print('\\nThe shape of x_test is', x_test.shape)\n",
    "print('The shape of y_test is', y_test.shape)"
   ]
  },
  {
   "cell_type": "markdown",
   "metadata": {},
   "source": [
    "<font size=5 color=\"blue\">\n",
    "\n",
    "Analyzing the data extracted from CIFAR-10"
   ]
  },
  {
   "cell_type": "markdown",
   "metadata": {
    "ExecuteTime": {
     "end_time": "2020-03-24T20:18:56.606700Z",
     "start_time": "2020-03-24T20:18:56.598151Z"
    }
   },
   "source": [
    "<font size=5 color=\"blue\">\n",
    "    \n",
    "View a sample from the data sets"
   ]
  },
  {
   "cell_type": "markdown",
   "metadata": {},
   "source": [
    "<font size=4 color=\"black\">\n",
    "    \n",
    "The input for a sample of the data sets is an array, where each value is the value of a single pixel. "
   ]
  },
  {
   "cell_type": "code",
   "execution_count": 6,
   "metadata": {
    "ExecuteTime": {
     "end_time": "2021-01-28T12:05:28.182847Z",
     "start_time": "2021-01-28T12:05:28.099943Z"
    }
   },
   "outputs": [
    {
     "name": "stdout",
     "output_type": "stream",
     "text": [
      "The features of a training sample \n",
      " \n",
      " [[[ 59  62  63]\n",
      "  [ 43  46  45]\n",
      "  [ 50  48  43]\n",
      "  ...\n",
      "  [158 132 108]\n",
      "  [152 125 102]\n",
      "  [148 124 103]]\n",
      "\n",
      " [[ 16  20  20]\n",
      "  [  0   0   0]\n",
      "  [ 18   8   0]\n",
      "  ...\n",
      "  [123  88  55]\n",
      "  [119  83  50]\n",
      "  [122  87  57]]\n",
      "\n",
      " [[ 25  24  21]\n",
      "  [ 16   7   0]\n",
      "  [ 49  27   8]\n",
      "  ...\n",
      "  [118  84  50]\n",
      "  [120  84  50]\n",
      "  [109  73  42]]\n",
      "\n",
      " ...\n",
      "\n",
      " [[208 170  96]\n",
      "  [201 153  34]\n",
      "  [198 161  26]\n",
      "  ...\n",
      "  [160 133  70]\n",
      "  [ 56  31   7]\n",
      "  [ 53  34  20]]\n",
      "\n",
      " [[180 139  96]\n",
      "  [173 123  42]\n",
      "  [186 144  30]\n",
      "  ...\n",
      "  [184 148  94]\n",
      "  [ 97  62  34]\n",
      "  [ 83  53  34]]\n",
      "\n",
      " [[177 144 116]\n",
      "  [168 129  94]\n",
      "  [179 142  87]\n",
      "  ...\n",
      "  [216 184 140]\n",
      "  [151 118  84]\n",
      "  [123  92  72]]]\n"
     ]
    }
   ],
   "source": [
    "sample = 0\n",
    "print(\"The features of a training sample \\n \\n\", x_train[sample])"
   ]
  },
  {
   "cell_type": "markdown",
   "metadata": {},
   "source": [
    "<font size=4 color=\"black\">\n",
    "    \n",
    "Each value of X in the example is between 0 and 255, they are not normalized."
   ]
  },
  {
   "cell_type": "code",
   "execution_count": 7,
   "metadata": {
    "ExecuteTime": {
     "end_time": "2021-01-28T12:05:28.274965Z",
     "start_time": "2021-01-28T12:05:28.187875Z"
    }
   },
   "outputs": [],
   "source": [
    "# We define a dictionary to associate the class number to a class name.\n",
    "\n",
    "dic = {0: 'airplane', 1: 'automobile', 2: 'bird', 3: 'cat', 4: 'deer', \n",
    "       5: 'dog', 6: 'frog', 7:'horse', 8: 'ship', 9: 'truck'}"
   ]
  },
  {
   "cell_type": "markdown",
   "metadata": {},
   "source": [
    "<font size=5 color=\"blue\">\n",
    "    \n",
    "Showing the image and label(y) of any sample"
   ]
  },
  {
   "cell_type": "code",
   "execution_count": 8,
   "metadata": {
    "ExecuteTime": {
     "end_time": "2021-01-28T12:05:28.770488Z",
     "start_time": "2021-01-28T12:05:28.282045Z"
    }
   },
   "outputs": [
    {
     "name": "stdout",
     "output_type": "stream",
     "text": [
      "\n",
      "The y value of the first training sample is 6\n",
      "It correspons to a frog\n"
     ]
    },
    {
     "data": {
      "image/png": "[encoded data removed]",
      "text/plain": [
       "<Figure size 432x288 with 1 Axes>"
      ]
     },
     "metadata": {
      "needs_background": "light"
     },
     "output_type": "display_data"
    }
   ],
   "source": [
    "plt.imshow(x_train[sample]);\n",
    "\n",
    "print(\"\\nThe y value of the first training sample is\",np.squeeze(y_train[sample]))\n",
    "print(\"It correspons to a\", dic[int(np.squeeze(y_train[sample]))])"
   ]
  },
  {
   "cell_type": "markdown",
   "metadata": {},
   "source": [
    "<font size=5 color=\"blue\">\n",
    "\n",
    "Features (X values) normalization"
   ]
  },
  {
   "cell_type": "markdown",
   "metadata": {},
   "source": [
    "\n",
    "<font size=4 color=\"black\">\n",
    "To normalize x values, we divide them by 255"
   ]
  },
  {
   "cell_type": "code",
   "execution_count": 9,
   "metadata": {
    "ExecuteTime": {
     "end_time": "2021-01-28T12:05:29.497371Z",
     "start_time": "2021-01-28T12:05:28.772455Z"
    }
   },
   "outputs": [],
   "source": [
    "train_x = x_train/255\n",
    "test_x = x_test/255"
   ]
  },
  {
   "cell_type": "markdown",
   "metadata": {},
   "source": [
    "<font size=4 color=\"black\">    \n",
    "\n",
    "Now the pixel values are between 0 and 1."
   ]
  },
  {
   "cell_type": "code",
   "execution_count": 10,
   "metadata": {
    "ExecuteTime": {
     "end_time": "2021-01-28T12:05:29.506208Z",
     "start_time": "2021-01-28T12:05:29.498725Z"
    }
   },
   "outputs": [
    {
     "data": {
      "text/plain": [
       "array([[[0.23137255, 0.24313725, 0.24705882],\n",
       "        [0.16862745, 0.18039216, 0.17647059],\n",
       "        [0.19607843, 0.18823529, 0.16862745],\n",
       "        ...,\n",
       "        [0.61960784, 0.51764706, 0.42352941],\n",
       "        [0.59607843, 0.49019608, 0.4       ],\n",
       "        [0.58039216, 0.48627451, 0.40392157]],\n",
       "\n",
       "       [[0.0627451 , 0.07843137, 0.07843137],\n",
       "        [0.        , 0.        , 0.        ],\n",
       "        [0.07058824, 0.03137255, 0.        ],\n",
       "        ...,\n",
       "        [0.48235294, 0.34509804, 0.21568627],\n",
       "        [0.46666667, 0.3254902 , 0.19607843],\n",
       "        [0.47843137, 0.34117647, 0.22352941]],\n",
       "\n",
       "       [[0.09803922, 0.09411765, 0.08235294],\n",
       "        [0.0627451 , 0.02745098, 0.        ],\n",
       "        [0.19215686, 0.10588235, 0.03137255],\n",
       "        ...,\n",
       "        [0.4627451 , 0.32941176, 0.19607843],\n",
       "        [0.47058824, 0.32941176, 0.19607843],\n",
       "        [0.42745098, 0.28627451, 0.16470588]],\n",
       "\n",
       "       ...,\n",
       "\n",
       "       [[0.81568627, 0.66666667, 0.37647059],\n",
       "        [0.78823529, 0.6       , 0.13333333],\n",
       "        [0.77647059, 0.63137255, 0.10196078],\n",
       "        ...,\n",
       "        [0.62745098, 0.52156863, 0.2745098 ],\n",
       "        [0.21960784, 0.12156863, 0.02745098],\n",
       "        [0.20784314, 0.13333333, 0.07843137]],\n",
       "\n",
       "       [[0.70588235, 0.54509804, 0.37647059],\n",
       "        [0.67843137, 0.48235294, 0.16470588],\n",
       "        [0.72941176, 0.56470588, 0.11764706],\n",
       "        ...,\n",
       "        [0.72156863, 0.58039216, 0.36862745],\n",
       "        [0.38039216, 0.24313725, 0.13333333],\n",
       "        [0.3254902 , 0.20784314, 0.13333333]],\n",
       "\n",
       "       [[0.69411765, 0.56470588, 0.45490196],\n",
       "        [0.65882353, 0.50588235, 0.36862745],\n",
       "        [0.70196078, 0.55686275, 0.34117647],\n",
       "        ...,\n",
       "        [0.84705882, 0.72156863, 0.54901961],\n",
       "        [0.59215686, 0.4627451 , 0.32941176],\n",
       "        [0.48235294, 0.36078431, 0.28235294]]])"
      ]
     },
     "execution_count": 10,
     "metadata": {},
     "output_type": "execute_result"
    }
   ],
   "source": [
    "train_x[sample]"
   ]
  },
  {
   "cell_type": "code",
   "execution_count": 11,
   "metadata": {
    "ExecuteTime": {
     "end_time": "2021-01-28T12:05:29.663886Z",
     "start_time": "2021-01-28T12:05:29.508215Z"
    }
   },
   "outputs": [
    {
     "data": {
      "text/plain": [
       "<matplotlib.image.AxesImage at 0x7f0ebb4866a0>"
      ]
     },
     "execution_count": 11,
     "metadata": {},
     "output_type": "execute_result"
    },
    {
     "data": {
      "image/png": "[encoded data removed]",
      "text/plain": [
       "<Figure size 432x288 with 1 Axes>"
      ]
     },
     "metadata": {
      "needs_background": "light"
     },
     "output_type": "display_data"
    }
   ],
   "source": [
    "plt.imshow(train_x[sample])"
   ]
  },
  {
   "cell_type": "code",
   "execution_count": 12,
   "metadata": {
    "ExecuteTime": {
     "end_time": "2021-01-28T12:05:29.669831Z",
     "start_time": "2021-01-28T12:05:29.666030Z"
    }
   },
   "outputs": [
    {
     "data": {
      "text/plain": [
       "array([[6],\n",
       "       [9],\n",
       "       [9],\n",
       "       ...,\n",
       "       [9],\n",
       "       [1],\n",
       "       [1]], dtype=uint8)"
      ]
     },
     "execution_count": 12,
     "metadata": {},
     "output_type": "execute_result"
    }
   ],
   "source": [
    "y_train"
   ]
  },
  {
   "cell_type": "markdown",
   "metadata": {},
   "source": [
    "<font size=5 color='blue'>\n",
    "One-hot encoding of target variable (y)"
   ]
  },
  {
   "cell_type": "markdown",
   "metadata": {},
   "source": [
    "<font size=4 color='black'>\n",
    "The target value can have one of ten elements (classes), the digits (0, 1, 2, 3, 4, 5, 6, 7, 8, 9). \n",
    "\n",
    "The sets train_y and test_y are arrays in which each entry contains a digit represented as a integer of 64 bits.\n",
    "    \n",
    "We change this representation to a vector following the One-hot encoding \n",
    "[One-hot encoding](https://en.wikipedia.org/wiki/One-hot).\n",
    "    \n",
    "In One-Hot encoding, a digit is represented with a vector that has dimension 10 (because we have 10 classes) with 1.0 in the vector index corresponding to the digit and 0.0 elsewhere in the vector. \n"
   ]
  },
  {
   "cell_type": "code",
   "execution_count": 13,
   "metadata": {
    "ExecuteTime": {
     "end_time": "2021-01-28T12:05:29.688134Z",
     "start_time": "2021-01-28T12:05:29.671816Z"
    }
   },
   "outputs": [
    {
     "data": {
      "text/plain": [
       "(50000, 1)"
      ]
     },
     "execution_count": 13,
     "metadata": {},
     "output_type": "execute_result"
    }
   ],
   "source": [
    "y_train.shape"
   ]
  },
  {
   "cell_type": "code",
   "execution_count": 14,
   "metadata": {
    "ExecuteTime": {
     "end_time": "2021-01-28T12:05:29.703632Z",
     "start_time": "2021-01-28T12:05:29.689533Z"
    }
   },
   "outputs": [
    {
     "data": {
      "text/plain": [
       "(50000,)"
      ]
     },
     "execution_count": 14,
     "metadata": {},
     "output_type": "execute_result"
    }
   ],
   "source": [
    "y_train.reshape(-1).shape"
   ]
  },
  {
   "cell_type": "code",
   "execution_count": 15,
   "metadata": {
    "ExecuteTime": {
     "end_time": "2021-01-28T12:05:29.719303Z",
     "start_time": "2021-01-28T12:05:29.704733Z"
    }
   },
   "outputs": [],
   "source": [
    "train_y = np.eye(10)[y_train.reshape(-1)]\n",
    "test_y = np.eye(10)[y_test.reshape(-1)]"
   ]
  },
  {
   "cell_type": "code",
   "execution_count": 16,
   "metadata": {
    "ExecuteTime": {
     "end_time": "2021-01-28T12:05:29.728703Z",
     "start_time": "2021-01-28T12:05:29.720711Z"
    }
   },
   "outputs": [
    {
     "name": "stdout",
     "output_type": "stream",
     "text": [
      "[[6]\n",
      " [9]\n",
      " [9]\n",
      " [4]\n",
      " [1]]\n"
     ]
    }
   ],
   "source": [
    "print(y_train[0:5])"
   ]
  },
  {
   "cell_type": "code",
   "execution_count": 17,
   "metadata": {
    "ExecuteTime": {
     "end_time": "2021-01-28T12:05:29.745906Z",
     "start_time": "2021-01-28T12:05:29.730644Z"
    }
   },
   "outputs": [
    {
     "data": {
      "text/plain": [
       "array([[0., 0., 0., 0., 0., 0., 1., 0., 0., 0.],\n",
       "       [0., 0., 0., 0., 0., 0., 0., 0., 0., 1.],\n",
       "       [0., 0., 0., 0., 0., 0., 0., 0., 0., 1.],\n",
       "       [0., 0., 0., 0., 1., 0., 0., 0., 0., 0.],\n",
       "       [0., 1., 0., 0., 0., 0., 0., 0., 0., 0.]])"
      ]
     },
     "execution_count": 17,
     "metadata": {},
     "output_type": "execute_result"
    }
   ],
   "source": [
    "train_y[0:5]"
   ]
  },
  {
   "cell_type": "markdown",
   "metadata": {
    "ExecuteTime": {
     "end_time": "2020-11-23T17:58:01.255256Z",
     "start_time": "2020-11-23T17:58:01.245993Z"
    }
   },
   "source": [
    "<font size=5 color=\"blue\">\n",
    "    \n",
    "Viewing one sample from the data set."
   ]
  },
  {
   "cell_type": "code",
   "execution_count": 18,
   "metadata": {
    "ExecuteTime": {
     "end_time": "2021-01-28T12:05:29.874059Z",
     "start_time": "2021-01-28T12:05:29.748017Z"
    }
   },
   "outputs": [
    {
     "name": "stdout",
     "output_type": "stream",
     "text": [
      "The sample 9 corresponds to a cat\n",
      "Its one-hot representation is = [0. 0. 0. 1. 0. 0. 0. 0. 0. 0.]\n"
     ]
    },
    {
     "data": {
      "image/png": "[encoded data removed]",
      "text/plain": [
       "<Figure size 432x288 with 1 Axes>"
      ]
     },
     "metadata": {
      "needs_background": "light"
     },
     "output_type": "display_data"
    }
   ],
   "source": [
    "sample = 9\n",
    "\n",
    "plt.imshow(train_x[sample]);\n",
    "\n",
    "print('The sample', sample, 'corresponds to a', dic[int(np.argmax(train_y[sample]))])\n",
    "print(\"Its one-hot representation is =\", train_y[sample])"
   ]
  },
  {
   "cell_type": "markdown",
   "metadata": {},
   "source": [
    "<font size=4 color=\"black\">\n",
    "    \n",
    "In summary, the training and test sample sets have the following dimensions:"
   ]
  },
  {
   "cell_type": "code",
   "execution_count": 19,
   "metadata": {
    "ExecuteTime": {
     "end_time": "2021-01-28T12:05:29.881332Z",
     "start_time": "2021-01-28T12:05:29.876125Z"
    }
   },
   "outputs": [
    {
     "name": "stdout",
     "output_type": "stream",
     "text": [
      "number of training examples = 50000\n",
      "number of test examples = 10000\n",
      "X_train shape: (50000, 32, 32, 3)\n",
      "Y_train shape: (50000, 10)\n",
      "X_test shape: (10000, 32, 32, 3)\n",
      "Y_test shape: (10000, 10)\n"
     ]
    }
   ],
   "source": [
    "print (\"number of training examples = \" + str(train_x.shape[0]))\n",
    "print (\"number of test examples = \" + str(test_x.shape[0]))\n",
    "print (\"X_train shape: \" + str(train_x.shape))\n",
    "print (\"Y_train shape: \" + str(train_y.shape))\n",
    "print (\"X_test shape: \" + str(test_x.shape))\n",
    "print (\"Y_test shape: \" + str(test_y.shape))"
   ]
  },
  {
   "cell_type": "markdown",
   "metadata": {},
   "source": [
    "<font size=5 color=\"blue\">\n",
    "\n",
    "Building the Learning System"
   ]
  },
  {
   "cell_type": "markdown",
   "metadata": {
    "ExecuteTime": {
     "end_time": "2020-11-23T18:05:49.800018Z",
     "start_time": "2020-11-23T18:05:49.790932Z"
    }
   },
   "source": [
    "<font size=5 color='blue'>\n",
    "\n",
    "Definition of the neural network architecture"
   ]
  },
  {
   "cell_type": "markdown",
   "metadata": {},
   "source": [
    "<font size=5 color='black'> \n",
    "    \n",
    "Keras has two different modes to define the architecture:\n",
    "\n",
    "<font size=4 color='black'> \n",
    "    \n",
    "1.- The sequential model. It is a sequential stack of layers.\n",
    "    \n",
    "2.- The functional API. It is the way to go for defining complex models, such as multi-output models, directed acyclic graphs, or models with shared layers.  \n",
    "\n",
    "In the present case, we will use the latter mode to build the network architecture.\n",
    "    \n",
    "Documentation: [Keras Functional API](https://keras.io/getting-started/functional-api-guide/)"
   ]
  },
  {
   "cell_type": "code",
   "execution_count": 20,
   "metadata": {
    "ExecuteTime": {
     "end_time": "2021-01-28T12:05:29.913738Z",
     "start_time": "2021-01-28T12:05:29.882833Z"
    }
   },
   "outputs": [],
   "source": [
    "def architecture(input_shape, num_classes, dropout=False):\n",
    "    \n",
    "    # Defining the input as a tensor with shape input_shape. \n",
    "    InputLayer = Input(input_shape)\n",
    "    \n",
    "    # Flattening the input tensor of dimensions (32, 32, 3) to a tensor of dimensions (3072)\n",
    "    x = Flatten()(InputLayer)\n",
    "    if dropout == True:\n",
    "        x = Dropout(0.0)(x)\n",
    "    \n",
    "    # Defining the first hidden layer with 50 nodes and sigmoid as activation function\n",
    "    x = Dense(50, kernel_initializer='random_uniform', bias_initializer='zeros', name='hl_1')(x)\n",
    "    x = Activation('sigmoid')(x)\n",
    "    if dropout == True:\n",
    "        x = Dropout(0.0)(x)\n",
    "\n",
    "    # Defining the second hidden layer with 50 nodes and sigmoid as activation function\n",
    "    x = Dense(50, kernel_initializer='random_uniform', bias_initializer='zeros', name='hl_2')(x)\n",
    "    x = Activation('sigmoid')(x)\n",
    "    if dropout == True:\n",
    "        x = Dropout(0.0)(x)\n",
    "    \n",
    "    \n",
    "    # For the output layer we use the activation function 'softmax')\n",
    "    x = Dense(num_classes, kernel_initializer='random_uniform', bias_initializer='zeros')(x)\n",
    "    OutputLayer = Activation('softmax', name='output-layer')(x)\n",
    "    \n",
    "    # This creates the Keras model instance, you'll use this instance to train/test the model.\n",
    "    model = Model(inputs = InputLayer, outputs = OutputLayer, name='Cifar10Model')\n",
    "\n",
    "    return model"
   ]
  },
  {
   "attachments": {
    "image.png": {
     "image/png": "[encoded data removed]"
    }
   },
   "cell_type": "markdown",
   "metadata": {},
   "source": [
    "<font size=4 color='black'>    \n",
    "The softmax activation function is always used for classification when the number (K) of classes is greater than two: \n",
    "\n",
    "![image.png](attachment:image.png)    "
   ]
  },
  {
   "cell_type": "markdown",
   "metadata": {
    "ExecuteTime": {
     "end_time": "2020-03-24T18:29:47.071906Z",
     "start_time": "2020-03-24T18:29:47.067719Z"
    }
   },
   "source": [
    "<font size=5 color=\"blue\">\n",
    "\n",
    "Building the neural network model for the learning system"
   ]
  },
  {
   "cell_type": "code",
   "execution_count": 21,
   "metadata": {
    "ExecuteTime": {
     "end_time": "2021-01-28T12:05:30.049214Z",
     "start_time": "2021-01-28T12:05:29.918228Z"
    }
   },
   "outputs": [],
   "source": [
    "one_image = (32, 32, 3)\n",
    "num_classes=10\n",
    "dropout=True\n",
    "\n",
    "cifar10_model = architecture(one_image,num_classes,dropout)"
   ]
  },
  {
   "cell_type": "markdown",
   "metadata": {
    "ExecuteTime": {
     "end_time": "2020-03-24T00:03:50.539765Z",
     "start_time": "2020-03-24T00:03:50.534266Z"
    }
   },
   "source": [
    "<font size=5 color=\"blue\">\n",
    "    \n",
    "Graph of the model and summary"
   ]
  },
  {
   "cell_type": "markdown",
   "metadata": {},
   "source": [
    "<font size=4 color='black'> \n",
    "The 'plot_model()' function generates a graphic with the layers and their number of input ands output weights.\n",
    "$$ $$\n",
    "Documentation: [Model visualization](https://keras.io/visualization/#training-history-visualization)"
   ]
  },
  {
   "cell_type": "code",
   "execution_count": 22,
   "metadata": {
    "ExecuteTime": {
     "end_time": "2021-01-28T12:05:30.332866Z",
     "start_time": "2021-01-28T12:05:30.050947Z"
    }
   },
   "outputs": [
    {
     "data": {
      "image/png": "[encoded data removed]",
      "text/plain": [
       "<IPython.core.display.Image object>"
      ]
     },
     "execution_count": 22,
     "metadata": {},
     "output_type": "execute_result"
    }
   ],
   "source": [
    "plot_model(cifar10_model, to_file='cifar10_blocks.png', show_shapes=False, rankdir='LR',show_layer_names=False)"
   ]
  },
  {
   "cell_type": "code",
   "execution_count": 23,
   "metadata": {
    "ExecuteTime": {
     "end_time": "2021-01-28T12:05:30.484527Z",
     "start_time": "2021-01-28T12:05:30.336445Z"
    }
   },
   "outputs": [
    {
     "data": {
      "image/png": "[encoded data removed]",
      "text/plain": [
       "<IPython.core.display.Image object>"
      ]
     },
     "execution_count": 23,
     "metadata": {},
     "output_type": "execute_result"
    }
   ],
   "source": [
    "plot_model(cifar10_model, to_file='cifar10_model.png', show_shapes=True, rankdir='TB', show_layer_names=True)"
   ]
  },
  {
   "cell_type": "code",
   "execution_count": 24,
   "metadata": {
    "ExecuteTime": {
     "end_time": "2021-01-28T12:05:30.493424Z",
     "start_time": "2021-01-28T12:05:30.487401Z"
    }
   },
   "outputs": [
    {
     "name": "stdout",
     "output_type": "stream",
     "text": [
      "Model: \"Cifar10Model\"\n",
      "_________________________________________________________________\n",
      "Layer (type)                 Output Shape              Param #   \n",
      "=================================================================\n",
      "input_1 (InputLayer)         [(None, 32, 32, 3)]       0         \n",
      "_________________________________________________________________\n",
      "flatten (Flatten)            (None, 3072)              0         \n",
      "_________________________________________________________________\n",
      "dropout (Dropout)            (None, 3072)              0         \n",
      "_________________________________________________________________\n",
      "hl_1 (Dense)                 (None, 50)                153650    \n",
      "_________________________________________________________________\n",
      "activation (Activation)      (None, 50)                0         \n",
      "_________________________________________________________________\n",
      "dropout_1 (Dropout)          (None, 50)                0         \n",
      "_________________________________________________________________\n",
      "hl_2 (Dense)                 (None, 50)                2550      \n",
      "_________________________________________________________________\n",
      "activation_1 (Activation)    (None, 50)                0         \n",
      "_________________________________________________________________\n",
      "dropout_2 (Dropout)          (None, 50)                0         \n",
      "_________________________________________________________________\n",
      "dense (Dense)                (None, 10)                510       \n",
      "_________________________________________________________________\n",
      "output-layer (Activation)    (None, 10)                0         \n",
      "=================================================================\n",
      "Total params: 156,710\n",
      "Trainable params: 156,710\n",
      "Non-trainable params: 0\n",
      "_________________________________________________________________\n"
     ]
    }
   ],
   "source": [
    "\n",
    "cifar10_model.summary()"
   ]
  },
  {
   "cell_type": "markdown",
   "metadata": {},
   "source": [
    "<font size=5 color='blue'>\n",
    "Optimization method"
   ]
  },
  {
   "cell_type": "markdown",
   "metadata": {},
   "source": [
    "<font size=3 color=\"black\">\n",
    "This requires defining the optimization algorithm, loss function and metric.\n",
    "    \n",
    "In the present case we are using the Stochastic Gradient descent algorithm with learning rate \"lr\", \"momentum\",  and without Nesterov acceleration\".\n",
    "\n",
    "\n",
    "[An overview of gradient descent optimization algorithms](./literature/SGD_overview_2016-17.pdf)\n",
    "\n",
    "This post also comments on some other optimization variants of this algorithm; Adagrad, Adadelta, RMStrop and Adam."
   ]
  },
  {
   "cell_type": "markdown",
   "metadata": {},
   "source": [
    "<font size=5 color='blue'>\n",
    "Optimizer"
   ]
  },
  {
   "cell_type": "markdown",
   "metadata": {
    "ExecuteTime": {
     "end_time": "2020-11-24T00:09:25.688121Z",
     "start_time": "2020-11-24T00:09:25.680769Z"
    }
   },
   "source": [
    "<font size=5 color='blue'>\n",
    "Mini-batch stocastic gradient descent(SGD) method.  "
   ]
  },
  {
   "cell_type": "markdown",
   "metadata": {},
   "source": [
    "<font size=4 color='black'> \n",
    "The training samples are divided into mini-batches that have the size batch_size (B). Updates of weights and biases are based on an average of the gradient within each block of B samples. \n",
    "    \n",
    "$$ \\omega^{(t)} := \\omega^{(t-1)} - \\alpha \\dfrac{1}{B} \\sum_{t^1=Bt +1}^{B(t+1)}\\dfrac{\\partial J(x^{(t^1)},y^{(t^1)},\\omega, b)}{\\partial \\omega}$$\n",
    "\n",
    "$$ b^{(t)} := b^{(t-1)} - \\alpha \\dfrac{1}{B} \\sum_{t^1=Bt +1}^{B(t+1)}\\dfrac{\\partial J(x^{(t^1)},y^{(t^1)},\\omega, b)}{\\partial b}$$\n",
    "\n",
    "$ \\alpha $ represents the learning rate and *t* represents an iteration. \n",
    "    \n",
    "This method is specially useful for large sets of training data.\n",
    "    \n",
    "[Gradient-Based Training](./literature/Practical_rec_DL_Bengio_2012.pdf)"
   ]
  },
  {
   "cell_type": "code",
   "execution_count": 25,
   "metadata": {
    "ExecuteTime": {
     "end_time": "2021-01-28T12:05:30.525013Z",
     "start_time": "2021-01-28T12:05:30.494609Z"
    }
   },
   "outputs": [],
   "source": [
    "learning_rate = 0.01\n",
    "\n",
    "optimizer = keras.optimizers.SGD(learning_rate=learning_rate, momentum=0.0, nesterov=False)"
   ]
  },
  {
   "cell_type": "markdown",
   "metadata": {},
   "source": [
    "<font size=5 color='blue'>\n",
    "The cost (loss) and Metric functions"
   ]
  },
  {
   "cell_type": "markdown",
   "metadata": {},
   "source": [
    "<font size=4 color=\"black\">\n",
    "    \n",
    "The cost function *J* is defined as \"categorical_crossentropy\"\n",
    "    \n",
    "$$ J = \\frac{1}{m} \\sum_{i=1}^m \\sum_{k=0}^{K-1}(y_k^{(i)}*\\log{(F_k(x^{(i)})))}$$\n",
    "    \n",
    " where $F_k(x^{(i)})$ is the predicted value and $y_k^{(i)}$ is the target value for the sample *i*; *K* is the number of classes and *m* is the number of samples.\n",
    "    \n",
    "[Cross entropy](https://en.wikipedia.org/wiki/Cross_entropy)\n",
    "    \n",
    "[Categorical cross entropy](https://www.deeplearningbook.org/)\n",
    "    \n",
    "\n",
    "A metric function is similar to a loss function, except that the results from evaluating a metric are not used when training the model. You may use any of the loss functions as a metric function. In the present example, we are using \"accuracy\" as metrics:\n",
    "    \n",
    "*Accuracy = Number of correct predictions / Total number of predictions made*\n",
    "    \n",
    "\n",
    "Categorical crossentropy will compare the distribution of the predictions (the activations in the output layer, one for each class) with the true distribution, where the probability of the true class is set to 1, and 0 for the other classes.\n",
    "\n",
    "To put it in a different way, the true class is represented as an encoded vector, and the closer the model’s outputs are to that vector, the lower the loss.\n",
    "    \n",
    "Documentation: [keras.compile(...)](https://keras.io/models/model/#compile)"
   ]
  },
  {
   "cell_type": "code",
   "execution_count": 26,
   "metadata": {
    "ExecuteTime": {
     "end_time": "2021-01-28T12:05:30.528828Z",
     "start_time": "2021-01-28T12:05:30.526265Z"
    }
   },
   "outputs": [],
   "source": [
    "loss_function = 'categorical_crossentropy'\n",
    "metric_function = 'accuracy'"
   ]
  },
  {
   "cell_type": "markdown",
   "metadata": {
    "ExecuteTime": {
     "end_time": "2020-11-23T19:12:50.153175Z",
     "start_time": "2020-11-23T19:12:50.148215Z"
    }
   },
   "source": [
    "<font size=5 color='blue'>\n",
    "Compiling the model"
   ]
  },
  {
   "cell_type": "code",
   "execution_count": 27,
   "metadata": {
    "ExecuteTime": {
     "end_time": "2021-01-28T12:05:30.608061Z",
     "start_time": "2021-01-28T12:05:30.530475Z"
    }
   },
   "outputs": [],
   "source": [
    "cifar10_model.compile(optimizer = optimizer, loss = loss_function, metrics = [metric_function])"
   ]
  },
  {
   "cell_type": "markdown",
   "metadata": {},
   "source": [
    "<font size=5 color='blue'>\n",
    "    \n",
    "Training the learning system"
   ]
  },
  {
   "cell_type": "markdown",
   "metadata": {},
   "source": [
    "<font size=5 color='blue'>\n",
    "    \n",
    "Shuffle"
   ]
  },
  {
   "cell_type": "markdown",
   "metadata": {
    "ExecuteTime": {
     "end_time": "2020-11-23T21:49:35.336666Z",
     "start_time": "2020-11-23T21:49:35.331145Z"
    }
   },
   "source": [
    "<font size=4 color='black'>\n",
    "\n",
    "Shuffling the training data before each epoch has a large effect on the loss associated with the test samples. Shuffling the training data, the samples for each mini-batch change with the epoch.\n",
    "    \n",
    "To speed up the convergence of weights and biases, it is also possible to fix the samples associated with each mini-batch. Then, the mini-batches will be called randomly in each epoch.  \n",
    "    \n",
    "[An overview of gradient descent optimization algorithms](./literature/SGD_overview_2016-17.pdf)"
   ]
  },
  {
   "cell_type": "markdown",
   "metadata": {},
   "source": [
    "<font size=4 color=\"black\">\n",
    "    \n",
    "Documentation: [keras.fit(...)](https://keras.io/models/model/#fit)"
   ]
  },
  {
   "cell_type": "code",
   "execution_count": 28,
   "metadata": {
    "ExecuteTime": {
     "start_time": "2021-01-28T12:05:20.282Z"
    },
    "scrolled": false
   },
   "outputs": [
    {
     "name": "stdout",
     "output_type": "stream",
     "text": [
      "Epoch 1/100\n",
      "1407/1407 [==============================] - 2s 1ms/step - loss: 2.3040 - accuracy: 0.1009 - val_loss: 2.3037 - val_accuracy: 0.0968\n",
      "Epoch 2/100\n",
      "1407/1407 [==============================] - 2s 1ms/step - loss: 2.3035 - accuracy: 0.0981 - val_loss: 2.3036 - val_accuracy: 0.0950\n",
      "Epoch 3/100\n",
      "1407/1407 [==============================] - 2s 1ms/step - loss: 2.3031 - accuracy: 0.1053 - val_loss: 2.3020 - val_accuracy: 0.1064\n",
      "Epoch 4/100\n",
      "1407/1407 [==============================] - 2s 1ms/step - loss: 2.3027 - accuracy: 0.1035 - val_loss: 2.3014 - val_accuracy: 0.1038\n",
      "Epoch 5/100\n",
      "1407/1407 [==============================] - 2s 1ms/step - loss: 2.3024 - accuracy: 0.1042 - val_loss: 2.3024 - val_accuracy: 0.0958\n",
      "Epoch 6/100\n",
      "1407/1407 [==============================] - 2s 1ms/step - loss: 2.3012 - accuracy: 0.1090 - val_loss: 2.2990 - val_accuracy: 0.1058\n",
      "Epoch 7/100\n",
      "1407/1407 [==============================] - 2s 1ms/step - loss: 2.2990 - accuracy: 0.1126 - val_loss: 2.2946 - val_accuracy: 0.1296\n",
      "Epoch 8/100\n",
      "1407/1407 [==============================] - 2s 1ms/step - loss: 2.2931 - accuracy: 0.1369 - val_loss: 2.2815 - val_accuracy: 0.1408\n",
      "Epoch 9/100\n",
      "1407/1407 [==============================] - 2s 1ms/step - loss: 2.2752 - accuracy: 0.1530 - val_loss: 2.2378 - val_accuracy: 0.1682\n",
      "Epoch 10/100\n",
      "1407/1407 [==============================] - 2s 1ms/step - loss: 2.2194 - accuracy: 0.1639 - val_loss: 2.1575 - val_accuracy: 0.1754\n",
      "Epoch 11/100\n",
      "1407/1407 [==============================] - 2s 1ms/step - loss: 2.1415 - accuracy: 0.1722 - val_loss: 2.1054 - val_accuracy: 0.1836\n",
      "Epoch 12/100\n",
      "1407/1407 [==============================] - 2s 1ms/step - loss: 2.0932 - accuracy: 0.1808 - val_loss: 2.0785 - val_accuracy: 0.1866\n",
      "Epoch 13/100\n",
      "1407/1407 [==============================] - 2s 1ms/step - loss: 2.0738 - accuracy: 0.1842 - val_loss: 2.0656 - val_accuracy: 0.1948\n",
      "Epoch 14/100\n",
      "1407/1407 [==============================] - 2s 1ms/step - loss: 2.0639 - accuracy: 0.1899 - val_loss: 2.0630 - val_accuracy: 0.1858\n",
      "Epoch 15/100\n",
      "1407/1407 [==============================] - 2s 1ms/step - loss: 2.0566 - accuracy: 0.1925 - val_loss: 2.0567 - val_accuracy: 0.1896\n",
      "Epoch 16/100\n",
      "1407/1407 [==============================] - 2s 1ms/step - loss: 2.0514 - accuracy: 0.1945 - val_loss: 2.0495 - val_accuracy: 0.2084\n",
      "Epoch 17/100\n",
      "1407/1407 [==============================] - 2s 1ms/step - loss: 2.0505 - accuracy: 0.1924 - val_loss: 2.0473 - val_accuracy: 0.1878\n",
      "Epoch 18/100\n",
      "1407/1407 [==============================] - 2s 1ms/step - loss: 2.0427 - accuracy: 0.2001 - val_loss: 2.0528 - val_accuracy: 0.1932\n",
      "Epoch 19/100\n",
      "1407/1407 [==============================] - 2s 1ms/step - loss: 2.0375 - accuracy: 0.1989 - val_loss: 2.0364 - val_accuracy: 0.2028\n",
      "Epoch 20/100\n",
      "1407/1407 [==============================] - 2s 1ms/step - loss: 2.0333 - accuracy: 0.2078 - val_loss: 2.0358 - val_accuracy: 0.1970\n",
      "Epoch 21/100\n",
      "1407/1407 [==============================] - 2s 1ms/step - loss: 2.0362 - accuracy: 0.2080 - val_loss: 2.0264 - val_accuracy: 0.1996\n",
      "Epoch 22/100\n",
      "1407/1407 [==============================] - 2s 1ms/step - loss: 2.0241 - accuracy: 0.2178 - val_loss: 2.0241 - val_accuracy: 0.2250\n",
      "Epoch 23/100\n",
      "1407/1407 [==============================] - 2s 1ms/step - loss: 2.0134 - accuracy: 0.2301 - val_loss: 2.0082 - val_accuracy: 0.2204\n",
      "Epoch 24/100\n",
      "1407/1407 [==============================] - 2s 1ms/step - loss: 2.0035 - accuracy: 0.2404 - val_loss: 1.9956 - val_accuracy: 0.2586\n",
      "Epoch 25/100\n",
      "1407/1407 [==============================] - 2s 1ms/step - loss: 1.9775 - accuracy: 0.2599 - val_loss: 1.9707 - val_accuracy: 0.2654\n",
      "Epoch 26/100\n",
      "1407/1407 [==============================] - 2s 1ms/step - loss: 1.9622 - accuracy: 0.2738 - val_loss: 1.9508 - val_accuracy: 0.2696\n",
      "Epoch 27/100\n",
      "1407/1407 [==============================] - 2s 1ms/step - loss: 1.9369 - accuracy: 0.2844 - val_loss: 1.9329 - val_accuracy: 0.2766\n",
      "Epoch 28/100\n",
      "1407/1407 [==============================] - 2s 1ms/step - loss: 1.9142 - accuracy: 0.2939 - val_loss: 1.9183 - val_accuracy: 0.2848\n",
      "Epoch 29/100\n",
      "1407/1407 [==============================] - 2s 1ms/step - loss: 1.8996 - accuracy: 0.2997 - val_loss: 1.9031 - val_accuracy: 0.2918\n",
      "Epoch 30/100\n",
      "1407/1407 [==============================] - 2s 1ms/step - loss: 1.8942 - accuracy: 0.3051 - val_loss: 1.8996 - val_accuracy: 0.2970\n",
      "Epoch 31/100\n",
      "1407/1407 [==============================] - 2s 1ms/step - loss: 1.8702 - accuracy: 0.3136 - val_loss: 1.8825 - val_accuracy: 0.3124\n",
      "Epoch 32/100\n",
      "1407/1407 [==============================] - 2s 1ms/step - loss: 1.8676 - accuracy: 0.3176 - val_loss: 1.8738 - val_accuracy: 0.3192\n",
      "Epoch 33/100\n",
      "1407/1407 [==============================] - 2s 1ms/step - loss: 1.8628 - accuracy: 0.3207 - val_loss: 1.8694 - val_accuracy: 0.3160\n",
      "Epoch 34/100\n",
      "1407/1407 [==============================] - 2s 1ms/step - loss: 1.8459 - accuracy: 0.3266 - val_loss: 1.8572 - val_accuracy: 0.3234\n",
      "Epoch 35/100\n",
      "1407/1407 [==============================] - 2s 1ms/step - loss: 1.8352 - accuracy: 0.3323 - val_loss: 1.8492 - val_accuracy: 0.3284\n",
      "Epoch 36/100\n",
      "1407/1407 [==============================] - 2s 1ms/step - loss: 1.8335 - accuracy: 0.3345 - val_loss: 1.8459 - val_accuracy: 0.3254\n",
      "Epoch 37/100\n",
      "1407/1407 [==============================] - 2s 1ms/step - loss: 1.8223 - accuracy: 0.3364 - val_loss: 1.8365 - val_accuracy: 0.3268\n",
      "Epoch 38/100\n",
      "1407/1407 [==============================] - 2s 1ms/step - loss: 1.8178 - accuracy: 0.3410 - val_loss: 1.8335 - val_accuracy: 0.3308\n",
      "Epoch 39/100\n",
      "1407/1407 [==============================] - 2s 1ms/step - loss: 1.7958 - accuracy: 0.3460 - val_loss: 1.8175 - val_accuracy: 0.3362\n",
      "Epoch 40/100\n",
      "1407/1407 [==============================] - 2s 1ms/step - loss: 1.7995 - accuracy: 0.3456 - val_loss: 1.8073 - val_accuracy: 0.3390\n",
      "Epoch 41/100\n",
      "1407/1407 [==============================] - 2s 1ms/step - loss: 1.7922 - accuracy: 0.3472 - val_loss: 1.8052 - val_accuracy: 0.3428\n",
      "Epoch 42/100\n",
      "1407/1407 [==============================] - 2s 1ms/step - loss: 1.7844 - accuracy: 0.3532 - val_loss: 1.8010 - val_accuracy: 0.3434\n",
      "Epoch 43/100\n",
      "1407/1407 [==============================] - 2s 1ms/step - loss: 1.7655 - accuracy: 0.3567 - val_loss: 1.7884 - val_accuracy: 0.3506\n",
      "Epoch 44/100\n",
      "1407/1407 [==============================] - 2s 1ms/step - loss: 1.7641 - accuracy: 0.3564 - val_loss: 1.7795 - val_accuracy: 0.3538\n",
      "Epoch 45/100\n",
      "1407/1407 [==============================] - 2s 1ms/step - loss: 1.7580 - accuracy: 0.3636 - val_loss: 1.7868 - val_accuracy: 0.3488\n",
      "Epoch 46/100\n",
      "1407/1407 [==============================] - 2s 1ms/step - loss: 1.7502 - accuracy: 0.3639 - val_loss: 1.7777 - val_accuracy: 0.3554\n",
      "Epoch 47/100\n",
      "1407/1407 [==============================] - 2s 1ms/step - loss: 1.7463 - accuracy: 0.3676 - val_loss: 1.7610 - val_accuracy: 0.3642\n",
      "Epoch 48/100\n",
      "1407/1407 [==============================] - 2s 1ms/step - loss: 1.7393 - accuracy: 0.3662 - val_loss: 1.7553 - val_accuracy: 0.3608\n",
      "Epoch 49/100\n",
      "1407/1407 [==============================] - 2s 1ms/step - loss: 1.7285 - accuracy: 0.3736 - val_loss: 1.7487 - val_accuracy: 0.3652\n",
      "Epoch 50/100\n",
      "1407/1407 [==============================] - 2s 1ms/step - loss: 1.7247 - accuracy: 0.3717 - val_loss: 1.7550 - val_accuracy: 0.3686\n",
      "Epoch 51/100\n",
      "1407/1407 [==============================] - 2s 1ms/step - loss: 1.7185 - accuracy: 0.3798 - val_loss: 1.7371 - val_accuracy: 0.3680\n",
      "Epoch 52/100\n",
      "1407/1407 [==============================] - 2s 1ms/step - loss: 1.7150 - accuracy: 0.3775 - val_loss: 1.7316 - val_accuracy: 0.3738\n",
      "Epoch 53/100\n",
      "1407/1407 [==============================] - 2s 1ms/step - loss: 1.7058 - accuracy: 0.3798 - val_loss: 1.7348 - val_accuracy: 0.3702\n",
      "Epoch 54/100\n",
      "1407/1407 [==============================] - 2s 1ms/step - loss: 1.6949 - accuracy: 0.3838 - val_loss: 1.7230 - val_accuracy: 0.3760\n",
      "Epoch 55/100\n",
      "1407/1407 [==============================] - 2s 1ms/step - loss: 1.6846 - accuracy: 0.3904 - val_loss: 1.7170 - val_accuracy: 0.3804\n",
      "Epoch 56/100\n",
      "1407/1407 [==============================] - 2s 1ms/step - loss: 1.6885 - accuracy: 0.3907 - val_loss: 1.7172 - val_accuracy: 0.3794\n",
      "Epoch 57/100\n"
     ]
    },
    {
     "name": "stdout",
     "output_type": "stream",
     "text": [
      "1407/1407 [==============================] - 2s 1ms/step - loss: 1.6824 - accuracy: 0.3882 - val_loss: 1.7214 - val_accuracy: 0.3784\n",
      "Epoch 58/100\n",
      "1407/1407 [==============================] - 2s 1ms/step - loss: 1.6674 - accuracy: 0.3955 - val_loss: 1.7123 - val_accuracy: 0.3792\n",
      "Epoch 59/100\n",
      "1407/1407 [==============================] - 2s 1ms/step - loss: 1.6739 - accuracy: 0.3949 - val_loss: 1.6982 - val_accuracy: 0.3866\n",
      "Epoch 60/100\n",
      "1407/1407 [==============================] - 2s 1ms/step - loss: 1.6583 - accuracy: 0.4033 - val_loss: 1.7008 - val_accuracy: 0.3852\n",
      "Epoch 61/100\n",
      "1407/1407 [==============================] - 2s 1ms/step - loss: 1.6482 - accuracy: 0.4021 - val_loss: 1.6900 - val_accuracy: 0.3880\n",
      "Epoch 62/100\n",
      "1407/1407 [==============================] - 2s 1ms/step - loss: 1.6415 - accuracy: 0.4064 - val_loss: 1.6744 - val_accuracy: 0.4018\n",
      "Epoch 63/100\n",
      "1407/1407 [==============================] - 2s 1ms/step - loss: 1.6421 - accuracy: 0.4059 - val_loss: 1.6883 - val_accuracy: 0.3930\n",
      "Epoch 64/100\n",
      "1407/1407 [==============================] - 2s 1ms/step - loss: 1.6323 - accuracy: 0.4092 - val_loss: 1.6623 - val_accuracy: 0.3982\n",
      "Epoch 65/100\n",
      "1407/1407 [==============================] - 2s 1ms/step - loss: 1.6296 - accuracy: 0.4078 - val_loss: 1.6683 - val_accuracy: 0.3986\n",
      "Epoch 66/100\n",
      "1407/1407 [==============================] - 2s 1ms/step - loss: 1.6170 - accuracy: 0.4127 - val_loss: 1.6571 - val_accuracy: 0.3960\n",
      "Epoch 67/100\n",
      "1407/1407 [==============================] - 2s 1ms/step - loss: 1.6105 - accuracy: 0.4158 - val_loss: 1.6481 - val_accuracy: 0.4010\n",
      "Epoch 68/100\n",
      "1407/1407 [==============================] - 2s 1ms/step - loss: 1.6049 - accuracy: 0.4142 - val_loss: 1.6408 - val_accuracy: 0.4088\n",
      "Epoch 69/100\n",
      "1407/1407 [==============================] - 2s 1ms/step - loss: 1.5964 - accuracy: 0.4198 - val_loss: 1.6705 - val_accuracy: 0.4038\n",
      "Epoch 70/100\n",
      "1407/1407 [==============================] - 2s 1ms/step - loss: 1.6019 - accuracy: 0.4168 - val_loss: 1.6443 - val_accuracy: 0.4010\n",
      "Epoch 71/100\n",
      "1407/1407 [==============================] - 2s 1ms/step - loss: 1.5822 - accuracy: 0.4277 - val_loss: 1.6334 - val_accuracy: 0.4084\n",
      "Epoch 72/100\n",
      "1407/1407 [==============================] - 2s 1ms/step - loss: 1.5826 - accuracy: 0.4249 - val_loss: 1.6512 - val_accuracy: 0.4072\n",
      "Epoch 73/100\n",
      "1407/1407 [==============================] - 2s 1ms/step - loss: 1.5879 - accuracy: 0.4247 - val_loss: 1.6123 - val_accuracy: 0.4180\n",
      "Epoch 74/100\n",
      "1407/1407 [==============================] - 2s 1ms/step - loss: 1.5717 - accuracy: 0.4293 - val_loss: 1.6312 - val_accuracy: 0.4080\n",
      "Epoch 75/100\n",
      "1407/1407 [==============================] - 2s 1ms/step - loss: 1.5688 - accuracy: 0.4287 - val_loss: 1.6395 - val_accuracy: 0.4108\n",
      "Epoch 76/100\n",
      "1407/1407 [==============================] - 2s 1ms/step - loss: 1.5580 - accuracy: 0.4347 - val_loss: 1.6487 - val_accuracy: 0.4004\n",
      "Epoch 77/100\n",
      "1407/1407 [==============================] - 2s 1ms/step - loss: 1.5565 - accuracy: 0.4333 - val_loss: 1.5957 - val_accuracy: 0.4204\n",
      "Epoch 78/100\n",
      "1407/1407 [==============================] - 2s 1ms/step - loss: 1.5542 - accuracy: 0.4373 - val_loss: 1.5885 - val_accuracy: 0.4262\n",
      "Epoch 79/100\n",
      "1407/1407 [==============================] - 2s 1ms/step - loss: 1.5475 - accuracy: 0.4407 - val_loss: 1.5912 - val_accuracy: 0.4262\n",
      "Epoch 80/100\n",
      "1407/1407 [==============================] - 2s 1ms/step - loss: 1.5378 - accuracy: 0.4388 - val_loss: 1.6297 - val_accuracy: 0.4194\n",
      "Epoch 81/100\n",
      "1407/1407 [==============================] - 2s 1ms/step - loss: 1.5306 - accuracy: 0.4455 - val_loss: 1.5973 - val_accuracy: 0.4236\n",
      "Epoch 82/100\n",
      "1407/1407 [==============================] - 2s 1ms/step - loss: 1.5253 - accuracy: 0.4484 - val_loss: 1.5764 - val_accuracy: 0.4290\n",
      "Epoch 83/100\n",
      "1407/1407 [==============================] - 2s 1ms/step - loss: 1.5187 - accuracy: 0.4510 - val_loss: 1.5866 - val_accuracy: 0.4256\n",
      "Epoch 84/100\n",
      "1407/1407 [==============================] - 2s 1ms/step - loss: 1.5192 - accuracy: 0.4484 - val_loss: 1.5748 - val_accuracy: 0.4312\n",
      "Epoch 85/100\n",
      "1407/1407 [==============================] - 2s 1ms/step - loss: 1.5067 - accuracy: 0.4536 - val_loss: 1.5662 - val_accuracy: 0.4356\n",
      "Epoch 86/100\n",
      "1407/1407 [==============================] - 2s 1ms/step - loss: 1.5007 - accuracy: 0.4564 - val_loss: 1.5573 - val_accuracy: 0.4428\n",
      "Epoch 87/100\n",
      "1407/1407 [==============================] - 2s 1ms/step - loss: 1.4980 - accuracy: 0.4540 - val_loss: 1.5568 - val_accuracy: 0.4412\n",
      "Epoch 88/100\n",
      "1407/1407 [==============================] - 2s 1ms/step - loss: 1.4934 - accuracy: 0.4590 - val_loss: 1.5480 - val_accuracy: 0.4436\n",
      "Epoch 89/100\n",
      "1407/1407 [==============================] - 2s 1ms/step - loss: 1.4810 - accuracy: 0.4641 - val_loss: 1.5740 - val_accuracy: 0.4296\n",
      "Epoch 90/100\n",
      "1407/1407 [==============================] - 2s 1ms/step - loss: 1.4842 - accuracy: 0.4628 - val_loss: 1.5377 - val_accuracy: 0.4402\n",
      "Epoch 91/100\n",
      "1407/1407 [==============================] - 1s 1ms/step - loss: 1.4801 - accuracy: 0.4654 - val_loss: 1.5348 - val_accuracy: 0.4484\n",
      "Epoch 92/100\n",
      "1407/1407 [==============================] - 2s 1ms/step - loss: 1.4717 - accuracy: 0.4657 - val_loss: 1.5348 - val_accuracy: 0.4498\n",
      "Epoch 93/100\n",
      "1407/1407 [==============================] - 1s 1ms/step - loss: 1.4608 - accuracy: 0.4705 - val_loss: 1.5244 - val_accuracy: 0.4502\n",
      "Epoch 94/100\n",
      "1407/1407 [==============================] - 1s 1ms/step - loss: 1.4609 - accuracy: 0.4725 - val_loss: 1.5269 - val_accuracy: 0.4538\n",
      "Epoch 95/100\n",
      "1407/1407 [==============================] - 2s 1ms/step - loss: 1.4597 - accuracy: 0.4741 - val_loss: 1.5449 - val_accuracy: 0.4438\n",
      "Epoch 96/100\n",
      "1407/1407 [==============================] - 2s 1ms/step - loss: 1.4484 - accuracy: 0.4775 - val_loss: 1.5151 - val_accuracy: 0.4576\n",
      "Epoch 97/100\n",
      "1407/1407 [==============================] - 2s 1ms/step - loss: 1.4521 - accuracy: 0.4762 - val_loss: 1.5261 - val_accuracy: 0.4554\n",
      "Epoch 98/100\n",
      "1407/1407 [==============================] - 2s 1ms/step - loss: 1.4531 - accuracy: 0.4725 - val_loss: 1.5451 - val_accuracy: 0.4500\n",
      "Epoch 99/100\n",
      "1407/1407 [==============================] - 2s 1ms/step - loss: 1.4419 - accuracy: 0.4799 - val_loss: 1.5255 - val_accuracy: 0.4496\n",
      "Epoch 100/100\n",
      "1407/1407 [==============================] - 2s 1ms/step - loss: 1.4313 - accuracy: 0.4825 - val_loss: 1.5759 - val_accuracy: 0.4252\n"
     ]
    }
   ],
   "source": [
    "#10 % of the training data will be used to validate the training\n",
    "validation_portion = 0.1\n",
    "num_epochs = 100\n",
    "\n",
    "history = cifar10_model.fit(x = train_x, y = train_y, epochs = num_epochs, batch_size = 32, \\\n",
    "                            validation_split = validation_portion, shuffle=True, verbose=1)"
   ]
  },
  {
   "cell_type": "markdown",
   "metadata": {},
   "source": [
    "<font size=5 color=\"blue\">\n",
    "Graph of cost functions as a function of epoch"
   ]
  },
  {
   "cell_type": "code",
   "execution_count": 29,
   "metadata": {
    "ExecuteTime": {
     "start_time": "2021-01-28T12:05:20.286Z"
    },
    "scrolled": false
   },
   "outputs": [
    {
     "data": {
      "image/png": "[encoded data removed]",
      "text/plain": [
       "<Figure size 432x288 with 1 Axes>"
      ]
     },
     "metadata": {
      "needs_background": "light"
     },
     "output_type": "display_data"
    }
   ],
   "source": [
    "plt.plot(history.history['loss'])\n",
    "plt.plot(history.history['val_loss'])\n",
    "plt.title('Lr = 0.01, Dropout: Inp = 0.0, hl_1 = 0.0, hl_2 = 0.0')\n",
    "plt.ylabel('Cost')\n",
    "plt.xlabel('Epoch')\n",
    "plt.legend(['Train', 'Validation'], loc='upper right')\n",
    "plt.show()"
   ]
  },
  {
   "cell_type": "markdown",
   "metadata": {},
   "source": [
    "<font size=5 color=\"blue\">\n",
    "Graph of accuracy functions as a function of epoch"
   ]
  },
  {
   "cell_type": "code",
   "execution_count": 30,
   "metadata": {
    "ExecuteTime": {
     "start_time": "2021-01-28T12:05:20.289Z"
    }
   },
   "outputs": [
    {
     "data": {
      "image/png": "[encoded data removed]",
      "text/plain": [
       "<Figure size 432x288 with 1 Axes>"
      ]
     },
     "metadata": {
      "needs_background": "light"
     },
     "output_type": "display_data"
    }
   ],
   "source": [
    "plt.plot(history.history['accuracy'])\n",
    "plt.plot(history.history['val_accuracy'])\n",
    "plt.title('Lr = 0.01, Dropout: Inp = 0.0, hl1 = 0.15, hl2 = 0.0')\n",
    "plt.ylabel('Accuracy')\n",
    "plt.xlabel('Epoch')\n",
    "plt.legend(['Train', 'Validation'], loc='lower right')\n",
    "plt.show()"
   ]
  },
  {
   "cell_type": "markdown",
   "metadata": {},
   "source": [
    "<font size = 5 color='blue'>\n",
    "Loss and accuracy evaluation"
   ]
  },
  {
   "cell_type": "markdown",
   "metadata": {},
   "source": [
    "<font size= 4 color='black'>    \n",
    "After training the network, the loss and accuracy functions are evaluated using the test samples (test_x, test_y).    \n",
    "\n",
    "    \n",
    "[Method evaluate in Keras](https://keras.io/models/model/)"
   ]
  },
  {
   "cell_type": "code",
   "execution_count": 31,
   "metadata": {
    "ExecuteTime": {
     "start_time": "2021-01-28T12:05:20.293Z"
    }
   },
   "outputs": [
    {
     "name": "stdout",
     "output_type": "stream",
     "text": [
      "313/313 [==============================] - 0s 833us/step - loss: 1.5715 - accuracy: 0.4369\n",
      "Loss = 1.571547031402588\n",
      "Test Accuracy = 0.43689998984336853\n"
     ]
    }
   ],
   "source": [
    "evaluations = cifar10_model.evaluate(x = test_x, y = test_y)\n",
    "\n",
    "print (\"Loss = \" + str(evaluations[0]))\n",
    "print (\"Test Accuracy = \" + str(evaluations[1]))\n"
   ]
  },
  {
   "cell_type": "code",
   "execution_count": 32,
   "metadata": {
    "ExecuteTime": {
     "start_time": "2021-01-28T12:05:20.295Z"
    }
   },
   "outputs": [
    {
     "name": "stdout",
     "output_type": "stream",
     "text": [
      "4/4 [==============================] - 0s 1ms/step - loss: 1.4427 - accuracy: 0.4900\n",
      "Loss = 1.4427142143249512\n",
      "Test Accuracy = 0.49000000953674316\n"
     ]
    }
   ],
   "source": [
    "# Evaluation using the first 100 samples of the test set\n",
    "\n",
    "evaluations = cifar10_model.evaluate(x = test_x[:100], y = test_y[:100])\n",
    "\n",
    "print (\"Loss = \" + str(evaluations[0]))\n",
    "print (\"Test Accuracy = \" + str(evaluations[1]))\n"
   ]
  },
  {
   "cell_type": "markdown",
   "metadata": {},
   "source": [
    "<font size = 5 color='blue'>\n",
    "Image prediction"
   ]
  },
  {
   "cell_type": "markdown",
   "metadata": {},
   "source": [
    "<font size= 4 color='black'>    \n",
    "The trained learning system can predict the object content of an image. For example, we take an image of the test dataset (test_x, test_y). \n",
    "    \n",
    "[Method predict in Keras](https://keras.io/models/model/)"
   ]
  },
  {
   "cell_type": "code",
   "execution_count": 33,
   "metadata": {
    "ExecuteTime": {
     "start_time": "2021-01-28T12:05:20.299Z"
    }
   },
   "outputs": [],
   "source": [
    "# Predicting the image associated to the each sample in the test set (X_test)\n",
    "predictions = cifar10_model.predict(test_x)"
   ]
  },
  {
   "cell_type": "code",
   "execution_count": 34,
   "metadata": {
    "ExecuteTime": {
     "start_time": "2021-01-28T12:05:20.301Z"
    }
   },
   "outputs": [],
   "source": [
    "sample = 31"
   ]
  },
  {
   "cell_type": "markdown",
   "metadata": {},
   "source": [
    "<font size=4 color=\"black\"> \n",
    "Displaying the image associated (not predicted!) to this sample."
   ]
  },
  {
   "cell_type": "code",
   "execution_count": 35,
   "metadata": {
    "ExecuteTime": {
     "start_time": "2021-01-28T12:05:20.305Z"
    }
   },
   "outputs": [
    {
     "name": "stdout",
     "output_type": "stream",
     "text": [
      "the sample 31 corresponds to a dog\n"
     ]
    },
    {
     "data": {
      "image/png": "[encoded data removed]",
      "text/plain": [
       "<Figure size 432x288 with 1 Axes>"
      ]
     },
     "metadata": {
      "needs_background": "light"
     },
     "output_type": "display_data"
    }
   ],
   "source": [
    "\n",
    "plt.imshow(test_x[sample].reshape((32, 32, 3)))\n",
    "\n",
    "print('the sample', sample, 'corresponds to a', dic[int(np.argmax(test_y[sample]))])\n"
   ]
  },
  {
   "cell_type": "code",
   "execution_count": 36,
   "metadata": {
    "ExecuteTime": {
     "start_time": "2021-01-28T12:05:20.309Z"
    }
   },
   "outputs": [
    {
     "name": "stdout",
     "output_type": "stream",
     "text": [
      "For the sample number 31 the prediction is a(n) deer\n"
     ]
    }
   ],
   "source": [
    "# Predicting the image associated to the sample \n",
    "# np.argmax returns the index of the maximum value\n",
    "\n",
    "prediction = np.argmax(predictions[sample])\n",
    "\n",
    "print('For the sample number', sample, 'the prediction is a(n)', dic[prediction])"
   ]
  },
  {
   "cell_type": "markdown",
   "metadata": {},
   "source": [
    "<font size = 4 color=\"black\">\n",
    "    \n",
    "The next function finds the number of samples where the network made an incorrect prediction in a region of the test dataset. For example, in the first 40 samples from this dataset."
   ]
  },
  {
   "cell_type": "code",
   "execution_count": 37,
   "metadata": {
    "ExecuteTime": {
     "start_time": "2021-01-28T12:05:20.313Z"
    }
   },
   "outputs": [
    {
     "data": {
      "text/plain": [
       "[1, 4, 6, 8, 12, 14, 21, 22, 24, 25, 26, 27, 31, 33, 35, 37]"
      ]
     },
     "execution_count": 37,
     "metadata": {},
     "output_type": "execute_result"
    }
   ],
   "source": [
    "\n",
    "mislabeled_images = []\n",
    "\n",
    "for i in range(len(test_x[:40])):\n",
    "    \n",
    "    if np.argmax(cifar10_model.predict(test_x)[i]) != np.argmax(test_y[i]):\n",
    "        \n",
    "        mislabeled_images.append(i)\n",
    " \n",
    "\n",
    "\n",
    "mislabeled_images"
   ]
  },
  {
   "cell_type": "markdown",
   "metadata": {},
   "source": [
    "<font size=4 color='black'>\n",
    "Keras has the several options to use regularizers L1, L2 or both simultaneously. \n",
    "It also has the option of creating custom regulirizers.\n",
    "    \n",
    "[Keras layer weight regularizers](https://keras.io/api/layers/regularizers/)"
   ]
  },
  {
   "cell_type": "markdown",
   "metadata": {},
   "source": [
    "<font size=4 color='black'>\n",
    "    \n",
    "[Runs summary](clase9-figures.odt)"
   ]
  },
  {
   "cell_type": "code",
   "execution_count": null,
   "metadata": {},
   "outputs": [],
   "source": []
  }
 ],
 "metadata": {
  "kernelspec": {
   "display_name": "Python 3",
   "language": "python",
   "name": "python3"
  },
  "language_info": {
   "codemirror_mode": {
    "name": "ipython",
    "version": 3
   },
   "file_extension": ".py",
   "mimetype": "text/x-python",
   "name": "python",
   "nbconvert_exporter": "python",
   "pygments_lexer": "ipython3",
   "version": "3.9.4"
  }
 },
 "nbformat": 4,
 "nbformat_minor": 2
}
