{
 "cells": [
  {
   "cell_type": "markdown",
   "metadata": {},
   "source": [
    "<font size=4 color='blue'>\n",
    "\n",
    "# <center>Clase 10, julio 21 del 2021</center>\n"
   ]
  },
  {
   "cell_type": "markdown",
   "metadata": {
    "ExecuteTime": {
     "end_time": "2020-11-22T12:50:36.354304Z",
     "start_time": "2020-11-22T12:50:36.345388Z"
    }
   },
   "source": [
    "<font size=5 color=\"blue\">\n",
    "\n",
    "Convolutional Neural Networks"
   ]
  },
  {
   "cell_type": "markdown",
   "metadata": {
    "ExecuteTime": {
     "end_time": "2020-11-22T12:50:36.354304Z",
     "start_time": "2020-11-22T12:50:36.345388Z"
    }
   },
   "source": [
    "<font size=4 color=\"black\">\n",
    "\n",
    "[Interactive Visualizing of Convolutional Neural Networks](./literature/CNN-explainer_2020.pdf)"
   ]
  },
  {
   "cell_type": "markdown",
   "metadata": {},
   "source": [
    "<font size=4>\n",
    "    \n",
    "\n",
    "Some applications of these networks:\n",
    "\n",
    "- Object recognition.\n",
    "\n",
    "<img src='images/clasification.jpeg' style=\"width: 800px;\"/>\n",
    "\n",
    "- Object detection; for example in a camera for face detection or in autonomous vehicles.\n",
    "\n",
    "<img src='images/detection.jpeg' style=\"width: 300px;\"/>\n",
    "\n",
    "\n",
    "- Neural Style Transfer: two images are superimposed to mixe their content.\n",
    "\n",
    "<img src='images/style.jpeg' style=\"width: 800px;\"/>\n",
    "    "
   ]
  },
  {
   "cell_type": "markdown",
   "metadata": {},
   "source": [
    "<font size=4>\n",
    "A deep convolutional neural network for real-time full profile analysis of big powder diffraction data\n",
    "    \n",
    "[CNN-XRD](./literature/DNN_XRD_2021.pdf)\n",
    "<img src='images/cnn-xrd.png' style=\"width: 600px;\"/>\n",
    "    "
   ]
  },
  {
   "cell_type": "markdown",
   "metadata": {},
   "source": [
    "<font size=5 color='blue'>\n",
    "\n",
    "Image segmentation"
   ]
  },
  {
   "cell_type": "markdown",
   "metadata": {},
   "source": [
    "<font size=4>\n",
    "    \n",
    "- Cells detection\n",
    "\n",
    "<img src='images/bio-image-segmentation.png' style=\"width: 800px;\"/>"
   ]
  },
  {
   "cell_type": "markdown",
   "metadata": {},
   "source": [
    "<font size=4>\n",
    "\n",
    "A deep convolutional neural network for real-time full profile analysis of big powder diffraction data\n",
    "    \n",
    "[U-net Biomedical Image Segmentation](./literature/U-net_2015.pdf)\n",
    "<img src='images/u-net-architecture.png' style=\"width: 600px;\"/>"
   ]
  },
  {
   "cell_type": "markdown",
   "metadata": {},
   "source": [
    "<font size=4>\n",
    "\n",
    "[Object Detection for Autonomous Driving](./literature/3D-Segmentation-AutonomousDriving_2020.pdf)\n",
    "- This is what an autonomous \"see\"\n",
    "    \n",
    "<img src='images/autonomous-image-seg.png' style=\"width: 600px;\"/>"
   ]
  },
  {
   "cell_type": "markdown",
   "metadata": {},
   "source": [
    "<font size=5 color=\"blue\">\n",
    "\n",
    "Convolution of two functions   "
   ]
  },
  {
   "cell_type": "markdown",
   "metadata": {},
   "source": [
    "<font size=4 color=\"black\">\n",
    "In mathematics (in particular, functional analysis), convolution is a mathematical operation on two functions ($f$ and $g$) that produces a third function $(f∗g)$ that expresses how the shape of one is modified by the other. The term convolution refers to both the result function and to the process of computing it. It is defined as the integral of the product of the two functions after one is reversed and shifted. The integral is evaluated for all values of shift, producing the convolution function."
   ]
  },
  {
   "cell_type": "markdown",
   "metadata": {},
   "source": [
    "<font size=4 color=\"black\">\n",
    "    \n",
    "Given the functions *f* and *g* over the finite range [0,t], their convolution is given by:\n",
    "    \n",
    "$$  c=(f*g)(t) = \\int_0^1 f(\\tau)g(t-\\tau) d\\tau$$\n",
    "    \n",
    "   $c$ convolution output function $$ $$ $f$ original input image $$ $$\n",
    "   $g$ function that is shifted over the input function $$ $$\n",
    "   $t$ variable representing range of shifting $$ $$\n",
    "   $\\tau$ shifting against t\n",
    "    "
   ]
  },
  {
   "cell_type": "markdown",
   "metadata": {},
   "source": [
    "<font size=5 color=\"blue\">\n",
    "\n",
    "A simple example of convolution  "
   ]
  },
  {
   "cell_type": "markdown",
   "metadata": {},
   "source": [
    "<font size=4 color=\"black\">\n",
    "\n",
    "Definition of the functions $f$ and $g$"
   ]
  },
  {
   "cell_type": "code",
   "execution_count": 1,
   "metadata": {
    "ExecuteTime": {
     "end_time": "2021-01-28T12:29:59.646315Z",
     "start_time": "2021-01-28T12:29:59.219921Z"
    }
   },
   "outputs": [],
   "source": [
    "import numpy as np\n",
    "import matplotlib.pyplot as plt\n",
    "\n",
    "f = lambda t: np.maximum(0, 1-abs(t))\n",
    "g = lambda t: (t>0) * np.exp(-2*t)\n"
   ]
  },
  {
   "cell_type": "code",
   "execution_count": 2,
   "metadata": {
    "ExecuteTime": {
     "end_time": "2021-01-28T12:29:59.650419Z",
     "start_time": "2021-01-28T12:29:59.647942Z"
    }
   },
   "outputs": [],
   "source": [
    "Fs = 50  # our sampling frequency for the plotting\n",
    "T = 5    # the time range we are interested in\n",
    "t = np.arange(-T, T, 1/Fs)  # the time samples"
   ]
  },
  {
   "cell_type": "code",
   "execution_count": 3,
   "metadata": {
    "ExecuteTime": {
     "end_time": "2021-01-28T12:29:59.940915Z",
     "start_time": "2021-01-28T12:29:59.652022Z"
    }
   },
   "outputs": [
    {
     "data": {
      "text/plain": [
       "<matplotlib.legend.Legend at 0x7f0c0e1830a0>"
      ]
     },
     "execution_count": 3,
     "metadata": {},
     "output_type": "execute_result"
    },
    {
     "data": {
      "image/png": "[encoded data removed]",
      "text/plain": [
       "<Figure size 576x216 with 1 Axes>"
      ]
     },
     "metadata": {
      "needs_background": "light"
     },
     "output_type": "display_data"
    }
   ],
   "source": [
    "plt.figure(figsize=(8,3))\n",
    "plt.plot(t, f(t), color='blue', label='$f(t)$')\n",
    "plt.plot(t, g(t), color='green', label='$g(t)$')\n",
    "plt.legend(['$f(t)$', '$g(t)$'], loc='upper right')\n"
   ]
  },
  {
   "cell_type": "markdown",
   "metadata": {},
   "source": [
    "<font size=4 color=\"black\">\n",
    "\n",
    "Convolution of $f$ and $g$\n",
    "    \n",
    "The shaded area is the result of the convolution."
   ]
  },
  {
   "cell_type": "code",
   "execution_count": 4,
   "metadata": {
    "ExecuteTime": {
     "end_time": "2021-01-28T12:30:00.410761Z",
     "start_time": "2021-01-28T12:29:59.942800Z"
    }
   },
   "outputs": [
    {
     "data": {
      "text/html": [
       "Result of the convolution (red shaded area): $(f_1*f_2)(t_0=1) = 0.19$"
      ],
      "text/plain": [
       "<IPython.core.display.HTML object>"
      ]
     },
     "metadata": {},
     "output_type": "display_data"
    },
    {
     "data": {
      "image/png": "[encoded data removed]",
      "text/plain": [
       "<Figure size 576x216 with 1 Axes>"
      ]
     },
     "metadata": {
      "needs_background": "light"
     },
     "output_type": "display_data"
    }
   ],
   "source": [
    "from IPython.display import HTML\n",
    "import scipy\n",
    "from scipy import integrate\n",
    "import pylab as p\n",
    "\n",
    "\n",
    "t0 = 1\n",
    "flipped = lambda tau: g(t0-tau)\n",
    "product = lambda tau: f(tau)*g(t0-tau)\n",
    "\n",
    "plt.figure(figsize=(8,3))\n",
    "\n",
    "plt.plot(t, f(t), color='blue',label=r'$f(\\tau)$')\n",
    "plt.plot(t, flipped(t), color='green',label=r'$g(t_0-\\tau)$')\n",
    "plt.plot(t, product(t), color='red',label=r'$f(\\tau)g(t_0-\\tau)$')\n",
    "p.fill(t, product(t),facecolor='red', alpha=0.6)\n",
    "         \n",
    "plt.legend(['$f(\\tau)$', '$g(t_0-\\tau)$','$f(\\tau)g(t_0-\\tau)$'], loc='upper right')\n",
    "\n",
    "# Explicitely calculate the integral, using the Simpson integration rule\n",
    "display(HTML(\"Result of the convolution (red shaded area): \\\n",
    "$(f_1*f_2)(t_0=%.0f) = %.2f$\" % (t0, scipy.integrate.simps(product(t), t))))"
   ]
  },
  {
   "cell_type": "markdown",
   "metadata": {},
   "source": [
    "<font size=4 color=\"black\">\n",
    "\n",
    "Convolution of $f$ and $g$ at different times"
   ]
  },
  {
   "cell_type": "code",
   "execution_count": 5,
   "metadata": {
    "ExecuteTime": {
     "end_time": "2021-01-28T12:30:00.418662Z",
     "start_time": "2021-01-28T12:30:00.412499Z"
    }
   },
   "outputs": [],
   "source": [
    "def showConvolution(f, g, t0):\n",
    "    # Calculate the overall convolution result using Simpson integration\n",
    "    convolution = np.zeros(len(t))\n",
    "    for n, t_ in enumerate(t):\n",
    "        prod = lambda tau: f(tau) * g(t_-tau)\n",
    "        convolution[n] = scipy.integrate.simps(prod(t), t)\n",
    "    \n",
    "    # Create the shifted and flipped function\n",
    "    f_shift = lambda t: g(t0-t)\n",
    "    prod = lambda tau: f(tau) * g(t0-tau)\n",
    "\n",
    "    # Plot the curves\n",
    "\n",
    "    plt.subplot(211)\n",
    "    plt.plot(t, f(t), color='blue',label=r'$f(\\tau)$')\n",
    "    plt.plot(t, f_shift(t), color='green',label=r'$g(t_0-\\tau)$')\n",
    "    plt.plot(t, prod(t), color='red', label=r'$f(\\tau)g(t_0-\\tau)$')\n",
    "    p.fill(t, prod(t),facecolor='red', alpha=0.6)\n",
    "    plt.legend(['$f(\\tau)$', '$g(t_0-\\tau)$','$f(\\tau)g(t_0-\\tau)$'], loc='upper right')\n",
    "    \n",
    "    # plot the convolution curve\n",
    "    plt.subplot(212)\n",
    "    plt.plot(t, convolution, label='$(f*g)(t)$')\n",
    "    plt.legend(['$(f*g)(t)$'], loc='upper right')  \n",
    "    \n",
    "    # recalculate the value of the convolution integral at the current time-shift t0\n",
    "    current_value = scipy.integrate.simps(prod(t), t)\n",
    "    display(HTML(\"Result of the convolution (red shaded area): \\\n",
    "    $(f*g)(t_0=%.1f) = %.2f$\" % (t0, current_value)))\n",
    "    plt.plot(t0, current_value, 'ro')  # plot the point\n"
   ]
  },
  {
   "cell_type": "code",
   "execution_count": 6,
   "metadata": {
    "ExecuteTime": {
     "end_time": "2021-01-28T12:30:00.722911Z",
     "start_time": "2021-01-28T12:30:00.420289Z"
    }
   },
   "outputs": [
    {
     "data": {
      "text/html": [
       "Result of the convolution (red shaded area):     $(f*g)(t_0=0.0) = 0.29$"
      ],
      "text/plain": [
       "<IPython.core.display.HTML object>"
      ]
     },
     "metadata": {},
     "output_type": "display_data"
    },
    {
     "data": {
      "image/png": "[encoded data removed]",
      "text/plain": [
       "<Figure size 432x288 with 2 Axes>"
      ]
     },
     "metadata": {
      "needs_background": "light"
     },
     "output_type": "display_data"
    }
   ],
   "source": [
    "showConvolution(f,g, 0)"
   ]
  },
  {
   "cell_type": "code",
   "execution_count": 7,
   "metadata": {
    "ExecuteTime": {
     "end_time": "2021-01-28T12:30:01.048534Z",
     "start_time": "2021-01-28T12:30:00.724789Z"
    }
   },
   "outputs": [
    {
     "data": {
      "text/html": [
       "Result of the convolution (red shaded area):     $(f*g)(t_0=0.5) = 0.33$"
      ],
      "text/plain": [
       "<IPython.core.display.HTML object>"
      ]
     },
     "metadata": {},
     "output_type": "display_data"
    },
    {
     "data": {
      "image/png": "[encoded data removed]",
      "text/plain": [
       "<Figure size 432x288 with 2 Axes>"
      ]
     },
     "metadata": {
      "needs_background": "light"
     },
     "output_type": "display_data"
    }
   ],
   "source": [
    "showConvolution(f,g, 0.5)"
   ]
  },
  {
   "cell_type": "code",
   "execution_count": 8,
   "metadata": {
    "ExecuteTime": {
     "end_time": "2021-01-28T12:30:01.334796Z",
     "start_time": "2021-01-28T12:30:01.051345Z"
    }
   },
   "outputs": [
    {
     "data": {
      "text/html": [
       "Result of the convolution (red shaded area):     $(f*g)(t_0=1.1) = 0.15$"
      ],
      "text/plain": [
       "<IPython.core.display.HTML object>"
      ]
     },
     "metadata": {},
     "output_type": "display_data"
    },
    {
     "data": {
      "image/png": "[encoded data removed]",
      "text/plain": [
       "<Figure size 432x288 with 2 Axes>"
      ]
     },
     "metadata": {
      "needs_background": "light"
     },
     "output_type": "display_data"
    }
   ],
   "source": [
    "showConvolution(f,g, 1.1)"
   ]
  },
  {
   "cell_type": "markdown",
   "metadata": {},
   "source": [
    "<font size=5 color=\"blue\">\n",
    "\n",
    "Digital Image Processing\n",
    "    "
   ]
  },
  {
   "cell_type": "markdown",
   "metadata": {},
   "source": [
    "<font size=4>\n",
    "\n",
    "[Classical book, Gonzalez](./literature/3D-Segmentation-AutonomousDriving_2020.pdf)\n",
    "- All about Digital Image Processing, including pattern recognition and image segmentation\n",
    "    \n",
    "<img src='images/Digital-Image-Procesing.jpg' style=\"width: 300px;\"/>"
   ]
  },
  {
   "cell_type": "markdown",
   "metadata": {},
   "source": [
    "<font size=5 color=\"blue\">\n",
    "\n",
    "Pattern recognition in images through convolutions (in the 60's)\n",
    "    "
   ]
  },
  {
   "cell_type": "markdown",
   "metadata": {},
   "source": [
    "<font size=4 color=\"black\">\n",
    "    \n",
    "[Pattern recognition](./literature/pattern-recognition_1962.pdf)"
   ]
  },
  {
   "cell_type": "markdown",
   "metadata": {},
   "source": [
    "<font size=4 color='black'>\n",
    "\n",
    "Filters (kernels) for pattern recognition \n",
    "\n",
    "<img src='./images/Filters.gif' style=\"width: 400px;\"/>\n"
   ]
  },
  {
   "cell_type": "markdown",
   "metadata": {},
   "source": [
    "<font size=4>\n",
    "\n",
    "[Object Detection for Autonomous Driving](./literature/3D-Segmentation-AutonomousDriving_2020.pdf)\n",
    "- Detecting edges with a kernel\n",
    "    \n",
    "<img src='images/Edge-detection-2.png' style=\"width: 600px;\"/>"
   ]
  },
  {
   "cell_type": "markdown",
   "metadata": {
    "ExecuteTime": {
     "end_time": "2020-12-01T19:24:00.092972Z",
     "start_time": "2020-12-01T19:24:00.085696Z"
    }
   },
   "source": [
    "<font size=5 color=\"blue\">\n",
    "\n",
    "Feature extraction using convolution and pooling layers\n",
    "    "
   ]
  },
  {
   "cell_type": "markdown",
   "metadata": {},
   "source": [
    "<font size=4 color=\"black\">\n",
    "    \n",
    "[CNN, LeCun-90](./literature/lecun-90c.pdf)\n",
    "    \n",
    "[CNN, LeCun-Bengio-95](./literature/lecun-bengio-95a.pdf)"
   ]
  },
  {
   "cell_type": "markdown",
   "metadata": {
    "ExecuteTime": {
     "end_time": "2020-12-01T22:08:20.192136Z",
     "start_time": "2020-12-01T22:08:20.182928Z"
    }
   },
   "source": [
    "<font size=5 color=\"blue\">\n",
    "\n",
    "Convolution layer   "
   ]
  },
  {
   "cell_type": "markdown",
   "metadata": {
    "ExecuteTime": {
     "end_time": "2020-11-25T00:57:23.623361Z",
     "start_time": "2020-11-25T00:57:23.618614Z"
    }
   },
   "source": [
    "<font size=4 color='black'>\n",
    "\n",
    "Convolution between a filter (kernel) and an image. \n",
    "\n",
    "<img src='./images/conv.gif' style=\"width: 400px;\"/>\n"
   ]
  },
  {
   "cell_type": "markdown",
   "metadata": {},
   "source": [
    "<font size=4 color='black'>\n",
    "\n",
    "The left frame represents the input data. When it is an image each value corresponds to a pixel value.\n",
    "\n",
    "The frame in the mittle represents the filter (kernel) with dimensions (3,3). The right frame represents the result of the convolution operation between filter and image.\n",
    "\n",
    "The convolution operation starts at the left upper corner of the image. The filter is superpossed to the image: each pixel value in the image is multiplied by the corresponding filter value superimpossed on it. \n",
    "\n",
    "   0 x (−1) + 0 x (−2) + 75 x (−1) +\n",
    "  \n",
    "   0 x 0 + 75 x 0 + 80 x 0 +\n",
    "$$ $$\n",
    "   0 x 1 + 75 x 2 + 80 x 1 = 155.  \n",
    "\n",
    "This is the value for the first pixel of the image produced by the convolution.\n",
    "\n",
    "Then, the filter moves the stride *s* to the right and repeats the operation until it reaches the image right border. Thereafter, the filter moves the stride *s* down in the image, simultaneously it moves to the left of the image to repeat the convolution operation. \n",
    "\n",
    "The filter values are learned (represented by the corresponding weight values $\\omega$) during training of the convolutional neural network."
   ]
  },
  {
   "cell_type": "markdown",
   "metadata": {},
   "source": [
    "<font size=4 color='black'>\n",
    "\n",
    "In general, the stride to move the filter takes the value 1, but it can take any other integer value larger than 1. In the following example we illustrate a convolution using a stride value s = 2.\n",
    "\n",
    "\n",
    "<img src='./images/stri.png' style=\"width: 700px;\"/>\n"
   ]
  },
  {
   "cell_type": "markdown",
   "metadata": {},
   "source": [
    "<font size=5 color='blue'>\n",
    "\n",
    "Padding"
   ]
  },
  {
   "cell_type": "markdown",
   "metadata": {},
   "source": [
    "<font size=4 color='black'>\n",
    "\n",
    "The produced image after the convolution operations has a smaller dimension than the original image. \n",
    "    \n",
    "<img src='./images/dimconv.png' style=\"width: 600px;\"/>\n",
    "    \n",
    "Many times, it is desired  that the original and convoluted images have the same dimension. For getting this, the original image is padded with extra zero value pixels around it before the convolution operation is applied. \n",
    "    \n",
    "<img src='./images/padd.png' style=\"width: 700px;\"/>\n",
    "    \n",
    "The padding depends on filter size and stride. "
   ]
  },
  {
   "cell_type": "markdown",
   "metadata": {},
   "source": [
    "<font size=4 color='black'>\n",
    "\n",
    "If the original image has dimensions *(n, n)*, and the filter has dimensions *(f, f)*, the dimension of the image after the convolution operation is given by the following realtionship:\n",
    "    \n",
    "$$[\\dfrac{n+2p-f}{s}+1] x [\\dfrac{n+2p-f}{s}+1]$$\n",
    "    \n",
    "where s and p are the stride and padding values respectively.\n"
   ]
  },
  {
   "cell_type": "markdown",
   "metadata": {
    "ExecuteTime": {
     "end_time": "2020-12-01T23:36:19.593405Z",
     "start_time": "2020-12-01T23:36:19.586964Z"
    }
   },
   "source": [
    "<font size=5 color='blue'>\n",
    "\n",
    "Pooling layer"
   ]
  },
  {
   "cell_type": "markdown",
   "metadata": {},
   "source": [
    "<font size=4 color='black'>\n",
    "\n",
    "In general, after applying one or more convolutional layers, it is recommended to reduce the dimensions of the generated images. This is done by pooling neighboring pixels, which reduces the dimension of the image. For example, averaging (Average Pooling) locally the pixel values over a region or de image, or by taking into account only the pixels with the largest values (Max Pooling) in the local region. Sometimes the dimension reduction is more drastic (Global Average Pooling, Global Max Pooling).\n",
    "    \n",
    "Example of max pooling:\n",
    "    \n",
    "<img src='images/maxpool.gif' style=\"width: 400px;\"/>\n"
   ]
  },
  {
   "cell_type": "markdown",
   "metadata": {},
   "source": [
    "<font size=5 color='blue'>\n",
    "\n",
    "Feed Forward \"Full\" connected layer"
   ]
  },
  {
   "cell_type": "markdown",
   "metadata": {},
   "source": [
    "<font size=4 color='black'>\n",
    "\n",
    "Finally, the ouput of the convolution and pooling layers is the input of a feed forward  \"full\" connected layer.\n",
    "    \n",
    " <img src=\"./images/dropout_image.jpeg\" width=600 height=600 align = \"midle\" >   "
   ]
  },
  {
   "cell_type": "markdown",
   "metadata": {},
   "source": [
    "<font size=5 color='blue'>\n",
    "\n",
    "Graph of the Convolutional Neural Network (CNN) correspondig to the Model 3"
   ]
  },
  {
   "cell_type": "markdown",
   "metadata": {},
   "source": [
    "<font size=4 color='black'>\n",
    "\n",
    "This is the model that generates the best accuracy in the present notebook."
   ]
  },
  {
   "cell_type": "markdown",
   "metadata": {
    "ExecuteTime": {
     "end_time": "2020-12-02T01:12:57.570872Z",
     "start_time": "2020-12-02T01:12:57.567699Z"
    }
   },
   "source": [
    "<font size=5 color='blue'>\n",
    "\n",
    " <img src=\"./images/CNN_IMAGE_V3.png\" width=800 height=800 align = \"midle\" >   "
   ]
  },
  {
   "cell_type": "markdown",
   "metadata": {},
   "source": [
    "<font size=5 color='blue'>\n",
    "Object Recognition through images using CNN"
   ]
  },
  {
   "cell_type": "markdown",
   "metadata": {},
   "source": [
    "<font size=5 color='blue'>\n",
    "CIFAR-10 database"
   ]
  },
  {
   "cell_type": "markdown",
   "metadata": {},
   "source": [
    "<font size=4 color=\"black\">\n",
    "\n",
    "[80 million tiny images from internet](./literature/80millionImages.pdf)\n",
    "\n",
    "The CIFAR-10 and CIFAR-100 are labeled subsets of a 80 million tiny images dataset. They were collected by Alex Krizhevsky, Vinod Nair, and Geoffrey Hinton. \n"
   ]
  },
  {
   "cell_type": "markdown",
   "metadata": {},
   "source": [
    " <font size=4 color='black'>   \n",
    "\n",
    "The data base can be downloaded from the following URL: \n",
    "    \n",
    "[CIFAR-10 data download](https://www.cs.toronto.edu/~kriz/cifar.html)\n",
    "\n",
    "$$ $$\n",
    " The CIFAR-10 dataset consists of 60,000 32x32 colour images in 10 classes, with 6000 images per class. There are 50.000 training images and 10,000 test images.\n",
    "\n",
    "The ten classes are:\n",
    "\n",
    " \n",
    "| index | class name |\n",
    "| --- | --- |\n",
    "| 0 | airplane |\n",
    "| 1 | automobile | \t\t\t\t\t\t\t\t\t\t\n",
    "| 2 | bird |\t\t\t\t\t\t\t\t\t\t\n",
    "| 3 | cat |\t\t\t\t\t\t\t\t\t\t\n",
    "| 4 | deer |\t\t\t\t\t\t\t\t\t\t\n",
    "| 5 | dog |\t\t\t\t\t\t\t\t\t\t\n",
    "| 6 | frog |\t\t\t\t\t\t\t\t\t\t\n",
    "| 7 | horse |\t\t\t\t\t\t\t\t\t\t\n",
    "| 8 | ship |\t\t\t\t\t\t\t\t\t\t\n",
    "| 9 | truck|"
   ]
  },
  {
   "cell_type": "code",
   "execution_count": 9,
   "metadata": {
    "ExecuteTime": {
     "end_time": "2021-01-28T12:30:04.924184Z",
     "start_time": "2021-01-28T12:30:01.337641Z"
    }
   },
   "outputs": [
    {
     "name": "stdout",
     "output_type": "stream",
     "text": [
      "physical_devices------------- 1\n"
     ]
    }
   ],
   "source": [
    "import tensorflow as tf\n",
    "\n",
    "physical_devices = tf.config.experimental.list_physical_devices('GPU')\n",
    "print(\"physical_devices-------------\", len(physical_devices))\n",
    "tf.config.experimental.set_memory_growth(physical_devices[0], True)"
   ]
  },
  {
   "cell_type": "code",
   "execution_count": 10,
   "metadata": {
    "ExecuteTime": {
     "end_time": "2021-01-28T12:30:05.135984Z",
     "start_time": "2021-01-28T12:30:04.930555Z"
    }
   },
   "outputs": [],
   "source": [
    "from tensorflow import keras\n",
    "\n",
    "from tensorflow.keras import layers\n",
    "from tensorflow.keras.layers import Input, Dense, Activation, Flatten\n",
    "from tensorflow.keras.layers import Dropout\n",
    "from tensorflow.keras.models import Model\n",
    "from tensorflow.keras.preprocessing import image\n",
    "from tensorflow.keras.applications.imagenet_utils import preprocess_input\n",
    "import pydot\n",
    "from IPython.display import SVG\n",
    "from tensorflow.keras.utils import plot_model\n",
    "from tensorflow.keras.optimizers import SGD\n",
    "\n",
    "from tensorflow.keras.models import Sequential\n",
    "from tensorflow.keras.layers import Conv2D, MaxPooling2D\n",
    "from tensorflow.keras.layers import BatchNormalization\n",
    "\n",
    "import matplotlib.pyplot as plt\n",
    "from matplotlib.pyplot import imshow\n",
    "import pickle\n",
    "\n",
    "import time\n",
    "\n",
    "np.random.seed(1)\n",
    "\n",
    "%matplotlib inline"
   ]
  },
  {
   "cell_type": "markdown",
   "metadata": {},
   "source": [
    "<font size = 5 color=\"blue\">\n",
    "\n",
    "CIFAR-10 data is also available from Keras: \n",
    "    \n"
   ]
  },
  {
   "cell_type": "markdown",
   "metadata": {},
   "source": [
    "<font size = 4 color=\"black\">\n",
    "\n",
    "[CIFAR-10 Keras](https://keras.io/api/datasets/cifar10/)"
   ]
  },
  {
   "cell_type": "code",
   "execution_count": 11,
   "metadata": {
    "ExecuteTime": {
     "end_time": "2021-01-28T12:30:05.140061Z",
     "start_time": "2021-01-28T12:30:05.137461Z"
    }
   },
   "outputs": [],
   "source": [
    "from tensorflow.keras.datasets import cifar10"
   ]
  },
  {
   "cell_type": "code",
   "execution_count": 12,
   "metadata": {
    "ExecuteTime": {
     "end_time": "2021-01-28T12:30:05.367154Z",
     "start_time": "2021-01-28T12:30:05.142172Z"
    }
   },
   "outputs": [],
   "source": [
    "(x_train, y_train), (x_test, y_test) = cifar10.load_data()"
   ]
  },
  {
   "cell_type": "code",
   "execution_count": 13,
   "metadata": {
    "ExecuteTime": {
     "end_time": "2021-01-28T12:30:05.371660Z",
     "start_time": "2021-01-28T12:30:05.368389Z"
    }
   },
   "outputs": [
    {
     "name": "stdout",
     "output_type": "stream",
     "text": [
      "The type of x_train is <class 'numpy.ndarray'>\n",
      "The type of y_train is <class 'numpy.ndarray'>\n",
      "\n",
      "The type of x_test is <class 'numpy.ndarray'>\n",
      "The type of y_test is <class 'numpy.ndarray'>\n"
     ]
    }
   ],
   "source": [
    "print('The type of x_train is', type(x_train))\n",
    "print('The type of y_train is', type(y_train))\n",
    "\n",
    "print('\\nThe type of x_test is', type(x_test))\n",
    "print('The type of y_test is', type(y_test))"
   ]
  },
  {
   "cell_type": "code",
   "execution_count": 14,
   "metadata": {
    "ExecuteTime": {
     "end_time": "2021-01-28T12:30:05.383046Z",
     "start_time": "2021-01-28T12:30:05.373414Z"
    }
   },
   "outputs": [
    {
     "name": "stdout",
     "output_type": "stream",
     "text": [
      "The shape of x_train is (50000, 32, 32, 3)\n",
      "The shape of y_train is (50000, 1)\n",
      "\n",
      "The shape of x_test is (10000, 32, 32, 3)\n",
      "The shape of y_test is (10000, 1)\n"
     ]
    }
   ],
   "source": [
    "print('The shape of x_train is', x_train.shape)\n",
    "print('The shape of y_train is', y_train.shape)\n",
    "\n",
    "print('\\nThe shape of x_test is', x_test.shape)\n",
    "print('The shape of y_test is', y_test.shape)"
   ]
  },
  {
   "cell_type": "markdown",
   "metadata": {},
   "source": [
    "<font size=5 color=\"blue\">\n",
    "\n",
    "Analyzing the data extracted from CIFAR-10"
   ]
  },
  {
   "cell_type": "markdown",
   "metadata": {
    "ExecuteTime": {
     "end_time": "2020-03-24T20:18:56.606700Z",
     "start_time": "2020-03-24T20:18:56.598151Z"
    }
   },
   "source": [
    "<font size=5 color=\"blue\">\n",
    "    \n",
    "View a sample from the data sets"
   ]
  },
  {
   "cell_type": "markdown",
   "metadata": {},
   "source": [
    "<font size=4 color=\"black\">\n",
    "    \n",
    "The input for a sample of the data sets is an array, where each value is the value of a single pixel. "
   ]
  },
  {
   "cell_type": "code",
   "execution_count": 15,
   "metadata": {
    "ExecuteTime": {
     "end_time": "2021-01-28T12:30:05.394721Z",
     "start_time": "2021-01-28T12:30:05.384264Z"
    }
   },
   "outputs": [
    {
     "name": "stdout",
     "output_type": "stream",
     "text": [
      "The features of a training sample \n",
      " \n",
      " [[[ 59  62  63]\n",
      "  [ 43  46  45]\n",
      "  [ 50  48  43]\n",
      "  ...\n",
      "  [158 132 108]\n",
      "  [152 125 102]\n",
      "  [148 124 103]]\n",
      "\n",
      " [[ 16  20  20]\n",
      "  [  0   0   0]\n",
      "  [ 18   8   0]\n",
      "  ...\n",
      "  [123  88  55]\n",
      "  [119  83  50]\n",
      "  [122  87  57]]\n",
      "\n",
      " [[ 25  24  21]\n",
      "  [ 16   7   0]\n",
      "  [ 49  27   8]\n",
      "  ...\n",
      "  [118  84  50]\n",
      "  [120  84  50]\n",
      "  [109  73  42]]\n",
      "\n",
      " ...\n",
      "\n",
      " [[208 170  96]\n",
      "  [201 153  34]\n",
      "  [198 161  26]\n",
      "  ...\n",
      "  [160 133  70]\n",
      "  [ 56  31   7]\n",
      "  [ 53  34  20]]\n",
      "\n",
      " [[180 139  96]\n",
      "  [173 123  42]\n",
      "  [186 144  30]\n",
      "  ...\n",
      "  [184 148  94]\n",
      "  [ 97  62  34]\n",
      "  [ 83  53  34]]\n",
      "\n",
      " [[177 144 116]\n",
      "  [168 129  94]\n",
      "  [179 142  87]\n",
      "  ...\n",
      "  [216 184 140]\n",
      "  [151 118  84]\n",
      "  [123  92  72]]]\n"
     ]
    }
   ],
   "source": [
    "sample = 0\n",
    "print(\"The features of a training sample \\n \\n\", x_train[sample])"
   ]
  },
  {
   "cell_type": "markdown",
   "metadata": {},
   "source": [
    "<font size=4 color=\"black\">\n",
    "    \n",
    "Each value of X in the example is between 0 and 255, they are not normalized."
   ]
  },
  {
   "cell_type": "code",
   "execution_count": 16,
   "metadata": {
    "ExecuteTime": {
     "end_time": "2021-01-28T12:30:05.406456Z",
     "start_time": "2021-01-28T12:30:05.396186Z"
    }
   },
   "outputs": [],
   "source": [
    "# We define a dictionary to associate the class number to a class name.\n",
    "\n",
    "dic = {0: 'airplane', 1: 'automobile', 2: 'bird', 3: 'cat', 4: 'deer', \n",
    "       5: 'dog', 6: 'frog', 7:'horse', 8: 'ship', 9: 'truck'}"
   ]
  },
  {
   "cell_type": "markdown",
   "metadata": {},
   "source": [
    "<font size=5 color=\"blue\">\n",
    "    \n",
    "Showing the image and label(y) of any sample"
   ]
  },
  {
   "cell_type": "code",
   "execution_count": 17,
   "metadata": {
    "ExecuteTime": {
     "end_time": "2021-01-28T12:30:05.519442Z",
     "start_time": "2021-01-28T12:30:05.407912Z"
    }
   },
   "outputs": [
    {
     "name": "stdout",
     "output_type": "stream",
     "text": [
      "\n",
      "The y value of the first training sample is 6\n",
      "It correspons to a frog\n"
     ]
    },
    {
     "data": {
      "image/png": "[encoded data removed]",
      "text/plain": [
       "<Figure size 432x288 with 1 Axes>"
      ]
     },
     "metadata": {
      "needs_background": "light"
     },
     "output_type": "display_data"
    }
   ],
   "source": [
    "plt.imshow(x_train[sample]);\n",
    "\n",
    "print(\"\\nThe y value of the first training sample is\",np.squeeze(y_train[sample]))\n",
    "print(\"It correspons to a\", dic[int(np.squeeze(y_train[sample]))])"
   ]
  },
  {
   "cell_type": "markdown",
   "metadata": {},
   "source": [
    "<font size=5 color=\"blue\">\n",
    "\n",
    "Features (X values) normalization"
   ]
  },
  {
   "cell_type": "markdown",
   "metadata": {},
   "source": [
    "\n",
    "<font size=4 color=\"black\">\n",
    "To normalize x values, we divide them by 255"
   ]
  },
  {
   "cell_type": "code",
   "execution_count": 18,
   "metadata": {
    "ExecuteTime": {
     "end_time": "2021-01-28T12:30:05.795706Z",
     "start_time": "2021-01-28T12:30:05.521079Z"
    }
   },
   "outputs": [],
   "source": [
    "train_x = x_train/255\n",
    "test_x = x_test/255"
   ]
  },
  {
   "cell_type": "markdown",
   "metadata": {},
   "source": [
    "<font size=4 color=\"black\">    \n",
    "\n",
    "Now the pixel values are between 0 and 1."
   ]
  },
  {
   "cell_type": "code",
   "execution_count": 19,
   "metadata": {
    "ExecuteTime": {
     "end_time": "2021-01-28T12:30:05.801814Z",
     "start_time": "2021-01-28T12:30:05.796996Z"
    }
   },
   "outputs": [
    {
     "data": {
      "text/plain": [
       "array([[[0.23137255, 0.24313725, 0.24705882],\n",
       "        [0.16862745, 0.18039216, 0.17647059],\n",
       "        [0.19607843, 0.18823529, 0.16862745],\n",
       "        ...,\n",
       "        [0.61960784, 0.51764706, 0.42352941],\n",
       "        [0.59607843, 0.49019608, 0.4       ],\n",
       "        [0.58039216, 0.48627451, 0.40392157]],\n",
       "\n",
       "       [[0.0627451 , 0.07843137, 0.07843137],\n",
       "        [0.        , 0.        , 0.        ],\n",
       "        [0.07058824, 0.03137255, 0.        ],\n",
       "        ...,\n",
       "        [0.48235294, 0.34509804, 0.21568627],\n",
       "        [0.46666667, 0.3254902 , 0.19607843],\n",
       "        [0.47843137, 0.34117647, 0.22352941]],\n",
       "\n",
       "       [[0.09803922, 0.09411765, 0.08235294],\n",
       "        [0.0627451 , 0.02745098, 0.        ],\n",
       "        [0.19215686, 0.10588235, 0.03137255],\n",
       "        ...,\n",
       "        [0.4627451 , 0.32941176, 0.19607843],\n",
       "        [0.47058824, 0.32941176, 0.19607843],\n",
       "        [0.42745098, 0.28627451, 0.16470588]],\n",
       "\n",
       "       ...,\n",
       "\n",
       "       [[0.81568627, 0.66666667, 0.37647059],\n",
       "        [0.78823529, 0.6       , 0.13333333],\n",
       "        [0.77647059, 0.63137255, 0.10196078],\n",
       "        ...,\n",
       "        [0.62745098, 0.52156863, 0.2745098 ],\n",
       "        [0.21960784, 0.12156863, 0.02745098],\n",
       "        [0.20784314, 0.13333333, 0.07843137]],\n",
       "\n",
       "       [[0.70588235, 0.54509804, 0.37647059],\n",
       "        [0.67843137, 0.48235294, 0.16470588],\n",
       "        [0.72941176, 0.56470588, 0.11764706],\n",
       "        ...,\n",
       "        [0.72156863, 0.58039216, 0.36862745],\n",
       "        [0.38039216, 0.24313725, 0.13333333],\n",
       "        [0.3254902 , 0.20784314, 0.13333333]],\n",
       "\n",
       "       [[0.69411765, 0.56470588, 0.45490196],\n",
       "        [0.65882353, 0.50588235, 0.36862745],\n",
       "        [0.70196078, 0.55686275, 0.34117647],\n",
       "        ...,\n",
       "        [0.84705882, 0.72156863, 0.54901961],\n",
       "        [0.59215686, 0.4627451 , 0.32941176],\n",
       "        [0.48235294, 0.36078431, 0.28235294]]])"
      ]
     },
     "execution_count": 19,
     "metadata": {},
     "output_type": "execute_result"
    }
   ],
   "source": [
    "train_x[sample]"
   ]
  },
  {
   "cell_type": "code",
   "execution_count": 20,
   "metadata": {
    "ExecuteTime": {
     "end_time": "2021-01-28T12:30:05.907138Z",
     "start_time": "2021-01-28T12:30:05.803075Z"
    }
   },
   "outputs": [
    {
     "data": {
      "text/plain": [
       "<matplotlib.image.AxesImage at 0x7f0bc8c6ebe0>"
      ]
     },
     "execution_count": 20,
     "metadata": {},
     "output_type": "execute_result"
    },
    {
     "data": {
      "image/png": "[encoded data removed]",
      "text/plain": [
       "<Figure size 432x288 with 1 Axes>"
      ]
     },
     "metadata": {
      "needs_background": "light"
     },
     "output_type": "display_data"
    }
   ],
   "source": [
    "plt.imshow(train_x[sample])"
   ]
  },
  {
   "cell_type": "code",
   "execution_count": 21,
   "metadata": {
    "ExecuteTime": {
     "end_time": "2021-01-28T12:30:05.912572Z",
     "start_time": "2021-01-28T12:30:05.908663Z"
    }
   },
   "outputs": [
    {
     "data": {
      "text/plain": [
       "array([[6],\n",
       "       [9],\n",
       "       [9],\n",
       "       ...,\n",
       "       [9],\n",
       "       [1],\n",
       "       [1]], dtype=uint8)"
      ]
     },
     "execution_count": 21,
     "metadata": {},
     "output_type": "execute_result"
    }
   ],
   "source": [
    "y_train"
   ]
  },
  {
   "cell_type": "markdown",
   "metadata": {},
   "source": [
    "<font size=5 color='blue'>\n",
    "One-hot encoding of target variable (y)"
   ]
  },
  {
   "cell_type": "markdown",
   "metadata": {},
   "source": [
    "<font size=4 color='black'>\n",
    "The target value can have one of ten elements (classes), the digits (0, 1, 2, 3, 4, 5, 6, 7, 8, 9). \n",
    "\n",
    "The sets train_y and test_y are arrays in which each entry contains a digit represented as a integer of 64 bits.\n",
    "    \n",
    "We change this representation to a vector following the One-hot encoding \n",
    "[One-hot encoding](https://en.wikipedia.org/wiki/One-hot).\n",
    "    \n",
    "In One-Hot encoding, a digit is represented with a vector that has dimension 10 (because we have 10 classes) with 1.0 in the vector index corresponding to the digit and 0.0 elsewhere in the vector. \n"
   ]
  },
  {
   "cell_type": "code",
   "execution_count": 22,
   "metadata": {
    "ExecuteTime": {
     "end_time": "2021-01-28T12:30:05.923981Z",
     "start_time": "2021-01-28T12:30:05.914458Z"
    }
   },
   "outputs": [
    {
     "data": {
      "text/plain": [
       "(50000, 1)"
      ]
     },
     "execution_count": 22,
     "metadata": {},
     "output_type": "execute_result"
    }
   ],
   "source": [
    "y_train.shape"
   ]
  },
  {
   "cell_type": "code",
   "execution_count": 23,
   "metadata": {
    "ExecuteTime": {
     "end_time": "2021-01-28T12:30:05.935837Z",
     "start_time": "2021-01-28T12:30:05.928678Z"
    }
   },
   "outputs": [
    {
     "data": {
      "text/plain": [
       "(50000,)"
      ]
     },
     "execution_count": 23,
     "metadata": {},
     "output_type": "execute_result"
    }
   ],
   "source": [
    "y_train.reshape(-1).shape"
   ]
  },
  {
   "cell_type": "code",
   "execution_count": 24,
   "metadata": {
    "ExecuteTime": {
     "end_time": "2021-01-28T12:30:05.947163Z",
     "start_time": "2021-01-28T12:30:05.937794Z"
    }
   },
   "outputs": [],
   "source": [
    "train_y = np.eye(10)[y_train.reshape(-1)]\n",
    "test_y = np.eye(10)[y_test.reshape(-1)]"
   ]
  },
  {
   "cell_type": "code",
   "execution_count": 25,
   "metadata": {
    "ExecuteTime": {
     "end_time": "2021-01-28T12:30:05.960543Z",
     "start_time": "2021-01-28T12:30:05.948370Z"
    }
   },
   "outputs": [
    {
     "name": "stdout",
     "output_type": "stream",
     "text": [
      "[[6]\n",
      " [9]\n",
      " [9]\n",
      " [4]\n",
      " [1]]\n"
     ]
    }
   ],
   "source": [
    "print(y_train[0:5])"
   ]
  },
  {
   "cell_type": "code",
   "execution_count": 26,
   "metadata": {
    "ExecuteTime": {
     "end_time": "2021-01-28T12:30:05.977161Z",
     "start_time": "2021-01-28T12:30:05.962232Z"
    }
   },
   "outputs": [
    {
     "data": {
      "text/plain": [
       "array([[0., 0., 0., 0., 0., 0., 1., 0., 0., 0.],\n",
       "       [0., 0., 0., 0., 0., 0., 0., 0., 0., 1.],\n",
       "       [0., 0., 0., 0., 0., 0., 0., 0., 0., 1.],\n",
       "       [0., 0., 0., 0., 1., 0., 0., 0., 0., 0.],\n",
       "       [0., 1., 0., 0., 0., 0., 0., 0., 0., 0.]])"
      ]
     },
     "execution_count": 26,
     "metadata": {},
     "output_type": "execute_result"
    }
   ],
   "source": [
    "train_y[0:5]"
   ]
  },
  {
   "cell_type": "markdown",
   "metadata": {
    "ExecuteTime": {
     "end_time": "2020-11-23T17:58:01.255256Z",
     "start_time": "2020-11-23T17:58:01.245993Z"
    }
   },
   "source": [
    "<font size=5 color=\"blue\">\n",
    "    \n",
    "Viewing one sample from the data set."
   ]
  },
  {
   "cell_type": "code",
   "execution_count": 27,
   "metadata": {
    "ExecuteTime": {
     "end_time": "2021-01-28T12:30:06.085814Z",
     "start_time": "2021-01-28T12:30:05.978563Z"
    }
   },
   "outputs": [
    {
     "name": "stdout",
     "output_type": "stream",
     "text": [
      "The sample 9 corresponds to a cat\n",
      "Its one-hot representation is = [0. 0. 0. 1. 0. 0. 0. 0. 0. 0.]\n"
     ]
    },
    {
     "data": {
      "image/png": "[encoded data removed]",
      "text/plain": [
       "<Figure size 432x288 with 1 Axes>"
      ]
     },
     "metadata": {
      "needs_background": "light"
     },
     "output_type": "display_data"
    }
   ],
   "source": [
    "sample = 9\n",
    "\n",
    "plt.imshow(train_x[sample]);\n",
    "\n",
    "print('The sample', sample, 'corresponds to a', dic[int(np.argmax(train_y[sample]))])\n",
    "print(\"Its one-hot representation is =\", train_y[sample])"
   ]
  },
  {
   "cell_type": "markdown",
   "metadata": {},
   "source": [
    "<font size=4 color=\"black\">\n",
    "    \n",
    "In summary, the training and test sample sets have the following dimensions:"
   ]
  },
  {
   "cell_type": "code",
   "execution_count": 28,
   "metadata": {
    "ExecuteTime": {
     "end_time": "2021-01-28T12:30:06.092256Z",
     "start_time": "2021-01-28T12:30:06.087656Z"
    }
   },
   "outputs": [
    {
     "name": "stdout",
     "output_type": "stream",
     "text": [
      "number of training examples = 50000\n",
      "number of test examples = 10000\n",
      "X_train shape: (50000, 32, 32, 3)\n",
      "Y_train shape: (50000, 10)\n",
      "X_test shape: (10000, 32, 32, 3)\n",
      "Y_test shape: (10000, 10)\n"
     ]
    }
   ],
   "source": [
    "print (\"number of training examples = \" + str(train_x.shape[0]))\n",
    "print (\"number of test examples = \" + str(test_x.shape[0]))\n",
    "print (\"X_train shape: \" + str(train_x.shape))\n",
    "print (\"Y_train shape: \" + str(train_y.shape))\n",
    "print (\"X_test shape: \" + str(test_x.shape))\n",
    "print (\"Y_test shape: \" + str(test_y.shape))"
   ]
  },
  {
   "cell_type": "markdown",
   "metadata": {},
   "source": [
    "<font size=5 color=\"blue\">\n",
    "\n",
    "Building the Learning System"
   ]
  },
  {
   "cell_type": "markdown",
   "metadata": {
    "ExecuteTime": {
     "end_time": "2020-11-23T18:05:49.800018Z",
     "start_time": "2020-11-23T18:05:49.790932Z"
    }
   },
   "source": [
    "<font size=5 color='blue'>\n",
    "\n",
    "Definition of the neural network architecture"
   ]
  },
  {
   "cell_type": "markdown",
   "metadata": {},
   "source": [
    "<font size=5 color='black'> \n",
    "    \n",
    "Keras has two different modes to define the architecture:\n",
    "\n",
    "<font size=4 color='black'> \n",
    "    \n",
    "1.- The sequential model. It is a sequential stack of layers.\n",
    "    \n",
    "2.- The functional API. It is the way to go for defining complex models, such as multi-output models, directed acyclic graphs, or models with shared layers.  \n",
    "\n",
    "In the present case, we will use the first mode to build the network architecture.\n",
    "    \n",
    "Documentation: [Keras Sequential class](https://keras.io/api/models/sequential/)"
   ]
  },
  {
   "attachments": {
    "image.png": {
     "image/png": "[encoded data removed]"
    }
   },
   "cell_type": "markdown",
   "metadata": {},
   "source": [
    "<font size=4 color='black'>    \n",
    "The softmax activation function is always used for classification when the number (K) of classes is greater than two: \n",
    "\n",
    "![image.png](attachment:image.png)    "
   ]
  },
  {
   "cell_type": "markdown",
   "metadata": {},
   "source": [
    "<font size=5 color='blue'>\n",
    "\n",
    "Construction of the architecture for several models"
   ]
  },
  {
   "cell_type": "markdown",
   "metadata": {},
   "source": [
    "<font size=4 color='black'>\n",
    "\n",
    "[CNN, Keras](https://keras.io/api/layers/convolution_layers/)"
   ]
  },
  {
   "cell_type": "markdown",
   "metadata": {},
   "source": [
    "<font size=5 color='red'>\n",
    "\n",
    "To activate a model, change the content of the respective markdown cell to code"
   ]
  },
  {
   "cell_type": "markdown",
   "metadata": {
    "ExecuteTime": {
     "end_time": "2020-12-01T18:07:52.155781Z",
     "start_time": "2020-12-01T18:07:52.145075Z"
    }
   },
   "source": [
    "#Model 000-9\n",
    "def architecture(input_shape, num_classes, activation, dropout=False, batch_normalization=False):\n",
    "    \n",
    "    model = Sequential()\n",
    "    \n",
    "    model.add(Conv2D(12, 3, padding='same', input_shape=input_shape))\n",
    "    model.add(Activation(activation))    \n",
    "    if batch_normalization: \n",
    "        model.add(BatchNormalization())  # Performing batch normalization to the output of the input layer\n",
    "\n",
    "    model.add(Conv2D(12, 3, padding='same', input_shape=input_shape))\n",
    "    model.add(Activation(activation))    \n",
    "    if batch_normalization: \n",
    "        model.add(BatchNormalization())  # Performing batch normalization to the output of the input layer\n",
    "\n",
    "    model.add(MaxPooling2D()) \n",
    "               \n",
    "    model.add(Conv2D(12, 3, padding='same', input_shape=input_shape))\n",
    "    model.add(Activation(activation))    \n",
    "    if batch_normalization: \n",
    "        model.add(BatchNormalization())  # Performing batch normalization to the output of the input layer\n",
    "\n",
    "    model.add(Conv2D(12, 3, padding='same', input_shape=input_shape))\n",
    "    model.add(Activation(activation))    \n",
    "    if batch_normalization: \n",
    "        model.add(BatchNormalization())  # Performing batch normalization to the output of the input layer\n",
    "\n",
    "    model.add(Conv2D(12, 3, padding='same', input_shape=input_shape))\n",
    "    model.add(Activation(activation))    \n",
    "    if batch_normalization: \n",
    "        model.add(BatchNormalization())  # Performing batch normalization to the output of the input layer\n",
    " \n",
    "    \n",
    "    \n",
    "    model.add(Flatten())\n",
    "    if dropout:\n",
    "        model.add(Dropout(0.30))\n",
    "    \n",
    "    model.add(Dense(50, kernel_initializer='he_uniform',bias_initializer='zeros'))\n",
    "    model.add(Activation(activation))    \n",
    "    if batch_normalization:\n",
    "        model.add(BatchNormalization())  \n",
    "    if dropout:\n",
    "        model.add(Dropout(0.30))\n",
    "    \n",
    "    model.add(Dense(50, kernel_initializer='he_uniform',bias_initializer='zeros'))\n",
    "    model.add(Activation(activation))    \n",
    "    if batch_normalization:\n",
    "        model.add(BatchNormalization())      \n",
    "    if dropout:\n",
    "        model.add(Dropout(0.30))\n",
    "    \n",
    "    model.add(Dense(num_classes))\n",
    "    model.add(Activation('softmax',name='CNN_Cifar10Model'))\n",
    "    \n",
    "    return model\n"
   ]
  },
  {
   "cell_type": "markdown",
   "metadata": {
    "ExecuteTime": {
     "end_time": "2020-12-01T18:36:31.800685Z",
     "start_time": "2020-12-01T18:36:31.787579Z"
    }
   },
   "source": [
    "#Model 000-8\n",
    "def architecture(input_shape, num_classes, activation, dropout=False, batch_normalization=False):\n",
    "    \n",
    "    model = Sequential()\n",
    "    \n",
    "    model.add(Conv2D(12, 3, padding='same', input_shape=input_shape))\n",
    "    model.add(Activation(activation))    \n",
    "    if batch_normalization: \n",
    "        model.add(BatchNormalization())  # Performing batch normalization to the output of the input layer\n",
    "\n",
    "    model.add(Conv2D(12, 3, padding='same', input_shape=input_shape))\n",
    "    model.add(Activation(activation))    \n",
    "    if batch_normalization: \n",
    "        model.add(BatchNormalization())  # Performing batch normalization to the output of the input layer\n",
    "\n",
    "    model.add(MaxPooling2D()) \n",
    "               \n",
    "    model.add(Conv2D(12, 3, padding='same', input_shape=input_shape))\n",
    "    model.add(Activation(activation))    \n",
    "    if batch_normalization: \n",
    "        model.add(BatchNormalization())  # Performing batch normalization to the output of the input layer\n",
    "\n",
    "    model.add(Conv2D(12, 3, padding='same', input_shape=input_shape))\n",
    "    model.add(Activation(activation))    \n",
    "    if batch_normalization: \n",
    "        model.add(BatchNormalization())  # Performing batch normalization to the output of the input layer\n",
    "\n",
    "    model.add(MaxPooling2D()) \n",
    "    \n",
    "    \n",
    "    model.add(Flatten())\n",
    "    if dropout:\n",
    "        model.add(Dropout(0.30))\n",
    "    \n",
    "    model.add(Dense(50, kernel_initializer='he_uniform',bias_initializer='zeros'))\n",
    "    model.add(Activation(activation))    \n",
    "    if batch_normalization:\n",
    "        model.add(BatchNormalization())  \n",
    "    if dropout:\n",
    "        model.add(Dropout(0.30))\n",
    "    \n",
    "    model.add(Dense(50, kernel_initializer='he_uniform',bias_initializer='zeros'))\n",
    "    model.add(Activation(activation))    \n",
    "    if batch_normalization:\n",
    "        model.add(BatchNormalization())      \n",
    "    if dropout:\n",
    "        model.add(Dropout(0.30))\n",
    "    \n",
    "    model.add(Dense(num_classes))\n",
    "    model.add(Activation('softmax',name='CNN_Cifar10Model'))\n",
    "    \n",
    "    return model\n"
   ]
  },
  {
   "cell_type": "markdown",
   "metadata": {
    "ExecuteTime": {
     "end_time": "2020-12-01T18:23:15.773402Z",
     "start_time": "2020-12-01T18:23:15.762621Z"
    }
   },
   "source": [
    "#Model 000-7\n",
    "def architecture(input_shape, num_classes, activation, dropout=False, batch_normalization=False):\n",
    "    \n",
    "    model = Sequential()\n",
    "    \n",
    "    model.add(Conv2D(12, 3, padding='same', input_shape=input_shape))\n",
    "    model.add(Activation(activation))    \n",
    "    if batch_normalization: \n",
    "        model.add(BatchNormalization())  # Performing batch normalization to the output of the input layer\n",
    "\n",
    "    model.add(Conv2D(12, 3, padding='same', input_shape=input_shape))\n",
    "    model.add(Activation(activation))    \n",
    "    if batch_normalization: \n",
    "        model.add(BatchNormalization())  # Performing batch normalization to the output of the input layer\n",
    "\n",
    "    model.add(MaxPooling2D()) \n",
    "               \n",
    "    model.add(Conv2D(12, 3, padding='same', input_shape=input_shape))\n",
    "    model.add(Activation(activation))    \n",
    "    if batch_normalization: \n",
    "        model.add(BatchNormalization())  # Performing batch normalization to the output of the input layer\n",
    "\n",
    "    model.add(Conv2D(12, 3, padding='same', input_shape=input_shape))\n",
    "    model.add(Activation(activation))    \n",
    "    if batch_normalization: \n",
    "        model.add(BatchNormalization())  # Performing batch normalization to the output of the input layer\n",
    "\n",
    "        \n",
    "    model.add(Flatten())\n",
    "    if dropout:\n",
    "        model.add(Dropout(0.30))\n",
    "    \n",
    "    model.add(Dense(50, kernel_initializer='he_uniform',bias_initializer='zeros'))\n",
    "    model.add(Activation(activation))    \n",
    "    if batch_normalization:\n",
    "        model.add(BatchNormalization())  \n",
    "    if dropout:\n",
    "        model.add(Dropout(0.30))\n",
    "    \n",
    "    model.add(Dense(50, kernel_initializer='he_uniform',bias_initializer='zeros'))\n",
    "    model.add(Activation(activation))    \n",
    "    if batch_normalization:\n",
    "        model.add(BatchNormalization())      \n",
    "    if dropout:\n",
    "        model.add(Dropout(0.30))\n",
    "    \n",
    "    model.add(Dense(num_classes))\n",
    "    model.add(Activation('softmax',name='CNN_Cifar10Model'))\n",
    "    \n",
    "    return model\n"
   ]
  },
  {
   "cell_type": "markdown",
   "metadata": {
    "ExecuteTime": {
     "end_time": "2020-12-01T17:26:05.613310Z",
     "start_time": "2020-12-01T17:26:05.601347Z"
    }
   },
   "source": [
    "#Model 000-6\n",
    "def architecture(input_shape, num_classes, activation, dropout=False, batch_normalization=False):\n",
    "    \n",
    "    model = Sequential()\n",
    "    \n",
    "    model.add(Conv2D(12, 3, padding='same', input_shape=input_shape))\n",
    "    model.add(Activation(activation))    \n",
    "    if batch_normalization: \n",
    "        model.add(BatchNormalization())  # Performing batch normalization to the output of the input layer\n",
    "\n",
    "    model.add(Conv2D(12, 3, padding='same', input_shape=input_shape))\n",
    "    model.add(Activation(activation))    \n",
    "    if batch_normalization: \n",
    "        model.add(BatchNormalization())  # Performing batch normalization to the output of the input layer\n",
    "\n",
    "    model.add(MaxPooling2D()) \n",
    "               \n",
    "    model.add(Conv2D(12, 3, padding='same', input_shape=input_shape))\n",
    "    model.add(Activation(activation))    \n",
    "    if batch_normalization: \n",
    "        model.add(BatchNormalization())  # Performing batch normalization to the output of the input layer\n",
    "    \n",
    "    model.add(Flatten())\n",
    "    if dropout:\n",
    "        model.add(Dropout(0.30))\n",
    "    \n",
    "    model.add(Dense(50, kernel_initializer='he_uniform',bias_initializer='zeros'))\n",
    "    model.add(Activation(activation))    \n",
    "    if batch_normalization:\n",
    "        model.add(BatchNormalization())  \n",
    "    if dropout:\n",
    "        model.add(Dropout(0.30))\n",
    "    \n",
    "    model.add(Dense(50, kernel_initializer='he_uniform',bias_initializer='zeros'))\n",
    "    model.add(Activation(activation))    \n",
    "    if batch_normalization:\n",
    "        model.add(BatchNormalization())      \n",
    "    if dropout:\n",
    "        model.add(Dropout(0.30))\n",
    "    \n",
    "    model.add(Dense(num_classes))\n",
    "    model.add(Activation('softmax',name='CNN_Cifar10Model'))\n",
    "    \n",
    "    return model\n"
   ]
  },
  {
   "cell_type": "markdown",
   "metadata": {
    "ExecuteTime": {
     "end_time": "2020-12-01T17:00:10.680832Z",
     "start_time": "2020-12-01T17:00:10.669409Z"
    }
   },
   "source": [
    "#Model 000-5\n",
    "def architecture(input_shape, num_classes, activation, dropout=False, batch_normalization=False):\n",
    "    \n",
    "    model = Sequential()\n",
    "    \n",
    "    model.add(Conv2D(12, 3, padding='same', input_shape=input_shape))\n",
    "    model.add(Activation(activation))    \n",
    "    if batch_normalization: \n",
    "        model.add(BatchNormalization())  # Performing batch normalization to the output of the input layer\n",
    "\n",
    "    model.add(Conv2D(12, 3, padding='same', input_shape=input_shape))\n",
    "    model.add(Activation(activation))    \n",
    "    if batch_normalization: \n",
    "        model.add(BatchNormalization())  # Performing batch normalization to the output of the input layer\n",
    "\n",
    "    model.add(MaxPooling2D()) \n",
    "               \n",
    "    \n",
    "    model.add(Flatten())\n",
    "    if dropout:\n",
    "        model.add(Dropout(0.30))\n",
    "    \n",
    "    model.add(Dense(50, kernel_initializer='he_uniform',bias_initializer='zeros'))\n",
    "    model.add(Activation(activation))    \n",
    "    if batch_normalization:\n",
    "        model.add(BatchNormalization())  \n",
    "    if dropout:\n",
    "        model.add(Dropout(0.30))\n",
    "    \n",
    "    model.add(Dense(50, kernel_initializer='he_uniform',bias_initializer='zeros'))\n",
    "    model.add(Activation(activation))    \n",
    "    if batch_normalization:\n",
    "        model.add(BatchNormalization())      \n",
    "    if dropout:\n",
    "        model.add(Dropout(0.30))\n",
    "    \n",
    "    model.add(Dense(num_classes))\n",
    "    model.add(Activation('softmax',name='CNN_Cifar10Model'))\n",
    "    \n",
    "    return model\n"
   ]
  },
  {
   "cell_type": "markdown",
   "metadata": {
    "ExecuteTime": {
     "end_time": "2020-12-01T16:44:05.350199Z",
     "start_time": "2020-12-01T16:44:05.340602Z"
    }
   },
   "source": [
    "#Model 000-4\n",
    "def architecture(input_shape, num_classes, activation, dropout=False, batch_normalization=False):\n",
    "    \n",
    "    model = Sequential()\n",
    "    \n",
    "    model.add(Conv2D(12, 3, padding='same', input_shape=input_shape))\n",
    "    model.add(Activation(activation))    \n",
    "    if batch_normalization: \n",
    "        model.add(BatchNormalization())  # Performing batch normalization to the output of the input layer\n",
    "\n",
    "    model.add(Conv2D(12, 3, padding='same', input_shape=input_shape))\n",
    "    model.add(Activation(activation))    \n",
    "    if batch_normalization: \n",
    "        model.add(BatchNormalization())  # Performing batch normalization to the output of the input layer\n",
    "               \n",
    "    \n",
    "    model.add(Flatten())\n",
    "    if dropout:\n",
    "        model.add(Dropout(0.30))\n",
    "    \n",
    "    model.add(Dense(50, kernel_initializer='he_uniform',bias_initializer='zeros'))\n",
    "    model.add(Activation(activation))    \n",
    "    if batch_normalization:\n",
    "        model.add(BatchNormalization())  \n",
    "    if dropout:\n",
    "        model.add(Dropout(0.30))\n",
    "    \n",
    "    model.add(Dense(50, kernel_initializer='he_uniform',bias_initializer='zeros'))\n",
    "    model.add(Activation(activation))    \n",
    "    if batch_normalization:\n",
    "        model.add(BatchNormalization())      \n",
    "    if dropout:\n",
    "        model.add(Dropout(0.30))\n",
    "    \n",
    "    model.add(Dense(num_classes))\n",
    "    model.add(Activation('softmax',name='CNN_Cifar10Model'))\n",
    "    \n",
    "    return model\n"
   ]
  },
  {
   "cell_type": "markdown",
   "metadata": {
    "ExecuteTime": {
     "end_time": "2020-12-01T16:29:22.588957Z",
     "start_time": "2020-12-01T16:29:22.578670Z"
    }
   },
   "source": [
    "#Model 000-3\n",
    "def architecture(input_shape, num_classes, activation, dropout=False, batch_normalization=False):\n",
    "    \n",
    "    model = Sequential()\n",
    "    \n",
    "    model.add(Conv2D(12, 3, padding='same', input_shape=input_shape))\n",
    "    model.add(Activation(activation))    \n",
    "    if batch_normalization: \n",
    "        model.add(BatchNormalization())  # Performing batch normalization to the output of the input layer\n",
    "               \n",
    "    \n",
    "    model.add(Flatten())\n",
    "    if dropout:\n",
    "        model.add(Dropout(0.30))\n",
    "    \n",
    "    model.add(Dense(50, kernel_initializer='he_uniform',bias_initializer='zeros'))\n",
    "    model.add(Activation(activation))    \n",
    "    if batch_normalization:\n",
    "        model.add(BatchNormalization())  \n",
    "    if dropout:\n",
    "        model.add(Dropout(0.30))\n",
    "    \n",
    "    model.add(Dense(50, kernel_initializer='he_uniform',bias_initializer='zeros'))\n",
    "    model.add(Activation(activation))    \n",
    "    if batch_normalization:\n",
    "        model.add(BatchNormalization())      \n",
    "    if dropout:\n",
    "        model.add(Dropout(0.30))\n",
    "    \n",
    "    model.add(Dense(num_classes))\n",
    "    model.add(Activation('softmax',name='CNN_Cifar10Model'))\n",
    "    \n",
    "    return model\n"
   ]
  },
  {
   "cell_type": "markdown",
   "metadata": {
    "ExecuteTime": {
     "end_time": "2020-12-01T16:17:54.465288Z",
     "start_time": "2020-12-01T16:17:54.455121Z"
    }
   },
   "source": [
    "#Model 000-2\n",
    "def architecture(input_shape, num_classes, activation, dropout=False, batch_normalization=False):\n",
    "    \n",
    "    model = Sequential()\n",
    "    \n",
    "    model.add(Conv2D(9, 3, padding='same', input_shape=input_shape))\n",
    "    model.add(Activation(activation))    \n",
    "    if batch_normalization: \n",
    "        model.add(BatchNormalization())  # Performing batch normalization to the output of the input layer\n",
    "               \n",
    "    \n",
    "    model.add(Flatten())\n",
    "    if dropout:\n",
    "        model.add(Dropout(0.30))\n",
    "    \n",
    "    model.add(Dense(50, kernel_initializer='he_uniform',bias_initializer='zeros'))\n",
    "    model.add(Activation(activation))    \n",
    "    if batch_normalization:\n",
    "        model.add(BatchNormalization())  \n",
    "    if dropout:\n",
    "        model.add(Dropout(0.30))\n",
    "    \n",
    "    model.add(Dense(50, kernel_initializer='he_uniform',bias_initializer='zeros'))\n",
    "    model.add(Activation(activation))    \n",
    "    if batch_normalization:\n",
    "        model.add(BatchNormalization())      \n",
    "    if dropout:\n",
    "        model.add(Dropout(0.30))\n",
    "    \n",
    "    model.add(Dense(num_classes))\n",
    "    model.add(Activation('softmax',name='CNN_Cifar10Model'))\n",
    "    \n",
    "    return model\n"
   ]
  },
  {
   "cell_type": "markdown",
   "metadata": {
    "ExecuteTime": {
     "end_time": "2020-12-01T16:08:37.505958Z",
     "start_time": "2020-12-01T16:08:37.496356Z"
    }
   },
   "source": [
    "#Model 000-1\n",
    "def architecture(input_shape, num_classes, activation, dropout=False, batch_normalization=False):\n",
    "    \n",
    "    model = Sequential()\n",
    "    \n",
    "    model.add(Conv2D(6, 3, padding='same', input_shape=input_shape))\n",
    "    model.add(Activation(activation))    \n",
    "    if batch_normalization: \n",
    "        model.add(BatchNormalization())  # Performing batch normalization to the output of the input layer\n",
    "               \n",
    "    \n",
    "    model.add(Flatten())\n",
    "    if dropout:\n",
    "        model.add(Dropout(0.30))\n",
    "    \n",
    "    model.add(Dense(50, kernel_initializer='he_uniform',bias_initializer='zeros'))\n",
    "    model.add(Activation(activation))    \n",
    "    if batch_normalization:\n",
    "        model.add(BatchNormalization())  \n",
    "    if dropout:\n",
    "        model.add(Dropout(0.30))\n",
    "    \n",
    "    model.add(Dense(50, kernel_initializer='he_uniform',bias_initializer='zeros'))\n",
    "    model.add(Activation(activation))    \n",
    "    if batch_normalization:\n",
    "        model.add(BatchNormalization())      \n",
    "    if dropout:\n",
    "        model.add(Dropout(0.30))\n",
    "    \n",
    "    model.add(Dense(num_classes))\n",
    "    model.add(Activation('softmax',name='CNN_Cifar10Model'))\n",
    "    \n",
    "    return model\n"
   ]
  },
  {
   "cell_type": "code",
   "execution_count": 29,
   "metadata": {
    "ExecuteTime": {
     "end_time": "2021-01-28T12:30:06.103576Z",
     "start_time": "2021-01-28T12:30:06.093403Z"
    }
   },
   "outputs": [],
   "source": [
    "#Model 000\n",
    "def architecture(input_shape, num_classes, activation, dropout=False, batch_normalization=False):\n",
    "    \n",
    "    model = Sequential()\n",
    "    \n",
    "    model.add(Conv2D(3, 3, padding='same', input_shape=input_shape))\n",
    "    model.add(Activation(activation))    \n",
    "    if batch_normalization: \n",
    "        model.add(BatchNormalization())  # Performing batch normalization to the output of the input layer\n",
    "               \n",
    "    \n",
    "    model.add(Flatten())\n",
    "    if dropout:\n",
    "        model.add(Dropout(0.30))\n",
    "    \n",
    "    model.add(Dense(50, kernel_initializer='he_uniform',bias_initializer='zeros'))\n",
    "    model.add(Activation(activation))    \n",
    "    if batch_normalization:\n",
    "        model.add(BatchNormalization())  \n",
    "    if dropout:\n",
    "        model.add(Dropout(0.30))\n",
    "    \n",
    "    model.add(Dense(50, kernel_initializer='he_uniform',bias_initializer='zeros'))\n",
    "    model.add(Activation(activation))    \n",
    "    if batch_normalization:\n",
    "        model.add(BatchNormalization())      \n",
    "    if dropout:\n",
    "        model.add(Dropout(0.30))\n",
    "    \n",
    "    model.add(Dense(num_classes))\n",
    "    model.add(Activation('softmax',name='CNN_Cifar10Model'))\n",
    "    \n",
    "    return model\n"
   ]
  },
  {
   "cell_type": "markdown",
   "metadata": {
    "ExecuteTime": {
     "end_time": "2020-12-01T15:13:15.529906Z",
     "start_time": "2020-12-01T15:13:15.520375Z"
    }
   },
   "source": [
    "#Model 00\n",
    "def architecture(input_shape, num_classes, activation, dropout=False, batch_normalization=False):\n",
    "    \n",
    "    model = Sequential()\n",
    "    \n",
    "    model.add(Conv2D(32, 3, padding='same', input_shape=input_shape))\n",
    "    model.add(Activation(activation))    \n",
    "    if batch_normalization: \n",
    "        model.add(BatchNormalization())  # Performing batch normalization to the output of the input layer\n",
    "               \n",
    "    \n",
    "    model.add(Flatten())\n",
    "    if dropout:\n",
    "        model.add(Dropout(0.30))\n",
    "    \n",
    "    model.add(Dense(50, kernel_initializer='he_uniform',bias_initializer='zeros'))\n",
    "    model.add(Activation(activation))    \n",
    "    if batch_normalization:\n",
    "        model.add(BatchNormalization())  \n",
    "    if dropout:\n",
    "        model.add(Dropout(0.30))\n",
    "    \n",
    "    model.add(Dense(50, kernel_initializer='he_uniform',bias_initializer='zeros'))\n",
    "    model.add(Activation(activation))    \n",
    "    if batch_normalization:\n",
    "        model.add(BatchNormalization())      \n",
    "    if dropout:\n",
    "        model.add(Dropout(0.30))\n",
    "    \n",
    "    model.add(Dense(num_classes))\n",
    "    model.add(Activation('softmax',name='CNN_Cifar10Model'))\n",
    "    \n",
    "    return model\n"
   ]
  },
  {
   "cell_type": "markdown",
   "metadata": {
    "ExecuteTime": {
     "end_time": "2020-12-01T15:00:41.963517Z",
     "start_time": "2020-12-01T15:00:41.947223Z"
    }
   },
   "source": [
    "#Model 0\n",
    "def architecture(input_shape, num_classes, activation, dropout=False, batch_normalization=False):\n",
    "    \n",
    "    model = Sequential()\n",
    "    \n",
    "    model.add(Conv2D(32, 3, padding='same', input_shape=input_shape))\n",
    "    model.add(Activation(activation))    \n",
    "    if batch_normalization: \n",
    "        model.add(BatchNormalization())  # Performing batch normalization to the output of the input layer\n",
    "               \n",
    "    model.add(MaxPooling2D()) \n",
    "    \n",
    "    \n",
    "    model.add(Flatten())\n",
    "    if dropout:\n",
    "        model.add(Dropout(0.30))\n",
    "    \n",
    "    model.add(Dense(50, kernel_initializer='he_uniform',bias_initializer='zeros'))\n",
    "    model.add(Activation(activation))    \n",
    "    if batch_normalization:\n",
    "        model.add(BatchNormalization())  \n",
    "    if dropout:\n",
    "        model.add(Dropout(0.30))\n",
    "    \n",
    "    model.add(Dense(50, kernel_initializer='he_uniform',bias_initializer='zeros'))\n",
    "    model.add(Activation(activation))    \n",
    "    if batch_normalization:\n",
    "        model.add(BatchNormalization())      \n",
    "    if dropout:\n",
    "        model.add(Dropout(0.30))\n",
    "    \n",
    "    model.add(Dense(num_classes))\n",
    "    model.add(Activation('softmax',name='CNN_Cifar10Model'))\n",
    "    \n",
    "    return model\n"
   ]
  },
  {
   "cell_type": "markdown",
   "metadata": {
    "ExecuteTime": {
     "end_time": "2020-12-01T00:41:50.533523Z",
     "start_time": "2020-12-01T00:41:50.522263Z"
    }
   },
   "source": [
    "#Model 1\n",
    "def architecture(input_shape, num_classes, activation, dropout=False, batch_normalization=False):\n",
    "    \n",
    "    model = Sequential()\n",
    "    \n",
    "    model.add(Conv2D(32, 3, padding='same', input_shape=input_shape))\n",
    "    model.add(Activation(activation))    \n",
    "    if batch_normalization: \n",
    "        model.add(BatchNormalization())  # Performing batch normalization to the output of the input layer\n",
    "       \n",
    "    model.add(Conv2D(32, 3, padding='same',kernel_initializer='he_uniform',bias_initializer='zeros'))\n",
    "    model.add(Activation(activation))    \n",
    "    if batch_normalization:\n",
    "        model.add(BatchNormalization())  # Performing batch normalization to the convolution layer\n",
    "        \n",
    "    model.add(MaxPooling2D()) \n",
    "    \n",
    "    \n",
    "    model.add(Flatten())\n",
    "    if dropout:\n",
    "        model.add(Dropout(0.30))\n",
    "    \n",
    "    model.add(Dense(50, kernel_initializer='he_uniform',bias_initializer='zeros'))\n",
    "    model.add(Activation(activation))    \n",
    "    if batch_normalization:\n",
    "        model.add(BatchNormalization())  \n",
    "    if dropout:\n",
    "        model.add(Dropout(0.30))\n",
    "    \n",
    "    model.add(Dense(50, kernel_initializer='he_uniform',bias_initializer='zeros'))\n",
    "    model.add(Activation(activation))    \n",
    "    if batch_normalization:\n",
    "        model.add(BatchNormalization())      \n",
    "    if dropout:\n",
    "        model.add(Dropout(0.30))\n",
    "    \n",
    "    model.add(Dense(num_classes))\n",
    "    model.add(Activation('softmax',name='CNN_Cifar10Model'))\n",
    "    \n",
    "    return model\n"
   ]
  },
  {
   "cell_type": "markdown",
   "metadata": {
    "ExecuteTime": {
     "end_time": "2020-12-01T14:55:49.621551Z",
     "start_time": "2020-12-01T14:55:49.607361Z"
    }
   },
   "source": [
    "#Model 1-1\n",
    "def architecture(input_shape, num_classes, activation, dropout=False, batch_normalization=False):\n",
    "    \n",
    "    model = Sequential()\n",
    "    \n",
    "    model.add(Conv2D(64, 3, padding='same', kernel_initializer='he_uniform',bias_initializer='zeros', \\\n",
    "                     input_shape=input_shape))\n",
    "    model.add(Activation(activation))    \n",
    "    if batch_normalization: \n",
    "        model.add(BatchNormalization())  # Performing batch normalization to the output of the input layer\n",
    "       \n",
    "    model.add(Conv2D(64, 3, padding='same',kernel_initializer='he_uniform',bias_initializer='zeros'))\n",
    "    model.add(Activation(activation))    \n",
    "    if batch_normalization:\n",
    "        model.add(BatchNormalization())  # Performing batch normalization to the convolution layer\n",
    "        \n",
    "    model.add(MaxPooling2D()) \n",
    "    \n",
    "    \n",
    "    model.add(Flatten())\n",
    "    if dropout:\n",
    "        model.add(Dropout(0.30))\n",
    "    \n",
    "    model.add(Dense(50, kernel_initializer='he_uniform',bias_initializer='zeros'))\n",
    "    model.add(Activation(activation))    \n",
    "    if batch_normalization:\n",
    "        model.add(BatchNormalization())  \n",
    "    if dropout:\n",
    "        model.add(Dropout(0.30))\n",
    "    \n",
    "    model.add(Dense(50, kernel_initializer='he_uniform',bias_initializer='zeros'))\n",
    "    model.add(Activation(activation))    \n",
    "    if batch_normalization:\n",
    "        model.add(BatchNormalization())      \n",
    "    if dropout:\n",
    "        model.add(Dropout(0.30))\n",
    "    \n",
    "    model.add(Dense(num_classes))\n",
    "    model.add(Activation('softmax',name='CNN_Cifar10Model'))\n",
    "    \n",
    "    return model\n"
   ]
  },
  {
   "cell_type": "markdown",
   "metadata": {
    "ExecuteTime": {
     "end_time": "2020-12-01T00:20:50.241981Z",
     "start_time": "2020-12-01T00:20:50.228711Z"
    }
   },
   "source": [
    "#Model 2\n",
    "def architecture(input_shape, num_classes, activation, dropout=False, batch_normalization=False):\n",
    "    \n",
    "    model = Sequential()\n",
    "    \n",
    "    model.add(Conv2D(32, 3, padding='same', input_shape=input_shape))\n",
    "    model.add(Activation(activation))    \n",
    "       \n",
    "    model.add(Conv2D(32, 3, padding='same',kernel_initializer='he_uniform',bias_initializer='zeros'))\n",
    "    model.add(Activation(activation))    \n",
    "    model.add(MaxPooling2D())\n",
    "    if batch_normalization:\n",
    "        model.add(BatchNormalization())  # Performing batch normalization to the convolution layer\n",
    "\n",
    "        \n",
    "    model.add(Conv2D(64, 3, padding = 'same', kernel_initializer = 'he_uniform',bias_initializer='zeros'))\n",
    "    model.add(Activation(activation))    \n",
    "               \n",
    "    model.add(Conv2D(64, 3, padding = 'same', kernel_initializer = 'he_uniform',bias_initializer='zeros'))\n",
    "    model.add(Activation(activation))    \n",
    "    model.add(MaxPooling2D())\n",
    "    if batch_normalization:\n",
    "        model.add(BatchNormalization())  # Performing batch normalization to the convolution layer\n",
    "\n",
    "    \n",
    "    model.add(Flatten())\n",
    "    if dropout:\n",
    "        model.add(Dropout(0.30))\n",
    "    \n",
    "    model.add(Dense(50, kernel_initializer='he_uniform',bias_initializer='zeros'))\n",
    "    model.add(Activation(activation))    \n",
    "    if batch_normalization:\n",
    "        model.add(BatchNormalization())  \n",
    "    if dropout:\n",
    "        model.add(Dropout(0.30))\n",
    "    \n",
    "    model.add(Dense(50, kernel_initializer='he_uniform',bias_initializer='zeros'))\n",
    "    model.add(Activation(activation))    \n",
    "    if batch_normalization:\n",
    "        model.add(BatchNormalization())      \n",
    "    if dropout:\n",
    "        model.add(Dropout(0.30))\n",
    "    \n",
    "    model.add(Dense(num_classes))\n",
    "    model.add(Activation('softmax',name='CNN_Cifar10Model'))\n",
    "    \n",
    "    return model\n"
   ]
  },
  {
   "cell_type": "markdown",
   "metadata": {
    "ExecuteTime": {
     "end_time": "2020-12-02T13:42:58.687289Z",
     "start_time": "2020-12-02T13:42:58.672779Z"
    }
   },
   "source": [
    "#Model 3\n",
    "def architecture(input_shape, num_classes, activation, dropout=False, batch_normalization=False):\n",
    "    \n",
    "    model = Sequential()\n",
    "    \n",
    "    model.add(Conv2D(32, 3, padding='same', input_shape=input_shape))\n",
    "    model.add(Activation(activation))    \n",
    "    if batch_normalization: \n",
    "        model.add(BatchNormalization())  # Performing batch normalization to the output of the input layer\n",
    "       \n",
    "    model.add(Conv2D(32, 3, padding='same',kernel_initializer='he_uniform',bias_initializer='zeros'))\n",
    "    model.add(Activation(activation))    \n",
    "    if batch_normalization:\n",
    "        model.add(BatchNormalization())  # Performing batch normalization to the convolution layer\n",
    "        \n",
    "    model.add(MaxPooling2D()) \n",
    "    \n",
    "    model.add(Conv2D(64, 3, padding = 'same', kernel_initializer = 'he_uniform',bias_initializer='zeros'))\n",
    "    model.add(Activation(activation))    \n",
    "    if batch_normalization:\n",
    "        model.add(BatchNormalization())  # Performing batch normalization to the convolution layer\n",
    "               \n",
    "    model.add(Conv2D(64, 3, padding = 'same', kernel_initializer = 'he_uniform',bias_initializer='zeros'))\n",
    "    model.add(Activation(activation))    \n",
    "    if batch_normalization:\n",
    "        model.add(BatchNormalization())  # Performing batch normalization to the convolution layer\n",
    "    \n",
    "    model.add(MaxPooling2D())\n",
    "    \n",
    "    model.add(Flatten())\n",
    "    if dropout:\n",
    "        model.add(Dropout(0.30))\n",
    "    \n",
    "    model.add(Dense(50, kernel_initializer='he_uniform',bias_initializer='zeros'))\n",
    "    model.add(Activation(activation))    \n",
    "    if batch_normalization:\n",
    "        model.add(BatchNormalization())  \n",
    "    if dropout:\n",
    "        model.add(Dropout(0.30))\n",
    "    \n",
    "    model.add(Dense(50, kernel_initializer='he_uniform',bias_initializer='zeros'))\n",
    "    model.add(Activation(activation))    \n",
    "    if batch_normalization:\n",
    "        model.add(BatchNormalization())      \n",
    "    if dropout:\n",
    "        model.add(Dropout(0.30))\n",
    "    \n",
    "    model.add(Dense(num_classes))\n",
    "    model.add(Activation('softmax',name='CNN_Cifar10Model'))\n",
    "    \n",
    "    return model\n"
   ]
  },
  {
   "cell_type": "markdown",
   "metadata": {
    "ExecuteTime": {
     "end_time": "2020-12-01T00:41:50.533523Z",
     "start_time": "2020-12-01T00:41:50.522263Z"
    }
   },
   "source": [
    "#Model 3-1\n",
    "def architecture(input_shape, num_classes, activation, dropout=False, batch_normalization=False):\n",
    "    \n",
    "    model = Sequential()\n",
    "    \n",
    "    model.add(Conv2D(32, 3, padding='same', input_shape=input_shape))\n",
    "    model.add(Activation(activation))    \n",
    "    if batch_normalization: \n",
    "        model.add(BatchNormalization())  # Performing batch normalization to the output of the input layer\n",
    "       \n",
    "    model.add(Conv2D(32, 3, padding='same',kernel_initializer='he_uniform',bias_initializer='zeros'))\n",
    "    model.add(Activation(activation))    \n",
    "    if batch_normalization:\n",
    "        model.add(BatchNormalization())  # Performing batch normalization to the convolution layer\n",
    "        \n",
    "    model.add(MaxPooling2D()) \n",
    "    \n",
    "    model.add(Conv2D(64, 3, padding = 'same', kernel_initializer = 'he_uniform',bias_initializer='zeros'))\n",
    "    model.add(Activation(activation))    \n",
    "    if batch_normalization:\n",
    "        model.add(BatchNormalization())  # Performing batch normalization to the convolution layer\n",
    "               \n",
    "    model.add(Conv2D(64, 3, padding = 'same', kernel_initializer = 'he_uniform',bias_initializer='zeros'))\n",
    "    model.add(Activation(activation))    \n",
    "    if batch_normalization:\n",
    "        model.add(BatchNormalization())  # Performing batch normalization to the convolution layer\n",
    "    \n",
    "    model.add(MaxPooling2D())\n",
    "    \n",
    "    model.add(Flatten())\n",
    "    if dropout:\n",
    "        model.add(Dropout(0.30))\n",
    "    \n",
    "    model.add(Dense(50, kernel_initializer='he_uniform',bias_initializer='zeros'))\n",
    "    model.add(Activation(activation))    \n",
    "    if batch_normalization:\n",
    "        model.add(BatchNormalization())  \n",
    "    if dropout:\n",
    "        model.add(Dropout(0.30))\n",
    "    \n",
    "    model.add(Dense(50, kernel_initializer='he_uniform',bias_initializer='zeros'))\n",
    "    model.add(Activation(activation))    \n",
    "    if batch_normalization:\n",
    "        model.add(BatchNormalization())      \n",
    "    if dropout:\n",
    "        model.add(Dropout(0.30))\n",
    "    \n",
    "    model.add(Dense(num_classes))\n",
    "    model.add(Activation('softmax',name='CNN_Cifar10Model'))\n",
    "    \n",
    "    return model\n"
   ]
  },
  {
   "cell_type": "markdown",
   "metadata": {
    "ExecuteTime": {
     "end_time": "2020-11-30T23:20:30.373451Z",
     "start_time": "2020-11-30T23:20:30.359109Z"
    }
   },
   "source": [
    "#Model 4\n",
    "def architecture(input_shape, num_classes, activation, dropout=False, batch_normalization=False):\n",
    "    \n",
    "    model = Sequential()\n",
    "    \n",
    "    #First convolution module    \n",
    "    model.add(Conv2D(32, 3, padding='same', input_shape=input_shape))\n",
    "    model.add(Activation(activation))\n",
    "    model.add(MaxPooling2D())\n",
    "    if batch_normalization: \n",
    "        model.add(BatchNormalization())  # Performing batch normalization to the output of the input layer\n",
    "       \n",
    "    #Second convolution module\n",
    "    model.add(Conv2D(32, 3, padding='same',kernel_initializer='he_uniform',bias_initializer='zeros'))\n",
    "    model.add(Activation(activation))\n",
    "    model.add(MaxPooling2D())\n",
    "    if batch_normalization:\n",
    "        model.add(BatchNormalization())  # Performing batch normalization to the convolution layer\n",
    "            \n",
    "    #Third convolution module \n",
    "    model.add(Conv2D(64, 3, padding = 'same', kernel_initializer = 'he_uniform',bias_initializer='zeros'))\n",
    "    model.add(Activation(activation))\n",
    "    model.add(MaxPooling2D())\n",
    "    if batch_normalization:\n",
    "        model.add(BatchNormalization())  # Performing batch normalization to the convolution layer\n",
    "        \n",
    "    #Fourth convolution module\n",
    "    model.add(Conv2D(64, 3, padding = 'same', kernel_initializer = 'he_uniform',bias_initializer='zeros'))\n",
    "    model.add(Activation(activation))\n",
    "    model.add(MaxPooling2D())\n",
    "    if batch_normalization:\n",
    "        model.add(BatchNormalization())  # Performing batch normalization to the convolution layer\n",
    "    \n",
    "\n",
    "    #Feed forward \"full\" connected module\n",
    "    model.add(Flatten())\n",
    "    if dropout:\n",
    "        model.add(Dropout(0.30))\n",
    "        \n",
    "    model.add(Dense(50, kernel_initializer='he_uniform',bias_initializer='zeros'))\n",
    "    model.add(Activation(activation))    \n",
    "    if dropout:\n",
    "        model.add(Dropout(0.30))\n",
    "    if batch_normalization:\n",
    "        model.add(BatchNormalization())  \n",
    "    \n",
    "    model.add(Dense(50, kernel_initializer='he_uniform',bias_initializer='zeros'))\n",
    "    model.add(Activation(activation))    \n",
    "    if dropout:\n",
    "        model.add(Dropout(0.30))\n",
    "    if batch_normalization:\n",
    "        model.add(BatchNormalization())      \n",
    "   \n",
    "    model.add(Dense(num_classes))\n",
    "    model.add(Activation('softmax',name='CNN_Cifar10Model'))\n",
    "    \n",
    "    return model\n"
   ]
  },
  {
   "cell_type": "markdown",
   "metadata": {
    "ExecuteTime": {
     "end_time": "2020-03-24T18:29:47.071906Z",
     "start_time": "2020-03-24T18:29:47.067719Z"
    }
   },
   "source": [
    "<font size=5 color=\"blue\">\n",
    "\n",
    "Building the neural network model for the learning system"
   ]
  },
  {
   "cell_type": "code",
   "execution_count": 30,
   "metadata": {
    "ExecuteTime": {
     "end_time": "2021-01-28T12:30:09.341532Z",
     "start_time": "2021-01-28T12:30:06.105000Z"
    }
   },
   "outputs": [],
   "source": [
    "one_image = (32, 32, 3)\n",
    "activation='sigmoid'\n",
    "num_classes=10\n",
    "dropout=True\n",
    "batch_normalization=True\n",
    "\n",
    "cifar10_model = architecture(one_image,num_classes,activation,dropout,batch_normalization)"
   ]
  },
  {
   "cell_type": "markdown",
   "metadata": {
    "ExecuteTime": {
     "end_time": "2020-03-24T00:03:50.539765Z",
     "start_time": "2020-03-24T00:03:50.534266Z"
    }
   },
   "source": [
    "<font size=5 color=\"blue\">\n",
    "    \n",
    "Graph of the model and summary"
   ]
  },
  {
   "cell_type": "markdown",
   "metadata": {},
   "source": [
    "<font size=4 color='black'> \n",
    "The 'plot_model()' function generates a graphic with the layers and their number of input ands output weights.\n",
    "$$ $$\n",
    "Documentation: [Model visualization](https://keras.io/visualization/#training-history-visualization)"
   ]
  },
  {
   "cell_type": "code",
   "execution_count": 31,
   "metadata": {
    "ExecuteTime": {
     "end_time": "2021-01-28T12:30:09.540959Z",
     "start_time": "2021-01-28T12:30:09.342908Z"
    }
   },
   "outputs": [
    {
     "data": {
      "image/png": "[encoded data removed]",
      "text/plain": [
       "<IPython.core.display.Image object>"
      ]
     },
     "execution_count": 31,
     "metadata": {},
     "output_type": "execute_result"
    }
   ],
   "source": [
    "plot_model(cifar10_model, to_file='cifar10_blocks.png', show_shapes=False, rankdir='LR',show_layer_names=False)"
   ]
  },
  {
   "cell_type": "code",
   "execution_count": 32,
   "metadata": {
    "ExecuteTime": {
     "end_time": "2021-01-28T12:30:09.701063Z",
     "start_time": "2021-01-28T12:30:09.542784Z"
    }
   },
   "outputs": [
    {
     "data": {
      "image/png": "[encoded data removed]",
      "text/plain": [
       "<IPython.core.display.Image object>"
      ]
     },
     "execution_count": 32,
     "metadata": {},
     "output_type": "execute_result"
    }
   ],
   "source": [
    "plot_model(cifar10_model, to_file='cifar10_model.png', show_shapes=True, rankdir='TB', show_layer_names=True)"
   ]
  },
  {
   "cell_type": "code",
   "execution_count": 33,
   "metadata": {
    "ExecuteTime": {
     "end_time": "2021-01-28T12:30:09.710578Z",
     "start_time": "2021-01-28T12:30:09.702837Z"
    }
   },
   "outputs": [
    {
     "name": "stdout",
     "output_type": "stream",
     "text": [
      "Model: \"sequential\"\n",
      "_________________________________________________________________\n",
      "Layer (type)                 Output Shape              Param #   \n",
      "=================================================================\n",
      "conv2d (Conv2D)              (None, 32, 32, 3)         84        \n",
      "_________________________________________________________________\n",
      "activation (Activation)      (None, 32, 32, 3)         0         \n",
      "_________________________________________________________________\n",
      "batch_normalization (BatchNo (None, 32, 32, 3)         12        \n",
      "_________________________________________________________________\n",
      "flatten (Flatten)            (None, 3072)              0         \n",
      "_________________________________________________________________\n",
      "dropout (Dropout)            (None, 3072)              0         \n",
      "_________________________________________________________________\n",
      "dense (Dense)                (None, 50)                153650    \n",
      "_________________________________________________________________\n",
      "activation_1 (Activation)    (None, 50)                0         \n",
      "_________________________________________________________________\n",
      "batch_normalization_1 (Batch (None, 50)                200       \n",
      "_________________________________________________________________\n",
      "dropout_1 (Dropout)          (None, 50)                0         \n",
      "_________________________________________________________________\n",
      "dense_1 (Dense)              (None, 50)                2550      \n",
      "_________________________________________________________________\n",
      "activation_2 (Activation)    (None, 50)                0         \n",
      "_________________________________________________________________\n",
      "batch_normalization_2 (Batch (None, 50)                200       \n",
      "_________________________________________________________________\n",
      "dropout_2 (Dropout)          (None, 50)                0         \n",
      "_________________________________________________________________\n",
      "dense_2 (Dense)              (None, 10)                510       \n",
      "_________________________________________________________________\n",
      "CNN_Cifar10Model (Activation (None, 10)                0         \n",
      "=================================================================\n",
      "Total params: 157,206\n",
      "Trainable params: 157,000\n",
      "Non-trainable params: 206\n",
      "_________________________________________________________________\n"
     ]
    }
   ],
   "source": [
    "\n",
    "cifar10_model.summary()"
   ]
  },
  {
   "cell_type": "markdown",
   "metadata": {},
   "source": [
    "<font size=5 color='blue'>\n",
    "Optimization method"
   ]
  },
  {
   "cell_type": "markdown",
   "metadata": {},
   "source": [
    "<font size=3 color=\"black\">\n",
    "This requires defining the optimization algorithm, loss function and metric.\n",
    "    \n",
    "In the present case we are using the Stochastic Gradient descent algorithm with learning rate \"lr\", \"momentum\",  and without Nesterov acceleration\".\n",
    "\n",
    "This post also comments on some other optimization variants of this algorithm; Adagrad, Adadelta, RMStrop and Adam."
   ]
  },
  {
   "cell_type": "markdown",
   "metadata": {},
   "source": [
    "<font size=5 color='blue'>\n",
    "Optimizer"
   ]
  },
  {
   "cell_type": "markdown",
   "metadata": {
    "ExecuteTime": {
     "end_time": "2020-11-24T00:09:25.688121Z",
     "start_time": "2020-11-24T00:09:25.680769Z"
    }
   },
   "source": [
    "<font size=5 color='blue'>\n",
    "Mini-batch stocastic gradient descent(SGD) method.  "
   ]
  },
  {
   "cell_type": "markdown",
   "metadata": {},
   "source": [
    "<font size=4 color='black'> \n",
    "The training samples are divided into mini-batches that have the size batch_size (B). Updates of weights and biases are based on an average of the gradient within each block of B samples. \n",
    "    \n",
    "$$ \\omega^{(t)} := \\omega^{(t-1)} - \\alpha \\dfrac{1}{B} \\sum_{t^1=Bt +1}^{B(t+1)}\\dfrac{\\partial J(x^{(t^1)},y^{(t^1)},\\omega, b)}{\\partial \\omega}$$\n",
    "\n",
    "$$ b^{(t)} := b^{(t-1)} - \\alpha \\dfrac{1}{B} \\sum_{t^1=Bt +1}^{B(t+1)}\\dfrac{\\partial J(x^{(t^1)},y^{(t^1)},\\omega, b)}{\\partial b}$$\n",
    "\n",
    "$ \\alpha $ represents the learning rate and *t* represents an iteration. \n",
    "    \n",
    "This method is specially useful for large sets of training data.\n",
    "    \n",
    "[Gradient-Based Training](./literature/Practical_rec_DL_Bengio_2012.pdf)"
   ]
  },
  {
   "cell_type": "code",
   "execution_count": 34,
   "metadata": {
    "ExecuteTime": {
     "end_time": "2021-01-28T12:30:09.735086Z",
     "start_time": "2021-01-28T12:30:09.711742Z"
    }
   },
   "outputs": [],
   "source": [
    "learning_rate = 0.01\n",
    "\n",
    "optimizer = keras.optimizers.SGD(learning_rate=learning_rate, momentum=0.0, nesterov=False)"
   ]
  },
  {
   "cell_type": "markdown",
   "metadata": {},
   "source": [
    "<font size=5 color='blue'>\n",
    "The cost (loss) and Metric functions"
   ]
  },
  {
   "cell_type": "markdown",
   "metadata": {},
   "source": [
    "<font size=4 color=\"black\">\n",
    "    \n",
    "The cost function *J* is defined as \"categorical_crossentropy\"\n",
    "    \n",
    "$$ J = \\frac{1}{m} \\sum_{i=1}^m \\sum_{k=0}^{K-1}(y_k^{(i)}*\\log{(F_k(x^{(i)})))}$$\n",
    "    \n",
    " where $F_k(x^{(i)})$ is the predicted value and $y_k^{(i)}$ is the target value for the sample *i*; *K* is the number of classes and *m* is the number of samples.    \n",
    "\n",
    "A metric function is similar to a loss function, except that the results from evaluating a metric are not used when training the model. You may use any of the loss functions as a metric function. In the present example, we are using \"accuracy\" as metrics:\n",
    "    \n",
    "*Accuracy = Number of correct predictions / Total number of predictions made*\n",
    "    \n",
    "\n",
    "Categorical crossentropy will compare the distribution of the predictions (the activations in the output layer, one for each class) with the true distribution, where the probability of the true class is set to 1, and 0 for the other classes.\n",
    "\n",
    "To put it in a different way, the true class is represented as an encoded vector, and the closer the model’s outputs are to that vector, the lower the loss.\n",
    "    \n",
    "Documentation: [keras.compile(...)](https://keras.io/models/model/#compile)"
   ]
  },
  {
   "cell_type": "code",
   "execution_count": 35,
   "metadata": {
    "ExecuteTime": {
     "end_time": "2021-01-28T12:30:09.739293Z",
     "start_time": "2021-01-28T12:30:09.737070Z"
    }
   },
   "outputs": [],
   "source": [
    "loss_function = 'categorical_crossentropy'\n",
    "metric_function = 'accuracy'"
   ]
  },
  {
   "cell_type": "markdown",
   "metadata": {
    "ExecuteTime": {
     "end_time": "2020-11-23T19:12:50.153175Z",
     "start_time": "2020-11-23T19:12:50.148215Z"
    }
   },
   "source": [
    "<font size=5 color='blue'>\n",
    "Compiling the model"
   ]
  },
  {
   "cell_type": "code",
   "execution_count": 36,
   "metadata": {
    "ExecuteTime": {
     "end_time": "2021-01-28T12:30:09.785641Z",
     "start_time": "2021-01-28T12:30:09.740629Z"
    }
   },
   "outputs": [],
   "source": [
    "cifar10_model.compile(optimizer = optimizer, loss = loss_function, metrics = [metric_function])"
   ]
  },
  {
   "cell_type": "markdown",
   "metadata": {},
   "source": [
    "<font size=5 color='blue'>\n",
    "    \n",
    "Training the learning system"
   ]
  },
  {
   "cell_type": "markdown",
   "metadata": {},
   "source": [
    "<font size=5 color='blue'>\n",
    "    \n",
    "Shuffle"
   ]
  },
  {
   "cell_type": "markdown",
   "metadata": {
    "ExecuteTime": {
     "end_time": "2020-11-23T21:49:35.336666Z",
     "start_time": "2020-11-23T21:49:35.331145Z"
    }
   },
   "source": [
    "<font size=4 color='black'>\n",
    "\n",
    "Shuffling the training data before each epoch has a large effect on the loss associated with the test samples. Shuffling the training data, the samples for each mini-batch change with the epoch.\n",
    "    \n",
    "To speed up the convergence of weights and biases, it is also possible to fix the samples associated with each mini-batch. Then, the mini-batches will be called randomly in each epoch.  \n",
    "    "
   ]
  },
  {
   "cell_type": "markdown",
   "metadata": {},
   "source": [
    "<font size=5 color=\"blue\">\n",
    "\n",
    "Batch normalization"
   ]
  },
  {
   "cell_type": "markdown",
   "metadata": {
    "ExecuteTime": {
     "end_time": "2020-11-30T17:47:17.345786Z",
     "start_time": "2020-11-30T17:47:17.340738Z"
    }
   },
   "source": [
    "<font size=4 color=\"black\">\n",
    "    \n",
    "[Batch normalization](./literature/Batch-normalization_2015.pdf)"
   ]
  },
  {
   "cell_type": "markdown",
   "metadata": {},
   "source": [
    "<font size=4 color='black'>\n",
    "    \n",
    "Training Deep Neural Networks is complicated by the fact that the distribution of each  layer’sinputs changes during training, as the parameters of the previous layers change.\n",
    "    \n",
    "Batch Normalization allows us to use much higher learning rates and be less careful about initialization, and in some cases eliminates the need for Dropout."
   ]
  },
  {
   "cell_type": "markdown",
   "metadata": {},
   "source": [
    "<font size=4 color='black'>\n",
    "    \n",
    "Using batch normalization in a layer,tThe layer normalizes its output using the mean and standard deviation of the current batch of inputs. That is to say, for each channel being normalized, the layer returns (batch - mean(batch)) / (var(batch) + epsilon) * gamma + beta, where:\n",
    "\n",
    "    epsilon is small constant (configurable as part of the constructor arguments)\n",
    "    gamma is a learned scaling factor (initialized as 1), which can be disabled by passing scale=False to the constructor.\n",
    "    beta is a learned offset factor (initialized as 0), which can be disabled by passing center=False to the constructor.\n"
   ]
  },
  {
   "cell_type": "markdown",
   "metadata": {},
   "source": [
    "<font size=4 color='black'>\n",
    "    \n",
    "Importantly, batch normalization works differently during training and during inference.\n",
    "    \n",
    "[Batch Normalization in Keras](https://keras.io/api/layers/normalization_layers/batch_normalization/)"
   ]
  },
  {
   "cell_type": "markdown",
   "metadata": {},
   "source": [
    "<font size=4 color=\"black\">\n",
    "    \n",
    "Documentation: [keras.fit(...)](https://keras.io/models/model/#fit)"
   ]
  },
  {
   "cell_type": "code",
   "execution_count": 37,
   "metadata": {
    "ExecuteTime": {
     "end_time": "2021-01-28T12:35:29.440619Z",
     "start_time": "2021-01-28T12:30:09.786934Z"
    },
    "scrolled": true
   },
   "outputs": [
    {
     "name": "stdout",
     "output_type": "stream",
     "text": [
      "Epoch 1/100\n",
      "352/352 [==============================] - 3s 3ms/step - loss: 2.5087 - accuracy: 0.1895 - val_loss: 2.0157 - val_accuracy: 0.2796\n",
      "Epoch 2/100\n",
      "352/352 [==============================] - 1s 2ms/step - loss: 2.0575 - accuracy: 0.2742 - val_loss: 1.7560 - val_accuracy: 0.3870\n",
      "Epoch 3/100\n",
      "352/352 [==============================] - 1s 2ms/step - loss: 1.9386 - accuracy: 0.3125 - val_loss: 1.7112 - val_accuracy: 0.4058\n",
      "Epoch 4/100\n",
      "352/352 [==============================] - 1s 2ms/step - loss: 1.8735 - accuracy: 0.3336 - val_loss: 1.6917 - val_accuracy: 0.4056\n",
      "Epoch 5/100\n",
      "352/352 [==============================] - 1s 2ms/step - loss: 1.8149 - accuracy: 0.3526 - val_loss: 1.6573 - val_accuracy: 0.4236\n",
      "Epoch 6/100\n",
      "352/352 [==============================] - 1s 2ms/step - loss: 1.7802 - accuracy: 0.3628 - val_loss: 1.6389 - val_accuracy: 0.4302\n",
      "Epoch 7/100\n",
      "352/352 [==============================] - 1s 2ms/step - loss: 1.7577 - accuracy: 0.3774 - val_loss: 1.6338 - val_accuracy: 0.4310\n",
      "Epoch 8/100\n",
      "352/352 [==============================] - 1s 2ms/step - loss: 1.7445 - accuracy: 0.3755 - val_loss: 1.6183 - val_accuracy: 0.4296\n",
      "Epoch 9/100\n",
      "352/352 [==============================] - 1s 2ms/step - loss: 1.7227 - accuracy: 0.3822 - val_loss: 1.6163 - val_accuracy: 0.4314\n",
      "Epoch 10/100\n",
      "352/352 [==============================] - 1s 2ms/step - loss: 1.7144 - accuracy: 0.3922 - val_loss: 1.5908 - val_accuracy: 0.4418\n",
      "Epoch 11/100\n",
      "352/352 [==============================] - 1s 2ms/step - loss: 1.7037 - accuracy: 0.3926 - val_loss: 1.5837 - val_accuracy: 0.4418\n",
      "Epoch 12/100\n",
      "352/352 [==============================] - 1s 2ms/step - loss: 1.6902 - accuracy: 0.3995 - val_loss: 1.6311 - val_accuracy: 0.4216\n",
      "Epoch 13/100\n",
      "352/352 [==============================] - 1s 2ms/step - loss: 1.6810 - accuracy: 0.4005 - val_loss: 1.5613 - val_accuracy: 0.4526\n",
      "Epoch 14/100\n",
      "352/352 [==============================] - 1s 2ms/step - loss: 1.6700 - accuracy: 0.4046 - val_loss: 1.5531 - val_accuracy: 0.4502\n",
      "Epoch 15/100\n",
      "352/352 [==============================] - 1s 2ms/step - loss: 1.6701 - accuracy: 0.4007 - val_loss: 1.5495 - val_accuracy: 0.4520\n",
      "Epoch 16/100\n",
      "352/352 [==============================] - 1s 2ms/step - loss: 1.6521 - accuracy: 0.4113 - val_loss: 1.5412 - val_accuracy: 0.4572\n",
      "Epoch 17/100\n",
      "352/352 [==============================] - 1s 2ms/step - loss: 1.6602 - accuracy: 0.4055 - val_loss: 1.5345 - val_accuracy: 0.4604\n",
      "Epoch 18/100\n",
      "352/352 [==============================] - 1s 2ms/step - loss: 1.6556 - accuracy: 0.4125 - val_loss: 1.5310 - val_accuracy: 0.4608\n",
      "Epoch 19/100\n",
      "352/352 [==============================] - 1s 2ms/step - loss: 1.6405 - accuracy: 0.4174 - val_loss: 1.5932 - val_accuracy: 0.4322\n",
      "Epoch 20/100\n",
      "352/352 [==============================] - 1s 2ms/step - loss: 1.6464 - accuracy: 0.4129 - val_loss: 1.5244 - val_accuracy: 0.4624\n",
      "Epoch 21/100\n",
      "352/352 [==============================] - 1s 2ms/step - loss: 1.6288 - accuracy: 0.4196 - val_loss: 1.5152 - val_accuracy: 0.4632\n",
      "Epoch 22/100\n",
      "352/352 [==============================] - 1s 2ms/step - loss: 1.6280 - accuracy: 0.4222 - val_loss: 1.5216 - val_accuracy: 0.4566\n",
      "Epoch 23/100\n",
      "352/352 [==============================] - 1s 2ms/step - loss: 1.6209 - accuracy: 0.4206 - val_loss: 1.5096 - val_accuracy: 0.4696\n",
      "Epoch 24/100\n",
      "352/352 [==============================] - 1s 2ms/step - loss: 1.6258 - accuracy: 0.4187 - val_loss: 1.5071 - val_accuracy: 0.4658\n",
      "Epoch 25/100\n",
      "352/352 [==============================] - 1s 2ms/step - loss: 1.6223 - accuracy: 0.4261 - val_loss: 1.5017 - val_accuracy: 0.4712\n",
      "Epoch 26/100\n",
      "352/352 [==============================] - 1s 2ms/step - loss: 1.6163 - accuracy: 0.4254 - val_loss: 1.4991 - val_accuracy: 0.4654\n",
      "Epoch 27/100\n",
      "352/352 [==============================] - 1s 2ms/step - loss: 1.6086 - accuracy: 0.4267 - val_loss: 1.5302 - val_accuracy: 0.4594\n",
      "Epoch 28/100\n",
      "352/352 [==============================] - 1s 2ms/step - loss: 1.6011 - accuracy: 0.4292 - val_loss: 1.4941 - val_accuracy: 0.4688\n",
      "Epoch 29/100\n",
      "352/352 [==============================] - 1s 2ms/step - loss: 1.5975 - accuracy: 0.4313 - val_loss: 1.4951 - val_accuracy: 0.4718\n",
      "Epoch 30/100\n",
      "352/352 [==============================] - 1s 2ms/step - loss: 1.5906 - accuracy: 0.4382 - val_loss: 1.4912 - val_accuracy: 0.4722\n",
      "Epoch 31/100\n",
      "352/352 [==============================] - 1s 2ms/step - loss: 1.5867 - accuracy: 0.4405 - val_loss: 1.4822 - val_accuracy: 0.4742\n",
      "Epoch 32/100\n",
      "352/352 [==============================] - 1s 2ms/step - loss: 1.5932 - accuracy: 0.4335 - val_loss: 1.4861 - val_accuracy: 0.4714\n",
      "Epoch 33/100\n",
      "352/352 [==============================] - 1s 2ms/step - loss: 1.5906 - accuracy: 0.4329 - val_loss: 1.4987 - val_accuracy: 0.4696\n",
      "Epoch 34/100\n",
      "352/352 [==============================] - 1s 2ms/step - loss: 1.5838 - accuracy: 0.4351 - val_loss: 1.4788 - val_accuracy: 0.4722\n",
      "Epoch 35/100\n",
      "352/352 [==============================] - 1s 2ms/step - loss: 1.5848 - accuracy: 0.4329 - val_loss: 1.4864 - val_accuracy: 0.4734\n",
      "Epoch 36/100\n",
      "352/352 [==============================] - 1s 2ms/step - loss: 1.5806 - accuracy: 0.4370 - val_loss: 1.4742 - val_accuracy: 0.4744\n",
      "Epoch 37/100\n",
      "352/352 [==============================] - 1s 2ms/step - loss: 1.5756 - accuracy: 0.4393 - val_loss: 1.4643 - val_accuracy: 0.4790\n",
      "Epoch 38/100\n",
      "352/352 [==============================] - 1s 2ms/step - loss: 1.5718 - accuracy: 0.4410 - val_loss: 1.4706 - val_accuracy: 0.4780\n",
      "Epoch 39/100\n",
      "352/352 [==============================] - 1s 2ms/step - loss: 1.5723 - accuracy: 0.4401 - val_loss: 1.4721 - val_accuracy: 0.4788\n",
      "Epoch 40/100\n",
      "352/352 [==============================] - 1s 2ms/step - loss: 1.5687 - accuracy: 0.4437 - val_loss: 1.4559 - val_accuracy: 0.4786\n",
      "Epoch 41/100\n",
      "352/352 [==============================] - 1s 2ms/step - loss: 1.5615 - accuracy: 0.4424 - val_loss: 1.4651 - val_accuracy: 0.4780\n",
      "Epoch 42/100\n",
      "352/352 [==============================] - 1s 2ms/step - loss: 1.5587 - accuracy: 0.4452 - val_loss: 1.4645 - val_accuracy: 0.4784\n",
      "Epoch 43/100\n",
      "352/352 [==============================] - 1s 2ms/step - loss: 1.5574 - accuracy: 0.4445 - val_loss: 1.4526 - val_accuracy: 0.4836\n",
      "Epoch 44/100\n",
      "352/352 [==============================] - 1s 2ms/step - loss: 1.5553 - accuracy: 0.4460 - val_loss: 1.4504 - val_accuracy: 0.4820\n",
      "Epoch 45/100\n",
      "352/352 [==============================] - 1s 2ms/step - loss: 1.5543 - accuracy: 0.4430 - val_loss: 1.4497 - val_accuracy: 0.4796\n",
      "Epoch 46/100\n",
      "352/352 [==============================] - 1s 2ms/step - loss: 1.5560 - accuracy: 0.4489 - val_loss: 1.4471 - val_accuracy: 0.4854\n",
      "Epoch 47/100\n",
      "352/352 [==============================] - 1s 2ms/step - loss: 1.5482 - accuracy: 0.4502 - val_loss: 1.4452 - val_accuracy: 0.4820\n",
      "Epoch 48/100\n",
      "352/352 [==============================] - 1s 2ms/step - loss: 1.5484 - accuracy: 0.4489 - val_loss: 1.4598 - val_accuracy: 0.4770\n",
      "Epoch 49/100\n",
      "352/352 [==============================] - 1s 2ms/step - loss: 1.5510 - accuracy: 0.4441 - val_loss: 1.4492 - val_accuracy: 0.4824\n",
      "Epoch 50/100\n",
      "352/352 [==============================] - 1s 2ms/step - loss: 1.5415 - accuracy: 0.4512 - val_loss: 1.4493 - val_accuracy: 0.4808\n",
      "Epoch 51/100\n",
      "352/352 [==============================] - 1s 2ms/step - loss: 1.5426 - accuracy: 0.4504 - val_loss: 1.4697 - val_accuracy: 0.4776\n",
      "Epoch 52/100\n",
      "352/352 [==============================] - 1s 2ms/step - loss: 1.5422 - accuracy: 0.4504 - val_loss: 1.4444 - val_accuracy: 0.4866\n",
      "Epoch 53/100\n",
      "352/352 [==============================] - 1s 2ms/step - loss: 1.5366 - accuracy: 0.4547 - val_loss: 1.4429 - val_accuracy: 0.4870\n",
      "Epoch 54/100\n",
      "352/352 [==============================] - 1s 2ms/step - loss: 1.5234 - accuracy: 0.4574 - val_loss: 1.4456 - val_accuracy: 0.4834\n",
      "Epoch 55/100\n",
      "352/352 [==============================] - 1s 2ms/step - loss: 1.5277 - accuracy: 0.4572 - val_loss: 1.4355 - val_accuracy: 0.4858\n",
      "Epoch 56/100\n",
      "352/352 [==============================] - 1s 2ms/step - loss: 1.5287 - accuracy: 0.4568 - val_loss: 1.4381 - val_accuracy: 0.4864\n",
      "Epoch 57/100\n",
      "352/352 [==============================] - 1s 2ms/step - loss: 1.5312 - accuracy: 0.4502 - val_loss: 1.4559 - val_accuracy: 0.4842\n"
     ]
    },
    {
     "name": "stdout",
     "output_type": "stream",
     "text": [
      "Epoch 58/100\n",
      "352/352 [==============================] - 1s 2ms/step - loss: 1.5282 - accuracy: 0.4542 - val_loss: 1.4292 - val_accuracy: 0.4886\n",
      "Epoch 59/100\n",
      "352/352 [==============================] - 1s 2ms/step - loss: 1.5233 - accuracy: 0.4571 - val_loss: 1.5240 - val_accuracy: 0.4620\n",
      "Epoch 60/100\n",
      "352/352 [==============================] - 1s 2ms/step - loss: 1.5241 - accuracy: 0.4612 - val_loss: 1.4251 - val_accuracy: 0.4896\n",
      "Epoch 61/100\n",
      "352/352 [==============================] - 1s 2ms/step - loss: 1.5071 - accuracy: 0.4659 - val_loss: 1.4732 - val_accuracy: 0.4782\n",
      "Epoch 62/100\n",
      "352/352 [==============================] - 1s 2ms/step - loss: 1.5269 - accuracy: 0.4541 - val_loss: 1.4251 - val_accuracy: 0.4896\n",
      "Epoch 63/100\n",
      "352/352 [==============================] - 1s 2ms/step - loss: 1.5148 - accuracy: 0.4638 - val_loss: 1.4321 - val_accuracy: 0.4930\n",
      "Epoch 64/100\n",
      "352/352 [==============================] - 1s 2ms/step - loss: 1.5187 - accuracy: 0.4579 - val_loss: 1.4204 - val_accuracy: 0.4928\n",
      "Epoch 65/100\n",
      "352/352 [==============================] - 1s 2ms/step - loss: 1.5108 - accuracy: 0.4642 - val_loss: 1.4667 - val_accuracy: 0.4830\n",
      "Epoch 66/100\n",
      "352/352 [==============================] - 1s 2ms/step - loss: 1.5079 - accuracy: 0.4662 - val_loss: 1.4207 - val_accuracy: 0.4902\n",
      "Epoch 67/100\n",
      "352/352 [==============================] - 1s 2ms/step - loss: 1.5203 - accuracy: 0.4614 - val_loss: 1.4220 - val_accuracy: 0.4912\n",
      "Epoch 68/100\n",
      "352/352 [==============================] - 1s 2ms/step - loss: 1.5167 - accuracy: 0.4615 - val_loss: 1.4178 - val_accuracy: 0.4944\n",
      "Epoch 69/100\n",
      "352/352 [==============================] - 1s 2ms/step - loss: 1.5112 - accuracy: 0.4613 - val_loss: 1.4504 - val_accuracy: 0.4816\n",
      "Epoch 70/100\n",
      "352/352 [==============================] - 1s 2ms/step - loss: 1.4913 - accuracy: 0.4684 - val_loss: 1.4140 - val_accuracy: 0.4924\n",
      "Epoch 71/100\n",
      "352/352 [==============================] - 1s 2ms/step - loss: 1.5047 - accuracy: 0.4656 - val_loss: 1.4222 - val_accuracy: 0.4934\n",
      "Epoch 72/100\n",
      "352/352 [==============================] - 1s 2ms/step - loss: 1.5021 - accuracy: 0.4668 - val_loss: 1.4128 - val_accuracy: 0.4952\n",
      "Epoch 73/100\n",
      "352/352 [==============================] - 1s 2ms/step - loss: 1.5036 - accuracy: 0.4634 - val_loss: 1.4203 - val_accuracy: 0.4958\n",
      "Epoch 74/100\n",
      "352/352 [==============================] - 1s 2ms/step - loss: 1.4944 - accuracy: 0.4638 - val_loss: 1.4135 - val_accuracy: 0.4936\n",
      "Epoch 75/100\n",
      "352/352 [==============================] - 1s 2ms/step - loss: 1.4992 - accuracy: 0.4679 - val_loss: 1.4397 - val_accuracy: 0.4900\n",
      "Epoch 76/100\n",
      "352/352 [==============================] - 1s 2ms/step - loss: 1.4909 - accuracy: 0.4703 - val_loss: 1.4153 - val_accuracy: 0.4928\n",
      "Epoch 77/100\n",
      "352/352 [==============================] - 1s 2ms/step - loss: 1.4925 - accuracy: 0.4698 - val_loss: 1.4101 - val_accuracy: 0.4988\n",
      "Epoch 78/100\n",
      "352/352 [==============================] - 1s 2ms/step - loss: 1.4793 - accuracy: 0.4771 - val_loss: 1.4086 - val_accuracy: 0.4964\n",
      "Epoch 79/100\n",
      "352/352 [==============================] - 1s 2ms/step - loss: 1.4840 - accuracy: 0.4712 - val_loss: 1.4064 - val_accuracy: 0.4974\n",
      "Epoch 80/100\n",
      "352/352 [==============================] - 1s 2ms/step - loss: 1.4904 - accuracy: 0.4722 - val_loss: 1.4120 - val_accuracy: 0.4936\n",
      "Epoch 81/100\n",
      "352/352 [==============================] - 1s 2ms/step - loss: 1.4807 - accuracy: 0.4719 - val_loss: 1.4360 - val_accuracy: 0.4912\n",
      "Epoch 82/100\n",
      "352/352 [==============================] - 1s 2ms/step - loss: 1.4834 - accuracy: 0.4708 - val_loss: 1.4024 - val_accuracy: 0.4984\n",
      "Epoch 83/100\n",
      "352/352 [==============================] - 1s 2ms/step - loss: 1.4880 - accuracy: 0.4698 - val_loss: 1.4000 - val_accuracy: 0.5014\n",
      "Epoch 84/100\n",
      "352/352 [==============================] - 1s 2ms/step - loss: 1.4825 - accuracy: 0.4684 - val_loss: 1.4023 - val_accuracy: 0.5002\n",
      "Epoch 85/100\n",
      "352/352 [==============================] - 1s 2ms/step - loss: 1.4755 - accuracy: 0.4741 - val_loss: 1.4057 - val_accuracy: 0.4992\n",
      "Epoch 86/100\n",
      "352/352 [==============================] - 1s 2ms/step - loss: 1.4700 - accuracy: 0.4754 - val_loss: 1.4260 - val_accuracy: 0.4900\n",
      "Epoch 87/100\n",
      "352/352 [==============================] - 1s 2ms/step - loss: 1.4659 - accuracy: 0.4810 - val_loss: 1.4107 - val_accuracy: 0.4970\n",
      "Epoch 88/100\n",
      "352/352 [==============================] - 1s 2ms/step - loss: 1.4789 - accuracy: 0.4710 - val_loss: 1.4079 - val_accuracy: 0.4962\n",
      "Epoch 89/100\n",
      "352/352 [==============================] - 1s 2ms/step - loss: 1.4660 - accuracy: 0.4759 - val_loss: 1.4134 - val_accuracy: 0.4974\n",
      "Epoch 90/100\n",
      "352/352 [==============================] - 1s 2ms/step - loss: 1.4589 - accuracy: 0.4845 - val_loss: 1.4025 - val_accuracy: 0.4970\n",
      "Epoch 91/100\n",
      "352/352 [==============================] - 1s 2ms/step - loss: 1.4753 - accuracy: 0.4761 - val_loss: 1.4376 - val_accuracy: 0.4884\n",
      "Epoch 92/100\n",
      "352/352 [==============================] - 1s 2ms/step - loss: 1.4689 - accuracy: 0.4779 - val_loss: 1.3974 - val_accuracy: 0.5004\n",
      "Epoch 93/100\n",
      "352/352 [==============================] - 1s 2ms/step - loss: 1.4771 - accuracy: 0.4698 - val_loss: 1.3952 - val_accuracy: 0.5028\n",
      "Epoch 94/100\n",
      "352/352 [==============================] - 1s 2ms/step - loss: 1.4617 - accuracy: 0.4804 - val_loss: 1.4199 - val_accuracy: 0.4910\n",
      "Epoch 95/100\n",
      "352/352 [==============================] - 1s 2ms/step - loss: 1.4521 - accuracy: 0.4818 - val_loss: 1.4082 - val_accuracy: 0.4976\n",
      "Epoch 96/100\n",
      "352/352 [==============================] - 1s 2ms/step - loss: 1.4652 - accuracy: 0.4760 - val_loss: 1.3919 - val_accuracy: 0.5040\n",
      "Epoch 97/100\n",
      "352/352 [==============================] - 1s 2ms/step - loss: 1.4529 - accuracy: 0.4836 - val_loss: 1.3933 - val_accuracy: 0.5012\n",
      "Epoch 98/100\n",
      "352/352 [==============================] - 1s 2ms/step - loss: 1.4519 - accuracy: 0.4793 - val_loss: 1.3910 - val_accuracy: 0.5010\n",
      "Epoch 99/100\n",
      "352/352 [==============================] - 1s 2ms/step - loss: 1.4584 - accuracy: 0.4779 - val_loss: 1.4037 - val_accuracy: 0.4942\n",
      "Epoch 100/100\n",
      "352/352 [==============================] - 1s 2ms/step - loss: 1.4604 - accuracy: 0.4811 - val_loss: 1.3898 - val_accuracy: 0.5020\n",
      "Time for training:    86.2422s\n"
     ]
    }
   ],
   "source": [
    "#10 % of the training data will be used to validate the training\n",
    "start_time = time.time()\n",
    "\n",
    "validation_portion = 0.1\n",
    "batch_size=128\n",
    "num_epochs = 100\n",
    "\n",
    "history = cifar10_model.fit(x=train_x, y=train_y, epochs=num_epochs, batch_size=batch_size, \\\n",
    "                            validation_split=validation_portion, shuffle=True, verbose=1)\n",
    "\n",
    "end_time = time.time()\n",
    "print(\"Time for training: {:10.4f}s\".format(end_time - start_time))"
   ]
  },
  {
   "cell_type": "markdown",
   "metadata": {},
   "source": [
    "<font size=5 color=\"blue\">\n",
    "Graph of cost functions as a function of epoch"
   ]
  },
  {
   "cell_type": "code",
   "execution_count": 38,
   "metadata": {
    "ExecuteTime": {
     "end_time": "2021-01-28T12:35:29.569323Z",
     "start_time": "2021-01-28T12:35:29.442729Z"
    },
    "scrolled": false
   },
   "outputs": [
    {
     "data": {
      "image/png": "[encoded data removed]",
      "text/plain": [
       "<Figure size 432x288 with 1 Axes>"
      ]
     },
     "metadata": {
      "needs_background": "light"
     },
     "output_type": "display_data"
    }
   ],
   "source": [
    "plt.plot(history.history['loss'])\n",
    "plt.plot(history.history['val_loss'])\n",
    "plt.title('Lr = 0.01, FF_Dropout: Inp = 0.30, hl_1 = 0.30, hl_2 = 0.30')\n",
    "plt.ylabel('Cost')\n",
    "plt.xlabel('Epoch')\n",
    "plt.legend(['Train', 'Validation'], loc='upper right')\n",
    "plt.show()"
   ]
  },
  {
   "cell_type": "markdown",
   "metadata": {},
   "source": [
    "<font size=5 color=\"blue\">\n",
    "Graph of accuracy functions as a function of epoch"
   ]
  },
  {
   "cell_type": "code",
   "execution_count": 39,
   "metadata": {
    "ExecuteTime": {
     "end_time": "2021-01-28T12:35:29.693843Z",
     "start_time": "2021-01-28T12:35:29.570817Z"
    },
    "scrolled": true
   },
   "outputs": [
    {
     "data": {
      "image/png": "[encoded data removed]",
      "text/plain": [
       "<Figure size 432x288 with 1 Axes>"
      ]
     },
     "metadata": {
      "needs_background": "light"
     },
     "output_type": "display_data"
    }
   ],
   "source": [
    "plt.plot(history.history['accuracy'])\n",
    "plt.plot(history.history['val_accuracy'])\n",
    "plt.title('Lr = 0.01, FF_Dropout: Inp = 0.30, hl1 = 0.30, hl2 = 0.30, \\n Acc=0.0.7570')\n",
    "plt.ylabel('Accuracy')\n",
    "plt.xlabel('Epoch')\n",
    "plt.legend(['Train', 'Validation'], loc='lower right')\n",
    "plt.show()"
   ]
  },
  {
   "cell_type": "markdown",
   "metadata": {},
   "source": [
    "<font size = 5 color='blue'>\n",
    "Loss and accuracy evaluation"
   ]
  },
  {
   "cell_type": "markdown",
   "metadata": {},
   "source": [
    "<font size= 4 color='black'>    \n",
    "After training the network, the loss and accuracy functions are evaluated using the test samples (test_x, test_y).    \n",
    "\n",
    "    \n",
    "[Method evaluate in Keras](https://keras.io/models/model/)"
   ]
  },
  {
   "cell_type": "code",
   "execution_count": 40,
   "metadata": {
    "ExecuteTime": {
     "end_time": "2021-01-28T12:35:30.522023Z",
     "start_time": "2021-01-28T12:35:29.695283Z"
    }
   },
   "outputs": [
    {
     "name": "stdout",
     "output_type": "stream",
     "text": [
      "313/313 [==============================] - 0s 889us/step - loss: 1.3920 - accuracy: 0.5017\n",
      "Loss = 1.391983985900879\n",
      "Test Accuracy = 0.5016999840736389\n"
     ]
    }
   ],
   "source": [
    "evaluations = cifar10_model.evaluate(x = test_x, y = test_y)\n",
    "\n",
    "print (\"Loss = \" + str(evaluations[0]))\n",
    "print (\"Test Accuracy = \" + str(evaluations[1]))\n"
   ]
  },
  {
   "cell_type": "code",
   "execution_count": 41,
   "metadata": {
    "ExecuteTime": {
     "end_time": "2021-01-28T12:35:30.550487Z",
     "start_time": "2021-01-28T12:35:30.523123Z"
    }
   },
   "outputs": [
    {
     "name": "stdout",
     "output_type": "stream",
     "text": [
      "4/4 [==============================] - 0s 3ms/step - loss: 1.3130 - accuracy: 0.5100\n",
      "Loss = 1.3130028247833252\n",
      "Test Accuracy = 0.5099999904632568\n"
     ]
    }
   ],
   "source": [
    "# Evaluation using the first 100 samples of the test set\n",
    "\n",
    "evaluations = cifar10_model.evaluate(x = test_x[:100], y = test_y[:100])\n",
    "\n",
    "print (\"Loss = \" + str(evaluations[0]))\n",
    "print (\"Test Accuracy = \" + str(evaluations[1]))\n"
   ]
  },
  {
   "cell_type": "markdown",
   "metadata": {},
   "source": [
    "<font size = 5 color='blue'>\n",
    "Image prediction"
   ]
  },
  {
   "cell_type": "markdown",
   "metadata": {},
   "source": [
    "<font size= 4 color='black'>    \n",
    "The trained learning system can predict the object content of an image. For example, we take an image of the test dataset (test_x, test_y). \n",
    "    \n",
    "[Method predict in Keras](https://keras.io/models/model/)"
   ]
  },
  {
   "cell_type": "code",
   "execution_count": 42,
   "metadata": {
    "ExecuteTime": {
     "end_time": "2021-01-28T12:35:31.350392Z",
     "start_time": "2021-01-28T12:35:30.552009Z"
    }
   },
   "outputs": [],
   "source": [
    "# Predicting the image associated to the each sample in the test set (X_test)\n",
    "predictions = cifar10_model.predict(test_x)"
   ]
  },
  {
   "cell_type": "code",
   "execution_count": 43,
   "metadata": {
    "ExecuteTime": {
     "end_time": "2021-01-28T12:35:31.353573Z",
     "start_time": "2021-01-28T12:35:31.351505Z"
    }
   },
   "outputs": [],
   "source": [
    "sample = 31"
   ]
  },
  {
   "cell_type": "code",
   "execution_count": 44,
   "metadata": {
    "ExecuteTime": {
     "end_time": "2021-01-28T12:35:31.479534Z",
     "start_time": "2021-01-28T12:35:31.476262Z"
    }
   },
   "outputs": [
    {
     "name": "stdout",
     "output_type": "stream",
     "text": [
      "For the sample number 31 the prediction is a(n) deer\n"
     ]
    }
   ],
   "source": [
    "# Predicting the image associated to the sample \n",
    "# np.argmax returns the index of the maximum value\n",
    "\n",
    "prediction = np.argmax(predictions[sample])\n",
    "\n",
    "print('For the sample number', sample, 'the prediction is a(n)', dic[prediction])"
   ]
  },
  {
   "cell_type": "markdown",
   "metadata": {},
   "source": [
    "<font size=4 color=\"black\"> \n",
    "Displaying the image associated (not predicted!) to this sample."
   ]
  },
  {
   "cell_type": "code",
   "execution_count": 45,
   "metadata": {
    "ExecuteTime": {
     "end_time": "2021-01-28T12:35:31.474890Z",
     "start_time": "2021-01-28T12:35:31.354950Z"
    }
   },
   "outputs": [
    {
     "name": "stdout",
     "output_type": "stream",
     "text": [
      "the sample 31 corresponds to a dog\n"
     ]
    },
    {
     "data": {
      "image/png": "[encoded data removed]",
      "text/plain": [
       "<Figure size 432x288 with 1 Axes>"
      ]
     },
     "metadata": {
      "needs_background": "light"
     },
     "output_type": "display_data"
    }
   ],
   "source": [
    "\n",
    "plt.imshow(test_x[sample].reshape((32, 32, 3)))\n",
    "\n",
    "print('the sample', sample, 'corresponds to a', dic[int(np.argmax(test_y[sample]))])\n"
   ]
  },
  {
   "cell_type": "markdown",
   "metadata": {},
   "source": [
    "<font size = 4 color=\"black\">\n",
    "    \n",
    "The next function finds the number of samples where the network made an incorrect prediction in a region of the test dataset. For example, in the first 40 samples from this dataset."
   ]
  },
  {
   "cell_type": "code",
   "execution_count": 46,
   "metadata": {
    "ExecuteTime": {
     "end_time": "2021-01-28T12:36:00.883430Z",
     "start_time": "2021-01-28T12:35:31.480935Z"
    }
   },
   "outputs": [
    {
     "data": {
      "text/plain": [
       "[1, 4, 6, 8, 10, 11, 14, 21, 22, 24, 25, 26, 27, 28, 31, 33, 35, 36, 37, 38]"
      ]
     },
     "execution_count": 46,
     "metadata": {},
     "output_type": "execute_result"
    }
   ],
   "source": [
    "\n",
    "mislabeled_images = []\n",
    "\n",
    "for i in range(len(test_x[:40])):\n",
    "    \n",
    "    if np.argmax(cifar10_model.predict(test_x)[i]) != np.argmax(test_y[i]):\n",
    "        \n",
    "        mislabeled_images.append(i)\n",
    " \n",
    "\n",
    "\n",
    "mislabeled_images"
   ]
  },
  {
   "cell_type": "markdown",
   "metadata": {},
   "source": [
    "<font size=4 color='black'>\n",
    "    \n",
    "[Runs summary](Clase-10_figures.odt)"
   ]
  },
  {
   "cell_type": "markdown",
   "metadata": {},
   "source": [
    "<font size=4 >\n",
    "Keras manages a global state, which it uses to implement the Functional model-building API and to uniquify autogenerated layer names.  \n",
    "If you are creating many models in a loop, this global state will consume an increasing amount of memory over time, and you may want to clear it. Calling clear_session() releases the global state: this helps avoid clutter from old models and layers, especially when memory is limited."
   ]
  },
  {
   "cell_type": "code",
   "execution_count": 47,
   "metadata": {},
   "outputs": [],
   "source": [
    "tf.keras.backend.clear_session()\n"
   ]
  }
 ],
 "metadata": {
  "kernelspec": {
   "display_name": "Python 3",
   "language": "python",
   "name": "python3"
  },
  "language_info": {
   "codemirror_mode": {
    "name": "ipython",
    "version": 3
   },
   "file_extension": ".py",
   "mimetype": "text/x-python",
   "name": "python",
   "nbconvert_exporter": "python",
   "pygments_lexer": "ipython3",
   "version": "3.9.4"
  }
 },
 "nbformat": 4,
 "nbformat_minor": 2
}
