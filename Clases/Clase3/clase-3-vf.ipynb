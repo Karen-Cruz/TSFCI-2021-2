{
 "cells": [
  {
   "cell_type": "markdown",
   "metadata": {
    "ExecuteTime": {
     "end_time": "2020-02-25T17:45:29.372399Z",
     "start_time": "2020-02-25T17:45:29.369243Z"
    }
   },
   "source": [
    "<font size=4 color='blue'>\n",
    "\n",
    "# <center>Clase 3, junio 09 del 2021 <center>\n"
   ]
  },
  {
   "cell_type": "markdown",
   "metadata": {},
   "source": [
    "<font size=4 color='blue'>\n",
    "    \n",
    "## Generación de las muestras\n"
   ]
  },
  {
   "cell_type": "markdown",
   "metadata": {},
   "source": [
    "\n",
    "<font size=5 color='b'>\n",
    "\n",
    "1.  Se genera un conjunto de numeros aleatorios ($(x_1,y_1),(x_2,y_2),…,(x_n,y_n)$)"
   ]
  },
  {
   "cell_type": "code",
   "execution_count": null,
   "metadata": {},
   "outputs": [],
   "source": [
    "# Importing the python libraries\n",
    "\n",
    "import numpy as np\n",
    "\n",
    "import matplotlib.pyplot as plt\n",
    "%matplotlib inline\n",
    "\n",
    "# To have a reproducible code we use a random seed \n",
    "np.random.seed(3)"
   ]
  },
  {
   "cell_type": "code",
   "execution_count": null,
   "metadata": {},
   "outputs": [],
   "source": [
    "# Esta función genera un conjunto de datos que simulan \n",
    "# la medición de la distancia de un carrito en un riel de aire\n",
    "# en la ausencia de una fuerza sobre el carrito.\n",
    "# Se propone un error en la medición de la distancia\n",
    "\n",
    "def generador_datos_simple(n_points, distance_0, measuring_time, speed, max_distance_error):\n",
    "    \n",
    "    # n_points es el número de puntos que serán generados\n",
    "    \n",
    "    x = np.random.random(n_points) * measuring_time\n",
    "     \n",
    "    # x es arreglo con m numeros aleatorios entre 0.0 y measure_time\n",
    "    \n",
    "    error = np.random.randn(n_points) * max_distance_error \n",
    "    \n",
    "    # e es un error generado aleatoriamente con un valor maximo max_distance_error\n",
    "\n",
    "    y = distance_0 + speed*x + error \n",
    "        \n",
    "    return x, y\n"
   ]
  },
  {
   "cell_type": "code",
   "execution_count": null,
   "metadata": {},
   "outputs": [],
   "source": [
    "# Generacción de las muestras (x,yi)\n",
    "n_points = 5000\n",
    "distance_0 = 100.0\n",
    "measuring_time = 100.0\n",
    "speed = 20.0\n",
    "max_distance_error = 100\n",
    "\n",
    "x, y = generador_datos_simple(n_points, distance_0, measuring_time, speed, max_distance_error)\n",
    "\n",
    "print(\"x type\", type(x), \"x shape\", x.shape)\n",
    "print(\"y type\", type(y), \"y shape\", y.shape)"
   ]
  },
  {
   "cell_type": "code",
   "execution_count": null,
   "metadata": {},
   "outputs": [],
   "source": [
    "# Plotting y versus x\n",
    "\n",
    "plt.figure(figsize=(13,8))\n",
    "plt.rc('xtick', labelsize=16)\n",
    "plt.rc('ytick', labelsize=16)\n",
    "plt.rc('legend', fontsize=16)\n",
    "plt.ylabel('Y(cm)', fontsize=16)\n",
    "plt.xlabel('X(seg)', fontsize=16)\n",
    "\n",
    "plt.scatter(x, y)\n",
    "plt.show()"
   ]
  },
  {
   "cell_type": "markdown",
   "metadata": {
    "ExecuteTime": {
     "end_time": "2020-02-25T17:53:57.795234Z",
     "start_time": "2020-02-25T17:53:57.789400Z"
    }
   },
   "source": [
    "<font size=5 color ='blue'>\n",
    "    \n",
    "Se generan histogramas de los datos originales, (x) y (y)"
   ]
  },
  {
   "cell_type": "code",
   "execution_count": null,
   "metadata": {
    "ExecuteTime": {
     "end_time": "2020-10-07T16:42:09.806626Z",
     "start_time": "2020-10-07T16:42:09.479183Z"
    },
    "scrolled": true
   },
   "outputs": [],
   "source": [
    "plt.figure(figsize=(13,5))\n",
    "plt.rc('xtick', labelsize=14)\n",
    "plt.rc('ytick', labelsize=14)\n",
    "plt.rc('legend', fontsize=14)\n",
    "\n",
    "plt.subplot(1, 2, 1)\n",
    "plt.hist(x, bins=30, edgecolor='black', alpha=0.5)\n",
    "plt.xlabel('tiempo(s)', fontsize=16)\n",
    "plt.ylabel('frecuencia', fontsize=16)\n",
    "\n",
    "\n",
    "plt.subplot(1, 2, 2)\n",
    "plt.hist(y, bins=30, edgecolor='black', alpha=0.5)\n",
    "plt.xlabel('distancia(cm)', fontsize=16)\n",
    "plt.ylabel('frecuencia', fontsize=16);"
   ]
  },
  {
   "cell_type": "markdown",
   "metadata": {},
   "source": [
    "<font size=2, color='blue'>\n",
    "    \n",
    "# Buscando la correlación entre las muestras:\n",
    "\n"
   ]
  },
  {
   "cell_type": "markdown",
   "metadata": {},
   "source": [
    "<font size=4>\n",
    "\n",
    "Se tiene un conjunto de muestras (puntos) $(x_i, y_i)$, y se busca encontrar una función F que describa una posible correlación entre ellos. En una primera aproximación que x (en el presente caso el tiempo) es una variable independiente, mientras que y (la distancia en el presente caso) depende de x.\n",
    "\n",
    "Para encontrar la correlación entre las muestras, proponemos un conjunto de funciones definidas mediante la siguiente relación lineal:\n",
    "\n",
    "$$ F(x, w, b) = b + w x $$\n",
    "  \n",
    "Vemos que esta relación funcional es derivable respecto a todas sus variables, x, w, b.\n",
    "La letra w se emplea como abreviación de la palabra en ingles \"weight\", porque se relaciona con la importancia que tiene la variable x en el valor de la función $F$. La letra b es la abreviación de la palabra \"bias\" en ingles, y se refiere a la referencia respecto a cero de la función $F$.\n"
   ]
  },
  {
   "cell_type": "markdown",
   "metadata": {
    "ExecuteTime": {
     "end_time": "2020-02-05T18:20:56.725971Z",
     "start_time": "2020-02-05T18:20:56.721704Z"
    }
   },
   "source": [
    "<font size = 4>\n",
    "\n",
    "Para encontrar la función que describe la correlación entre los puntos, es necesario generar una métrica para describir que tanto se acerca cada una de las funciones específicas (con valores definidos de w y de b) a esta descripción.\n",
    "\n",
    "La métrica que se propone es la siguiente: $$ $$\n",
    "\n",
    "Para cada muestra $(x_i, y_i)$ se evalua $F(x_i,w,b)$ y se compara con el correspondiente valor $y_i$, la diferencia entre estos valores se eleva al cuadrado. $$ (F(x_i,w,b)-y_i)^{2}$$\n",
    "\n",
    "\n",
    "Finalmente se calcula el promedio de este valor sobre todas las muestras, el cual definimos como error cuadrático medio (MSE, por sus siglas en ingles, mean squared error). \n",
    "Si m es el número de muestras, el MSE queda como:\n",
    "\n",
    "$$MSE = 1/m∑_{i=1}^{m}(F(x_i,w,b)-y_i)^{2} $$"
   ]
  },
  {
   "cell_type": "markdown",
   "metadata": {},
   "source": [
    "<font size=4, color='blue'>\n",
    "    \n",
    "En el siguiente código se implementa la generación del error cuadrático medio dada una función específica definida por los pesos iniciales w = weight_0, y b = bias_0."
   ]
  },
  {
   "cell_type": "markdown",
   "metadata": {},
   "source": [
    "<font size =4>\n",
    "    \n",
    "\n",
    "Los parámetros *w* y *b* se eligen al azar: \n",
    "\n",
    "``` python \n",
    "\n",
    "weight_0 = random.random()*10  # It generates a random float number between 0.0 and 1.0\n",
    " \n",
    "bias_0 = random.random()*10    # It generates a random float number between  0.0 and 1.0\n",
    "\n",
    "```"
   ]
  },
  {
   "cell_type": "code",
   "execution_count": null,
   "metadata": {
    "ExecuteTime": {
     "end_time": "2020-10-07T16:42:09.812769Z",
     "start_time": "2020-10-07T16:42:09.808649Z"
    }
   },
   "outputs": [],
   "source": [
    "import random\n",
    "\n",
    "random.seed(3)\n",
    "\n",
    "#Initializing the variables (parámetros) of the function f\n",
    "\n",
    "weight_0 = np.random.random()*10\n",
    "bias_0 = np.random.random()*10\n",
    "\n",
    "print(weight_0, bias_0)"
   ]
  },
  {
   "cell_type": "markdown",
   "metadata": {},
   "source": [
    "<font size=4 color=\"blue\">\n",
    "\n",
    "Se grafica la correspondiente función $F(X,w,b)$, junto con los puntos que representan a las muestras"
   ]
  },
  {
   "cell_type": "code",
   "execution_count": null,
   "metadata": {
    "ExecuteTime": {
     "end_time": "2020-10-07T16:42:10.015489Z",
     "start_time": "2020-10-07T16:42:09.814172Z"
    }
   },
   "outputs": [],
   "source": [
    "\n",
    "#The following arrays are generated for plotting the Function F(x, weight_0, bias_0)\n",
    "x_ = np.arange(0.0, measuring_time, 0.1)\n",
    "y_ = weight_0*x_ + bias_0\n",
    "\n",
    "\n",
    "# Using this function F, the residuos is calculated by comparing the calculated and measured values\n",
    "\n",
    "residuo = 0\n",
    "\n",
    "for i in range(len(x)):\n",
    "\n",
    "    residuo += (y[i] - weight_0*x[i] - bias_0)**2\n",
    "\n",
    "residuo = residuo/len(x)\n",
    "\n",
    "print('residuo:', residuo)\n",
    "\n",
    "# Samples and function F are plotted\n",
    "plt.figure(figsize=(13,8))\n",
    "\n",
    "#Plotting function\n",
    "plt.plot(x_, y_, color='green', lw=4, label='F(x, w, b)')\n",
    "plt.legend()\n",
    "plt.rc('xtick', labelsize=16)\n",
    "plt.rc('ytick', labelsize=16)\n",
    "plt.rc('legend', fontsize=16)\n",
    "plt.ylabel('Y(cm)', fontsize=16)\n",
    "plt.xlabel('X(seg)', fontsize=16)\n",
    "\n",
    "#Plotting samples\n",
    "plt.scatter(x, y)\n",
    "\n",
    "plt.show()"
   ]
  },
  {
   "cell_type": "markdown",
   "metadata": {
    "ExecuteTime": {
     "end_time": "2020-02-26T13:29:11.922916Z",
     "start_time": "2020-02-26T13:29:11.912479Z"
    }
   },
   "source": [
    "<font size=5, color='blue'>\n",
    "Se varian los valores de los parámetros w y b buscando reducir el residuo."
   ]
  },
  {
   "cell_type": "markdown",
   "metadata": {},
   "source": [
    "<font size=5, color='blue'>\n",
    "\n",
    "Se emplea el método de gradiente descendente para realizar esta variación.\n",
    "    \n",
    "[Cauchy, Gradiente descendente](./Literatura/Cauchy_gradient-descent.pdf)"
   ]
  },
  {
   "cell_type": "markdown",
   "metadata": {},
   "source": [
    "<font size=4 color='black'>\n",
    "    \n",
    "Los parámetros $\\omega$ y $b$ se deben actualizar, de manera que el residuo, MSE, disminuya. \n",
    "\n",
    "Estos se actualizan usando la siguientes relaciones:\n",
    "\n",
    "$$ w => w - \\alpha \\dfrac{\\partial MSE(w, b)}{\\partial w}$$\n",
    "\n",
    "$$ b => b - \\alpha \\dfrac{\\partial MSE(w, b)}{\\partial b}$$\n",
    "\n",
    "$\\alpha$, relación de aprendizaje, es un parámetro del modelo, y controla la rapidez con que se varían a los parametros $w$ y $b$.\n",
    "\n",
    "\n",
    "Dado que el residuo, MSE, está definido mediante la relación siguiente:\n",
    "\n",
    "$$ MSE = \\dfrac{1}{m}∑_{i=1}^{m}(F(x_i,w,b) - y_i)^{2} = \\dfrac{1}{m}∑_{i=1}^{m}(w x_i + b -y_i)^2 $$\n",
    "\n",
    "las derivadas quedan como:\n",
    "\n",
    "$$ \\dfrac{\\partial MSE(w, b)}{\\partial w} = \\dfrac{2}{m}∑_{i=1}^{m}[(w x_i + b -y_i)(x_i)]$$\n",
    "\n",
    "$$ \\dfrac{\\partial MSE(w, b)}{\\partial b} = \\dfrac{2}{m}∑_{i=1}^{m}[(w x_i + b -y_i)]$$\n",
    "\n"
   ]
  },
  {
   "cell_type": "code",
   "execution_count": null,
   "metadata": {
    "ExecuteTime": {
     "end_time": "2020-10-07T16:42:10.056829Z",
     "start_time": "2020-10-07T16:42:10.036187Z"
    }
   },
   "outputs": [],
   "source": [
    "#Function to update weight and bias\n",
    "\n",
    "def update_parameters(x, y, weight, bias, alfa, num_iteraciones):\n",
    "    \n",
    "    # inicializacion de parametros\n",
    "\n",
    "    alfa = alfa\n",
    "    residuo = 0\n",
    "    d_w = 0.0\n",
    "    d_b = 0.0\n",
    "    m = len(x)\n",
    "\n",
    "    # Especificaciones de las graficas\n",
    "    plt.figure(figsize=(20,8))    \n",
    "    \n",
    "    ax1 = plt.subplot(1,3,1)\n",
    "    ax2 = plt.subplot(1,3,2)\n",
    "    ax3 = plt.subplot(1,3,3)\n",
    "    \n",
    "    ax1.scatter(x, y)\n",
    "\n",
    "    ax1.set_title('Distancia vs tiempo', size=24)\n",
    "    ax1.set_xlabel('Tiempo', size=18)\n",
    "    ax1.set_ylabel('Distancia', size=18)\n",
    "\n",
    "    # Recta generada con los parametros iniciales\n",
    "\n",
    "    y_ = weight*x + bias\n",
    "    \n",
    "    ax1.plot(x, y_, color='green', lw=4 )\n",
    "    \n",
    "    weights = []\n",
    "    biases = []\n",
    "    residuos = []\n",
    "    \n",
    "    for i in range(num_iteraciones):\n",
    "\n",
    "        # calculo de derivadas y el residuo\n",
    "\n",
    "        for i in range(m):\n",
    "\n",
    "            r = (y[i]-weight*x[i] - bias)**2\n",
    "\n",
    "            d_w += 2*(weight*x[i] + bias- y[i])*x[i]\n",
    "            \n",
    "            d_b += 2*(weight*x[i]+bias-y[i])\n",
    "\n",
    "            residuo += r\n",
    "\n",
    "        residuo /= m\n",
    "\n",
    "        d_w /= m\n",
    "\n",
    "        d_b /= m\n",
    "        \n",
    "        weights.append(weight)\n",
    "        biases.append(bias)\n",
    "        residuos.append(residuo)\n",
    "        \n",
    "        # Actualizacion de los parametros\n",
    "\n",
    "        weight = weight - alfa*d_w\n",
    "        bias = bias - alfa*d_b\n",
    "\n",
    "\n",
    "        # Recta generada con la actualizacion de los parametros\n",
    "        \n",
    "        y_ = weight*x + bias\n",
    "        \n",
    "        ax1.plot(x, y_, lw=4 )\n",
    "\n",
    "        # Grafica de los residuos como funcion de uno de los parametros (el peso)\n",
    "        \n",
    "        ax2.scatter(weight, residuo)\n",
    "        ax2.set_title('MSE vs weight', size=24)\n",
    "        ax2.set_xlabel('weight', size=18)\n",
    "        ax2.set_ylabel('MSE', size=18)\n",
    "\n",
    "        # Grafica de los residuos como funcion de uno de los parametros (el bias)\n",
    "        \n",
    "        ax3.scatter(bias, residuo)\n",
    "        ax3.set_title('MSE vs bias', size=24)\n",
    "        ax3.set_xlabel('bias', size=18)\n",
    "        ax3.set_ylabel('MSE', size=18)\n",
    "\n",
    "\n",
    "    return weights, biases, residuos"
   ]
  },
  {
   "cell_type": "code",
   "execution_count": null,
   "metadata": {
    "ExecuteTime": {
     "end_time": "2020-10-07T16:42:12.807568Z",
     "start_time": "2020-10-07T16:42:10.074437Z"
    }
   },
   "outputs": [],
   "source": [
    "# inicializacion de parametros\n",
    "\n",
    "weight = weight_0 \n",
    "bias = bias_0 \n",
    "alfa = 0.00001\n",
    "num_iter = 100\n",
    "weights, biases, residuos = update_parameters(x, y, weight, bias, alfa, num_iter)"
   ]
  },
  {
   "cell_type": "markdown",
   "metadata": {
    "ExecuteTime": {
     "end_time": "2020-02-21T21:44:25.901099Z",
     "start_time": "2020-02-21T21:44:25.895259Z"
    }
   },
   "source": [
    "<font size=4, color='blue'>\n",
    "Se grafica el residuo como función de cada iteración en que se modificaron el bias y el peso."
   ]
  },
  {
   "cell_type": "code",
   "execution_count": null,
   "metadata": {
    "ExecuteTime": {
     "end_time": "2020-10-07T16:42:12.936440Z",
     "start_time": "2020-10-07T16:42:12.809025Z"
    }
   },
   "outputs": [],
   "source": [
    "plt.figure(figsize=(13, 8))\n",
    "plt.scatter(range(num_iter), residuos, color='blue')\n",
    "plt.title('MSE vs Iteración', size=20)\n",
    "plt.xlabel('Iteración', size=15)\n",
    "plt.ylabel('MSE', size=15);"
   ]
  },
  {
   "cell_type": "markdown",
   "metadata": {
    "ExecuteTime": {
     "end_time": "2020-10-05T19:53:06.445592Z",
     "start_time": "2020-10-05T19:53:06.437464Z"
    }
   },
   "source": [
    "<font size=5, color='blue'>\n",
    "\n",
    "Evaluación del ajuste obtenido\n"
   ]
  },
  {
   "cell_type": "markdown",
   "metadata": {
    "ExecuteTime": {
     "end_time": "2020-02-21T21:45:26.197814Z",
     "start_time": "2020-02-21T21:45:26.192320Z"
    }
   },
   "source": [
    "<font size=4, color='blue'>\n",
    "El total de los datos son divididos en dos grupos: uno con el 90 % de los datos y el segundo con el restante 10 %"
   ]
  },
  {
   "cell_type": "markdown",
   "metadata": {},
   "source": [
    "<font size=4>\n",
    "    \n",
    "La funcion shuffle reordena de forma aleatoria la posicion de un conjunto de datos en una lista.\n",
    "\n",
    "     x = [ 1, 5, 7, 3, 8]\n",
    "     shuffle(x) = [5, 8, 3, 1, 7]\n",
    "\n",
    " La funcion zip permite hacer conjuntos ordenados de datos combinando dos vectores de igual dimensión, por ejemplo\n",
    "\n",
    "     x = [1, 2, 3]\n",
    "     y = [5, 6, 7]\n",
    "    \n",
    "     zip(x, y) = ((1, 5), (2, 6), (3, 7))\n",
    "    \n",
    " De esta manera, junto con la funcion shuffle, se asegura que los datos correspondientes a x y y intercambian su posición de la misma manera.\n",
    " \n",
    " Por otra parte, la operación zip(*c)\n",
    " \n",
    "     (x, y) = zip(*c)\n",
    "     \n",
    "Separa a los datos x e y, ya mezclados."
   ]
  },
  {
   "cell_type": "code",
   "execution_count": null,
   "metadata": {
    "ExecuteTime": {
     "end_time": "2020-10-07T16:42:13.207289Z",
     "start_time": "2020-10-07T16:42:12.937893Z"
    },
    "scrolled": false
   },
   "outputs": [],
   "source": [
    "# Los datos se cambian de posicion aleatoriamente\n",
    "\n",
    "from random import shuffle\n",
    "\n",
    "c = list(zip(x, y)) \n",
    "\n",
    "shuffle(c)\n",
    "    \n",
    "(x, y) = zip(*c)\n",
    "\n",
    "print(\"Número total de muestras:\", len(x))\n",
    "\n",
    "# Los datos se dividen\n",
    "\n",
    "muestras_ajustar = (x[0:int(0.90*len(x))], y[0:int(0.90*len(y))])\n",
    "print(\"Número de muestras para ajustar:\", len(muestras_ajustar[0]))\n",
    "\n",
    "muestras_test = (x[int(0.90*len(x)):], y[int(0.90*len(y)):])\n",
    "print(\"Número de muestras para evaluar el ajuste\", len(muestras_test[0]))\n",
    "\n",
    "plt.figure(figsize=(15, 8))\n",
    "plt.subplot(1, 2, 1)\n",
    "plt.scatter(muestras_ajustar[0], muestras_ajustar[1])\n",
    "plt.title('Muestras_ajustar', size=20)\n",
    "plt.xlabel('Tiempo(s)', size =15)\n",
    "plt.ylabel('Distancia(cm)', size =15)\n",
    "plt.subplot(1, 2, 2)\n",
    "plt.scatter(muestras_test[0], muestras_test[1], color='red')\n",
    "plt.title('Muestras_test', size=20)\n",
    "plt.xlabel('Tiempo(s)', size =15)\n",
    "plt.ylabel('Distancia(cm)', size =15);"
   ]
  },
  {
   "cell_type": "markdown",
   "metadata": {},
   "source": [
    "<font size =4, color = 'blue'>\n",
    "    \n",
    " ## Normalizacion de las muestras que se emplearan para el ajuste\n",
    " "
   ]
  },
  {
   "cell_type": "markdown",
   "metadata": {},
   "source": [
    "<font size=4 color='b'>\n",
    "    \n",
    " Si se normalizan con 3 veces la desviacion estandar, el 99.7 de los datos tendrán valores entre -1 y 1. El rango con que se normaliza tambien se puede variar entre una desviación o dos desviaciones estandar. En el primer caso el 68 % de los datos tendrán valores entre -1 y 1, mientras que en el segundo caso este rango correspondera al 95 % de los datos."
   ]
  },
  {
   "cell_type": "markdown",
   "metadata": {
    "ExecuteTime": {
     "end_time": "2020-02-25T18:02:38.947376Z",
     "start_time": "2020-02-25T18:02:38.937805Z"
    }
   },
   "source": [
    "<font size=5, color='blue'>\n",
    "Normalizando los datos con una desviación estandar"
   ]
  },
  {
   "cell_type": "code",
   "execution_count": null,
   "metadata": {
    "ExecuteTime": {
     "end_time": "2020-10-07T16:42:13.211390Z",
     "start_time": "2020-10-07T16:42:13.208760Z"
    }
   },
   "outputs": [],
   "source": [
    "x_ajustar = muestras_ajustar[0]\n",
    "y_ajustar = muestras_ajustar[1]"
   ]
  },
  {
   "cell_type": "code",
   "execution_count": null,
   "metadata": {
    "ExecuteTime": {
     "end_time": "2020-10-07T16:42:14.111633Z",
     "start_time": "2020-10-07T16:42:14.101558Z"
    }
   },
   "outputs": [],
   "source": [
    "mean_distance = np.mean(y_ajustar)\n",
    "std_distance = np.std(y_ajustar)\n",
    "\n",
    "y_ajustar = (y_ajustar-mean_distance)/std_distance\n",
    "\n",
    "mean_time = np.mean(x_ajustar)\n",
    "std_time = np.std(x_ajustar)\n",
    "\n",
    "x_ajustar = (x_ajustar-mean_time)/std_time"
   ]
  },
  {
   "cell_type": "code",
   "execution_count": null,
   "metadata": {
    "ExecuteTime": {
     "end_time": "2020-10-07T16:42:14.358683Z",
     "start_time": "2020-10-07T16:42:14.112816Z"
    }
   },
   "outputs": [],
   "source": [
    "plt.figure(figsize=(13,5))\n",
    "plt.rc('xtick', labelsize=14)\n",
    "plt.rc('ytick', labelsize=14)\n",
    "plt.rc('legend', fontsize=14)\n",
    "\n",
    "\n",
    "plt.subplot(1, 2, 1)\n",
    "plt.hist(x_ajustar, bins=30,color='blue', edgecolor='b', alpha=0.5)\n",
    "plt.xlabel('Tiempo(unidades relativas)', fontsize=14)\n",
    "plt.ylabel('Frecuencia',fontsize=14)\n",
    "\n",
    "\n",
    "plt.subplot(1, 2, 2)\n",
    "plt.hist(y_ajustar, bins=30,color='blue', edgecolor='b', alpha=0.5)\n",
    "plt.xlabel('Distancia(unidades relativas)',fontsize=14)\n",
    "plt.ylabel('Frecuencia',fontsize=14);"
   ]
  },
  {
   "cell_type": "markdown",
   "metadata": {},
   "source": [
    "<font size=4, color='blue'>\n",
    "Se vuelve a correr el ajuste de datos empleando el metodo de gradiente descendente, pero usando sólo el conjunto de datos correspondiente al 90 %"
   ]
  },
  {
   "cell_type": "code",
   "execution_count": null,
   "metadata": {
    "ExecuteTime": {
     "end_time": "2020-10-07T16:42:17.058485Z",
     "start_time": "2020-10-07T16:42:14.360442Z"
    },
    "scrolled": false
   },
   "outputs": [],
   "source": [
    "\n",
    "weight_0 = np.random.random()\n",
    "bias_0 = np.random.random()\n",
    "print(weight_0, bias_0)\n",
    "\n",
    "alfa = 0.04\n",
    "num_iter = 100\n",
    "\n",
    "weights, biases, residuos = update_parameters(x_ajustar, y_ajustar, weight_0, bias_0, alfa, num_iter)\n"
   ]
  },
  {
   "cell_type": "markdown",
   "metadata": {
    "ExecuteTime": {
     "end_time": "2020-02-21T21:48:14.609543Z",
     "start_time": "2020-02-21T21:48:14.599770Z"
    }
   },
   "source": [
    "<font size=4, color='blue'>\n",
    "Graficar el error cuadrático medio obtenido como función del número paso"
   ]
  },
  {
   "cell_type": "code",
   "execution_count": null,
   "metadata": {
    "ExecuteTime": {
     "end_time": "2020-10-07T16:42:17.197759Z",
     "start_time": "2020-10-07T16:42:17.062123Z"
    },
    "scrolled": false
   },
   "outputs": [],
   "source": [
    "plt.figure(figsize=(11, 6))\n",
    "plt.scatter(range(num_iter), residuos, color='blue')\n",
    "plt.title('MSE vs iteración', size=20)\n",
    "plt.xlabel('iteración', size=15)\n",
    "plt.ylabel('MSE', size=15);\n"
   ]
  },
  {
   "cell_type": "code",
   "execution_count": null,
   "metadata": {
    "ExecuteTime": {
     "end_time": "2020-10-07T16:42:17.203685Z",
     "start_time": "2020-10-07T16:42:17.199975Z"
    }
   },
   "outputs": [],
   "source": [
    "def residuo(x, y, weight, bias):\n",
    "    \n",
    "    r = 0\n",
    "\n",
    "    m = len(x)\n",
    "    \n",
    "    for i in range(m):\n",
    "\n",
    "        r += (y[i]-weight*x[i] - bias)**2\n",
    "\n",
    "    r /= m\n",
    "    \n",
    "    return r"
   ]
  },
  {
   "cell_type": "code",
   "execution_count": null,
   "metadata": {
    "ExecuteTime": {
     "end_time": "2020-10-07T16:42:17.263474Z",
     "start_time": "2020-10-07T16:42:17.205297Z"
    }
   },
   "outputs": [],
   "source": [
    "print(\"Residuo mas pequeño que se obtuvo durante el ajuste=  %.5f\" \\\n",
    "      %np.squeeze(residuo(x_ajustar, y_ajustar, weights[-1], biases[-1])))\n"
   ]
  },
  {
   "cell_type": "markdown",
   "metadata": {
    "ExecuteTime": {
     "end_time": "2020-02-21T21:50:17.258618Z",
     "start_time": "2020-02-21T21:50:17.253823Z"
    }
   },
   "source": [
    "<font size=4, color='blue'>\n",
    "Con los valores optimos del bias y el peso se calcula el error cuadrático medio que se obtiene con el 10 % de los datos restantes."
   ]
  },
  {
   "cell_type": "markdown",
   "metadata": {
    "ExecuteTime": {
     "end_time": "2020-10-05T23:46:16.978156Z",
     "start_time": "2020-10-05T23:46:16.973573Z"
    }
   },
   "source": [
    "<font size=4, color='black'>\n",
    "\n",
    "Para calcular el residuo asociado a las muestras_test, estas se normalizan con los parámetros (valore medio y desviación estandard) utilizados para normalizar los datos de las muestras_ajustar."
   ]
  },
  {
   "cell_type": "code",
   "execution_count": null,
   "metadata": {
    "ExecuteTime": {
     "end_time": "2020-10-07T16:42:17.276180Z",
     "start_time": "2020-10-07T16:42:17.265788Z"
    }
   },
   "outputs": [],
   "source": [
    "y_test = (muestras_test[1]-mean_distance)/std_distance\n",
    "\n",
    "x_test = (muestras_test[0]-mean_time)/std_time"
   ]
  },
  {
   "cell_type": "markdown",
   "metadata": {},
   "source": [
    "<font size=4, color='blue'>\n",
    "\n",
    "Con los valores óptimos obtenidos para el peso y el bias, evaluamos ahora el residuo que se obtiene las muestras_test."
   ]
  },
  {
   "cell_type": "code",
   "execution_count": null,
   "metadata": {
    "ExecuteTime": {
     "end_time": "2020-10-07T16:42:17.292225Z",
     "start_time": "2020-10-07T16:42:17.278175Z"
    }
   },
   "outputs": [],
   "source": [
    "print(\"Residuo =  %.5f\" %np.squeeze(residuo(x_test, y_test, weights[-1], biases[-1])))\n"
   ]
  },
  {
   "cell_type": "markdown",
   "metadata": {
    "ExecuteTime": {
     "end_time": "2020-10-05T19:53:06.445592Z",
     "start_time": "2020-10-05T19:53:06.437464Z"
    }
   },
   "source": [
    "<font size=5, color='blue'>\n",
    "\n",
    "Otra forma de evaluar el ajuste obtenido."
   ]
  },
  {
   "cell_type": "markdown",
   "metadata": {},
   "source": [
    "<font size=4, color='blue'>\n",
    "   \n",
    "En este caso, las muestras seleccionadas para hacer el ajuste se dividen en dos grupos:\n",
    "\n",
    "El 90 % (este valor es solo un ejemplo) de ellos se emplea para hacer el ajuste,\n",
    "    \n",
    "el 10 % restantes se emplean para evaluar el residuo que se obtiene en cada iteración del ajuste.\n"
   ]
  },
  {
   "cell_type": "markdown",
   "metadata": {
    "ExecuteTime": {
     "end_time": "2020-10-06T14:51:27.055986Z",
     "start_time": "2020-10-06T14:51:27.050069Z"
    }
   },
   "source": [
    "<font size=4, color='black'>\n",
    "\n",
    "Modificamos la función que se tiene para actualizar el peso y se bias en cada ciclo.\n",
    "\n",
    "A esta nueva función se le proporciona la proporción de los datos que se van a emplear para validar el ajuste."
   ]
  },
  {
   "cell_type": "code",
   "execution_count": null,
   "metadata": {
    "ExecuteTime": {
     "end_time": "2020-10-07T16:42:17.306912Z",
     "start_time": "2020-10-07T16:42:17.293773Z"
    }
   },
   "outputs": [],
   "source": [
    "#Function to update weight and bias\n",
    "\n",
    "def update_parameters_1(x, y, weight, bias, alfa, iteraciones, val_ratio=0.1):\n",
    "    \n",
    "    # inicializacion de parametros\n",
    "    \n",
    "    #x = np.squeeze(x)\n",
    "    #y = np.squeeze(y)\n",
    "    alfa = alfa\n",
    "    residuo = 0\n",
    "    d_w = 0.0\n",
    "    d_b = 0.0\n",
    "    m = len(x)\n",
    "\n",
    "    # Especificaciones de las graficas\n",
    "    plt.figure(figsize=(13,8)) \n",
    "    plt.title('MSE vs iteración', size=24)\n",
    "    plt.xlabel('iteración', size=18)\n",
    "    plt.ylabel('MSE', size=18)\n",
    "    \n",
    "    ajustar_ratio = int((1.0-val_ratio)*len(x))  \n",
    "   \n",
    "    samples_ajustar = (x[0:ajustar_ratio], y[0:ajustar_ratio])\n",
    "    samples_val = (x[ajustar_ratio:], y[ajustar_ratio:])\n",
    "    x = samples_ajustar[0]\n",
    "    y = samples_ajustar[1]\n",
    "    x_val = samples_val[0]\n",
    "    y_val = samples_val[1]\n",
    "       \n",
    "    weights = []\n",
    "    biases = []\n",
    "    residuos = []\n",
    "    residuos_val = []\n",
    "    \n",
    "    m_ajustar = len(x)\n",
    "    m_val = len(x_val)\n",
    "    \n",
    "    for i in range(iteraciones):\n",
    "\n",
    "        # calculo de derivadas y el residuo\n",
    "        residuo = 0.0\n",
    "        residuo_val = 0.0\n",
    "        \n",
    "        for j in range(m_ajustar):\n",
    "\n",
    "            r = (y[j]-weight*x[j] - bias)**2\n",
    "\n",
    "            d_w += 2*(weight*x[j] + bias- y[j])*x[j]\n",
    "            \n",
    "            d_b += 2*(weight*x[j]+bias-y[j])\n",
    "\n",
    "            residuo += r\n",
    "\n",
    "        residuo /= m_ajustar\n",
    "\n",
    "        d_w /= m_ajustar\n",
    "\n",
    "        d_b /= m_ajustar\n",
    "        \n",
    "        #calculo del residuo de las muestras de valoración\n",
    "        \n",
    "        for j in range(m_val):\n",
    "\n",
    "            r = (y_val[j]-weight*x_val[j] - bias)**2\n",
    "\n",
    "            #r += np.squeeze(r)\n",
    "            residuo_val += r\n",
    "\n",
    "        residuo_val /= m_val\n",
    "                      \n",
    "        weights.append(weight)\n",
    "        biases.append(bias)\n",
    "        residuos.append(residuo)\n",
    "        residuos_val.append(residuo_val)\n",
    "        \n",
    "        # Actualizacion de los parametros\n",
    "\n",
    "        weight = weight - alfa*d_w\n",
    "        bias = bias - alfa*d_b\n",
    "        \n",
    "        plt.scatter(i, residuo, color='blue')\n",
    "        \n",
    "        plt.scatter(i, residuo_val, color='orange')\n",
    "\n",
    "    return weights, biases, residuos, residuos_val"
   ]
  },
  {
   "cell_type": "code",
   "execution_count": null,
   "metadata": {
    "ExecuteTime": {
     "end_time": "2020-10-07T16:42:19.587148Z",
     "start_time": "2020-10-07T16:42:17.308020Z"
    }
   },
   "outputs": [],
   "source": [
    "weight_0 = np.random.random()\n",
    "bias_0 = np.random.random()\n",
    "alfa = 0.04\n",
    "num_iter = 100\n",
    "validacion_ratio = 0.1\n",
    "\n",
    "weights, biases, residuos, residuos_val = update_parameters_1 \\\n",
    "        (x_ajustar, y_ajustar, weight_0, bias_0, alfa, num_iter, validacion_ratio)\n"
   ]
  },
  {
   "cell_type": "markdown",
   "metadata": {},
   "source": [
    "<font size=4, color='blue'>\n",
    "\n",
    "Con los valores óptimos obtenidos para el peso y el bias, evaluamos ahora el residuo que se obtiene las muestras_test."
   ]
  },
  {
   "cell_type": "code",
   "execution_count": null,
   "metadata": {
    "ExecuteTime": {
     "end_time": "2020-10-07T16:42:19.603294Z",
     "start_time": "2020-10-07T16:42:19.589275Z"
    }
   },
   "outputs": [],
   "source": [
    "print(\"Residuo =  %.5f\" %np.squeeze(residuo(x_test, y_test, weights[-1], biases[-1])))\n"
   ]
  },
  {
   "cell_type": "markdown",
   "metadata": {
    "ExecuteTime": {
     "end_time": "2020-10-05T19:53:06.445592Z",
     "start_time": "2020-10-05T19:53:06.437464Z"
    }
   },
   "source": [
    "<font size=5, color='blue'>\n",
    "\n",
    "Inferencia"
   ]
  },
  {
   "cell_type": "markdown",
   "metadata": {},
   "source": [
    "<font size=4, color='black'>\n",
    "\n",
    "Dado el tiempo t podemos obtener una predicción (inferencia) del valor de la distancia."
   ]
  },
  {
   "cell_type": "code",
   "execution_count": null,
   "metadata": {
    "ExecuteTime": {
     "end_time": "2020-10-07T16:42:19.614801Z",
     "start_time": "2020-10-07T16:42:19.604835Z"
    }
   },
   "outputs": [],
   "source": [
    "def inference(t, w, b, mean_t, std_t, mean_y, std_y) :\n",
    "    \n",
    "    t = (t-mean_t) / std_t \n",
    "    d = w * t + b\n",
    "    \n",
    "    d = d * std_y + mean_y\n",
    "    \n",
    "    return d"
   ]
  },
  {
   "cell_type": "code",
   "execution_count": null,
   "metadata": {
    "ExecuteTime": {
     "end_time": "2020-10-07T16:42:19.628514Z",
     "start_time": "2020-10-07T16:42:19.616460Z"
    },
    "scrolled": false
   },
   "outputs": [],
   "source": [
    "tiempos = [1.65, 32.20, 43.5, 84.7]\n",
    "\n",
    "for t in tiempos :\n",
    "    distance = inference(t,weights[-1], biases[-1], mean_time, std_time, mean_distance, std_distance)\n",
    "\n",
    "    print (\"Para el tiempo de {0:5.2f} s la distancia inferida es {1:6.2f} cm \".format(t,distance))"
   ]
  },
  {
   "cell_type": "markdown",
   "metadata": {},
   "source": [
    "<font size=4 color='black'>\n",
    "\n",
    "Vemos entonces que con el ajuste de una función al conjunto de puntos $(x_i, y_i)$ podemos hacer predicciones de valores y dado el valor de x. \n",
    "    \n",
    "Es decir, el sistema desarrollado \"aprendió\" la correlación que hay entre las $x_i$ y la $y_i$, y por ello puede hacer inferencias."
   ]
  },
  {
   "cell_type": "code",
   "execution_count": null,
   "metadata": {},
   "outputs": [],
   "source": []
  },
  {
   "cell_type": "markdown",
   "metadata": {
    "ExecuteTime": {
     "end_time": "2020-10-06T19:20:20.673227Z",
     "start_time": "2020-10-06T19:20:20.664698Z"
    }
   },
   "source": [
    "<font size=6 color='blue'>\n",
    "\n",
    "<center>Inteligencia Artificial <center>"
   ]
  },
  {
   "cell_type": "markdown",
   "metadata": {
    "ExecuteTime": {
     "end_time": "2020-10-06T15:47:59.726986Z",
     "start_time": "2020-10-06T15:47:59.717971Z"
    }
   },
   "source": [
    "<font size=5 color='blue'>\n",
    "\n",
    "Pasaremos conceptualmente de la nomenclatura de ajuste de datos a\n",
    "    \n",
    "la nomenclatura que se emplea en Inteligencia Artificial"
   ]
  },
  {
   "cell_type": "markdown",
   "metadata": {
    "ExecuteTime": {
     "end_time": "2020-10-06T15:49:32.315061Z",
     "start_time": "2020-10-06T15:49:32.306342Z"
    }
   },
   "source": [
    "<font size=4 color='black'>\n",
    "\n",
    "Esta transición la haremos empleando toda la matematica desarrollada en las celdas anteriores"
   ]
  },
  {
   "cell_type": "markdown",
   "metadata": {},
   "source": [
    "<font size=4 color='black'>\n",
    "    \n",
    "En inteligencia artificial, un sistema es inteligente cuando despues de ser entrenado con información que le es suministrada, es capaz de hacer inferencias (predicciones).\n",
    "\n"
   ]
  },
  {
   "cell_type": "markdown",
   "metadata": {
    "ExecuteTime": {
     "end_time": "2020-10-06T15:43:45.263065Z",
     "start_time": "2020-10-06T15:43:45.257420Z"
    }
   },
   "source": [
    "<font size=5 color='blue'>\n",
    " \n",
    "Dada la dinámica en inteligencia artificial a nivel mundial, en el presente curso,\n",
    "    \n",
    "emplearemos la nomenclatura estandar que se emplea en el idioma Ingles."
   ]
  },
  {
   "cell_type": "markdown",
   "metadata": {},
   "source": [
    "<font size=4 color='black'>\n",
    "\n",
    "Al analizar una area de estudio, se deben encontrar las conceptos que la identifican.\n",
    "    \n",
    "Se hace una cuantificación de estos conceptos definiendo variables que identifican a cada uno de ellos.\n",
    "    \n",
    "Existe un conjunto que estas variables $\\textbf{X}$ que son idependientes y que determinan al resto, a las cuales denominaremos como $\\textbf {Y}$.\n",
    "    \n",
    "\n"
   ]
  },
  {
   "cell_type": "markdown",
   "metadata": {},
   "source": [
    "<font size=4 color='black'>\n",
    "\n",
    "Se obtiene un cojunto m de muestras de estas variables.\n",
    "\n",
    "Se genera un sistema de aprendizaje, al cual se le suministran estas muestras.\n",
    "\n",
    "Con esta información el sistema aprende y puede hacer inferencias.\n",
    "\n",
    "Por ejemplo, si se le presenta un nuevo dato X del área de estudio, el sistema puede predecir (inferir) los correspondientes valores de las variable Y."
   ]
  },
  {
   "cell_type": "markdown",
   "metadata": {},
   "source": [
    "<font size=5 color='blue'>\n",
    "    \n",
    "El ejemplo que vimos de ajuste de una función a un conjunto de puntos $(x_i, y_i)$ lo traduciremos a un sistema de aprendizaje artificial."
   ]
  },
  {
   "cell_type": "markdown",
   "metadata": {},
   "source": [
    "<font size=4 color='black'>\n",
    "    \n",
    "El área que analizamos corresponde al movimiento de un cuerpo. \n",
    "    \n",
    "Esta área la caracterizamos por los conceptos tiempo y distancia. \n",
    "    \n",
    "Definimos la viable $x$ para identificar al tiempo y la variable $y$ para idenficar la distancia."
   ]
  },
  {
   "cell_type": "markdown",
   "metadata": {
    "ExecuteTime": {
     "end_time": "2020-10-06T19:17:24.539641Z",
     "start_time": "2020-10-06T19:17:24.534327Z"
    }
   },
   "source": [
    "<font size=5 color='blue'>\n",
    "\n",
    "Analizaremos un ejemplo de esta área."
   ]
  },
  {
   "cell_type": "markdown",
   "metadata": {},
   "source": [
    "<font size=4 color='black'>\n",
    "\n",
    "Tenemos un cuerpo, del cual se han obtenido $m$ muestras de estas variables. Cada muestra de este cuerpo la identificamos por la dupla $(x_i, y_i)$.\n",
    "    \n",
    "Generaremos un sistema de aprendizaje, en donde proponemos que la función $F(x)$ describe la relación entre estas variables. \n",
    "    \n",
    "Esta función puede tener diferentes formas. Por ejemplo:\n",
    "    \n",
    "$$F(x, w, b) = b + w x$$\n",
    "    \n",
    "o bien:\n",
    "    \n",
    "$$ F(x,w,b) = 1.7159*tanh(weight*x+bias) $$\n",
    "    \n",
    "o bien:\n",
    "    \n",
    "$$ F(x,weights, biases) = Artificial-Neural-Network (ANN)$$\n",
    "    \n",
    "o bien:\n",
    "    \n",
    "$$ F(x,weights, biases) = Supported-Vector-Machine(SVM)$$\n",
    "    \n",
    "o bien: \n",
    "    \n",
    "$$ F(x,weight, biases) = Decision-Tree $$\n",
    "    \n",
    "o bien:\n",
    "    \n",
    "$$ F(x,weight, biases) = Decision-Forest $$\n",
    "    \n",
    "entre otros.   "
   ]
  },
  {
   "cell_type": "markdown",
   "metadata": {},
   "source": [
    "<font size=4 color='black'>\n",
    "\n",
    "Dada la simplicidad de nuestros datos, para nuestro sistema de aprendizaje proponemos que la relación entre las vairables que describen nuestro sistema es una relación lineal, descrita por la función:\n",
    "    \n",
    " $$F(x, w, b) = b + w x$$\n",
    "    \n",
    "En la nomenclatura de inteligencia artificial, esto significa que nuestro problema se resuelve con una \"regresión lineal\" (Linear regression)."
   ]
  },
  {
   "cell_type": "markdown",
   "metadata": {
    "ExecuteTime": {
     "end_time": "2020-10-06T19:24:11.171857Z",
     "start_time": "2020-10-06T19:24:11.167254Z"
    }
   },
   "source": [
    "<font size=5 color='blue'>\n",
    "\n",
    "Estos son los datos que describen el movimiento de nuestro cuerpo"
   ]
  },
  {
   "cell_type": "code",
   "execution_count": null,
   "metadata": {},
   "outputs": [],
   "source": [
    "# Generacción de las muestras (x,yi)\n",
    "n_points = 5000\n",
    "distance_0 = 100.0\n",
    "measuring_time = 100.0\n",
    "speed = 20.0\n",
    "max_distance_error = 100\n",
    "\n",
    "x, y = generador_datos_simple(n_points, distance_0, measuring_time, speed, max_distance_error)\n",
    "\n",
    "print(\"x type\", type(x), \"x shape\", x.shape)\n",
    "print(\"y type\", type(y), \"y shape\", y.shape)"
   ]
  },
  {
   "cell_type": "code",
   "execution_count": null,
   "metadata": {},
   "outputs": [],
   "source": [
    "plt.figure(figsize=(13,8))\n",
    "plt.rc('xtick', labelsize=16)\n",
    "plt.rc('ytick', labelsize=16)\n",
    "plt.rc('legend', fontsize=16)\n",
    "\n",
    "\n",
    "plt.scatter(x, y)\n",
    "plt.title('Movimiento del cuerpo', size=24)\n",
    "plt.xlabel('X(segundos)', size=18)\n",
    "plt.ylabel('Y(cm)', size=18);\n",
    "\n",
    "plt.show()"
   ]
  },
  {
   "cell_type": "markdown",
   "metadata": {
    "ExecuteTime": {
     "end_time": "2020-02-25T17:53:57.795234Z",
     "start_time": "2020-02-25T17:53:57.789400Z"
    }
   },
   "source": [
    "<font size=4 color ='blue'>\n",
    "Se generan histogramas de los las variables $x$ y $y$"
   ]
  },
  {
   "cell_type": "code",
   "execution_count": null,
   "metadata": {
    "ExecuteTime": {
     "end_time": "2020-10-07T16:42:20.087349Z",
     "start_time": "2020-10-07T16:42:19.804968Z"
    }
   },
   "outputs": [],
   "source": [
    "plt.figure(figsize=(13,5))\n",
    "plt.rc('xtick', labelsize=14)\n",
    "plt.rc('ytick', labelsize=14)\n",
    "plt.rc('legend', fontsize=14)\n",
    "\n",
    "plt.subplot(1, 2, 1)\n",
    "plt.hist(x, bins=30, edgecolor='black', alpha=0.5)\n",
    "plt.xlabel('X(segundos)', fontsize=16)\n",
    "plt.ylabel('frecuencia', fontsize=16)\n",
    "\n",
    "\n",
    "plt.subplot(1, 2, 2)\n",
    "plt.hist(y, bins=30, edgecolor='black', alpha=0.5)\n",
    "plt.xlabel('Y(cm)', fontsize=16)\n",
    "plt.ylabel('frecuencia', fontsize=16);"
   ]
  },
  {
   "cell_type": "markdown",
   "metadata": {
    "ExecuteTime": {
     "end_time": "2020-02-21T21:45:26.197814Z",
     "start_time": "2020-02-21T21:45:26.192320Z"
    }
   },
   "source": [
    "<font size=4, color='blue'>\n",
    "El total de los datos son divididos en dos grupos: uno con el 90 % de los datos y el segundo con el restante 10 %"
   ]
  },
  {
   "cell_type": "code",
   "execution_count": null,
   "metadata": {
    "ExecuteTime": {
     "end_time": "2020-10-07T16:42:20.338411Z",
     "start_time": "2020-10-07T16:42:20.089284Z"
    }
   },
   "outputs": [],
   "source": [
    "# Los datos se cambian de posicion aleatoriamente\n",
    "\n",
    "from random import shuffle\n",
    "\n",
    "c = list(zip(x, y)) \n",
    "\n",
    "shuffle(c)\n",
    "    \n",
    "(x, y) = zip(*c)\n",
    "\n",
    "print(len(x), len(y))\n",
    "\n",
    "# Los datos se dividen\n",
    "\n",
    "muestras_train = (x[0:int(0.90*len(x))], y[0:int(0.90*len(y))])\n",
    "print(len(muestras_train[0]), len(muestras_train[1]))\n",
    "\n",
    "muestras_test = (x[int(0.90*len(x)):], y[int(0.90*len(y)):])\n",
    "\n",
    "plt.figure(figsize=(15, 8))\n",
    "plt.subplot(1, 2, 1)\n",
    "plt.scatter(muestras_train[0], muestras_train[1])\n",
    "plt.title('Muestras_train', size=20)\n",
    "plt.xlabel('X(s)', size =15)\n",
    "plt.ylabel('Y(cm)', size =15)\n",
    "plt.subplot(1, 2, 2)\n",
    "plt.scatter(muestras_test[0], muestras_test[1], color='red')\n",
    "plt.title('Muestras_test', size=20)\n",
    "plt.xlabel('X(s)', size =15)\n",
    "plt.ylabel('Y(cm)', size =15);"
   ]
  },
  {
   "cell_type": "markdown",
   "metadata": {
    "ExecuteTime": {
     "end_time": "2020-02-25T18:02:38.947376Z",
     "start_time": "2020-02-25T18:02:38.937805Z"
    }
   },
   "source": [
    "<font size=5, color='blue'>\n",
    "Para las muestras de entrenamiento, las variables se normalizan empleando el promedio y la desviación estandar de la variable."
   ]
  },
  {
   "cell_type": "code",
   "execution_count": null,
   "metadata": {
    "ExecuteTime": {
     "end_time": "2020-10-07T16:42:20.342618Z",
     "start_time": "2020-10-07T16:42:20.340233Z"
    }
   },
   "outputs": [],
   "source": [
    "x_train = muestras_train[0]\n",
    "y_train = muestras_train[1]"
   ]
  },
  {
   "cell_type": "code",
   "execution_count": null,
   "metadata": {
    "ExecuteTime": {
     "end_time": "2020-10-07T16:42:20.373868Z",
     "start_time": "2020-10-07T16:42:20.344046Z"
    }
   },
   "outputs": [],
   "source": [
    "y_mean = np.mean(y_train)\n",
    "y_std = np.std(y_train)\n",
    "\n",
    "y_train = (y_train-y_mean)/y_std\n",
    "\n",
    "x_mean = np.mean(x_train)\n",
    "x_std = np.std(x_train)\n",
    "\n",
    "x_train = (x_train-x_mean)/x_std"
   ]
  },
  {
   "cell_type": "code",
   "execution_count": null,
   "metadata": {
    "ExecuteTime": {
     "end_time": "2020-10-07T16:42:20.717654Z",
     "start_time": "2020-10-07T16:42:20.375322Z"
    }
   },
   "outputs": [],
   "source": [
    "plt.figure(figsize=(13,5))\n",
    "plt.rc('xtick', labelsize=14)\n",
    "plt.rc('ytick', labelsize=14)\n",
    "plt.rc('legend', fontsize=14)\n",
    "\n",
    "\n",
    "plt.subplot(1, 2, 1)\n",
    "plt.hist(x_train, bins=30,color='blue', edgecolor='b', alpha=0.5)\n",
    "plt.xlabel('X', fontsize=14)\n",
    "plt.ylabel('Frecuencia',fontsize=14)\n",
    "\n",
    "\n",
    "plt.subplot(1, 2, 2)\n",
    "plt.hist(y_train, bins=30,color='blue', edgecolor='b', alpha=0.5)\n",
    "plt.xlabel('Y',fontsize=14)\n",
    "plt.ylabel('Frecuencia',fontsize=14);"
   ]
  },
  {
   "cell_type": "markdown",
   "metadata": {},
   "source": [
    "<font size=4, color='blue'>\n",
    "   \n",
    "Las muestras seleccionadas para hacer el entrenamiento se dividen en dos grupos:\n",
    "\n",
    "El 90 % (este valor es solo un ejemplo) de ellos se emplea para hacer el entrenamiento,\n",
    "    \n",
    "el 10 % restantes se emplean para evaluar el error ($\\textbf {costo}$) que se obtiene una vez que el sistema ha terminado su aprendizaje.\n"
   ]
  },
  {
   "cell_type": "markdown",
   "metadata": {
    "ExecuteTime": {
     "end_time": "2020-10-06T14:51:27.055986Z",
     "start_time": "2020-10-06T14:51:27.050069Z"
    }
   },
   "source": [
    "<font size=4, color='black'>\n",
    "\n",
    "Generamos la función \"training\" que contiene la arquitectura que emplearemos para entrenar el sistema aprendizaje. \n",
    "    \n",
    "De momento, en esta función incluiremos también la métrica que emplearemos para obtener el entrenamiento, ejecutaremos el entrenamiento y generaremos las graficas del costo como función de la época. \n",
    "    \n",
    "Estas tres últimas acciones normalmente se definen por separado.\n",
    "    "
   ]
  },
  {
   "cell_type": "markdown",
   "metadata": {},
   "source": [
    "<font size=4, color='blue'>\n",
    "Sea $F(x_i,w,b)$, la función que describe el sistema de aprendizaje. En donde w y b, son los parámetros que la definen."
   ]
  },
  {
   "cell_type": "markdown",
   "metadata": {
    "ExecuteTime": {
     "end_time": "2020-02-05T18:20:56.725971Z",
     "start_time": "2020-02-05T18:20:56.721704Z"
    }
   },
   "source": [
    "<font size = 4>\n",
    "\n",
    "Para encontrar los valores de $w$ y $b$, es necesario generar una metrica que nos indique la evolución del aprendizaje. Esta métrica compara los valores de la función $F(x_i,w,b)$ con los valores $y_i$ para cada una de las muestras.\n",
    "\n",
    "La siguiente es un ejemplo de este tipo de métricas:\n",
    "    \n",
    "$$ (F(x_i,w,b)-y_i)^{2}$$\n",
    "\n",
    "Para cada muestra $(x_i, y_i)$ se evalua $F(x_i,w,b)$ y se compara con el correspondiente valor $y_i$, la diferencia entre estos valores se eleva al cuadrado. \n",
    "\n",
    "Se hace esto para cada una de las muestras para obtener, en el presente caso, el error cuadrático medio (MSE, por sus siglas en ingles, mean squared error). \n",
    "\n",
    "Si m es el número de muestras, el MSE queda como:\n",
    "\n",
    "$$MSE = 1/m∑_{i=1}^{m}(F(x_i,w,b)-y_i)^{2} $$\n",
    "\n",
    "    \n",
    "    \n",
    "Dado un valor de $w$ y $b$, y generamos este error cuadrático medio, decimos que generamos una época. Se compara este error con el mínimo deseado, si es mayor, entonces modificamos los valores de los parámetros $w$ y $b$, es decir, el sistema sigue aprendiendo, e iniciamos una nueva epoca. \n",
    "    "
   ]
  },
  {
   "cell_type": "markdown",
   "metadata": {},
   "source": [
    "<font size=4 color='black'>\n",
    "    \n",
    "Por ejemplo, los parámetros $w$ y $b$ se pueden actualizar usando la siguientes relaciones:\n",
    "\n",
    "$$ w => w - \\alpha \\dfrac{\\partial MSE(w, b)}{\\partial w}$$\n",
    "\n",
    "$$ b => b - \\alpha \\dfrac{\\partial MSE(w, b)}{\\partial b}$$\n",
    "\n",
    "$\\alpha$, relación de aprendizaje, es un parámetro del modelo, y controla la rapidez con que se varían a los parametros $w$ y $b$.\n"
   ]
  },
  {
   "cell_type": "markdown",
   "metadata": {},
   "source": [
    "<font size=5, color='blue'>\n",
    "Es muy importante evaluar el aprendizaje en cada época. "
   ]
  },
  {
   "cell_type": "markdown",
   "metadata": {},
   "source": [
    "<font size=4, color='black'>\n",
    "    \n",
    "Esto se realiza separando una porción (10 %) de los datos proporcionados al sistema de aprendizaje. Con ellos se obtiene un error en cada época, llamado el error de validacion, el cual se grafica junto con el error asociado al aprendizaje.\n"
   ]
  },
  {
   "cell_type": "code",
   "execution_count": null,
   "metadata": {
    "ExecuteTime": {
     "end_time": "2020-10-07T16:55:39.474911Z",
     "start_time": "2020-10-07T16:55:39.459371Z"
    }
   },
   "outputs": [],
   "source": [
    "#Function to update weight and bias\n",
    "\n",
    "def training(x_train, y_train, weight, bias, alpha, epochs, val_ratio=0.1):\n",
    "    \n",
    "    # inicializacion de parametros\n",
    "\n",
    "    alpha = alfa\n",
    "    d_w = 0.0\n",
    "    d_b = 0.0\n",
    "\n",
    "    # Especificaciones de las graficas\n",
    "    plt.figure(figsize=(13,8)) \n",
    "    plt.title('Error vs Epoca', size=24)\n",
    "    plt.xlabel('Época', size=18)\n",
    "    plt.ylabel('Error', size=18)\n",
    "    \n",
    "    train_ratio = int((1.0-val_ratio)*len(x_train))  \n",
    "   \n",
    "    samples_train = (x_train[0:train_ratio], y_train[0:train_ratio])\n",
    "    samples_val = (x_train[train_ratio:], y_train[train_ratio:])\n",
    "    x = samples_train[0]\n",
    "    y = samples_train[1]\n",
    "    x_val = samples_val[0]\n",
    "    y_val = samples_val[1]\n",
    "       \n",
    "    weights = []\n",
    "    biases = []\n",
    "    costs = []\n",
    "    costs_val = []\n",
    "    \n",
    "    m_train = len(x)\n",
    "    m_val = len(x_val)\n",
    "    \n",
    "    for i in range(epochs):\n",
    "\n",
    "        # calculo de derivadas y el residuo\n",
    "        cost = 0.0\n",
    "        cost_val = 0.0\n",
    "        \n",
    "        for j in range(m_train):\n",
    "\n",
    "            r = (y[j]-weight*x[j] - bias)**2\n",
    "\n",
    "            d_w += 2*(weight*x[j] + bias- y[j])*x[j]\n",
    "            \n",
    "            d_b += 2*(weight*x[j]+bias-y[j])\n",
    "\n",
    "            cost += r\n",
    "\n",
    "        cost /= m_train\n",
    "\n",
    "        d_w /= m_train\n",
    "\n",
    "        d_b /= m_train\n",
    "        \n",
    "        #calculo del residuo de las muestras de valoración\n",
    "        \n",
    "        for j in range(m_val):\n",
    "\n",
    "            cost_val += (y_val[j] - weight*x_val[j] - bias)**2\n",
    "\n",
    "        cost_val /= m_val\n",
    "               \n",
    "       \n",
    "        weights.append(weight)\n",
    "        biases.append(bias)\n",
    "        costs.append(cost)\n",
    "        costs_val.append(cost_val)\n",
    "        \n",
    "        # Actualizacion de los parametros\n",
    "\n",
    "        weight = weight - alpha*d_w\n",
    "        bias = bias - alpha*d_b\n",
    "        \n",
    "        plt.scatter(i, cost, color='blue')\n",
    "        \n",
    "        plt.scatter(i, cost_val, color='orange')\n",
    "        plt.legend(['Training', 'Validation'], loc='upper right')\n",
    "\n",
    "    return weights, biases, costs, costs_val"
   ]
  },
  {
   "cell_type": "code",
   "execution_count": null,
   "metadata": {
    "ExecuteTime": {
     "end_time": "2020-10-07T16:55:42.445950Z",
     "start_time": "2020-10-07T16:55:40.103050Z"
    },
    "scrolled": false
   },
   "outputs": [],
   "source": [
    "weight_0 = np.random.random()\n",
    "bias_0 = np.random.random()\n",
    "alpha = 0.04\n",
    "num_epochs = 100\n",
    "validation_ratio = 0.1\n",
    "\n",
    "weights, biases, cost, cost_val = training \\\n",
    "        (x_train, y_train, weight_0, bias_0, alpha, num_epochs, validation_ratio)\n"
   ]
  },
  {
   "cell_type": "markdown",
   "metadata": {
    "ExecuteTime": {
     "end_time": "2020-10-05T19:53:06.445592Z",
     "start_time": "2020-10-05T19:53:06.437464Z"
    }
   },
   "source": [
    "<font size=5, color='blue'>\n",
    "\n",
    "Inferencia (predicción)"
   ]
  },
  {
   "cell_type": "markdown",
   "metadata": {},
   "source": [
    "<font size=4, color='black'>\n",
    "\n",
    "Dado el tiempo t el sistema de aprendizaje puede predecir (inferir) del valor de la distancia para ese tiempo."
   ]
  },
  {
   "cell_type": "markdown",
   "metadata": {},
   "source": [
    "<font size=4 color='blue'>\n",
    "    \n",
    "Recuerdese que para realizar el entrenamiento del sistema de aprendizaje, tanto la variable dependiente, y, como la variable independiente, x, fueron normalizadas.\n",
    "    \n"
   ]
  },
  {
   "cell_type": "markdown",
   "metadata": {},
   "source": [
    "<font size=4>\n",
    "\n",
    "Para poder explotar lo aprendido por el sistema de aprendizaje con un conjunto de muestras nuevas, es necesario reescalar el valor de la variable independiente, x, de cada muestra nueva. \n",
    "    \n",
    "Una vez inferido, para una muestra, el valor de la variable dependiente, y, es necesario reescalarlo para tener un valor que se pueda comparar con lo valores originales de la muestras empleadas para el entrenamiento."
   ]
  },
  {
   "cell_type": "code",
   "execution_count": null,
   "metadata": {
    "ExecuteTime": {
     "end_time": "2020-10-07T16:42:23.089084Z",
     "start_time": "2020-10-07T16:42:23.085793Z"
    }
   },
   "outputs": [],
   "source": [
    "def inference(x, w, b, x_train_mean, x_train_std, y_train_mean, y_train_std) :\n",
    "    \n",
    "    # reescalando la variable x\n",
    "    x = (x - x_train_mean) / x_train_std\n",
    "    \n",
    "    y = w * x + b\n",
    "    \n",
    "    # reescalando el valor inferido\n",
    "    y = y * y_train_std + y_train_mean\n",
    "    \n",
    "    return y"
   ]
  },
  {
   "cell_type": "code",
   "execution_count": null,
   "metadata": {
    "ExecuteTime": {
     "end_time": "2020-10-07T16:42:23.101550Z",
     "start_time": "2020-10-07T16:42:23.090906Z"
    },
    "scrolled": true
   },
   "outputs": [],
   "source": [
    "tiempos = [1.65, 32.20, 43.5, 84.7]\n",
    "distancia_inferida =[]\n",
    "\n",
    "for t in tiempos :\n",
    "    distancia = inference(x=t,w=weights[-1], b=biases[-1], \\\n",
    "                          x_train_mean = x_mean, x_train_std = x_std,\\\n",
    "                          y_train_mean = y_mean, y_train_std = y_std)\n",
    "    distancia_inferida.append(round(distancia,1))\n",
    "\n",
    "    print (\"Para el tiempo de {0:5.2f} s la distancia inferida es {1:6.2f} cm \".\\\n",
    "           format(t,distancia))"
   ]
  },
  {
   "cell_type": "code",
   "execution_count": null,
   "metadata": {},
   "outputs": [],
   "source": [
    "# se obtiene la distancia real\n",
    "w_real=20\n",
    "b_real=100\n",
    "distancia_real = [w_real*t+b_real for t in tiempos]\n",
    "distancia_real"
   ]
  },
  {
   "cell_type": "code",
   "execution_count": null,
   "metadata": {},
   "outputs": [],
   "source": [
    "# para medir el error se comparan las inferencias con las etiquetas reales. \n",
    "\n",
    "cont=0\n",
    "for i in range(len(distancia_real)):\n",
    "    if distancia_real[i]==distancia_inferida[i]:\n",
    "        cont =+1\n",
    "accuracy= cont/len(distancia_real)\n",
    "print('accuracy:', accuracy)"
   ]
  },
  {
   "cell_type": "code",
   "execution_count": null,
   "metadata": {},
   "outputs": [],
   "source": []
  }
 ],
 "metadata": {
  "kernelspec": {
   "display_name": "Python 3",
   "language": "python",
   "name": "python3"
  },
  "language_info": {
   "codemirror_mode": {
    "name": "ipython",
    "version": 3
   },
   "file_extension": ".py",
   "mimetype": "text/x-python",
   "name": "python",
   "nbconvert_exporter": "python",
   "pygments_lexer": "ipython3",
   "version": "3.7.10"
  }
 },
 "nbformat": 4,
 "nbformat_minor": 2
}
