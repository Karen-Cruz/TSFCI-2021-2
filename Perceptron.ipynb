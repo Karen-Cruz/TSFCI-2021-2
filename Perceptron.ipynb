{
 "cells": [
  {
   "cell_type": "markdown",
   "metadata": {
    "ExecuteTime": {
     "end_time": "2020-02-25T17:45:29.372399Z",
     "start_time": "2020-02-25T17:45:29.369243Z"
    },
    "id": "SciySCay3Ciz"
   },
   "source": [
    "\n",
    "by Karen Cruz in licensed under <a href=\"https://creativecommons.org/licenses/by-nc-nd/4.0?ref=chooser-v1\">Attribution-NonCommercial-NoDerivatives 4.0 International</a>\n",
    "\n",
    "#  Redes Neuronales Artificiales\n",
    "\n",
    "  - Perceptrón\n",
    "\n",
    "  - Funciones de Activación\n"
   ]
  },
  {
   "cell_type": "markdown",
   "metadata": {
    "id": "cu2WF1VZGoKg"
   },
   "source": [
    "> # Perceptrón"
   ]
  },
  {
   "cell_type": "markdown",
   "metadata": {
    "id": "ZTZ6Ib8EB8Z0"
   },
   "source": [
    "*Los perceptrones fueron desarrollados en las décadas de 1950 y 1960 por el científico Frank Rosenblatt, inspirado en trabajos anteriores de Warren McCulloch y Walter Pitts.*\n",
    "\n",
    "Un perceptrón toma varias entradas binarias, $x_1, x_2,. . .$, y produce una única salida binaria:\n",
    "\n",
    "<img src=\"https://drive.google.com/uc?id=1DA6xZQCE0F33PW6Nq8jFAgzU5IKJeYuT\" align = \"center\" >\n",
    "\n",
    "que las entradas y la salida sean binarias quiere decir que puede tomar solo uno de dos valores lo que se puede representar como uno o cero ,es decir, $x_1, x_2, x_3, output \\in \\{0, 1\\}$"
   ]
  },
  {
   "cell_type": "markdown",
   "metadata": {
    "id": "AK4xgBH1DRtj"
   },
   "source": [
    "En este ejemplo, el perceptrón tiene tres entradas, $x_1, x_2\n",
    ", x_3$, pero podría tener más o menos entradas. \n",
    "\n",
    "Rosenblatt propuso una regla simple para calcular la salida: \n",
    "\n",
    "- **Introdujo pesos, $w_1, w_2,. . .$, tantos como entradas se tengan, números reales que expresan la importancia de las respectivas entradas para la salida.** \n",
    "\n",
    "- **La salida de la neurona, 0 o 1, está determinada por si la suma ponderada $\\sum_j w_j x_j$ es menor o mayor que algún valor umbral**. \n",
    "\n",
    "- Al igual que los pesos, el umbral es un número real que es un parámetro de la neurona.\n",
    "\n",
    "\n",
    " En términos matemáticos:\n",
    "\n",
    "\n",
    "\n",
    " $output = \\left \\{ \\begin{matrix} 1 & \\mbox{si }\\sum_j w_j x_j\\ge umbral\n",
    "\\\\ 0 & \\mbox{si }\\sum_j w_j x_j<umbral\\end{matrix}\\right.$\n",
    "\n",
    "\n",
    "\n",
    "considerando que la suma del producto de los pesos $w_i$ y las entradas $x_i$ se puede representar como el producto escalar entre los vectores $\\bar{w}=(w_1, w_2, ...w_n)$ y $\\bar{x}=(x_1, x_2, ...x_n)$ y definiendo al umbral como -b, la expresión anterior se puede reescribir como sigue:\n",
    "\n",
    "\n",
    "$output = \\left \\{ \\begin{matrix} 1 & \\mbox{si }wx+b\\ge0\n",
    "\\\\ 0 & \\mbox{si }wx+b<0\\end{matrix}\\right.$\n",
    "\n",
    "\n",
    "**el sesgo $b$ es una medida de lo fácil que es hacer que el perceptrón se active**. Para un perceptrón con un sesgo grande, es fácil generar un 1. Pero si el sesgo es muy negativo, entonces es difícil generar un 1.\n",
    "\n",
    "\n",
    "Una forma de pensar en el perceptrón es que es un dispositivo que toma decisiones sopesando la evidencia. \n"
   ]
  },
  {
   "cell_type": "markdown",
   "metadata": {
    "id": "G4pTrGTrRLTc"
   },
   "source": [
    "**Ejemplo:**\n",
    "\n",
    " Suponga que se acerca el fin de semana y ha oído que va a haber un festival del queso en su ciudad. Te gusta el queso y estás intentando decidir si vas o no al festival. Puede tomar su decisión sopesando tres factores:\n",
    "\n",
    "1. ¿Hay buen clima?\n",
    "2. ¿Tu pareja quiere acompañarte?\n",
    "3. ¿Puedes llegar en transporte público? (No tienes coche).\n",
    "\n",
    "Podemos representar estos tres factores mediante las correspondientes variables binarias $x_1, x_2$ y $x_3$. Por ejemplo, tendríamos \n",
    "\n",
    "\n",
    "\n",
    "$x_1 = \\left \\{ \\begin{matrix} 1 & \\mbox{si hay buen clima}\n",
    "\\\\ 0 & \\mbox{si hay mal clima}\\end{matrix}\\right.$\n",
    "\n",
    "\n",
    "\n",
    "$x_2 = \\left \\{ \\begin{matrix} 1 & \\mbox{si tu pareja te acompaña}\n",
    "\\\\ 0 & \\mbox{si tu pareja no te acompaña}\\end{matrix}\\right.$\n",
    "\n",
    "\n",
    "\n",
    "$x_3 = \\left \\{ \\begin{matrix} 1 & \\mbox{si puedes llegar en transporte público}\n",
    "\\\\ 0 & \\mbox{si no puedes llegar en transporte público}\\end{matrix}\\right.$\n",
    "\n",
    "\n",
    "\n",
    "<img src=\"https://drive.google.com/uc?id=1-Gi-I_0emNR6GfJkXJEc5XJWfpso9J48\" align = \"center\" >\n",
    "\n",
    "Ahora, suponga que adora el queso, tanto que está feliz de ir al festival, incluso si su pareja no está interesado y es difícil llegar al festival.\n",
    "Pero quizás realmente detestas el mal clima y no hay forma de que vayas al festival si hace mal clima. Puede utilizar perceptrones para modelar este tipo de toma de decisiones. \n",
    "\n",
    "Una forma de hacer esto es elegir un peso $w_1 = 6$ para el clima, y $w_2 = 2$ y $w_3 = 2$ para las otras condiciones. El valor más alto de $w_1$ indica que el clima le importa mucho, mucho más que si tu pareja te acompaña, o la cercanía del transporte público. Finalmente, suponga que elige un umbral de 5 para el perceptrón. Con estas opciones, el perceptrón implementa el modelo de toma de decisiones deseado, generando 1 cuando el clima es bueno y 0 cuando el clima es malo. No importa en la salida si tu pareja quiere ir o si el transporte público está cerca.\n",
    "\n",
    "<img src=\"https://drive.google.com/uc?id=1jlvt8VLZyjYHD5-1BwtX0y7vzGDQHwt4\" align = \"center\" >\n",
    "\n",
    "\n",
    "\n",
    "| $x_1$ | $x_2$ | $x_3$ | wx+b | output |\n",
    "| --- | --- | --- | --- | --- |\n",
    "| 1 | 1 | 1 | 1(6)+1(2)+1(2)-5=5>0 | 1 |\n",
    "| 0 | 1 | 1 | 0(6)+1(2)+1(2)-5=-1<0 | 0 |\n",
    "\n",
    "\n",
    "\n"
   ]
  },
  {
   "cell_type": "code",
   "execution_count": 1,
   "metadata": {
    "executionInfo": {
     "elapsed": 468,
     "status": "ok",
     "timestamp": 1613182860635,
     "user": {
      "displayName": "Karen Daniela Cruz Hernández",
      "photoUrl": "https://lh3.googleusercontent.com/a-/AOh14GgbcczkzG7eSYgkqBMKNspyne2uTc2OHT8B4HC84A=s64",
      "userId": "14347791222029783967"
     },
     "user_tz": 360
    },
    "id": "rg-JmDJD5Y20"
   },
   "outputs": [],
   "source": [
    "import numpy as np"
   ]
  },
  {
   "cell_type": "code",
   "execution_count": 2,
   "metadata": {
    "executionInfo": {
     "elapsed": 285,
     "status": "ok",
     "timestamp": 1613182940926,
     "user": {
      "displayName": "Karen Daniela Cruz Hernández",
      "photoUrl": "https://lh3.googleusercontent.com/a-/AOh14GgbcczkzG7eSYgkqBMKNspyne2uTc2OHT8B4HC84A=s64",
      "userId": "14347791222029783967"
     },
     "user_tz": 360
    },
    "id": "b0gbjBGN5Ypl"
   },
   "outputs": [],
   "source": [
    "def perceptron(x1, x2, x3):\n",
    "    '''\n",
    "      Calcula la salida de un perceptron con 3 entradas'''\n",
    "\n",
    "    umbral = 5\n",
    "    w1=6; w2=2; w3=2\n",
    "    b = -umbral\n",
    "\n",
    "    x=np.array([x1, x2, x3, 1])\n",
    "    w=np.array([w1, w2, w3, b])\n",
    "\n",
    "    output = np.dot(x,w)\n",
    "\n",
    "    if output>=0:\n",
    "        return print(1, 'sí voy al festival') \n",
    "    else:\n",
    "        return print(0, 'no voy al festival') "
   ]
  },
  {
   "cell_type": "code",
   "execution_count": 4,
   "metadata": {
    "colab": {
     "base_uri": "https://localhost:8080/"
    },
    "executionInfo": {
     "elapsed": 307,
     "status": "ok",
     "timestamp": 1613182955172,
     "user": {
      "displayName": "Karen Daniela Cruz Hernández",
      "photoUrl": "https://lh3.googleusercontent.com/a-/AOh14GgbcczkzG7eSYgkqBMKNspyne2uTc2OHT8B4HC84A=s64",
      "userId": "14347791222029783967"
     },
     "user_tz": 360
    },
    "id": "A1UYI0br2wrt",
    "outputId": "1398c08a-dc87-400a-e763-800713b07b8b"
   },
   "outputs": [
    {
     "name": "stdout",
     "output_type": "stream",
     "text": [
      "0 no voy al festival\n"
     ]
    }
   ],
   "source": [
    "x1 = 0\n",
    "x2 = 1\n",
    "x3 = 1\n",
    "\n",
    "perceptron(x1, x2, x3)"
   ]
  },
  {
   "cell_type": "markdown",
   "metadata": {
    "id": "iBn4b5x42u_X"
   },
   "source": [
    "**Variando los pesos y el umbral, podemos obtener diferentes modelos de toma de decisiones.**\n",
    "\n",
    " Por ejemplo, supongamos que en su lugar elegimos un bias de 3. Entonces el perceptrón decidiría que debes ir al festival siempre que haga buen tiempo o cuando el festival esté cerca del transporte público y tu pareja esté dispuesto a acompañarte. En otras palabras, sería un modelo diferente de toma de decisiones. \n",
    " \n",
    " *Bajar el umbral significa que estás más dispuesto a ir al festival.* \n",
    " \n",
    " ¡Obviamente, el perceptrón no es un modelo completo de toma de decisiones humana! Pero lo que ilustra el ejemplo es cómo un perceptrón puede sopesar diferentes tipos de evidencia para tomar decisiones. Y debería parecer plausible que una compleja red de perceptrones pueda tomar decisiones bastante sutiles.\n",
    "\n",
    "\n",
    " Otra forma en que se pueden utilizar los perceptrones es para calcular las funciones lógicas elementales que solemos considerar como cálculo subyacente, funciones como AND, OR y NAND. Por ejemplo, supongamos que tenemos un perceptrón con dos entradas, cada una con un peso -2 y un sesgo general de 3. \n",
    "\n",
    "<img src=\"https://drive.google.com/uc?id=1V6g56odiRJhOwK9JlYdg16NXlYmMciF0\" align = \"center\" >\n",
    "\n",
    "\n"
   ]
  },
  {
   "cell_type": "code",
   "execution_count": 5,
   "metadata": {
    "executionInfo": {
     "elapsed": 292,
     "status": "ok",
     "timestamp": 1613183156701,
     "user": {
      "displayName": "Karen Daniela Cruz Hernández",
      "photoUrl": "https://lh3.googleusercontent.com/a-/AOh14GgbcczkzG7eSYgkqBMKNspyne2uTc2OHT8B4HC84A=s64",
      "userId": "14347791222029783967"
     },
     "user_tz": 360
    },
    "id": "Z0G0WPOc7gDt"
   },
   "outputs": [],
   "source": [
    "def NAND(x1, x2):\n",
    "    '''\n",
    "  Calcula la salida de un perceptron NAND'''\n",
    "  \n",
    "    w1=-2; w2=-2\n",
    "    b = 3\n",
    "\n",
    "    x=np.array([x1, x2, 1])\n",
    "    w=np.array([w1, w2, b])\n",
    "\n",
    "    output = np.dot(x,w)\n",
    "\n",
    "    if output>=0:\n",
    "        return 1\n",
    "    else:\n",
    "        return 0"
   ]
  },
  {
   "cell_type": "code",
   "execution_count": 6,
   "metadata": {
    "colab": {
     "base_uri": "https://localhost:8080/"
    },
    "executionInfo": {
     "elapsed": 318,
     "status": "ok",
     "timestamp": 1613183171052,
     "user": {
      "displayName": "Karen Daniela Cruz Hernández",
      "photoUrl": "https://lh3.googleusercontent.com/a-/AOh14GgbcczkzG7eSYgkqBMKNspyne2uTc2OHT8B4HC84A=s64",
      "userId": "14347791222029783967"
     },
     "user_tz": 360
    },
    "id": "iDhAhQKG758l",
    "outputId": "f07e7bfb-ca4f-4c25-d52c-9a49ed208a8e"
   },
   "outputs": [
    {
     "data": {
      "text/plain": [
       "1"
      ]
     },
     "execution_count": 6,
     "metadata": {},
     "output_type": "execute_result"
    }
   ],
   "source": [
    "x1 = 1\n",
    "x2 = 0\n",
    "\n",
    "NAND(x1, x2)"
   ]
  },
  {
   "cell_type": "markdown",
   "metadata": {
    "id": "fK0XL3pn7gWc"
   },
   "source": [
    "| $x_1$ | $x_2$ | wx+b | output |\n",
    "| --- | --- | --- | --- |\n",
    "| 0 | 0 | 0(-2)+0(-2)+3=3>0 | 1 |\n",
    "| 0 | 1 | 0(-2)+1(-2)+3=1>0 | 1 |\n",
    "| 1 | 0 | 1(-2)+0(-2)+3=1>0 | 1 |\n",
    "| 1 | 1 | 1(-2)+1(-2)+3=-1<0 | 0 |\n",
    "\n",
    "\n",
    "\n",
    "Vemos que la entrada 00 produce la salida 1, las entradas 01 y 10 producen la salida 1. Pero la entrada 11 produce la salida 0. ¡Y así nuestro perceptrón implementa una puerta NAND!\n",
    "\n",
    "\n",
    "**Resulta que podemos idear algoritmos de aprendizaje que puedan ajustar automáticamente los pesos y sesgos de una red de neuronas artificiales.**"
   ]
  },
  {
   "cell_type": "markdown",
   "metadata": {
    "id": "ovX9chK3kxDn"
   },
   "source": [
    "> # Funciones de Activación"
   ]
  },
  {
   "cell_type": "markdown",
   "metadata": {
    "id": "QXxn4jEwk3Nd"
   },
   "source": [
    "Supongamos que tenemos una red de perceptrones que nos gustaría usar para aprender a resolver algún problema. Por ejemplo, las entradas a la red pueden ser los datos de píxeles sin procesar de una imagen escaneada y manuscrita de un dígito. Y nos gustaría que la red aprenda los pesos y los sesgos para que la salida de la red clasifique correctamente el dígito. \n",
    "\n",
    "<img src=\"https://drive.google.com/uc?id=1oIsu_oAS3Tb7I37GZ96Qy72jTUorMU-i\" align = \"center\" >\n",
    "\n",
    "\n",
    "Para ver cómo podría funcionar el aprendizaje, suponga que hacemos un pequeño cambio en algún peso (o sesgo) en la red: $w+\\Delta w$. Lo que nos gustaría es que este pequeño cambio de ponderación provoque solo un pequeño cambio correspondiente en la salida de la red: $output+\\Delta output$. \n",
    "\n",
    "\n",
    "Si fuera cierto que un pequeño cambio en un peso (o sesgo) causa solo un pequeño cambio en la salida, entonces podríamos usar este hecho para modificar los pesos y sesgos para que nuestra red se comporte más de la manera que queremos. Por ejemplo, supongamos que la red clasifica erróneamente una imagen como un \"8\" cuando debería ser un \"9\". Podríamos averiguar cómo hacer un pequeño cambio en los pesos y sesgos para que la red se acerque un poco más a clasificar la imagen como un “9”.\n",
    "\n",
    "**Y luego repetimos esto, cambiando los pesos y los sesgos una y otra vez para producir un resultado cada vez mejor. La red estaría aprendiendo.**\n",
    "\n",
    "El problema es que *esto no es lo que sucede cuando nuestra red contiene perceptrones*. De hecho, un pequeño cambio en los pesos o el sesgo de cualquier perceptrón individual en la red a veces puede hacer que la salida de ese perceptrón cambie completamente, digamos de 0 a 1. Ese cambio puede hacer que el comportamiento del resto de la red cambie completamente de una manera muy complicada. Entonces, aunque su \"9\" ahora podría estar clasificado correctamente, es probable que el comportamiento de la red en todas las demás imágenes haya cambiado por completo de alguna manera difícil de controlar. Eso hace que sea difícil ver cómo modificar gradualmente los pesos y los sesgos para que la red se acerque más al comportamiento deseado. \n",
    "\n",
    "Podemos superar este problema introduciendo un nuevo tipo de neurona artificial llamada neurona sigmoidea. **Las neuronas sigmoides son similares a los perceptrones, pero modificadas de modo que pequeños cambios en sus pesos y sesgos provocan solo un pequeño cambio en su predicción**. Ese es el crucial\n",
    "hecho que permitirá aprender a una red de neuronas sigmoides.\n",
    "\n",
    "\n",
    "Las neuronas sigmoides se representan de la misma manera que a los perceptrones:\n",
    "\n",
    "<img src=\"https://drive.google.com/uc?id=1DA6xZQCE0F33PW6Nq8jFAgzU5IKJeYuT\" align = \"center\" >\n",
    "\n",
    "Al igual que un perceptrón, la neurona sigmoide tiene entradas, $x_1, x_2,. . .$. Pero en lugar de ser solo 0 o 1, estas entradas también pueden tomar cualquier valor entre 0 y 1. Por ejemplo, 0.638 es una entrada válida para una neurona sigmoidea. Al igual que un perceptrón, la neurona sigmoide tiene pesos para cada entrada, $w_1, w_2,. . .$, y un sesgo general, $b$. Pero la salida no es 0 o 1. En cambio, es $σ(wx + b)$, donde $σ$ se denomina función sigmoide y se define por:\n",
    "\n",
    "$$\\sigma(z)=\\dfrac{1}{1+e^{-z}}$$\n",
    "\n",
    "\n",
    "\n",
    "- Suponga que $z ≡ w · x + b$ es un número positivo grande. \n",
    "\n",
    "  - Entonces $e^{−z} ≈ 0$ y entonces $σ(z) ≈ 1$. En otras palabras, cuando $z = w · x + b$ es grande y positivo, la salida de la neurona sigmoide es aproximadamente 1, tal como lo hubiera sido para un perceptrón. \n",
    "\n",
    "\n",
    "- Suponga, por otro lado, que $z = w · x + b$ es muy negativo.\n",
    "\n",
    "  - Entonces $e^{−z} → ∞$, y $σ(z) ≈ 0$. Entonces, cuando $z = w · x + b$ es muy negativo, el comportamiento de una neurona sigmoide también se aproxima mucho a un perceptrón. Sólo cuando $w · x + b$ es de tamaño medio, hay mucha desviación del modelo de perceptrón.\n",
    "\n"
   ]
  },
  {
   "cell_type": "code",
   "execution_count": 7,
   "metadata": {
    "executionInfo": {
     "elapsed": 273,
     "status": "ok",
     "timestamp": 1613186813302,
     "user": {
      "displayName": "Karen Daniela Cruz Hernández",
      "photoUrl": "https://lh3.googleusercontent.com/a-/AOh14GgbcczkzG7eSYgkqBMKNspyne2uTc2OHT8B4HC84A=s64",
      "userId": "14347791222029783967"
     },
     "user_tz": 360
    },
    "id": "e2wnveLhk2G-"
   },
   "outputs": [],
   "source": [
    "# se definen algunas de las funciones de activación más comunes\n",
    "\n",
    "def perceptron_plot(z):\n",
    "    \"\"\"\n",
    "  Calcula la función step de z\n",
    "  INPUT:\n",
    "  z: arreglo.\"\"\"\n",
    "    output = []\n",
    "    for i in z:\n",
    "        if i>= 0:\n",
    "            output.append(1)\n",
    "        else:\n",
    "            output.append(0)\n",
    "    return output\n",
    "\n",
    "\n",
    "def sigmoid(z):\n",
    "    \"\"\"\n",
    "    Calcula la función sigmoide de z\n",
    "    INPUT:\n",
    "    z -- Escalar o arreglo de cualquier tamaño.\n",
    "    OUTPUT:\n",
    "    s -- sigmoid(z)\n",
    "    \"\"\"\n",
    "    \n",
    "    return 1/(1+np.exp(-z))\n",
    "\n",
    "def relu(z):\n",
    "    \"\"\"\n",
    "    Calcula la función ReLU de z\n",
    "    INPUT:\n",
    "    z -- Escalar o arreglo de cualquier tamaño.\n",
    "    OUTPUT:\n",
    "    reLu(z)\n",
    "    \"\"\"\n",
    "    return np.max(0.0, z)\n",
    "\n",
    "def tanh(z):\n",
    "    \"\"\"\n",
    "    Calcula la función tanh de z\n",
    "    INPUT:\n",
    "    z -- Escalar o arreglo de cualquier tamaño.\n",
    "    OUTPUT:\n",
    "    tanh(z)\n",
    "    \"\"\"\n",
    "    return (np.tanh(z))"
   ]
  },
  {
   "cell_type": "code",
   "execution_count": 8,
   "metadata": {
    "colab": {
     "base_uri": "https://localhost:8080/",
     "height": 523
    },
    "executionInfo": {
     "elapsed": 613,
     "status": "ok",
     "timestamp": 1613186817751,
     "user": {
      "displayName": "Karen Daniela Cruz Hernández",
      "photoUrl": "https://lh3.googleusercontent.com/a-/AOh14GgbcczkzG7eSYgkqBMKNspyne2uTc2OHT8B4HC84A=s64",
      "userId": "14347791222029783967"
     },
     "user_tz": 360
    },
    "id": "CXfkxWag_0rP",
    "outputId": "c69fe76c-5a68-4316-d67e-74e8162c82da"
   },
   "outputs": [
    {
     "data": {
      "image/png": "[encoded data removed]",
      "text/plain": [
       "<Figure size 936x576 with 1 Axes>"
      ]
     },
     "metadata": {
      "needs_background": "light"
     },
     "output_type": "display_data"
    }
   ],
   "source": [
    "# se grafican la funcion step (propia del perceptron) y la función sigmoide\n",
    "\n",
    "import matplotlib.pyplot as plt\n",
    "\n",
    "# datos para graficar\n",
    "x_ = np.arange(-10, 10.0, 0.01)\n",
    "y_step = perceptron_plot(x_)\n",
    "y_sigmoid = sigmoid(x_)\n",
    "\n",
    "#detalles de la grafica\n",
    "plt.figure(figsize=(13,8))\n",
    "plt.ylabel('Y', fontsize=16)\n",
    "plt.xlabel('X', fontsize=16)\n",
    "plt.grid(True)\n",
    "plt.title('funciones de activación', size=20)\n",
    "\n",
    "#Graficamos las funciones de activación\n",
    "plt.plot(x_, y_step, color='salmon', lw=4, label='step')\n",
    "plt.plot(x_, y_sigmoid, color='brown', lw=4, label='sigmoid')\n",
    "plt.legend();"
   ]
  },
  {
   "cell_type": "markdown",
   "metadata": {
    "id": "MHJ6gpC0vU6I"
   },
   "source": [
    "La suavidad de $σ$ significa que pequeños cambios $∆w_j$ en los pesos y $∆b$ en el sesgo producirán un pequeño cambio $∆output$ en la salida de la neurona. \n",
    "\n",
    "\n",
    "En general se pueden tener neuronas donde la salida es $f(w · x + b)$ para alguna otra función de activación $f (·)$.\n",
    "\n"
   ]
  },
  {
   "cell_type": "markdown",
   "metadata": {
    "id": "T_vhRhuanBCL"
   },
   "source": [
    "Referencia: *Michael Nielsen*, [**Neural Networks and Deep Learning**](http://neuralnetworksanddeeplearning.com/)"
   ]
  }
 ],
 "metadata": {
  "colab": {
   "collapsed_sections": [],
   "name": "i-Bloque2:Perceptron.ipynb",
   "provenance": []
  },
  "kernelspec": {
   "display_name": "Python 3",
   "language": "python",
   "name": "python3"
  },
  "language_info": {
   "codemirror_mode": {
    "name": "ipython",
    "version": 3
   },
   "file_extension": ".py",
   "mimetype": "text/x-python",
   "name": "python",
   "nbconvert_exporter": "python",
   "pygments_lexer": "ipython3",
   "version": "3.7.0"
  }
 },
 "nbformat": 4,
 "nbformat_minor": 1
}
