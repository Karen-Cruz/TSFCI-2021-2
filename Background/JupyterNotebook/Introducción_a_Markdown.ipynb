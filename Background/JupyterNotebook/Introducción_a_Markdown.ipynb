{
  "nbformat": 4,
  "nbformat_minor": 0,
  "metadata": {
    "kernelspec": {
      "display_name": "Python 3",
      "language": "python",
      "name": "python3"
    },
    "language_info": {
      "codemirror_mode": {
        "name": "ipython",
        "version": 3
      },
      "file_extension": ".py",
      "mimetype": "text/x-python",
      "name": "python",
      "nbconvert_exporter": "python",
      "pygments_lexer": "ipython3",
      "version": "3.7.0"
    },
    "colab": {
      "name": "Introducción-a-Markdown.ipynb",
      "provenance": [],
      "collapsed_sections": [
        "bLYFXa15i0VK",
        "k21O0D5Qi0VT",
        "kmxe_R1Ni0Vf",
        "CoiUmDjJi0Vn",
        "-8KD--J0i0Vq"
      ]
    }
  },
  "cells": [
    {
      "cell_type": "markdown",
      "metadata": {
        "id": "04lCMe7Xi0Um"
      },
      "source": [
        "<font size=2>\n",
        "\n",
        "**Introducción a las celdas Markdown en Jupyter**  by Karen Cruz in licensed under <a href=\"https://creativecommons.org/licenses/by-nc-nd/4.0?ref=chooser-v1\">Attribution-NonCommercial-NoDerivatives 4.0 International</a>\n",
        "\n",
        "\n",
        "* Para que se desplieguen las imágenes de este notebook debes tener la carpeta *images* en la misma carpeta que este notebook.\n",
        "\n",
        "* No se recomienda usar este notebook en Colab ya que varias de las utilidades  en las celdas de tipo Markdown en Jupyter funcionan diferente a las celdas de tipo Texto en Colab.\n",
        "\n",
        "* Para ejecutar una celda teclear: [Shift + Enter] \n"
      ]
    },
    {
      "cell_type": "markdown",
      "metadata": {
        "id": "Ud_ml1A2i0U3"
      },
      "source": [
        "<font size=4>\n",
        "\n",
        "\n",
        "En el presente notebook se presentan algunas utilidades de las celdas tipo Markdown y las celdas tipo code.\n",
        "\n",
        "> **1. Tipo de celda Markdown**\n",
        "\n",
        "\n",
        "  - Cambiar a celda tipo markdown\n",
        "  \n",
        "  \n",
        "  - Color del texto\n",
        "  \n",
        "  \n",
        "  - Encabezados\n",
        "  \n",
        "  \n",
        "  - Tamaño del texto\n",
        "  \n",
        "  \n",
        "  - Imágenes\n",
        "  \n",
        "  \n",
        "  - Ecuaciones\n",
        "  \n",
        "  \n",
        "  - Tablas\n",
        "  \n",
        "  \n",
        "  - Referencias\n",
        "  \n",
        "  \n",
        "  \n",
        "> **2. Celda de tipo code**\n",
        "\n",
        "\n",
        "  - Código\n",
        "  \n",
        "  \n",
        "  - Terminal\n",
        "     "
      ]
    },
    {
      "cell_type": "markdown",
      "metadata": {
        "id": "t9LR5dC2i0U5"
      },
      "source": [
        "<font color='cornflowerblue' size=4>\n",
        "    \n",
        "# 1. Tipo de celda *Markdown* "
      ]
    },
    {
      "cell_type": "markdown",
      "metadata": {
        "id": "MA0b9NJHi0U6"
      },
      "source": [
        "<font size=4>\n",
        "\n",
        "Cuando iniciamos un notebook (nb), generalmente comenzamos dando una descripción del trabajo a realizar, la celda de tipo **Markdown** permite anexar texto, imágenes, tablas, etc. \n",
        "\n",
        "Tiene una sintaxis específica que se puede ver haciendo doble clic en la celda de tipo Markdown correspondiente.\n",
        "\n",
        "Para elegir este tipo de celda, puede utilizar cualquiera de los siguientes tres métodos:"
      ]
    },
    {
      "cell_type": "markdown",
      "metadata": {
        "id": "KUnM7O0ei0U7"
      },
      "source": [
        "<font color='cornflowerblue'>\n",
        "    <font size=4>\n",
        "\n",
        "1.  En la barra de herramientas, vaya a **Cell > Cell Type > Markdown**."
      ]
    },
    {
      "cell_type": "markdown",
      "metadata": {
        "id": "N7v8pd8Gi0U8"
      },
      "source": [
        "<img src = \"images/cell_type.png\" style=\"width:450px;height:300px;\">"
      ]
    },
    {
      "cell_type": "markdown",
      "metadata": {
        "id": "M6A__zpHi0U-"
      },
      "source": [
        "<font color='cornflowerblue' size=4>\n",
        "\n",
        "2. Haga clic en el botón que esta entre los siguientes dos:\n",
        "\n",
        "<img src='images/c.PNG'> <img src='images/cmd.PNG'>\n",
        "\n",
        "y seleccione la celda de tipo Markdown."
      ]
    },
    {
      "cell_type": "markdown",
      "metadata": {
        "id": "HFrHTnaEi0VC"
      },
      "source": [
        "<img src='images/code.png' style=\"width:250px;height:150px;\">"
      ]
    },
    {
      "cell_type": "markdown",
      "metadata": {
        "id": "KGaABg3ui0VD"
      },
      "source": [
        "<font color='cornflowerblue' size=4>\n",
        "    \n",
        "\n",
        "3. Selecciona la celda (clic sobre In [ ]:) y teclea la letra **m**."
      ]
    },
    {
      "cell_type": "markdown",
      "metadata": {
        "id": "tgaGqqK4i0VE"
      },
      "source": [
        "<img src = 'images/F2.PNG' style=\"width:250px;height:100px;\">"
      ]
    },
    {
      "cell_type": "markdown",
      "metadata": {
        "id": "Vde_mFU8i0VE"
      },
      "source": [
        "<font color='cornflowerblue'>\n",
        "\n",
        "NOTA: La celda actual y las celdas anteriores son de tipo Markdown, para ver el formato, haga doble clic sobre cualquiera de las celdas mencionadas."
      ]
    },
    {
      "cell_type": "markdown",
      "metadata": {
        "id": "5ETxFG98i0VF"
      },
      "source": [
        "<font color='cornflowerblue' size=4>\n",
        "\n",
        "> ### Color del texto"
      ]
    },
    {
      "cell_type": "markdown",
      "metadata": {
        "id": "u_7epI3_i0VG"
      },
      "source": [
        "<font size=4>\n",
        "\n",
        "Para elegir el color del texto se usa la siguiente sintaxis:"
      ]
    },
    {
      "cell_type": "markdown",
      "metadata": {
        "id": "bh_DYTjqi0VG"
      },
      "source": [
        "<font color = 'name_color'>"
      ]
    },
    {
      "cell_type": "markdown",
      "metadata": {
        "id": "s_3i9Pvai0VH"
      },
      "source": [
        "<font size=4>\n",
        "\n",
        "y el texto después de este comando será del color *name_color*.\n",
        "\n",
        "En la siguiente celda hay un ejemplo:"
      ]
    },
    {
      "cell_type": "markdown",
      "metadata": {
        "id": "-mWL7YGdi0VI"
      },
      "source": [
        "<font size=4>\n",
        "\n",
        "<font color='red'>\n",
        "    \n",
        "This text is red. \n",
        "\n",
        "<font color='orange'>\n",
        "    \n",
        "This text is orange. \n",
        "\n",
        "<font color='yellow'>\n",
        "    \n",
        "This text is yellow. \n",
        "\n",
        "<font color='green'>\n",
        "    \n",
        "This text is green. \n",
        "\n",
        "<font color='blue'>\n",
        "    \n",
        "This text is blue. \n",
        "\n",
        "<font color='purple'>\n",
        "    \n",
        "This text is purple. "
      ]
    },
    {
      "cell_type": "markdown",
      "metadata": {
        "id": "3D0BoYyii0VI"
      },
      "source": [
        "<font size=4>\n",
        "    \n",
        "     resultado:\n",
        "\n",
        "<font color='red'>\n",
        "    \n",
        "This text is red. \n",
        "\n",
        "<font color='orange'>\n",
        "    \n",
        "This text is orange. \n",
        "\n",
        "<font color='yellow'>\n",
        "    \n",
        "This text is yellow. \n",
        "\n",
        "<font color='green'>\n",
        "    \n",
        "This text is green. \n",
        "\n",
        "<font color='blue'>\n",
        "    \n",
        "This text is blue. \n",
        "\n",
        "<font color='purple'>\n",
        "    \n",
        "This text is purple. "
      ]
    },
    {
      "cell_type": "markdown",
      "metadata": {
        "id": "hARbb3m0i0VJ"
      },
      "source": [
        "<font size=4>\n",
        "\n",
        "Por defecto, si el color no se especifica es negro."
      ]
    },
    {
      "cell_type": "markdown",
      "metadata": {
        "id": "bLYFXa15i0VK"
      },
      "source": [
        "<font color='cornflowerblue' size=4>\n",
        "\n",
        "> ### Encabezados y tamaño del texto"
      ]
    },
    {
      "cell_type": "markdown",
      "metadata": {
        "id": "CGdqi8EJi0VK"
      },
      "source": [
        "<font size=4>\n",
        "\n",
        "Puede variar el tamaño del encabezado con el símbolo #. Cuantos más símbolos (#) tenga, más pequeño será. En la siguiente celda hay un ejemplo."
      ]
    },
    {
      "cell_type": "markdown",
      "metadata": {
        "id": "Vobugfjxi0VL"
      },
      "source": [
        "# Encabezado con 1 símbolo \n",
        "\n",
        "## Encabezado con 2 simbolos \n",
        "\n",
        "### Encabezado con 3 simbolos \n",
        "\n",
        "#### Encabezado con 4 simbolos \n",
        "\n",
        "##### Encabezado con 5 simbolos "
      ]
    },
    {
      "cell_type": "markdown",
      "metadata": {
        "id": "qva9qG1qi0VM"
      },
      "source": [
        "    resultado:\n",
        "\n",
        "# Encabezado con 1 símbolo \n",
        "\n",
        "## Encabezado con 2 simbolos \n",
        "\n",
        "### Encabezado con 3 simbolos \n",
        "\n",
        "#### Encabezado con 4 simbolos \n",
        "\n",
        "##### Encabezado con 5 simbolos \n"
      ]
    },
    {
      "cell_type": "markdown",
      "metadata": {
        "id": "yJQT8Mj5i0VN"
      },
      "source": [
        "<font size=4>\n",
        "\n",
        "El número máximo de símbolos para los que se obtiene un resultado diferente es cinco, con cuatro # se tiene el tamaño más pequeño y con cinco se tiene tipo cursiva.\n",
        "\n",
        "Cuando se utiliza cualquier número de símbolos #, el texto resultante está en negrita.\n",
        "\n",
        "Para poner el texto en negrita, se debe escribir entre **."
      ]
    },
    {
      "cell_type": "markdown",
      "metadata": {
        "id": "YN6Z1lZui0VO"
      },
      "source": [
        "**Texto en negrita**"
      ]
    },
    {
      "cell_type": "markdown",
      "metadata": {
        "id": "eI07fR3ki0VP"
      },
      "source": [
        "<font size=4>\n",
        "    \n",
        "    resultado:\n",
        "\n",
        "**Texto en negrita**"
      ]
    },
    {
      "cell_type": "markdown",
      "metadata": {
        "id": "X5aw3Eoti0VP"
      },
      "source": [
        "<font size=4>\n",
        "\n",
        "El tamaño de fuente se cambia con el siguiente comando:"
      ]
    },
    {
      "cell_type": "markdown",
      "metadata": {
        "id": "3JbzirgWi0VQ"
      },
      "source": [
        "<font size = 4>   "
      ]
    },
    {
      "cell_type": "markdown",
      "metadata": {
        "id": "-JGO9PmAi0VR"
      },
      "source": [
        "<font size=4>\n",
        "    \n",
        "   Hola"
      ]
    },
    {
      "cell_type": "markdown",
      "metadata": {
        "id": "d_P210wLi0VR"
      },
      "source": [
        "<font size=5>\n",
        "    \n",
        "   Hola"
      ]
    },
    {
      "cell_type": "markdown",
      "metadata": {
        "id": "7TNeuj_bi0VS"
      },
      "source": [
        "<font size=6>\n",
        "    \n",
        "   Hola  "
      ]
    },
    {
      "cell_type": "markdown",
      "metadata": {
        "id": "Rz0IMVtJi0VT"
      },
      "source": [
        "<font size=7>\n",
        "    \n",
        "   Hola"
      ]
    },
    {
      "cell_type": "markdown",
      "metadata": {
        "id": "k21O0D5Qi0VT"
      },
      "source": [
        "<font color='cornflowerblue' size=4>\n",
        "\n",
        "\n",
        "> ### Imágenes"
      ]
    },
    {
      "cell_type": "markdown",
      "metadata": {
        "id": "m2vhMsD9i0VU"
      },
      "source": [
        "<font size=4>\n",
        "\n",
        "Para insertar una imagen se usa el siguiente comando:"
      ]
    },
    {
      "cell_type": "markdown",
      "metadata": {
        "id": "7heg-w7ni0VU"
      },
      "source": [
        "<img src = 'imagepath.extention'>"
      ]
    },
    {
      "cell_type": "markdown",
      "metadata": {
        "id": "L9DwgXyii0VV"
      },
      "source": [
        "<font size=4>\n",
        "    \n",
        "     Nota: es muy importante notar que la ruta de la imagen debe agregarse correctamente, de lo contrario la imagen no se verá.\n",
        "\n",
        "En la siguiente celda hay un ejemplo de imagen. Dentro del último comando puede especificar el tamaño de la imagen agregando:"
      ]
    },
    {
      "cell_type": "markdown",
      "metadata": {
        "id": "SxSXQkE0i0VV"
      },
      "source": [
        "style = \"width: 450px; height: 550px;\""
      ]
    },
    {
      "cell_type": "markdown",
      "metadata": {
        "id": "uZ6vfEvhi0VW"
      },
      "source": [
        "<font size=4>\n",
        "\n",
        "y puede cambiar los números 450 y 550 que son el ancho y alto de la imagen, respectivamente."
      ]
    },
    {
      "cell_type": "markdown",
      "metadata": {
        "id": "lHsZnCfCi0VW"
      },
      "source": [
        "<img src = 'images/small20203.jpg ' style=\"width:650px;height:600px;\">"
      ]
    },
    {
      "cell_type": "markdown",
      "metadata": {
        "id": "WU39KXbSi0VX"
      },
      "source": [
        "<font size=4>\n",
        "\n",
        "Si desea agregar una descripción a la imagen, puede usar la siguiente sintaxis:"
      ]
    },
    {
      "cell_type": "markdown",
      "metadata": {
        "id": "38Tb1ZAEi0VY"
      },
      "source": [
        "<img src = \"images/logout.png\">\n",
        "<figcaption> <center> Fig. 1 Black soldier fly by Maikl Gribkov. </center> </figcaption>"
      ]
    },
    {
      "cell_type": "markdown",
      "metadata": {
        "id": "YDC4z47Ai0VY"
      },
      "source": [
        "<font size=4>\n",
        "\n",
        "Ejemplo:"
      ]
    },
    {
      "cell_type": "markdown",
      "metadata": {
        "id": "pM8kiLObi0VZ"
      },
      "source": [
        "<img src = \"images/small20203.jpg\" style=\"width:650px;height:600px;\">\n",
        "<figcaption> <center> Fig. 1 Black soldier fly by Maikl Gribkov. </center> </figcaption>"
      ]
    },
    {
      "cell_type": "markdown",
      "metadata": {
        "id": "2xOTZw5Hi0VZ"
      },
      "source": [
        "__________________"
      ]
    },
    {
      "cell_type": "markdown",
      "metadata": {
        "id": "2LzlifnEi0Va"
      },
      "source": [
        "<font color='rosybrown'>\n",
        "    <font size=4>\n",
        "        \n",
        "**1. Ejercicio**"
      ]
    },
    {
      "cell_type": "markdown",
      "metadata": {
        "id": "ZFtSjjANi0Va"
      },
      "source": [
        "<font size=4>\n",
        "\n",
        "I. Agrega una celda debajo de esta. Hay dos maneras de hacerlo:"
      ]
    },
    {
      "cell_type": "markdown",
      "metadata": {
        "id": "dFFAIQSqi0Vb"
      },
      "source": [
        "<font size=4>\n",
        "\n",
        "1. Da clic sobre el botón **+** y automáticamente se agrega una celda debajo de la celda actual seleccionada.\n",
        "\n",
        "<img src='images/plus.PNG'>"
      ]
    },
    {
      "cell_type": "markdown",
      "metadata": {
        "id": "2X9kTmjbi0Vc"
      },
      "source": [
        "\n",
        "<font size=4>\n",
        "    \n",
        "2. En la barra de herramientas, vaya a **Insert>Insert Cell Below**:\n",
        "\n",
        "<img src='images/cell_be.PNG'>"
      ]
    },
    {
      "cell_type": "markdown",
      "metadata": {
        "id": "4sIs9fpSi0Vc"
      },
      "source": [
        "<font size=4>\n",
        "\n",
        "II. Convierta la celda al tipo Markdown usando cualquiera de los tres métodos vistos al principio. "
      ]
    },
    {
      "cell_type": "markdown",
      "metadata": {
        "id": "LICGk-gri0Vd"
      },
      "source": [
        "<font size=4>\n",
        "\n",
        "III. Vaya a [openAI](https://openai.com), elija un artículo de interés y escriba una pequeña reseña usando las utilidades revisadas.\n"
      ]
    },
    {
      "cell_type": "markdown",
      "metadata": {
        "id": "jUaRygJli0Ve"
      },
      "source": [
        "<font size=3>\n",
        "\n",
        "*Agrega las celdas que necesites.*"
      ]
    },
    {
      "cell_type": "markdown",
      "metadata": {
        "id": "OXAny3vHi0Ve"
      },
      "source": [
        "_______________"
      ]
    },
    {
      "cell_type": "markdown",
      "metadata": {
        "id": "kmxe_R1Ni0Vf"
      },
      "source": [
        "<font color='cornflowerblue'>\n",
        "<font size=4>\n",
        "    \n",
        "> ### Ecuaciones"
      ]
    },
    {
      "cell_type": "markdown",
      "metadata": {
        "id": "HD7PB0hXi0Vf"
      },
      "source": [
        "<font size=4>\n",
        "     \n",
        "También podemos escribir ecuaciones usando el mismo formato que en latex, por ejemplo, en la siguiente celda presentamos la ecuación de Richardson:"
      ]
    },
    {
      "cell_type": "markdown",
      "metadata": {
        "id": "9LmHkeMli0Vg"
      },
      "source": [
        "$ 1 + 2V\\Sigma_{\\nu´ \\neq \\nu}^{W} (E_{\\nu}-E_{\\nu´})^{-1} + V\\Sigma_{s=1}^{N_{s}} (2\\epsilon_{s}-E_{\\nu})^{-1} = 0  $"
      ]
    },
    {
      "cell_type": "markdown",
      "metadata": {
        "id": "qjHZ0AVyi0Vk"
      },
      "source": [
        "<font size=4>\n",
        "    \n",
        "    resultado:\n",
        "\n",
        "$ 1 + 2V\\Sigma_{\\nu´ \\neq \\nu}^{W} (E_{\\nu}-E_{\\nu´})^{-1} + V\\Sigma_{s=1}^{N_{s}} (2\\epsilon_{s}-E_{\\nu})^{-1} = 0  $"
      ]
    },
    {
      "cell_type": "markdown",
      "metadata": {
        "id": "Vxr_YUQqi0Vk"
      },
      "source": [
        "<font size=4>\n",
        "\n",
        "Para indicar que el formato utilizado corresponde a una ecuación, la ecuación se escribe entre los símbolos $.\n",
        "\n",
        "Para centrar la ecuación, se utilizan dos símbolos $ al principio y al final de la ecuación:"
      ]
    },
    {
      "cell_type": "markdown",
      "metadata": {
        "id": "w7BkXMaLi0Vl"
      },
      "source": [
        "$$ 1 + 2V\\Sigma_{\\nu´ \\neq \\nu}^{W} (E_{\\nu}-E_{\\nu´})^{-1} + V\\Sigma_{s=1}^{N_{s}} (2\\epsilon_{s}-E_{\\nu})^{-1} = 0  $$"
      ]
    },
    {
      "cell_type": "markdown",
      "metadata": {
        "id": "9-GonmrFi0Vm"
      },
      "source": [
        "<font size=4>\n",
        "    \n",
        "    resultado:\n",
        "\n",
        "$$ 1 + 2V\\Sigma_{\\nu´ \\neq \\nu}^{W} (E_{\\nu}-E_{\\nu´})^{-1} + V\\Sigma_{s=1}^{N_{s}} (2\\epsilon_{s}-E_{\\nu})^{-1} = 0  $$"
      ]
    },
    {
      "cell_type": "markdown",
      "metadata": {
        "id": "z3RqH6Fhi0Vm"
      },
      "source": [
        "<font size=4>\n",
        "\n",
        "\n",
        "Si no sabe cómo poner un símbolo puede consultar en esta página: [Detexify](http://detexify.kirelabs.org/classify.html)"
      ]
    },
    {
      "cell_type": "markdown",
      "metadata": {
        "id": "CoiUmDjJi0Vn"
      },
      "source": [
        "<font color='cornflowerblue'>\n",
        "    <font size=4>\n",
        "\n",
        "> ### Tablas"
      ]
    },
    {
      "cell_type": "markdown",
      "metadata": {
        "id": "Ca-F1-lBi0Vn"
      },
      "source": [
        "<font size=4>\n",
        "\n",
        "Para hacer una tabla usamos el siguiente formato:"
      ]
    },
    {
      "cell_type": "markdown",
      "metadata": {
        "id": "gdazb4Yri0Vo"
      },
      "source": [
        "| column1 | column2 | column3| ... | columnN |\n",
        "| --- | --- | --- | --- | --- | \n",
        "| val1 | val2 | val3 | ... | valN |"
      ]
    },
    {
      "cell_type": "markdown",
      "metadata": {
        "id": "USqw6mdQi0Vo"
      },
      "source": [
        "<font size=4>\n",
        "\n",
        "lo que se ve como sigue:"
      ]
    },
    {
      "cell_type": "markdown",
      "metadata": {
        "id": "ZKrDsCuai0Vp"
      },
      "source": [
        "\n",
        "| column1 | column2 | column3| ... | columnN |\n",
        "| --- | --- | --- | --- | --- |\n",
        "| val1 | val2 | val3 | ... | valN |"
      ]
    },
    {
      "cell_type": "markdown",
      "metadata": {
        "id": "7WBkKZUOi0Vp"
      },
      "source": [
        "<font size=4>\n",
        "\n",
        "Cada columna está encerrada entre pipes (|).\n",
        "\n",
        "Para poner líneas horizontales, se encierran tres guiones (-) entre pipes (|). Debe haber tantos guiones encerrados como columnas.\n",
        "\n",
        "Para cada fila se escribe una línea, respetando el número de columnas dado en la primera fila."
      ]
    },
    {
      "cell_type": "markdown",
      "metadata": {
        "id": "-8KD--J0i0Vq"
      },
      "source": [
        "<font color='cornflowerblue'>\n",
        "<font size=4>\n",
        "    \n",
        "> ### Referencias"
      ]
    },
    {
      "cell_type": "markdown",
      "metadata": {
        "id": "ZZgKpiEHi0Vq"
      },
      "source": [
        "<font size=4>\n",
        "Para poner una referencia se utiliza la siguiente sintaxis:"
      ]
    },
    {
      "cell_type": "markdown",
      "metadata": {
        "id": "ZVF6VG4Gi0Vr"
      },
      "source": [
        "[name_reference](url)"
      ]
    },
    {
      "cell_type": "markdown",
      "metadata": {
        "id": "qg98hdwRi0Vr"
      },
      "source": [
        "<font size=4>\n",
        "\n",
        "por ejemplo, en la siguiente celda, se crea un acceso directo a la página Playground TensorFlow:"
      ]
    },
    {
      "cell_type": "markdown",
      "metadata": {
        "id": "AUET6faZi0Vs"
      },
      "source": [
        "[Playground TensorFlow](https://playground.tensorflow.org/#activation=tanh&batchSize=10&dataset=circle&regDataset=reg-plane&learningRate=0.03&regularizationRate=0&noise=0&networkShape=4,2&seed=0.56812&showTestData=false&discretize=false&percTrainData=50&x=true&y=true&xTimesY=false&xSquared=false&ySquared=false&cosX=false&sinX=false&cosY=false&sinY=false&collectStats=false&problem=classification&initZero=false&hideText=false)"
      ]
    },
    {
      "cell_type": "markdown",
      "metadata": {
        "id": "HwUpggbgi0Vs"
      },
      "source": [
        "<font size=4>\n",
        "    \n",
        "    resultado:\n",
        "\n",
        "[Playground TensorFlow](https://playground.tensorflow.org/#activation=tanh&batchSize=10&dataset=circle&regDataset=reg-plane&learningRate=0.03&regularizationRate=0&noise=0&networkShape=4,2&seed=0.56812&showTestData=false&discretize=false&percTrainData=50&x=true&y=true&xTimesY=false&xSquared=false&ySquared=false&cosX=false&sinX=false&cosY=false&sinY=false&collectStats=false&problem=classification&initZero=false&hideText=false)"
      ]
    },
    {
      "cell_type": "markdown",
      "metadata": {
        "id": "9Ul0tuffi0Vt"
      },
      "source": [
        "<font size=4>\n",
        "\n",
        "Así puede acceder a cualquier página desde la notebook con solo un clic (debe especificar su URL).\n",
        "\n",
        "También podemos acceder a los documentos que se encuentran en nuestra computadora:"
      ]
    },
    {
      "cell_type": "markdown",
      "metadata": {
        "id": "mfXnX0Qyi0Vu"
      },
      "source": [
        "<a href=\"path_reference\">name_reference</a>)"
      ]
    },
    {
      "cell_type": "markdown",
      "metadata": {
        "id": "1-cGWDYai0Vu"
      },
      "source": [
        "<font size=4>\n",
        "    \n",
        "    De nuevo, es muy importante dar la ruta correcta, de lo contrario no se encontrara el archivo solicitado.\n",
        "\n",
        "por ejemplo:"
      ]
    },
    {
      "cell_type": "markdown",
      "metadata": {
        "id": "3U_NeiUTi0Vv"
      },
      "source": [
        "<font size=4>\n",
        "\n",
        "puedes ir directamente al libro de Michael Nielsen con un solo clic (debes tener el archivo pdf indicado en la ruta indicada): <a href=\"nielsen.pdf\">Neural Networks and Deep Learning</a>"
      ]
    },
    {
      "cell_type": "markdown",
      "metadata": {
        "id": "ZN_u61uPi0Vw"
      },
      "source": [
        "<font color='cornflowerblue'>\n",
        "<font size=4>\n",
        "    \n",
        "## 2. Celda tipo *code*"
      ]
    },
    {
      "cell_type": "markdown",
      "metadata": {
        "id": "WigKxvIBi0Vx"
      },
      "source": [
        "<font size=4>\n",
        "\n",
        "De forma predeterminada, cada celda creada es de tipo código.\n",
        "\n",
        "Ahora usaremos una celda de tipo de código, ya que estamos usando el kernel de Python, el código de muestra corresponde al lenguaje de programación Python:"
      ]
    },
    {
      "cell_type": "code",
      "metadata": {
        "id": "j1_68GHWi0Vy",
        "outputId": "5c26de01-0714-4fe7-e5e5-a99645c8970a"
      },
      "source": [
        "for i in range(4):\n",
        "    print('The current number in the for loop is: ', i)"
      ],
      "execution_count": null,
      "outputs": [
        {
          "output_type": "stream",
          "text": [
            "The current number in the for loop is:  0\n",
            "The current number in the for loop is:  1\n",
            "The current number in the for loop is:  2\n",
            "The current number in the for loop is:  3\n"
          ],
          "name": "stdout"
        }
      ]
    },
    {
      "cell_type": "markdown",
      "metadata": {
        "id": "A-l6yHSOi0V1"
      },
      "source": [
        "<font size=4>\n",
        "\n",
        "Como puede ver, en las celdas de código aparece el símbolo **In [ ]:** y dentro de [ ] aparece un número después de compilar la celda. Este número corresponde al número de celda que se ha compilado."
      ]
    },
    {
      "cell_type": "markdown",
      "metadata": {
        "id": "6o0KZQT6i0V2"
      },
      "source": [
        "<font size=4>\n",
        "\n",
        "\n",
        "Otro uso útil en un notebook de Jupyter es que puede usar los comandos de un terminal simplemente colocando el símbolo **!** seguido del comando en un tipo de celda de código."
      ]
    },
    {
      "cell_type": "code",
      "metadata": {
        "id": "bjGzi15Li0V2",
        "outputId": "03a174d2-b3cd-435d-b419-f336c98fa738"
      },
      "source": [
        "!ls"
      ],
      "execution_count": null,
      "outputs": [
        {
          "output_type": "stream",
          "text": [
            "1Introduction_to_jupyter.ipynb\t   images\tprueba.ipynb\r\n",
            "2First_Nb.ipynb\t\t\t   images.zip\r\n",
            "3Introduction_to_JupyterLab.ipynb  nielsen.pdf\r\n"
          ],
          "name": "stdout"
        }
      ]
    },
    {
      "cell_type": "code",
      "metadata": {
        "id": "QN8PjjqOi0V3",
        "outputId": "df77a1e3-d9b4-42b4-caba-0b73cf668629"
      },
      "source": [
        "! pip install numpy"
      ],
      "execution_count": null,
      "outputs": [
        {
          "output_type": "stream",
          "text": [
            "Requirement already satisfied: numpy in /home/bokhimi/anaconda3/lib/python3.7/site-packages (1.18.2)\r\n"
          ],
          "name": "stdout"
        }
      ]
    },
    {
      "cell_type": "markdown",
      "metadata": {
        "id": "2pxSMA3Ri0V4"
      },
      "source": [
        "<font color='cornflowerblue'>\n",
        "    <font size=4>\n",
        "\n",
        "## ¡Excelente, terminamos nuestro primer notebook!"
      ]
    },
    {
      "cell_type": "markdown",
      "metadata": {
        "id": "-7a9qU7-i0V4"
      },
      "source": [
        "<font size=4>\n",
        "\n",
        "Vamos a descargar nuestro trabajo, para ello se hace lo siguiente:\n",
        "\n",
        "Ve a **File > Download as >**\n",
        "\n",
        "<img src='images/save.png' style=\"width:350px;height:450px;\">"
      ]
    },
    {
      "cell_type": "markdown",
      "metadata": {
        "id": "06aqph31i0V5"
      },
      "source": [
        "<font size=4>\n",
        "\n",
        "y escoje el formato deseado. \n",
        "\n",
        "[nbconvert](https://nbconvert.readthedocs.io/en/latest/install.html#installing-tex.)"
      ]
    }
  ]
}