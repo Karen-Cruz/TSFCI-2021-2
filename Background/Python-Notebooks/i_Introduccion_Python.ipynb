{
  "nbformat": 4,
  "nbformat_minor": 0,
  "metadata": {
    "celltoolbar": "Raw Cell Format",
    "kernelspec": {
      "display_name": "Python 3",
      "language": "python",
      "name": "python3"
    },
    "language_info": {
      "codemirror_mode": {
        "name": "ipython",
        "version": 3
      },
      "file_extension": ".py",
      "mimetype": "text/x-python",
      "name": "python",
      "nbconvert_exporter": "python",
      "pygments_lexer": "ipython3",
      "version": "3.7.4"
    },
    "colab": {
      "name": "i-Introduccion-Python.ipynb",
      "provenance": [],
      "collapsed_sections": [
        "0vIxefKrrDqS"
      ]
    }
  },
  "cells": [
    {
      "cell_type": "markdown",
      "metadata": {
        "id": "iKE44QLMrDp9"
      },
      "source": [
        "\n",
        "**Introducción a Python**  by Karen Cruz in licensed under <a href=\"https://creativecommons.org/licenses/by-nc-nd/4.0?ref=chooser-v1\">Attribution-NonCommercial-NoDerivatives 4.0 International</a>\n",
        "\n",
        "\n",
        "<font size=4 color='royalblue'>\n",
        "    \n",
        "## Lenguaje de Programación Python. \n",
        "\n",
        "> ### Introducción al Lenguaje de Programación Python. "
      ]
    },
    {
      "cell_type": "markdown",
      "metadata": {
        "id": "EtT4x4HLrDqD"
      },
      "source": [
        "<font size=4>\n",
        "    \n",
        " En el presente notebook se abordaran los siguientes temas:\n",
        " \n",
        "1. Características del lenguaje de programación Python. \n",
        "\n",
        "\n",
        "2. Tipos de objetos Python.\n",
        "\n",
        "\n",
        "3. Operaciones matemáticas, lógicas y relacionales. \n",
        "\n",
        "\n",
        "4. Entrada y salida de datos.\n",
        "\n",
        "\n",
        "5. Secuencias: Listas, tuplas y cadenas.\n",
        "\n",
        "\n",
        "6. Diccionarios\n",
        "\n",
        "Con los cuales se podra tener un manejo fluido con los principales objetos de python. \n",
        "\n",
        "Con lo aprendido en este nb tendras las herramientas básicas para programar con Python. \n",
        " \n",
        "\n",
        "___"
      ]
    },
    {
      "cell_type": "markdown",
      "metadata": {
        "id": "2yklVkzRrDqE"
      },
      "source": [
        "<font size=4 color='royalblue'>\n",
        "\n",
        " # 1. Características del lenguaje de programación Python."
      ]
    },
    {
      "cell_type": "markdown",
      "metadata": {
        "id": "OirulXxNrDqE"
      },
      "source": [
        "<font size=4 color='rosybrown'>\n",
        "\n",
        "> **Los lenguajes de programación son lenguajes formales que se diseñaron para expresar cálculos.**"
      ]
    },
    {
      "cell_type": "markdown",
      "metadata": {
        "id": "mG-562XqrDqF"
      },
      "source": [
        "<font size=4>\n",
        "    \n",
        "Los lenguajes formales son diseñados por las personas para aplicaciones específicas, por ejemplo, la notación matemática, la notación química, etc. \n",
        "    \n",
        "Los lenguajes formales tienden a tener reglas estrictas sobre la sintaxis. \n",
        "\n",
        "    \n",
        "Los lenguajes de programación tienen una sintaxis particular compuesta por palabras en inglés."
      ]
    },
    {
      "cell_type": "markdown",
      "metadata": {
        "id": "ySbY_Gr-rDqF"
      },
      "source": [
        "<font size=4 color='rosybrown'>\n",
        "    \n",
        "> **Python es un lenguaje de programación de alto nivel.**"
      ]
    },
    {
      "cell_type": "markdown",
      "metadata": {
        "id": "MxIUAHryrDqG"
      },
      "source": [
        "<font size=4>\n",
        "    \n",
        "Los lenguajes de alto nivel son aquellos que tienen que ser procesados antes de que puedan ejecutarse. \n",
        "    \n",
        "A continuación se mencionan algunas características de los lenguajes de alto nivel:\n",
        "    \n",
        "   1. Son más faciles de programar.\n",
        "   \n",
        "    \n",
        "   2. Toma menos tiempo escribirlos.\n",
        "   \n",
        "    \n",
        "   3. Son mas cortos y faciles de leer.\n",
        "   \n",
        "    \n",
        "   4. Son portables (se pueden ejecutar en diferentes tipos de computadoras con pocas o ninguna modificación).\n",
        "   \n",
        "    \n",
        "Cuando se procesa un lenguaje de alto nivel, se convierte en un lenguaje de bajo nivel, que son los lenguajes que las computadoras pueden entender y ejecutar.   "
      ]
    },
    {
      "cell_type": "markdown",
      "metadata": {
        "id": "J2j34ryirDqG"
      },
      "source": [
        "<font size=4 color='rosybrown'>\n",
        "    \n",
        "> **Python es un lenguaje de programación orientado a objetos.**"
      ]
    },
    {
      "cell_type": "markdown",
      "metadata": {
        "id": "pKd2yz8trDqG"
      },
      "source": [
        "<font size=4 >\n",
        "\n",
        " Todo en Python es un objeto. Cada objeto tiene una serie de **atributos** (que indicarán su estado) y de **métodos** (que marcarán su comportamiento).\n",
        " \n",
        " *NOTA: En otro notebook se verá con mas detalle su uso.*"
      ]
    },
    {
      "cell_type": "markdown",
      "metadata": {
        "id": "AOZawGharDqG"
      },
      "source": [
        "___"
      ]
    },
    {
      "cell_type": "markdown",
      "metadata": {
        "id": "oY5RCdxZrDqH"
      },
      "source": [
        "<font size=4 >\n",
        "\n",
        "**Lo que necesitas recordar:**\n",
        "    \n",
        "  * Ejecute sus celdas usando SHIFT+ENTER (o usando el botón \"run cell\")"
      ]
    },
    {
      "cell_type": "markdown",
      "metadata": {
        "id": "zn7b9EUcrDqH"
      },
      "source": [
        "___"
      ]
    },
    {
      "cell_type": "markdown",
      "metadata": {
        "id": "G9Fy8mifrDqH"
      },
      "source": [
        "<font size=4 color='royalblue'>\n",
        "\n",
        "# 2. Tipos de objetos Python. "
      ]
    },
    {
      "cell_type": "markdown",
      "metadata": {
        "id": "FppQfBperDqH"
      },
      "source": [
        "<font size=4>\n",
        "\n",
        "En Python se tienen diferentes tipos de objetos, a continuación se mencionan los más comunes:\n",
        "    \n",
        "    float (números reales)\n",
        "    \n",
        "    integer (números enteros)\n",
        "    \n",
        "    boolean (almacena valores verdaderos o falsos)\n",
        "    \n",
        "    string (secuencia de caracteres)\n",
        "    \n",
        "    list (secuencia de objetos)\n",
        "    \n",
        "    tuple (secuencia inmutable de objetos)\n",
        "    \n",
        "    dict (diccionario)\n",
        "    \n",
        "    \n",
        "**Una *variable* (etiqueta) es un nombre que se le asigna a un objeto.** \n",
        "    \n",
        "**Para conocer el  tipo de objeto de una variable se usa la función `type( )`.**\n",
        "    \n",
        "   "
      ]
    },
    {
      "cell_type": "markdown",
      "metadata": {
        "id": "h7nC7iFprDqI"
      },
      "source": [
        "<font size=4 color='cornflowerblue'>\n",
        "    \n",
        "**NOTA**\n",
        "    \n",
        "El simbolo `=` se usa para asignar un valor a una variable, no para indicar igualdad. \n",
        "    \n",
        "Para indicar que dos variables son iguales se usa el símbolo `==` y para indicar que son diferentes se usa el símbolo `!=`.\n",
        "\n",
        "Los comentarios en Python se indican con un # al inicio.\n"
      ]
    },
    {
      "cell_type": "code",
      "metadata": {
        "id": "2nUKwmIIlSfv"
      },
      "source": [
        "\r\n",
        "# esto es un comentario"
      ],
      "execution_count": null,
      "outputs": []
    },
    {
      "cell_type": "markdown",
      "metadata": {
        "id": "1xiKKlaerDqI"
      },
      "source": [
        "<font size=4>\n",
        "\n",
        "**Ejemplo** \n",
        "    \n",
        "    \n",
        "  A continuación se asigna el valor 13.0 a la etiqueta `float_example`:"
      ]
    },
    {
      "cell_type": "code",
      "metadata": {
        "scrolled": true,
        "id": "eRQhs4OwrDqI"
      },
      "source": [
        "float_example = 13.0\n",
        "\n",
        "# etiqueta = valor"
      ],
      "execution_count": null,
      "outputs": []
    },
    {
      "cell_type": "code",
      "metadata": {
        "id": "Hnz1txVfrDqJ",
        "colab": {
          "base_uri": "https://localhost:8080/"
        },
        "outputId": "a3efb4c0-b8dd-4f80-9ed9-96104779f23e"
      },
      "source": [
        "float_example"
      ],
      "execution_count": null,
      "outputs": [
        {
          "output_type": "execute_result",
          "data": {
            "text/plain": [
              "13.0"
            ]
          },
          "metadata": {
            "tags": []
          },
          "execution_count": 2
        }
      ]
    },
    {
      "cell_type": "code",
      "metadata": {
        "id": "isYPSvCprDqK",
        "colab": {
          "base_uri": "https://localhost:8080/"
        },
        "outputId": "a39b1d47-394c-424c-969d-cfee2932e647"
      },
      "source": [
        "type(float_example)\n",
        "\n",
        "# de qué tipo es la variable x"
      ],
      "execution_count": null,
      "outputs": [
        {
          "output_type": "execute_result",
          "data": {
            "text/plain": [
              "float"
            ]
          },
          "metadata": {
            "tags": []
          },
          "execution_count": 4
        }
      ]
    },
    {
      "cell_type": "markdown",
      "metadata": {
        "id": "hPaZa8_CrDqK"
      },
      "source": [
        "<font size=4>\n",
        "\n",
        "Para imprimir en pantalla el valor de una variable, hay dos formas de hacerlo:\n",
        "    \n",
        "   1. Llamar a la variable con su nombre\n",
        "   \n",
        "    \n",
        "   2. Llamarlo con la función  `print( )`."
      ]
    },
    {
      "cell_type": "code",
      "metadata": {
        "id": "d11NQh5BrDqK",
        "colab": {
          "base_uri": "https://localhost:8080/"
        },
        "outputId": "001d27a2-cb36-4536-dfc9-57fd67fe6c02"
      },
      "source": [
        "# 1. Llamarlo por su nombre:\n",
        "\n",
        "float_example"
      ],
      "execution_count": null,
      "outputs": [
        {
          "output_type": "execute_result",
          "data": {
            "text/plain": [
              "13.0"
            ]
          },
          "metadata": {
            "tags": []
          },
          "execution_count": 5
        }
      ]
    },
    {
      "cell_type": "code",
      "metadata": {
        "id": "f-CY7QosrDqK",
        "colab": {
          "base_uri": "https://localhost:8080/"
        },
        "outputId": "81e0b1ed-2ec8-4f5d-b9f1-a76f58c55a6f"
      },
      "source": [
        "# 2. Llamarlo con la función print()\n",
        "\n",
        "print(float_example)\n",
        "\n",
        "# con print podemos imprimir diferentes tipos de objetos, separandolos con coma (,)\n",
        "\n",
        "print('float_example:', float_example)"
      ],
      "execution_count": null,
      "outputs": [
        {
          "output_type": "stream",
          "text": [
            "13.0\n",
            "float_example: 13.0\n"
          ],
          "name": "stdout"
        }
      ]
    },
    {
      "cell_type": "markdown",
      "metadata": {
        "id": "M-0X1UcRrDqL"
      },
      "source": [
        "<font size=4>\n",
        "\n",
        "Para conocer el tipo de objeto, usamos la función `type( )`:"
      ]
    },
    {
      "cell_type": "code",
      "metadata": {
        "id": "IELkS7h6rDqL",
        "colab": {
          "base_uri": "https://localhost:8080/"
        },
        "outputId": "3c77d02a-bb83-4ee5-95af-7e4e8063a4cd"
      },
      "source": [
        "type(float_example)"
      ],
      "execution_count": null,
      "outputs": [
        {
          "output_type": "execute_result",
          "data": {
            "text/plain": [
              "float"
            ]
          },
          "metadata": {
            "tags": []
          },
          "execution_count": 10
        }
      ]
    },
    {
      "cell_type": "markdown",
      "metadata": {
        "id": "xNqn7H9zrDqL"
      },
      "source": [
        "<font size=4>\n",
        "\n",
        "La función `type( )` con el argumento float_example regresa el tipo *float*, es decir, nos indica que la variable float_example es de tipo float (real)."
      ]
    },
    {
      "cell_type": "markdown",
      "metadata": {
        "id": "zFCkquA0rDqL"
      },
      "source": [
        "<font size=4 color='skyblue'>\n",
        "\n",
        "    \n",
        "**Ejercicio** \n",
        "    \n",
        "<font color='b'>\n",
        "    \n",
        "  Asigna el valor 13 a la variable `integer_example` y determina el tipo de objeto que es usando la función `type( )`."
      ]
    },
    {
      "cell_type": "code",
      "metadata": {
        "id": "7tbRRa3yrDqM"
      },
      "source": [
        "# Escribe el codigo aquí\n"
      ],
      "execution_count": null,
      "outputs": []
    },
    {
      "cell_type": "markdown",
      "metadata": {
        "id": "KJ8Q7u79rDqM"
      },
      "source": [
        "<font size=4>\n",
        "    \n",
        "Observa que en programación 13.0 y 13 son objetos de distinto tipo. \n",
        "    \n",
        " 13.0 es de tipo `float` mientras que 13 es de tipo `int` (integer)."
      ]
    },
    {
      "cell_type": "code",
      "metadata": {
        "id": "QzCBHNbUrDqM",
        "colab": {
          "base_uri": "https://localhost:8080/"
        },
        "outputId": "5843fe39-8845-4bc6-f93d-3de71e79c9b6"
      },
      "source": [
        "type(float_example) == type(13)"
      ],
      "execution_count": null,
      "outputs": [
        {
          "output_type": "execute_result",
          "data": {
            "text/plain": [
              "False"
            ]
          },
          "metadata": {
            "tags": []
          },
          "execution_count": 11
        }
      ]
    },
    {
      "cell_type": "markdown",
      "metadata": {
        "id": "-Pyo4ShsrDqM"
      },
      "source": [
        "___"
      ]
    },
    {
      "cell_type": "markdown",
      "metadata": {
        "id": "JGDpMTrerDqN"
      },
      "source": [
        "<font size=4 color='royalblue'>\n",
        "\n",
        "# 3.Operaciones matemáticas, lógicas y relacionales."
      ]
    },
    {
      "cell_type": "markdown",
      "metadata": {
        "id": "FvV_Mk1_rDqN"
      },
      "source": [
        "<font size=4 color='rosybrown'>\n",
        "    \n",
        "> ## 3.1 Operaciones matemáticas.\n",
        "    \n",
        "<font color='black'>    \n",
        "    \n",
        " En la siguiente tabla se indica el símbolo utilizado para las operaciones matematicas básicas.\n",
        " \n",
        " \n",
        "    \n",
        "| operacion | símbolo |\n",
        "| --- | --- |\n",
        "| suma | + |\n",
        "| resta | - |\n",
        "|multiplicación | * |\n",
        "| división | /, // |\n",
        "| exponenciación | ** |\n",
        "| modulo | % | \n",
        "    \n",
        "    \n",
        " **Ejemplo:**"
      ]
    },
    {
      "cell_type": "code",
      "metadata": {
        "id": "btkEipsSrDqN",
        "outputId": "80574c2b-feec-4e54-f56b-9ca49fd27588"
      },
      "source": [
        "# se definen la variables x y y con los valores de 11 y 2, respectivamente:\n",
        "\n",
        "x = 11\n",
        "y = 2\n",
        "\n",
        "# Se realizan operaciones entre x y y:\n",
        "\n",
        "suma = x+y\n",
        "resta = x-y\n",
        "multiplicacion = x*y\n",
        "division_real = x/y\n",
        "division_entera = x//y\n",
        "exponente = x**y\n",
        "modulo = x%y\n",
        "\n",
        "# Se imprimen los resultados de las operaciones anteriores:\n",
        "\n",
        "print(x, '+', y, '=', suma, '\\n', \n",
        "      x, '-', y, '=', resta, '\\n',\n",
        "      x, '*', y, '=', multiplicacion, '\\n',\n",
        "      x, '/', y, '=', division_real, '\\n',\n",
        "      x, '//', y, '=', division_entera, '\\n',\n",
        "      x, '**', y, '=', exponente, '\\n',\n",
        "      x, '%', y, '=', modulo)\n"
      ],
      "execution_count": null,
      "outputs": [
        {
          "output_type": "stream",
          "text": [
            "11 + 2 = 13 \n",
            " 11 - 2 = 9 \n",
            " 11 * 2 = 22 \n",
            " 11 / 2 = 5.5 \n",
            " 11 // 2 = 5 \n",
            " 11 ** 2 = 121 \n",
            " 11 % 2 = 1\n"
          ],
          "name": "stdout"
        }
      ]
    },
    {
      "cell_type": "markdown",
      "metadata": {
        "id": "kZ1IaUUSrDqN"
      },
      "source": [
        "<font size=4>\n",
        "    \n",
        "**El valor de una variable es el último valor asignado.**\n",
        "\n",
        "Por ejemplo, de la celda anterior se tiene que *suma* tiene asociado el valor de 13:"
      ]
    },
    {
      "cell_type": "code",
      "metadata": {
        "id": "bQrUrBHGrDqN",
        "outputId": "e4276069-a0ec-4f5b-fbda-2d0319599c79"
      },
      "source": [
        "suma"
      ],
      "execution_count": null,
      "outputs": [
        {
          "output_type": "execute_result",
          "data": {
            "text/plain": [
              "13"
            ]
          },
          "metadata": {
            "tags": []
          },
          "execution_count": 21
        }
      ]
    },
    {
      "cell_type": "markdown",
      "metadata": {
        "id": "WU2buhZkrDqO"
      },
      "source": [
        "<font size=4>\n",
        "\n",
        "Se reasigna su valor:"
      ]
    },
    {
      "cell_type": "code",
      "metadata": {
        "id": "x66zMtwsrDqO"
      },
      "source": [
        "suma = 8"
      ],
      "execution_count": null,
      "outputs": []
    },
    {
      "cell_type": "markdown",
      "metadata": {
        "id": "Gc6Vloj5rDqO"
      },
      "source": [
        "<font size=4>\n",
        "Su valor ahora corresponde al último que se le asignó:"
      ]
    },
    {
      "cell_type": "code",
      "metadata": {
        "id": "c7EHgdIkrDqO",
        "outputId": "803e27de-a47a-4817-dbe5-295200ec3ef6"
      },
      "source": [
        "suma"
      ],
      "execution_count": null,
      "outputs": [
        {
          "output_type": "execute_result",
          "data": {
            "text/plain": [
              "8"
            ]
          },
          "metadata": {
            "tags": []
          },
          "execution_count": 23
        }
      ]
    },
    {
      "cell_type": "markdown",
      "metadata": {
        "id": "1T-IL2f4rDqP"
      },
      "source": [
        "<font size=4 color='skyblue'>\n",
        "\n",
        "    \n",
        "**Ejercicio** \n",
        "    \n",
        "<font color='b'>\n",
        "    \n",
        "  Define a las variables `a` y `b` con los valores de -5 y 10, respectivamente. \n",
        "  \n",
        "  Realiza cada una de las operaciones matemáticas descritas anteriormente. \n",
        "  \n",
        "  Muestra los resultados en la pantalla."
      ]
    },
    {
      "cell_type": "code",
      "metadata": {
        "id": "lX_t2IhmrDqP"
      },
      "source": [
        "# Escribe el codigo aquí\n"
      ],
      "execution_count": null,
      "outputs": []
    },
    {
      "cell_type": "markdown",
      "metadata": {
        "id": "M4Vv36_wrDqP"
      },
      "source": [
        "<font size=4 color='rosybrown'>\n",
        "\n",
        "> ## 3.2 Operaciones de comparación.\n",
        "\n",
        "<font color='black'>\n",
        "\n",
        "Las operaciones de comparación se realizan entre números o expresiones cuyo resultado es un número y dan como resultados valores de tipo boolean (`True` o `False`).\n",
        "\n",
        "A continuación se muestran los símbolos usados para estas operaciones. \n",
        "\n",
        "\n",
        "    \n",
        "| operador | símbolo |\n",
        "| --- | --- |\n",
        "| igual que | == |\n",
        "| distinto que | != |\n",
        "| menor que | < |\n",
        "| menor o igual que | <= |\n",
        "| mayor que | > |\n",
        "| mayor o igual que | >= |\n",
        "\n",
        "    \n",
        "**Ejemplo:**"
      ]
    },
    {
      "cell_type": "code",
      "metadata": {
        "id": "T_X9uRCCrDqP",
        "outputId": "be50030b-0044-4ca5-dced-932a883455e1"
      },
      "source": [
        "#se define a las variables v1 y v2:\n",
        "\n",
        "v1 = 32\n",
        "v2 = 12\n",
        "\n",
        "# se realizan operaciones de comparación entre v1 y v2:\n",
        "\n",
        "igual = v1 == v2\n",
        "diferente = v1 != v2\n",
        "menor = v1 < v2\n",
        "menor_igual = v1 <= v2\n",
        "mayor = v1 > v2\n",
        "mayor_igual = v1 >= v2\n",
        "\n",
        "# se imprimen los resultados:\n",
        "\n",
        "print(v1, '==', v2, ':', igual, '\\n',\n",
        "      v1, '!=', v2, ':', diferente, '\\n',\n",
        "      v1, '<', v2, ':', menor, '\\n',\n",
        "      v1, '<=', v2, ':', menor_igual, '\\n',\n",
        "      v1, '>', v2, ':', mayor, '\\n',\n",
        "      v1, '>=', v2, ':', mayor_igual, '\\n',)"
      ],
      "execution_count": null,
      "outputs": [
        {
          "output_type": "stream",
          "text": [
            "32 == 12 : False \n",
            " 32 != 12 : True \n",
            " 32 < 12 : False \n",
            " 32 <= 12 : False \n",
            " 32 > 12 : True \n",
            " 32 >= 12 : True \n",
            "\n"
          ],
          "name": "stdout"
        }
      ]
    },
    {
      "cell_type": "markdown",
      "metadata": {
        "id": "Cpcl4aIqrDqQ"
      },
      "source": [
        "<font size=4 color='skyblue'>\n",
        "\n",
        "    \n",
        "**Ejercicio** \n",
        "    \n",
        "<font color='b'>\n",
        "    \n",
        "  Define a las variables `var1` y `var2` con los valores de -103 y 41, respectivamente. \n",
        "  \n",
        "  Realiza cada una de las operaciones de comparación descritas anteriormente. \n",
        "  \n",
        "  Muestra los resultados en la pantalla."
      ]
    },
    {
      "cell_type": "code",
      "metadata": {
        "id": "nV5gCEzsrDqQ"
      },
      "source": [
        "# Escribe el codigo aquí\n"
      ],
      "execution_count": null,
      "outputs": []
    },
    {
      "cell_type": "markdown",
      "metadata": {
        "id": "l40xryZqrDqR"
      },
      "source": [
        "<font size=4>\n",
        "    \n",
        "    \n",
        " <font color='rosybrown'>\n",
        "    \n",
        "    \n",
        "    \n",
        "    \n",
        "> ## 3.3 Operadores Lógicos.\n",
        "\n",
        "<font color='black'>\n",
        "    \n",
        "   Una expresión lógica da como resultado un objeto de tipo `boolean`, es decir, indica si la expresión lógica es verdadera (`True`) o falsa (`False`).\n",
        "    \n",
        "Las operaciones logicas se realizan entre variables de tipo boolena y dan como resultado valores de tipo booleano. \n",
        "\n",
        "    \n",
        "| operador | símbolo |\n",
        "| --- | --- |\n",
        "| negación | not |\n",
        "| y | and |\n",
        "| o | or |\n",
        "    \n",
        "<font color='black'>\n",
        "    \n",
        " Para los operadores lógicos se necesita conocer las tablas de verdad de los operadores `and`, `or` y `not`.\n",
        "\n",
        "**Tablas de verdad:**\n",
        "\n",
        "Operador `and`:\n",
        "\n",
        "| a | b | a and b |\n",
        "| --- | --- | --- |\n",
        "| True | True | True |\n",
        "| True | False | False |\n",
        "| False | True | False |\n",
        "| False | False | False |\n",
        "\n",
        "Operador `or`:\n",
        "\n",
        "| a | b | a or b |\n",
        "| --- | --- | --- |\n",
        "| True | True | False|\n",
        "| True | False | False |\n",
        "| False | True | False |\n",
        "| False | False | True |\n",
        "    \n",
        "Operador `not`:\n",
        "    \n",
        "| a | not a |\n",
        "| --- | --- |\n",
        "| True | False |\n",
        "| False | True |\n",
        "   \n",
        " "
      ]
    },
    {
      "cell_type": "code",
      "metadata": {
        "id": "teI8hlFprDqR",
        "outputId": "d8043d0c-f87b-4c4a-f380-0f2e637ccd83"
      },
      "source": [
        "# se definen a las variables exp1, exp2 y exp3:\n",
        "\n",
        "exp1 = True\n",
        "exp2 = False\n",
        "exp3 =  False\n",
        "\n",
        "# Se realizan operaciones entre las variables anteriores y se muestra el resultado:\n",
        "\n",
        "exp1 or (exp3 and exp2)"
      ],
      "execution_count": null,
      "outputs": [
        {
          "output_type": "execute_result",
          "data": {
            "text/plain": [
              "True"
            ]
          },
          "metadata": {
            "tags": []
          },
          "execution_count": 25
        }
      ]
    },
    {
      "cell_type": "markdown",
      "metadata": {
        "id": "KPrt2m22rDqS"
      },
      "source": [
        "<font size=4>\n",
        "    \n",
        " El orden en que se realizan las operaciones descritas se muestra en la siguiente tabla:"
      ]
    },
    {
      "cell_type": "markdown",
      "metadata": {
        "id": "0vIxefKrrDqS"
      },
      "source": [
        "<font size=4 color='rosybrown'>\n",
        "\n",
        "> ## Jerarquía de operaciones.\n",
        "\n",
        "<font color='black'>\n",
        "\n",
        "En la siguiente tabla se ordenan las operaciones de mayor a menor precedencia.\n",
        "    \n",
        "| operacion | operador |\n",
        "| --- | --- |\n",
        "| exponenciacion | ** |\n",
        "| producto, division, modulo | *, /, //, % |\n",
        "| suma, resta | +, - |\n",
        "| menor o igual que | <= |\n",
        "| relacionales | ==, !=, <, <=, >, >= |\n",
        "| logicos | not, and, or |\n",
        "\n",
        "<font color='cornflowerblue'>    \n",
        "    \n",
        "**NOTA:**\n",
        "    \n",
        "    \n",
        "La precedencia de las operaciones puede verse afectada por los (). \n",
        "    \n",
        " Cualquier operación dentro de paréntesis se realizará primero. \n",
        " \n",
        " ___"
      ]
    },
    {
      "cell_type": "markdown",
      "metadata": {
        "id": "GPADRDigrDqT"
      },
      "source": [
        "<font size=4 color='royalblue'>\n",
        "\n",
        "# 4. Entrada y salida de datos. "
      ]
    },
    {
      "cell_type": "markdown",
      "metadata": {
        "id": "fQhTNrqArDqT"
      },
      "source": [
        "<font size=4>\n",
        "    \n",
        "En python se cuenta con la función `input()`, que permite ingresar texto escrito desde el teclado. Al llegar a la función, el programa se detiene esperando que se escriba algo y se pulse la tecla Intro.\n",
        "\n",
        "La función `input()` convierte a string la entrada de datos que recibe. \n",
        "\n",
        "**Ejemplo**"
      ]
    },
    {
      "cell_type": "code",
      "metadata": {
        "id": "TcHmH4r2rDqT",
        "colab": {
          "base_uri": "https://localhost:8080/"
        },
        "outputId": "1189138e-6bd2-494b-fcb0-b0fe3f4c5192"
      },
      "source": [
        "print(\"¿Cómo se llama?\")\n",
        "nombre = input()\n",
        "print(f\"Me alegro de conocerte, {nombre}\")"
      ],
      "execution_count": null,
      "outputs": [
        {
          "output_type": "stream",
          "text": [
            "¿Cómo se llama?\n",
            "karen\n",
            "Me alegro de conocerte, karen\n"
          ],
          "name": "stdout"
        }
      ]
    },
    {
      "cell_type": "markdown",
      "metadata": {
        "id": "DoAVbhwwrDqT"
      },
      "source": [
        "<font size=4 color='skyblue'>\n",
        "\n",
        "    \n",
        "**Ejercicio** \n",
        "    \n",
        "<font color='b'>\n",
        "    \n",
        "Usa la función `input()` para solicitar al usuario un número. \n",
        "\n",
        "Cuando obtengas el número multiplicalo por 5 y escribe el resultado en pantalla."
      ]
    },
    {
      "cell_type": "code",
      "metadata": {
        "id": "X0wTCTe3rDqU"
      },
      "source": [
        "# Escribe el codigo aquí\n"
      ],
      "execution_count": null,
      "outputs": []
    },
    {
      "cell_type": "markdown",
      "metadata": {
        "id": "f_FMZm7brDqU"
      },
      "source": [
        "<font size=4>\n",
        "\n",
        "\n",
        "La función `input()` interpreta la información que le damos como string, si quieres especficar numeros podemos hacerlo cambiando el tipo de objeto. (p.e. `int(input())` devolvera un entero)"
      ]
    },
    {
      "cell_type": "markdown",
      "metadata": {
        "id": "QjRHk55brDqU"
      },
      "source": [
        "___"
      ]
    },
    {
      "cell_type": "markdown",
      "metadata": {
        "id": "2NfuwEo-rDqU"
      },
      "source": [
        "<font size=4 color='royalblue'>\n",
        "\n",
        "# 5. Secuencias: Listas, tuplas y cadenas."
      ]
    },
    {
      "cell_type": "markdown",
      "metadata": {
        "id": "LqCzOH01rDqU"
      },
      "source": [
        "<font size=4>\n",
        "\n",
        "Las secuencias son conjuntos de objetos, estos puedes estar ordenados o no, dependiendo del tipo de secuencia. \n",
        "\n",
        "Hay tres tipos de secuencias en Python: `string`, `list` y `tuple`*.\n",
        "\n",
        "1. `string` (cadena) es un conjunto de caracteres entre comillas, es decir, son colecciones secuenciales de caracteres (están en un orden particular de izquierda a derecha). \n",
        "    \n",
        "   `string` = 'characteres in quotes'\n",
        "    \n",
        "    \n",
        "2. `list` (lista) es una colección secuencial de objetos, donde cada valor se identifica mediante un índice. Los valores que forman a la lista se denominan elementos. Los elementos pueden ser de diferentes tipos.\n",
        "    \n",
        "   `list` = [comma separated elements]\n",
        "    \n",
        "    \n",
        "3. `tuple` (tupla) es una secuencia de elementos de cualquier tipo. La tupla es inmutable (su contenido no se puede cambiar después de crear la tupla).\n",
        "    \n",
        "    `tuple` = (comma separated elements)\n",
        "        \n",
        "    \n",
        "    \n",
        "**Para conocer el número de elementos en una secuencia se usa la función `len( )`.**\n",
        "\n",
        "*En realidad hay una más: set, pero no lo revisaremos en este curso."
      ]
    },
    {
      "cell_type": "markdown",
      "metadata": {
        "id": "nE6O7eW1rDqU"
      },
      "source": [
        "<font color='rosybrown' size =4>\n",
        "    \n",
        "> ## 5.1 String.\n"
      ]
    },
    {
      "cell_type": "markdown",
      "metadata": {
        "id": "_X_JEAdlrDqU"
      },
      "source": [
        "    \n",
        "<font color='b' size=4>\n",
        "    \n",
        " Para definir a una cadena, los caracteres a formarla se deben escribir entre comillas. \n",
        "    \n",
        "  Las comillas pueden ser simples o dobles:"
      ]
    },
    {
      "cell_type": "code",
      "metadata": {
        "id": "XJYy_cU7rDqV"
      },
      "source": [
        "cadena = 'hombros de gigantes'\n",
        "\n",
        "s = \"'no se puede ser feliz por siempre', exclamó\"\n",
        "\n",
        "# Las comillas dobles permiten que la cadena contenga en sí misma comillas, aunque al revés también es valido :) \n",
        "\n",
        "s1 = '\"no se puede ser feliz por siempre\", exclamó'"
      ],
      "execution_count": null,
      "outputs": []
    },
    {
      "cell_type": "markdown",
      "metadata": {
        "id": "5Qi4ip1YrDqV"
      },
      "source": [
        "    \n",
        "<font color='b' size=4>\n",
        "    \n",
        "Veámos el tipo de objeto que es la variable *cadena*:"
      ]
    },
    {
      "cell_type": "code",
      "metadata": {
        "id": "y0kzXfIBrDqV",
        "colab": {
          "base_uri": "https://localhost:8080/"
        },
        "outputId": "afe844bb-a906-47a8-ae1f-3eb4fe017ac3"
      },
      "source": [
        "type(cadena)"
      ],
      "execution_count": null,
      "outputs": [
        {
          "output_type": "execute_result",
          "data": {
            "text/plain": [
              "str"
            ]
          },
          "metadata": {
            "tags": []
          },
          "execution_count": 14
        }
      ]
    },
    {
      "cell_type": "markdown",
      "metadata": {
        "id": "C04m9dxmrDqV"
      },
      "source": [
        "    \n",
        "<font color='b' size=4>\n",
        "    \n",
        "Mostramos en pantalla a la variable *s*:"
      ]
    },
    {
      "cell_type": "code",
      "metadata": {
        "id": "Q2RotO3ArDqW",
        "colab": {
          "base_uri": "https://localhost:8080/",
          "height": 35
        },
        "outputId": "6f6f4834-895f-43ad-a73e-a20ac560f915"
      },
      "source": [
        "s"
      ],
      "execution_count": null,
      "outputs": [
        {
          "output_type": "execute_result",
          "data": {
            "application/vnd.google.colaboratory.intrinsic+json": {
              "type": "string"
            },
            "text/plain": [
              "\"'no se puede ser feliz por siempre', exclamó\""
            ]
          },
          "metadata": {
            "tags": []
          },
          "execution_count": 15
        }
      ]
    },
    {
      "cell_type": "markdown",
      "metadata": {
        "id": "U0hVO8h1rDqW"
      },
      "source": [
        "    \n",
        "<font color='b' size=4>\n",
        "    \n",
        " Para definir a una cadena que se pueda escribir en multiples líneas se usan comillas triples:"
      ]
    },
    {
      "cell_type": "code",
      "metadata": {
        "id": "sP3tknQNrDqW",
        "colab": {
          "base_uri": "https://localhost:8080/"
        },
        "outputId": "4b0e1884-4866-4997-bb48-62f064ce133f"
      },
      "source": [
        "print('''Esta cadena \n",
        "es multilinea''')"
      ],
      "execution_count": null,
      "outputs": [
        {
          "output_type": "stream",
          "text": [
            "Esta cadena \n",
            "es multilinea\n"
          ],
          "name": "stdout"
        }
      ]
    },
    {
      "cell_type": "markdown",
      "metadata": {
        "id": "qCY7iSoZrDqW"
      },
      "source": [
        "<font size=4>\n",
        "    \n",
        "La función `print( )` puede imprimirse con un formato específico:"
      ]
    },
    {
      "cell_type": "code",
      "metadata": {
        "id": "XVZdN9CVrDqW",
        "colab": {
          "base_uri": "https://localhost:8080/"
        },
        "outputId": "0393719d-d5d1-4e55-f775-ad41b6a99d55"
      },
      "source": [
        "print('{:^8} {:^8} {:^8}'.format('manzanas', 'peras', 'ciruelas' ))\n",
        "\n",
        "# 8 indica los espacios a usar para imprimir\n",
        "# ^ se usa para centrar"
      ],
      "execution_count": null,
      "outputs": [
        {
          "output_type": "stream",
          "text": [
            "manzanas  peras   ciruelas\n"
          ],
          "name": "stdout"
        }
      ]
    },
    {
      "cell_type": "code",
      "metadata": {
        "id": "F03sMUMKrDqX",
        "colab": {
          "base_uri": "https://localhost:8080/"
        },
        "outputId": "47707d53-0a5c-4176-94b5-b1b3337415bc"
      },
      "source": [
        "print('{:^8} {:^8} {:^8}'.format('manzanas', 'peras', 'ciruelas'))\n",
        "print('-'*27)\n",
        "\n",
        "print('{:^8.2f} {:^8.2f} {:^8.2f}'.format(2.4, 3.7, 3.1))\n",
        "\n",
        "#.2f indica que se usarán dos lugares para la parte decimal.\n"
      ],
      "execution_count": null,
      "outputs": [
        {
          "output_type": "stream",
          "text": [
            "manzanas  peras   ciruelas\n",
            "---------------------------\n",
            "  2.40     3.70     3.10  \n"
          ],
          "name": "stdout"
        }
      ]
    },
    {
      "cell_type": "markdown",
      "metadata": {
        "id": "gMWz9sHDrDqX"
      },
      "source": [
        "<font size=4 color='skyblue'>\n",
        "\n",
        "    \n",
        "**Ejercicio** \n",
        "    \n",
        "<font color='b'>\n",
        "    \n",
        "  Define a las variables `str_example` como 'Hola mundo!'. \n",
        "  \n",
        "  Imprime el valor de la variable que acabas de definir. "
      ]
    },
    {
      "cell_type": "code",
      "metadata": {
        "id": "8BT-uFT8rDqX"
      },
      "source": [
        "# Escribe el codigo aquí\n"
      ],
      "execution_count": null,
      "outputs": []
    },
    {
      "cell_type": "markdown",
      "metadata": {
        "id": "Zsjq5MVGrDqX"
      },
      "source": [
        "<font size=4 color='rosybrown'>\n",
        "    \n",
        "> ### Indexación "
      ]
    },
    {
      "cell_type": "markdown",
      "metadata": {
        "id": "H_OAd9CQrDqX"
      },
      "source": [
        "<font size=4>\n",
        "    \n",
        "Las secuencias son conjuntos de elementos ordenados. Para identificar el orden, cada elemento se indexa, es decir, se le asocia un índice.\n",
        "\n",
        "Lo elementos de una secuencia se indexan de izquierda a derecha comenzando en cero.   \n",
        "    \n",
        "También se pueden indexar de derecha a izquierda comenzando en -1. \n",
        "    \n",
        " En la siguiente tabla se muestran las dos formas en que se puede indexar una secuencia (en este caso se muestra para un *string*).\n",
        "    \n",
        "\n",
        "| h | o | m | b | r | o | s |   | d | e |   | g | i | g | a | n | t | e | s |\n",
        "| --- |--- |--- |--- |--- |--- |--- |--- |--- |--- |--- |--- |--- |--- |--- |--- |--- |--- |--- |\n",
        "| 0 | 1 | 2 | 3 | 4 | 5 | 6 | 7 | 8 | 9 | 10 | 11 | 12 | 13 | 14 | 15 | 16 | 17 | 18 |\n",
        "| -19 |-18 | -17 | -16 | -15 | -14 | -13 | -12 | -11 | -10 | -9 | -8 | -7 | -6 | -5 | -4 | -3 | -2 | -1 |\n",
        "    \n",
        "En las secuencias, se tiene el operador de índice, que sirve para seleccionar un solo elemento o un conjunto de elementos específicos de una secuencia. \n",
        "    \n",
        "Para indicar el elemento al cual se quiere seleccionar se usa la siguiente sintaxis:\n",
        "    \n",
        " **`secuencia[index]`**\n",
        "    \n",
        " en donde *index* corresponde al numero de índice del elemento a seleccionar.\n",
        "    \n"
      ]
    },
    {
      "cell_type": "markdown",
      "metadata": {
        "id": "oHKEThqyrDqX"
      },
      "source": [
        "<font color='cornflowerblue' size=4>\n",
        "    \n",
        " **NOTA:**\n",
        "    \n",
        " En python se inicia indexando en cero. ¡No lo olvides!"
      ]
    },
    {
      "cell_type": "markdown",
      "metadata": {
        "id": "VRlyHRpzrDqY"
      },
      "source": [
        "<font size=4>\n",
        "    \n",
        " Por ejemplo, para seleccionar la primera *e* del string *cadena*  se usa:"
      ]
    },
    {
      "cell_type": "code",
      "metadata": {
        "id": "0VnFEb7arDqY",
        "outputId": "66789522-8c32-4718-88a7-727c2f0394eb"
      },
      "source": [
        "# recuerda que cadena = 'hombros de gigantes'\n",
        "\n",
        "cadena[9]\n",
        "\n",
        "#usando la indexación de derecha a izquierda se usa:\n",
        "#cadena[-10]"
      ],
      "execution_count": null,
      "outputs": [
        {
          "output_type": "execute_result",
          "data": {
            "text/plain": [
              "'e'"
            ]
          },
          "metadata": {
            "tags": []
          },
          "execution_count": 36
        }
      ]
    },
    {
      "cell_type": "markdown",
      "metadata": {
        "id": "J-ovM_LgrDqY"
      },
      "source": [
        "<font size=4>\n",
        "\n",
        "Para seleccionar un conjunto de elementos de una secuencia se usa la siguiente sintaxis:\n",
        "    \n",
        "**`secuencia[n:m]`**\n",
        "    \n",
        "  en donde n es el índice inicial desde el cual se va a seleccionar al conjunto de elementos (correspondiente al elemento n) y m es el índice final correspondiente al elemento m-1.\n",
        "    \n",
        "    \n",
        " Por ejemplo, a continuación se seleccionan del elemento 2 al elemento 4 del string *cadena*:"
      ]
    },
    {
      "cell_type": "code",
      "metadata": {
        "id": "1GKAptbJrDqY",
        "colab": {
          "base_uri": "https://localhost:8080/",
          "height": 35
        },
        "outputId": "9d0e4f33-1f47-4b4e-a245-02c1fdd72c8e"
      },
      "source": [
        "# al indice derecho siempre se le resta 1\r\n",
        "\r\n",
        "cadena[2:5]"
      ],
      "execution_count": null,
      "outputs": [
        {
          "output_type": "execute_result",
          "data": {
            "application/vnd.google.colaboratory.intrinsic+json": {
              "type": "string"
            },
            "text/plain": [
              "'mbr'"
            ]
          },
          "metadata": {
            "tags": []
          },
          "execution_count": 19
        }
      ]
    },
    {
      "cell_type": "markdown",
      "metadata": {
        "id": "MXB7Fq-HrDqY"
      },
      "source": [
        "<font size=4>\n",
        "    \n",
        "**`secuencia[:m]`**\n",
        "    \n",
        " Selecciona desde el primer elemento hasta el elemento indexado con m-1.\n",
        " \n",
        " En el siguiente ejemplo se selecciona desde el primer elemento hasta el elemento 6:"
      ]
    },
    {
      "cell_type": "code",
      "metadata": {
        "id": "-OstmFaarDqY",
        "outputId": "fba58c99-ee25-4f2f-ca18-ef2b6345ddba"
      },
      "source": [
        "cadena[:7]"
      ],
      "execution_count": null,
      "outputs": [
        {
          "output_type": "execute_result",
          "data": {
            "text/plain": [
              "'hombros'"
            ]
          },
          "metadata": {
            "tags": []
          },
          "execution_count": 38
        }
      ]
    },
    {
      "cell_type": "markdown",
      "metadata": {
        "id": "aopL21perDqZ"
      },
      "source": [
        "<font size=4>\n",
        "    \n",
        "**`secuencia[n:]`**\n",
        "    \n",
        " Selecciona desde el elemento indexado con n hasta el último elemento.\n",
        " \n",
        " En el ejemplo, se selecciona desde el elemento 7 hasta el final:"
      ]
    },
    {
      "cell_type": "code",
      "metadata": {
        "id": "ahqoV6SlrDqZ",
        "outputId": "756db92c-a1eb-4aab-f4b3-c10ecd9052b0"
      },
      "source": [
        "cadena[7:]"
      ],
      "execution_count": null,
      "outputs": [
        {
          "output_type": "execute_result",
          "data": {
            "text/plain": [
              "' de gigantes'"
            ]
          },
          "metadata": {
            "tags": []
          },
          "execution_count": 39
        }
      ]
    },
    {
      "cell_type": "markdown",
      "metadata": {
        "id": "5YeuNiLbrDqZ"
      },
      "source": [
        "<font size=4>\n",
        "    \n",
        "**`secuencia[:]`**\n",
        "    \n",
        " Selecciona a todos los elementos de la secuencia."
      ]
    },
    {
      "cell_type": "code",
      "metadata": {
        "id": "K5AEUzN-rDqZ",
        "outputId": "ba34a6a9-434f-44ad-d658-422dd75cb7f4"
      },
      "source": [
        "cadena[:]\n",
        "\n",
        "# es lo mismo que solo llamar a la variable cadena"
      ],
      "execution_count": null,
      "outputs": [
        {
          "output_type": "execute_result",
          "data": {
            "text/plain": [
              "'hombros de gigantes'"
            ]
          },
          "metadata": {
            "tags": []
          },
          "execution_count": 41
        }
      ]
    },
    {
      "cell_type": "markdown",
      "metadata": {
        "id": "gsYpaBgorDqZ"
      },
      "source": [
        "<font size=4 color='skyblue'>\n",
        "\n",
        "    \n",
        "**Ejercicio** \n",
        "    \n",
        "<font color='b'>\n",
        "    \n",
        "  De la variable `str_example` que definiste en el ejercicio anterior, imprime la palabra *mundo*."
      ]
    },
    {
      "cell_type": "code",
      "metadata": {
        "id": "w4QJVCnirDqa"
      },
      "source": [
        "# Escribe el codigo aquí\n"
      ],
      "execution_count": null,
      "outputs": []
    },
    {
      "cell_type": "markdown",
      "metadata": {
        "id": "1HRtX5PfrDqa"
      },
      "source": [
        "<font size=4 color='rosybrown'>\n",
        "    \n",
        "> ### Concatenación "
      ]
    },
    {
      "cell_type": "markdown",
      "metadata": {
        "id": "-1oIMgXJrDqa"
      },
      "source": [
        "<font size=4>\n",
        "    \n",
        "El operador `+` aplicado a secuencias se usa para concatenar, es decir, para unir a las secuencias.\n",
        "\n",
        "**Ejemplo:**\n",
        "    "
      ]
    },
    {
      "cell_type": "code",
      "metadata": {
        "id": "SI5j9gNMrDqa",
        "outputId": "ee1226ef-2053-4198-bf4a-63a7299a6a53"
      },
      "source": [
        "# se definen dos variables de tipo string:\n",
        "\n",
        "str1 = 'Hola'\n",
        "str2 = ' mundo '\n",
        "\n",
        "# se concatenan los string str1 y str2:\n",
        "\n",
        "conc = str1 + str2\n",
        "\n",
        "# Las secuencias se unen respetando el orden en que se concatenaron:\n",
        "\n",
        "conc"
      ],
      "execution_count": null,
      "outputs": [
        {
          "output_type": "execute_result",
          "data": {
            "text/plain": [
              "'Hola mundo '"
            ]
          },
          "metadata": {
            "tags": []
          },
          "execution_count": 42
        }
      ]
    },
    {
      "cell_type": "markdown",
      "metadata": {
        "id": "opQ5X0TerDqb"
      },
      "source": [
        "<font size=4>\n",
        "    \n",
        "Python no puede concatenar diferentes tipos de objetos, es decir, las listas se concatenan con listas, las cadenas se concatenan con cadenas, etc. \n",
        "    \n"
      ]
    },
    {
      "cell_type": "markdown",
      "metadata": {
        "id": "lQOqPECDrDqb"
      },
      "source": [
        "<font size=4 color='skyblue'>\n",
        "\n",
        "    \n",
        "**Ejercicio** \n",
        "    \n",
        "<font color='b'>\n",
        "    \n",
        "  Define un string como 'soy Karen' y concatenalo con la variable `str_example`. Cambia la cadena Karen por tu nombre."
      ]
    },
    {
      "cell_type": "code",
      "metadata": {
        "id": "DBiQANBorDqb"
      },
      "source": [
        "# Escribe el codigo aquí\n"
      ],
      "execution_count": null,
      "outputs": []
    },
    {
      "cell_type": "markdown",
      "metadata": {
        "id": "sWtgM7L2rDqb"
      },
      "source": [
        "<font size=4 color='rosybrown'>\n",
        "    \n",
        "> ### Repetición "
      ]
    },
    {
      "cell_type": "markdown",
      "metadata": {
        "id": "s7LW-auMrDqb"
      },
      "source": [
        "<font size=4>\n",
        "    \n",
        "El operador `*` aplicado a secuencias se usa para repetir un elemento o un conjunto de elementos de la secuencia.\n",
        "    \n",
        " **Ejemplo:**"
      ]
    },
    {
      "cell_type": "code",
      "metadata": {
        "id": "s-fDtDCCrDqb",
        "outputId": "c7d70518-d77c-4f75-9e31-86f3fee3a7ad"
      },
      "source": [
        "# El string conc se repite 3 veces:\n",
        "\n",
        "conc*3"
      ],
      "execution_count": null,
      "outputs": [
        {
          "output_type": "execute_result",
          "data": {
            "text/plain": [
              "'Hola mundo Hola mundo Hola mundo '"
            ]
          },
          "metadata": {
            "tags": []
          },
          "execution_count": 43
        }
      ]
    },
    {
      "cell_type": "markdown",
      "metadata": {
        "id": "oZq5tM9arDqc"
      },
      "source": [
        "<font size=4 color='rosybrown'>\n",
        "    \n",
        "> ### Funciones de conversión de tipo."
      ]
    },
    {
      "cell_type": "markdown",
      "metadata": {
        "id": "Hi0256XSrDqc"
      },
      "source": [
        "<font size=4>\n",
        "    \n",
        "Python tiene tres funciones de conversión de tipo:\n",
        "    \n",
        "  `int(x)`:x puede ser un numero de coma flotante\n",
        "    \n",
        "  `float(x)`: x puede ser entero, flotante o cadena numérica\n",
        "    \n",
        "  `str(x)`: x puede ser de cualquier tipo\n",
        "    \n",
        "    \n",
        " **Ejemplo:**\n",
        " \n",
        " A continuación se convierte el objeto de tipo int a un objeto de tipo float:"
      ]
    },
    {
      "cell_type": "code",
      "metadata": {
        "id": "U7FHzVFPrDqc",
        "outputId": "f6e97919-99b1-44ee-94b8-c359a43e7ff5"
      },
      "source": [
        "#13.0 es de tipo float, con int() se cambia a tipo entero\r\n",
        "\r\n",
        "int(13.0)"
      ],
      "execution_count": null,
      "outputs": [
        {
          "output_type": "execute_result",
          "data": {
            "text/plain": [
              "13"
            ]
          },
          "metadata": {
            "tags": []
          },
          "execution_count": 45
        }
      ]
    },
    {
      "cell_type": "code",
      "metadata": {
        "id": "HemZSL-GrDqc",
        "colab": {
          "base_uri": "https://localhost:8080/"
        },
        "outputId": "9eb2d525-055a-445e-bf47-894d0dfbd5e7"
      },
      "source": [
        "x = 13\n",
        "print(type(x))\n",
        "\n",
        "x = float(x)\n",
        "print(type(x))"
      ],
      "execution_count": null,
      "outputs": [
        {
          "output_type": "stream",
          "text": [
            "<class 'int'>\n",
            "<class 'float'>\n"
          ],
          "name": "stdout"
        }
      ]
    },
    {
      "cell_type": "markdown",
      "metadata": {
        "id": "nhAUXa-vrDqc"
      },
      "source": [
        "<font size=4 color='skyblue'>\n",
        "\n",
        "    \n",
        "**Ejercicio** \n",
        "    \n",
        "<font color='b'>\n",
        "    \n",
        "  Define a una variable de tipo integer y conviertela en tipo float.\n",
        "  \n",
        "  Define a una variable de tipo integer y conviertela en tipo string."
      ]
    },
    {
      "cell_type": "code",
      "metadata": {
        "id": "W4VGZFs9rDqd"
      },
      "source": [
        "# Escribe el codigo aquí\n"
      ],
      "execution_count": null,
      "outputs": []
    },
    {
      "cell_type": "markdown",
      "metadata": {
        "id": "I8Rd-EE9rDqd"
      },
      "source": [
        "<font color='rosybrown' size =4>\n",
        "    \n",
        "> ## 5.2 List.\n"
      ]
    },
    {
      "cell_type": "markdown",
      "metadata": {
        "id": "-b2ngiAWrDqd"
      },
      "source": [
        "<font size=4>\n",
        "    \n",
        "Las listas se definen entre corchetes:\n",
        "\n",
        "**Ejemplo:**"
      ]
    },
    {
      "cell_type": "code",
      "metadata": {
        "id": "ROx_rZ5orDqd"
      },
      "source": [
        "lista = [1, 5, 7, 3, 5, 0]\n",
        "\n",
        "# Los elementos de la lista son: 1, 5, 7, 3, 5 y 0"
      ],
      "execution_count": null,
      "outputs": []
    },
    {
      "cell_type": "markdown",
      "metadata": {
        "id": "_Xsib58_rbyq"
      },
      "source": [
        "Cada elemento de la lista tiene un ídice: comenzando en cero si se indexa de izquiera a derecha. (se indexa de la misma manera que las cadenas)."
      ]
    },
    {
      "cell_type": "code",
      "metadata": {
        "id": "jCEssEaXrDqd",
        "colab": {
          "base_uri": "https://localhost:8080/"
        },
        "outputId": "2a8202b9-eba2-40fe-91f9-9cdf2c6b1f95"
      },
      "source": [
        "lista[-1]"
      ],
      "execution_count": null,
      "outputs": [
        {
          "output_type": "execute_result",
          "data": {
            "text/plain": [
              "0"
            ]
          },
          "metadata": {
            "tags": []
          },
          "execution_count": 23
        }
      ]
    },
    {
      "cell_type": "markdown",
      "metadata": {
        "id": "ZgZ-ETAMrDqd"
      },
      "source": [
        "<font size=4 color='rosybrown'>\n",
        "    \n",
        "> ### Indexación de listas:"
      ]
    },
    {
      "cell_type": "markdown",
      "metadata": {
        "id": "D8NUJIH6rDqe"
      },
      "source": [
        "<font size=4>\n",
        "    \n",
        "  Se sigue la misma estructura que la descrita para string.\n",
        "  \n",
        "  **Ejemplo**"
      ]
    },
    {
      "cell_type": "code",
      "metadata": {
        "id": "QfFuKo7UrDqe",
        "colab": {
          "base_uri": "https://localhost:8080/"
        },
        "outputId": "4c7b532b-55ba-412e-ddbc-54738b913849"
      },
      "source": [
        "print('El elemento indexado con 4 de la lista es:', lista[4])\n",
        "print('Los elementos indexados de 1 a 4 son:', lista[1:5])\n",
        "print('Los primeros tres elementos son:', lista[:3])\n",
        "print('Los últimos dos elementos son:', lista[4:])"
      ],
      "execution_count": null,
      "outputs": [
        {
          "output_type": "stream",
          "text": [
            "El elemento indexado con 4 de la lista es: 5\n",
            "Los elementos indexados de 1 a 4 son: [5, 7, 3, 5]\n",
            "Los primeros tres elementos son: [1, 5, 7]\n",
            "Los últimos dos elementos son: [5, 0]\n"
          ],
          "name": "stdout"
        }
      ]
    },
    {
      "cell_type": "markdown",
      "metadata": {
        "id": "EpGEplvhrDqe"
      },
      "source": [
        "<font size=4 color='rosybrown'>\n",
        "    \n",
        "> ### Concatenación de listas:"
      ]
    },
    {
      "cell_type": "code",
      "metadata": {
        "id": "sNBch2rHrDqe",
        "outputId": "5fe4048e-04fc-4db4-fe32-82c619e3d7e6"
      },
      "source": [
        "# lista = [1, 5, 7, 3, 5, 0]\n",
        "\n",
        "lista2 = [12, 34, 56]\n",
        "\n",
        "conc_listas = lista + lista2\n",
        "conc_listas2 = lista2 + lista\n",
        "\n",
        "# se respeta el orden en que se concatenan las listas:\n",
        "\n",
        "conc_listas"
      ],
      "execution_count": null,
      "outputs": [
        {
          "output_type": "execute_result",
          "data": {
            "text/plain": [
              "[1, 5, 7, 3, 5, 0, 12, 34, 56]"
            ]
          },
          "metadata": {
            "tags": []
          },
          "execution_count": 51
        }
      ]
    },
    {
      "cell_type": "markdown",
      "metadata": {
        "id": "-Vvfn6QDrDqf"
      },
      "source": [
        "<font size=4 color='skyblue'>\n",
        "\n",
        "    \n",
        "**Ejercicio** \n",
        "    \n",
        "<font color='b'>\n",
        "    \n",
        "  Define a las listas `a = [23, 67.89, 0.3]` y `b = ['ñ', 'j', 'str0']` y concatenalas. "
      ]
    },
    {
      "cell_type": "code",
      "metadata": {
        "id": "G2dTE4XFrDqf"
      },
      "source": [
        "# Escribe el codigo aquí\n"
      ],
      "execution_count": null,
      "outputs": []
    },
    {
      "cell_type": "markdown",
      "metadata": {
        "id": "uMy52kpYrDqf"
      },
      "source": [
        "<font size=4 color='rosybrown'>\n",
        "    \n",
        "> ### Repetición de listas:"
      ]
    },
    {
      "cell_type": "markdown",
      "metadata": {
        "id": "vKhT2DgXrDqg"
      },
      "source": [
        "<font size=4>\n",
        "\n",
        "    \n",
        "  Cada elemento de la lista se repite el número de veces indicado. "
      ]
    },
    {
      "cell_type": "code",
      "metadata": {
        "id": "FN-wOOeXrDqg",
        "outputId": "4df40f68-cc5f-4ad5-d2e6-6a6f6ce92e4b"
      },
      "source": [
        "lista*2"
      ],
      "execution_count": null,
      "outputs": [
        {
          "output_type": "execute_result",
          "data": {
            "text/plain": [
              "[1, 5, 7, 3, 5, 0, 1, 5, 7, 3, 5, 0]"
            ]
          },
          "metadata": {
            "tags": []
          },
          "execution_count": 52
        }
      ]
    },
    {
      "cell_type": "markdown",
      "metadata": {
        "id": "WIT-XVxCrDqg"
      },
      "source": [
        "<font size=4>\n",
        "\n",
        "    \n",
        "No se altera a la variable inicial:"
      ]
    },
    {
      "cell_type": "code",
      "metadata": {
        "id": "HEjEc3AjrDqg",
        "outputId": "d18d78a8-0b8a-463e-ea86-8e9b620e44a5"
      },
      "source": [
        "lista"
      ],
      "execution_count": null,
      "outputs": [
        {
          "output_type": "execute_result",
          "data": {
            "text/plain": [
              "[1, 5, 7, 3, 5, 0]"
            ]
          },
          "metadata": {
            "tags": []
          },
          "execution_count": 53
        }
      ]
    },
    {
      "cell_type": "markdown",
      "metadata": {
        "id": "_0M-G3E5rDqh"
      },
      "source": [
        "<font size=4 color='rosybrown'>\n",
        "    \n",
        "> ### In- Buitl Functions."
      ]
    },
    {
      "cell_type": "markdown",
      "metadata": {
        "id": "XhfOEJ92rDqh"
      },
      "source": [
        "<font size=4>\n",
        "    \n",
        " Estas son las funciones que Python nos proporciona, para usarlas solo hay que mandar a llamarlas.\n",
        "    \n",
        " Las siguientes funciones se puede aplicar a las listas:\n",
        "    \n",
        " `sum()`:  suma cada uno de los elementos de la lista.\n",
        "    \n",
        " `max()`: obtiene el máximo de la lista.\n",
        "    \n",
        "  `min()`: obtiene el mínimo de la lista.\n",
        "    \n",
        "  `sorted()`: Ordena a los elementos de una lista. Si los elementos de una lista son números los ordena de menor a mayor, si son cadenas las ordena alfabéticamente.\n",
        "\n",
        "   Las funciones no alteran a la lista, solo generan un nuevo resultado.\n",
        "    \n",
        "    \n",
        "  A continuación se ven ejemplos de cada una de las funciones citadas anteriormente."
      ]
    },
    {
      "cell_type": "code",
      "metadata": {
        "id": "nInnb9IArDqh",
        "outputId": "9c4d16c5-84fd-4239-cd7c-f4595804ad90"
      },
      "source": [
        "# Recordemos que definimos a lista=[1, 5, 7, 3, 5, 0]\n",
        "\n",
        "sum(lista)\n",
        "\n",
        "# nos regresa la suma de los elementos: 1+5+7+3+5+0"
      ],
      "execution_count": null,
      "outputs": [
        {
          "output_type": "execute_result",
          "data": {
            "text/plain": [
              "21"
            ]
          },
          "metadata": {
            "tags": []
          },
          "execution_count": 54
        }
      ]
    },
    {
      "cell_type": "code",
      "metadata": {
        "id": "gFO5MX4HrDqh",
        "outputId": "408aa587-039b-4e0b-dcc4-4616d6a1fea5"
      },
      "source": [
        "min(lista)\n",
        "\n",
        "# En el caso de que los elementos de una lista sean numeros entonces nos regresara el menor de ellos:"
      ],
      "execution_count": null,
      "outputs": [
        {
          "output_type": "execute_result",
          "data": {
            "text/plain": [
              "0"
            ]
          },
          "metadata": {
            "tags": []
          },
          "execution_count": 55
        }
      ]
    },
    {
      "cell_type": "code",
      "metadata": {
        "id": "VwpMJ4y9rDqh",
        "outputId": "93b0551e-8621-4c86-e296-0d39993f2719"
      },
      "source": [
        "max(lista)\n",
        "\n",
        "# En el caso de que los elementos de una lista sean numeros entonces nos regresara el mayor de ellos:"
      ],
      "execution_count": null,
      "outputs": [
        {
          "output_type": "execute_result",
          "data": {
            "text/plain": [
              "7"
            ]
          },
          "metadata": {
            "tags": []
          },
          "execution_count": 56
        }
      ]
    },
    {
      "cell_type": "code",
      "metadata": {
        "id": "qf-p1YU8rDqi",
        "outputId": "bf1d1c81-f85a-48d0-bbfa-cee7454ca4ad"
      },
      "source": [
        "sorted(lista)\n",
        "\n",
        "# ordena a los elementos de una lista"
      ],
      "execution_count": null,
      "outputs": [
        {
          "output_type": "execute_result",
          "data": {
            "text/plain": [
              "[0, 1, 3, 5, 5, 7]"
            ]
          },
          "metadata": {
            "tags": []
          },
          "execution_count": 57
        }
      ]
    },
    {
      "cell_type": "markdown",
      "metadata": {
        "id": "j1rh_6oLrDqi"
      },
      "source": [
        "<font size=4>\n",
        "    \n",
        "Ninguna de las funciones anteriores altera a la variable *lista*:"
      ]
    },
    {
      "cell_type": "code",
      "metadata": {
        "id": "r4zgi4worDqi",
        "outputId": "f9f58519-c026-42be-8d9e-99bb05df39e6"
      },
      "source": [
        "lista"
      ],
      "execution_count": null,
      "outputs": [
        {
          "output_type": "execute_result",
          "data": {
            "text/plain": [
              "[1, 5, 7, 3, 5, 0]"
            ]
          },
          "metadata": {
            "tags": []
          },
          "execution_count": 58
        }
      ]
    },
    {
      "cell_type": "markdown",
      "metadata": {
        "id": "iKNDXNWjrDqi"
      },
      "source": [
        "<font size=4 color='rosybrown'>\n",
        "    \n",
        "> ### Atributos y Métodos.\n",
        "\n",
        "Los atributos definen el estado del objeto mientras que los métodos definen su comportamiento."
      ]
    },
    {
      "cell_type": "markdown",
      "metadata": {
        "id": "2tnpdPKMrDqi"
      },
      "source": [
        "<font size=4>\n",
        "\n",
        "Las listas tienen los siguientes métodos:\n",
        "\n",
        "   `.sort()`: Ordena a los elementos de la lista de menor a mayor en caso de ser números y alfabéticamente en caso de ser cadenas.\n",
        "    \n",
        " `.append(x)`: agrega el elemento x al final de la lista.\n",
        "    \n",
        "  `.extend([x, y])`: agrega mas de un elemento al final de la lista. En este caso agrega a *x* y a *y*.\n",
        "    \n",
        "   `.insert(index, element)`: agrega al elemento *element* en la posición determinada por el ínidice *index*.\n",
        "    \n",
        "   `.reverse()`: Voltea el orden de los elementos de la lista. \n",
        "        \n",
        "   `.pop(index)`: elimina al elemento identificado con el indice *index*.\n",
        "   \n",
        "   `.index(a)`: encuentra el índice del elemento a en la lista. \n",
        "    \n",
        "   `.clear()`: Elimina a todos los elementos de la lista.\n",
        "    \n",
        "  \n",
        "    \n",
        " Los métodos cambian al objeto. \n",
        "    \n",
        " **Ejemplos**"
      ]
    },
    {
      "cell_type": "code",
      "metadata": {
        "id": "rP9f8y-drDqj",
        "outputId": "29950c9c-6a48-4831-8123-853217b4d8e9"
      },
      "source": [
        "print('La lista inicial es:', lista)\n",
        "\n",
        "# ordenamos a los elementos:\n",
        "\n",
        "lista.sort()\n",
        "\n",
        "print('La lista final es:', lista)"
      ],
      "execution_count": null,
      "outputs": [
        {
          "output_type": "stream",
          "text": [
            "La lista inicial es: [1, 5, 7, 3, 5, 0]\n",
            "La lista final es: [0, 1, 3, 5, 5, 7]\n"
          ],
          "name": "stdout"
        }
      ]
    },
    {
      "cell_type": "code",
      "metadata": {
        "id": "W8k7Ty86rDqj",
        "outputId": "6c1e055f-c3de-4ea3-af1e-f364759fb81a"
      },
      "source": [
        "print('La lista inicial es:', lista)\n",
        "\n",
        "# se agrega el elemento 'Hola' al final de la lista:\n",
        "\n",
        "lista.append('Hola')\n",
        "\n",
        "print('La lista final es:', lista)"
      ],
      "execution_count": null,
      "outputs": [
        {
          "output_type": "stream",
          "text": [
            "La lista inicial es: [0, 1, 3, 5, 5, 7]\n",
            "La lista final es: [0, 1, 3, 5, 5, 7, 'Hola']\n"
          ],
          "name": "stdout"
        }
      ]
    },
    {
      "cell_type": "code",
      "metadata": {
        "id": "UgRO3pSTrDqj",
        "outputId": "1a234261-e7d4-4a38-fb8d-d27f8cfde924"
      },
      "source": [
        "print('La lista inicial es:', lista)\n",
        "\n",
        "# Se agregan los elementos 'Python' y 3.7 al final de la lista:\n",
        "\n",
        "lista.extend(['Python', 3.7])\n",
        "\n",
        "print('La lista final es:', lista)"
      ],
      "execution_count": null,
      "outputs": [
        {
          "output_type": "stream",
          "text": [
            "La lista inicial es: [0, 1, 3, 5, 5, 7, 'Hola']\n",
            "La lista final es: [0, 1, 3, 5, 5, 7, 'Hola', 'Python', 3.7]\n"
          ],
          "name": "stdout"
        }
      ]
    },
    {
      "cell_type": "code",
      "metadata": {
        "id": "lgWp1HthrDqj",
        "outputId": "45b1290e-dd80-4942-e966-338dd0b5c93c"
      },
      "source": [
        "print('La lista inicial es:', lista)\n",
        "\n",
        "# Se grega al elemento 'insert' en el índice 1:\n",
        "\n",
        "lista.insert(1, 'insert')\n",
        "\n",
        "print('La lista final es:', lista)"
      ],
      "execution_count": null,
      "outputs": [
        {
          "output_type": "stream",
          "text": [
            "La lista inicial es: [0, 1, 3, 5, 5, 7, 'Hola', 'Python', 3.7]\n",
            "La lista final es: [0, 'insert', 1, 3, 5, 5, 7, 'Hola', 'Python', 3.7]\n"
          ],
          "name": "stdout"
        }
      ]
    },
    {
      "cell_type": "code",
      "metadata": {
        "id": "d_F2HNDYrDqk",
        "outputId": "7e0d03ec-b7e9-4a8e-c94f-aee150bee349"
      },
      "source": [
        "print('La lista inicial es:', lista)\n",
        "\n",
        "# se invierte el orden de los elementos:\n",
        "\n",
        "lista.reverse()\n",
        "\n",
        "print('La lista final es:', lista)"
      ],
      "execution_count": null,
      "outputs": [
        {
          "output_type": "stream",
          "text": [
            "La lista inicial es: [0, 'insert', 1, 3, 5, 5, 7, 'Hola', 'Python', 3.7]\n",
            "La lista final es: [3.7, 'Python', 'Hola', 7, 5, 5, 3, 1, 'insert', 0]\n"
          ],
          "name": "stdout"
        }
      ]
    },
    {
      "cell_type": "code",
      "metadata": {
        "id": "Mety4YuUrDqk",
        "outputId": "9d8697f3-2b2e-40d9-d398-fcea29225e75"
      },
      "source": [
        "print('La lista inicial es:', lista)\n",
        "\n",
        "# se elimina al último elemento de la lista:\n",
        "\n",
        "lista.pop(-1)\n",
        "\n",
        "print('La lista final es:', lista)"
      ],
      "execution_count": null,
      "outputs": [
        {
          "output_type": "stream",
          "text": [
            "La lista inicial es: [3.7, 'Python', 'Hola', 7, 5, 5, 3, 1, 'insert', 0]\n",
            "La lista final es: [3.7, 'Python', 'Hola', 7, 5, 5, 3, 1, 'insert']\n"
          ],
          "name": "stdout"
        }
      ]
    },
    {
      "cell_type": "code",
      "metadata": {
        "id": "zFGcNQqjrDqk",
        "outputId": "b94c2062-b444-4ee1-c5e9-43e3129cdcf7"
      },
      "source": [
        "# se obtiene el índice del elemento 'Hola':\n",
        "\n",
        "lista.index('Hola')"
      ],
      "execution_count": null,
      "outputs": [
        {
          "output_type": "execute_result",
          "data": {
            "text/plain": [
              "2"
            ]
          },
          "metadata": {
            "tags": []
          },
          "execution_count": 65
        }
      ]
    },
    {
      "cell_type": "code",
      "metadata": {
        "id": "WwDOUl-KrDqk",
        "outputId": "9157858c-577e-467d-dc44-1ae5ef44d52c"
      },
      "source": [
        "print('La lista inicial es:', lista)\n",
        "\n",
        "# se eliminan todos los elementos de la lista:\n",
        "\n",
        "lista.clear()\n",
        "\n",
        "print('La lista final es:', lista)"
      ],
      "execution_count": null,
      "outputs": [
        {
          "output_type": "stream",
          "text": [
            "La lista inicial es: [3.7, 'Python', 'Hola', 7, 5, 5, 3, 1, 'insert']\n",
            "La lista final es: []\n"
          ],
          "name": "stdout"
        }
      ]
    },
    {
      "cell_type": "markdown",
      "metadata": {
        "id": "gJ9s2J0WrDqk"
      },
      "source": [
        "<font size=4 color='skyblue'>\n",
        "\n",
        "    \n",
        "**Ejercicio** \n",
        "    \n",
        "<font color='b'>\n",
        "    \n",
        "  Define a la lista `a = [23, 17, 9, 36]` y obten el promedio de sus elementos. "
      ]
    },
    {
      "cell_type": "code",
      "metadata": {
        "id": "RZxt1tNCrDql"
      },
      "source": [
        "# Escribe el codigo aquí\n"
      ],
      "execution_count": null,
      "outputs": []
    },
    {
      "cell_type": "markdown",
      "metadata": {
        "id": "HPh9u4f1rDql"
      },
      "source": [
        "<font color='rosybrown' size =4>\n",
        "    \n",
        "> ## 5.3 Tuple.\n"
      ]
    },
    {
      "cell_type": "markdown",
      "metadata": {
        "id": "9Mvk7_uCrDql"
      },
      "source": [
        "<font size=4>\n",
        "    \n",
        " Las tuplas se definene entre paréntesis y son inmutables. \n",
        "    \n",
        "  Las funciones descritas para las listas también se pueden aplicar a las tuplas.\n",
        "    \n",
        "   Las tuplas no tienen métodos, pues son inmutables. \n",
        "   \n",
        "   **Ejemplos**"
      ]
    },
    {
      "cell_type": "code",
      "metadata": {
        "id": "9WawoG17rDql"
      },
      "source": [
        "# se define a la tupla (1, 4, 2)\n",
        "\n",
        "tupla=(1, 4, 2)"
      ],
      "execution_count": null,
      "outputs": []
    },
    {
      "cell_type": "code",
      "metadata": {
        "id": "zFVmT-q7rDql",
        "outputId": "86f4af2d-ef3d-4d1f-aca8-3d862c04d7b0"
      },
      "source": [
        "# se suman los elementos de la tupla: 1+2+4\n",
        "\n",
        "sum(tupla)"
      ],
      "execution_count": null,
      "outputs": [
        {
          "output_type": "execute_result",
          "data": {
            "text/plain": [
              "7"
            ]
          },
          "metadata": {
            "tags": []
          },
          "execution_count": 68
        }
      ]
    },
    {
      "cell_type": "code",
      "metadata": {
        "id": "LrCFzSJQrDql",
        "outputId": "c55a0a21-04c1-4ddb-c8d9-71b38f592618"
      },
      "source": [
        "# En el caso de que los elementos de una lista sean numeros entonces nos regresara el menor de ellos:\n",
        "\n",
        "min(tupla)"
      ],
      "execution_count": null,
      "outputs": [
        {
          "output_type": "execute_result",
          "data": {
            "text/plain": [
              "1"
            ]
          },
          "metadata": {
            "tags": []
          },
          "execution_count": 69
        }
      ]
    },
    {
      "cell_type": "code",
      "metadata": {
        "id": "3axIksigrDqm",
        "outputId": "4e8a5afe-38a6-496b-eda0-5699c64f2ef7"
      },
      "source": [
        "# En el caso de que los elementos de una lista sean numeros entonces nos regresara el mayor de ellos:\n",
        "\n",
        "max(tupla)"
      ],
      "execution_count": null,
      "outputs": [
        {
          "output_type": "execute_result",
          "data": {
            "text/plain": [
              "4"
            ]
          },
          "metadata": {
            "tags": []
          },
          "execution_count": 70
        }
      ]
    },
    {
      "cell_type": "code",
      "metadata": {
        "id": "Eqq1Zj5HrDqm",
        "outputId": "f4360dc7-32c2-4b34-d76d-336e8cac97f8"
      },
      "source": [
        "# ordena a los elementos de la tupla y la convierte en lista:\n",
        "\n",
        "sorted(tupla)"
      ],
      "execution_count": null,
      "outputs": [
        {
          "output_type": "execute_result",
          "data": {
            "text/plain": [
              "[1, 2, 4]"
            ]
          },
          "metadata": {
            "tags": []
          },
          "execution_count": 71
        }
      ]
    },
    {
      "cell_type": "markdown",
      "metadata": {
        "id": "HI4zH2vWrDqn"
      },
      "source": [
        "<font size=4>\n",
        "    \n",
        " La tupla permanece inalterada:"
      ]
    },
    {
      "cell_type": "code",
      "metadata": {
        "id": "ycd0pY43rDqn",
        "outputId": "ff137618-2919-4522-d8f8-b0e899b99faf"
      },
      "source": [
        "tupla"
      ],
      "execution_count": null,
      "outputs": [
        {
          "output_type": "execute_result",
          "data": {
            "text/plain": [
              "(1, 4, 2)"
            ]
          },
          "metadata": {
            "tags": []
          },
          "execution_count": 72
        }
      ]
    },
    {
      "cell_type": "markdown",
      "metadata": {
        "id": "8qZafUYBrDqn"
      },
      "source": [
        "___"
      ]
    },
    {
      "cell_type": "markdown",
      "metadata": {
        "id": "-CdAATh2rDqo"
      },
      "source": [
        "<font size=4 color='royalblue'>\n",
        "\n",
        " # 6. Diccionarios."
      ]
    },
    {
      "cell_type": "markdown",
      "metadata": {
        "id": "IEtngj21rDqo"
      },
      "source": [
        "<font size=4>\n",
        "    \n",
        " Un diccionario es un objeto de Python que se define como un conjunto de keywords-values. \n",
        "    \n",
        " Se definen entre llaves.\n",
        "    \n",
        " `dic = {}`\n",
        "    \n",
        "  Los valores pueden ser de cualquier tipo (int, float, str, boolean, list, etc).\n",
        "    \n",
        "  Los diccionarios no tienen un orden."
      ]
    },
    {
      "cell_type": "code",
      "metadata": {
        "id": "cmrVx8jzrDqo"
      },
      "source": [
        "# creando un diccionario vacío:\n",
        "\n",
        "# manera 1:\n",
        "\n",
        "dic1 = {}\n",
        "\n",
        "# manera 2:\n",
        "\n",
        "dic2 = dict()"
      ],
      "execution_count": null,
      "outputs": []
    },
    {
      "cell_type": "markdown",
      "metadata": {
        "id": "WOU56p1zrDqo"
      },
      "source": [
        "<font size=4>\n",
        "    \n",
        "Al crear un diccionario se puede definir directamente las palabras clave y sus respectivos valores:  "
      ]
    },
    {
      "cell_type": "code",
      "metadata": {
        "id": "wYTSXB96rDqo"
      },
      "source": [
        "dicc = {'a': (1, 2, 4), 'b': 5}"
      ],
      "execution_count": null,
      "outputs": []
    },
    {
      "cell_type": "markdown",
      "metadata": {
        "id": "PU9y6iOxrDqp"
      },
      "source": [
        "<font size=4>\n",
        "    \n",
        " El diccionario *dicc* se definió con dos keywords, ambas de tipo string: 'a' y 'b'. \n",
        "    \n",
        "     El valor asignado a 'a' es la tupla (1, 2, 4).\n",
        "    \n",
        "     El valor asignado a 'b' es el entero 5.\n",
        "    \n",
        " Los diccionarios tienen los atributos \n",
        "    \n",
        "  `.keys()`: indica los keywords del diccionario.\n",
        "    \n",
        "  `.values()`: indica los valores del diccionario.\n",
        "    \n",
        "  `.items()`: indica a los keywords y a los values.\n",
        "    \n",
        "  "
      ]
    },
    {
      "cell_type": "markdown",
      "metadata": {
        "id": "OlMK7RSkrDqp"
      },
      "source": [
        "<font size=4>\n",
        "    \n",
        "Las palabras clave del diccionario *dicc* son:\n",
        "  "
      ]
    },
    {
      "cell_type": "code",
      "metadata": {
        "id": "Kh18Jm8UrDqp",
        "outputId": "91daf19b-fcae-4c4b-c20c-0998114b105d"
      },
      "source": [
        "dicc.keys()"
      ],
      "execution_count": null,
      "outputs": [
        {
          "output_type": "execute_result",
          "data": {
            "text/plain": [
              "dict_keys(['a', 'b'])"
            ]
          },
          "metadata": {
            "tags": []
          },
          "execution_count": 78
        }
      ]
    },
    {
      "cell_type": "markdown",
      "metadata": {
        "id": "nr7mwOs1rDqp"
      },
      "source": [
        "<font size=4>\n",
        "    \n",
        "Los valores del diccionario *dicc* son:\n",
        "  "
      ]
    },
    {
      "cell_type": "code",
      "metadata": {
        "id": "pKZJQNuGrDqp",
        "outputId": "cd6c86b4-bf94-4cf4-818a-d6bea105f0ca"
      },
      "source": [
        "dicc.values()"
      ],
      "execution_count": null,
      "outputs": [
        {
          "output_type": "execute_result",
          "data": {
            "text/plain": [
              "dict_values([(1, 2, 4), 5])"
            ]
          },
          "metadata": {
            "tags": []
          },
          "execution_count": 79
        }
      ]
    },
    {
      "cell_type": "markdown",
      "metadata": {
        "id": "lAZI10k2rDqp"
      },
      "source": [
        "<font size=4>\n",
        "    \n",
        "Las palabras clave y sus respectivos valores del diccionario *dicc* son:\n",
        "  "
      ]
    },
    {
      "cell_type": "code",
      "metadata": {
        "id": "ZiT73T2NrDqq",
        "outputId": "fcd0d91f-63cf-4288-b944-370d9e74ac3b"
      },
      "source": [
        "dicc.items()"
      ],
      "execution_count": null,
      "outputs": [
        {
          "output_type": "execute_result",
          "data": {
            "text/plain": [
              "dict_items([('a', (1, 2, 4)), ('b', 5)])"
            ]
          },
          "metadata": {
            "tags": []
          },
          "execution_count": 80
        }
      ]
    },
    {
      "cell_type": "markdown",
      "metadata": {
        "id": "_TjDMXLXrDqq"
      },
      "source": [
        "<font size=4>\n",
        "    \n",
        "Para obtener el valor de un determinado keyword se usa la siguiente sintaxis:\n",
        "    \n",
        " `name_dict[name_keyword]`\n",
        "    \n",
        "    o\n",
        "    \n",
        "  `name_dict.get(name_keyword)`\n",
        "    \n",
        " Se obtiene el valor del keyword 'a':"
      ]
    },
    {
      "cell_type": "code",
      "metadata": {
        "id": "d-jAoVyHrDqq",
        "outputId": "a04780df-0fe3-4a6d-a955-be307438d535"
      },
      "source": [
        "dicc['a']"
      ],
      "execution_count": null,
      "outputs": [
        {
          "output_type": "execute_result",
          "data": {
            "text/plain": [
              "(1, 2, 4)"
            ]
          },
          "metadata": {
            "tags": []
          },
          "execution_count": 81
        }
      ]
    },
    {
      "cell_type": "code",
      "metadata": {
        "id": "0yzh0asBrDqo",
        "outputId": "61bff2b5-5248-42ab-8361-f1492a08cc6f"
      },
      "source": [
        "#se muestra un error porque 5 no es una keyword es un value\r\n",
        "\r\n",
        "dicc[5]"
      ],
      "execution_count": null,
      "outputs": [
        {
          "output_type": "error",
          "ename": "KeyError",
          "evalue": "5",
          "traceback": [
            "\u001b[0;31m---------------------------------------------------------------------------\u001b[0m",
            "\u001b[0;31mKeyError\u001b[0m                                  Traceback (most recent call last)",
            "\u001b[0;32m<ipython-input-77-58fcd417ce0e>\u001b[0m in \u001b[0;36m<module>\u001b[0;34m\u001b[0m\n\u001b[0;32m----> 1\u001b[0;31m \u001b[0mdicc\u001b[0m\u001b[0;34m[\u001b[0m\u001b[0;36m5\u001b[0m\u001b[0;34m]\u001b[0m\u001b[0;34m\u001b[0m\u001b[0;34m\u001b[0m\u001b[0m\n\u001b[0m",
            "\u001b[0;31mKeyError\u001b[0m: 5"
          ]
        }
      ]
    },
    {
      "cell_type": "markdown",
      "metadata": {
        "id": "tle67ss2rDqq"
      },
      "source": [
        "<font size=4>\n",
        "    \n",
        "Para agregar keywords a un diccionario se usa la siguiente sintáxis:\n",
        "    \n",
        " `name_dict[name_keyword] = value`\n",
        "    \n",
        "  "
      ]
    },
    {
      "cell_type": "code",
      "metadata": {
        "id": "kNZnG-GPrDqq"
      },
      "source": [
        "dicc['new_keyword'] = 'Hey'"
      ],
      "execution_count": null,
      "outputs": []
    },
    {
      "cell_type": "markdown",
      "metadata": {
        "id": "SEo5exLarDqr"
      },
      "source": [
        "<font size=4>\n",
        "    \n",
        "Veámos:\n",
        "  "
      ]
    },
    {
      "cell_type": "code",
      "metadata": {
        "id": "eaSBpk-_rDqr",
        "outputId": "10ff7af7-441d-433a-cca7-3f74e38c58a3"
      },
      "source": [
        "dicc"
      ],
      "execution_count": null,
      "outputs": [
        {
          "output_type": "execute_result",
          "data": {
            "text/plain": [
              "{'a': (1, 2, 4), 'b': 5, 'new_keyword': 'Hey'}"
            ]
          },
          "metadata": {
            "tags": []
          },
          "execution_count": 83
        }
      ]
    },
    {
      "cell_type": "markdown",
      "metadata": {
        "id": "nnggSV08rDqr"
      },
      "source": [
        "<font size=4>\n",
        "    \n",
        "Para eliminar keywords de un diccionario se usa la siguiente sintáxis:\n",
        "    \n",
        "\n",
        "``del name_dict[name_keyword]``\n",
        "    \n",
        " y se elimina junto con su respectivo valor. \n",
        "    \n",
        "  "
      ]
    },
    {
      "cell_type": "code",
      "metadata": {
        "id": "gv3XUTgrrDqr"
      },
      "source": [
        "del dicc['new_keyword']"
      ],
      "execution_count": null,
      "outputs": []
    },
    {
      "cell_type": "markdown",
      "metadata": {
        "id": "sayDT5AKrDqr"
      },
      "source": [
        "<font size=4>\n",
        "    \n",
        "Veámos:\n",
        "  "
      ]
    },
    {
      "cell_type": "code",
      "metadata": {
        "id": "gRv-U_Y9rDqr",
        "outputId": "6d5cf3a2-8c2c-499a-c3f2-b1c0daae0f86"
      },
      "source": [
        "dicc"
      ],
      "execution_count": null,
      "outputs": [
        {
          "output_type": "execute_result",
          "data": {
            "text/plain": [
              "{'a': (1, 2, 4), 'b': 5}"
            ]
          },
          "metadata": {
            "tags": []
          },
          "execution_count": 85
        }
      ]
    },
    {
      "cell_type": "markdown",
      "metadata": {
        "id": "TDbwjinwrDqs"
      },
      "source": [
        "<font size=4>\n",
        "    \n",
        "Se puede hacer que un diccionario sea bidireccional, es decir, que cada keyword sea también un value y que cada value sea también un keyword.   \n",
        "  "
      ]
    },
    {
      "cell_type": "code",
      "metadata": {
        "id": "x4ECdwE9rDqs"
      },
      "source": [
        "dicc.update( dict((dicc[k], k) for k in dicc))"
      ],
      "execution_count": null,
      "outputs": []
    },
    {
      "cell_type": "code",
      "metadata": {
        "id": "lAO90HjRrDqs",
        "outputId": "62c73de2-a0b0-4dcb-fb05-1ad8f7f3b72f"
      },
      "source": [
        "dicc[5]"
      ],
      "execution_count": null,
      "outputs": [
        {
          "output_type": "execute_result",
          "data": {
            "text/plain": [
              "'b'"
            ]
          },
          "metadata": {
            "tags": []
          },
          "execution_count": 88
        }
      ]
    },
    {
      "cell_type": "markdown",
      "metadata": {
        "id": "9yc5BhaYrDqs"
      },
      "source": [
        "<font size=4 color='skyblue'>\n",
        "\n",
        "    \n",
        "**Ejercicio** \n",
        "    \n",
        "<font color='b'>\n",
        "    \n",
        "  1. Define el diccionario `dicc_example` con las siguientes caracteristicas:\n",
        "  \n",
        "  \n",
        "  \n",
        "      palabras clave: 'Christian', 'Iván', 'Daniel', 'Evelyn', 'Oscar', 'José'\n",
        "  \n",
        "      valores correspondientes: 35, 31, 22, 24, 23, 25\n",
        "  \n",
        "  \n",
        "  2. Agrega el keyword que corresponda a tu nombre con el valor correspondiente a tu edad.\n",
        "  \n",
        "  \n",
        "  \n",
        "  3. Muestra el diccionario en pantalla. \n",
        "  "
      ]
    },
    {
      "cell_type": "code",
      "metadata": {
        "id": "sg1b7BdjrDqt"
      },
      "source": [
        "# Escribe el codigo aquí\n"
      ],
      "execution_count": null,
      "outputs": []
    },
    {
      "cell_type": "markdown",
      "metadata": {
        "id": "ckDs5fB1rDqt"
      },
      "source": [
        "<font color='cornflowerblue' size=4>\n",
        "\n",
        "\n",
        "**NOTA:**\n",
        "\n",
        "Recuerda que solo practicando se aprende, a lo largo del curso ¡pondremos en práctica todo lo aprendido!.\n",
        "\n",
        "___"
      ]
    }
  ]
}