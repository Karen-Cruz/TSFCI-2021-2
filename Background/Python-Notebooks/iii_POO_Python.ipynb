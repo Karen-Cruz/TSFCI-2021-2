{
  "nbformat": 4,
  "nbformat_minor": 0,
  "metadata": {
    "kernelspec": {
      "display_name": "Python 3",
      "language": "python",
      "name": "python3"
    },
    "language_info": {
      "codemirror_mode": {
        "name": "ipython",
        "version": 3
      },
      "file_extension": ".py",
      "mimetype": "text/x-python",
      "name": "python",
      "nbconvert_exporter": "python",
      "pygments_lexer": "ipython3",
      "version": "3.7.4"
    },
    "colab": {
      "name": "iii-POO-Python.ipynb",
      "provenance": [],
      "collapsed_sections": []
    }
  },
  "cells": [
    {
      "cell_type": "markdown",
      "metadata": {
        "id": "LduMZ0VNbzUV"
      },
      "source": [
        "**Introducción a Python**  by Karen Cruz in licensed under <a href=\"https://creativecommons.org/licenses/by-nc-nd/4.0?ref=chooser-v1\">Attribution-NonCommercial-NoDerivatives 4.0 International</a>\n",
        "\n",
        "<font size=4 color='royalblue'>\n",
        "    \n",
        "##  Lenguaje de Programación Python. \n",
        "\n"
      ]
    },
    {
      "cell_type": "markdown",
      "metadata": {
        "id": "uOtWK6yybzUb"
      },
      "source": [
        "<font size=4 >\n",
        "\n",
        "\n",
        "**Lo que necesitas recordar**:\n",
        "- Ejecute sus celdas usando SHIFT + ENTER (o \"run cell\")\n",
        "\n",
        "___"
      ]
    },
    {
      "cell_type": "markdown",
      "metadata": {
        "id": "qG_S-nALbzUc"
      },
      "source": [
        "<font size=4 color='royalblue'>\n",
        "\n",
        "#  Programación orientada a objetos (POO)."
      ]
    },
    {
      "cell_type": "markdown",
      "metadata": {
        "id": "4SJtv7aRbzUd"
      },
      "source": [
        "<font size=4>\n",
        "    \n",
        "       \n",
        "  A continuación se enlistan algunas de sus características.\n",
        "  \n",
        "  \n",
        "    \n",
        "1. Permite desarrollar aplicaciones complejas manteniendo un código más claro y manejable.\n",
        "\n",
        "\n",
        "\n",
        "2. Es una manera de programar específica, donde se organiza el código en unidades denominadas clases, de las cuales se crean objetos que se relacionan entre sí para conseguir los objetivos de las aplicaciones.\n",
        "\n",
        "\n",
        "\n",
        "3. Es una forma especial de programar, más cercana a como expresaríamos las cosas en la vida real.\n",
        "\n",
        "\n",
        "4. Se pueden realizar las cosas de manera que otras personas puedan utilizarlas y adelantar su trabajo, de manera que consigamos que el código se pueda reutilizar.\n",
        "\n",
        "\n",
        " Pensar en términos de objetos es muy parecido a cómo lo haríamos en la vida real. Por ejemplo vamos a pensar en un coche para tratar de modelizarlo en un esquema de POO. \n",
        " \n",
        " El coche es el elemento principal que tiene una serie de características, como podrían ser el color, el modelo o la marca. Además tiene una serie de funcionalidades asociadas, como pueden ser ponerse en marcha, parar o estacionarse.\n",
        "\n",
        "\n",
        "En POO \"el coche\" sería lo que se conoce como \"Clase\". Sus características, como el color o el modelo, serían los atributos y las funcionalidades asociadas, como ponerse en marcha o parar, serían métodos.\n",
        "\n",
        "\n",
        "La clase es como un libro, que describe cómo son todos los objetos de un mismo tipo. \n",
        "\n",
        "La clase coche describe cómo son todos sus coches, qué propiedades tienen y qué funcionalidades deben poder realizar. A partir de una clase podemos crear cualquier número de objetos de esa clase. Un coche rojo que es de la marca Ford y modelo Fiesta, otro verde que es de la marca Seat y modelo Ibiza. \n"
      ]
    },
    {
      "cell_type": "markdown",
      "metadata": {
        "id": "TCObcb94bzUd"
      },
      "source": [
        "<font size=4 color='rosybrown'>\n",
        "    \n",
        "> ## Descripción de la terminología básica de POO."
      ]
    },
    {
      "cell_type": "markdown",
      "metadata": {
        "id": "yiZrEyJSbzUd"
      },
      "source": [
        "<font size=4 color='rosybrown'>\n",
        "    \n",
        ">> ### Clases."
      ]
    },
    {
      "cell_type": "markdown",
      "metadata": {
        "id": "8AiIXPOHbzUe"
      },
      "source": [
        "<font size=4>\n",
        "    \n",
        "  Las clases son declaraciones de objetos. Esto quiere decir que la definición de un objeto es la clase. \n",
        "  \n",
        "  Cuando programamos un objeto y definimos sus características y funcionalidades en realidad lo que estamos haciendo es programar una clase."
      ]
    },
    {
      "cell_type": "code",
      "metadata": {
        "id": "mLXLKrzIbzUe"
      },
      "source": [
        "class Point:\n",
        "    def __init__(self, initX, initY):\n",
        "        self.x = initX\n",
        "        self.y = initY     \n",
        "    def __str__(self):\n",
        "        return 'Point ({},{})'.format(self.x, self.y)  \n",
        "    def __add__(self, otherPoint):\n",
        "        return Point(self.x+otherPoint.x, self.y+otherPoint.y)\n",
        "    def __sub__(self, otherPoint):\n",
        "        return Point(self.x-otherPoint.x, self.y-otherPoint.y)\n",
        "    \n",
        "    def getX(self):\n",
        "        return self.x\n",
        "    def getY(self):\n",
        "        return self.y\n",
        "    \n",
        "    def Norm(self):\n",
        "        return ((self.x**2)+(self.y**2))**0.5\n",
        "    \n",
        "    def halfway(self, target):\n",
        "        mx = (self.x + target.x)/2\n",
        "        my = (self.y + target.y)/2\n",
        "        return Point(mx, my)"
      ],
      "execution_count": null,
      "outputs": []
    },
    {
      "cell_type": "code",
      "metadata": {
        "id": "FlgPSDkQbzUf"
      },
      "source": [
        "point1 = Point(2, 4)"
      ],
      "execution_count": null,
      "outputs": []
    },
    {
      "cell_type": "markdown",
      "metadata": {
        "id": "96wYZCmPbzUf"
      },
      "source": [
        "<font size=4>\n",
        "\n",
        "point1 es un objeto de clase Point"
      ]
    },
    {
      "cell_type": "markdown",
      "metadata": {
        "id": "tbrvnnVLbzUf"
      },
      "source": [
        "<font size=4 color='rosybrown'>\n",
        "    \n",
        ">> ### Atributos."
      ]
    },
    {
      "cell_type": "markdown",
      "metadata": {
        "id": "GrOrFwn7bzUg"
      },
      "source": [
        "<font size=4>\n",
        "\n",
        "\n",
        "**Las propiedades o atributos son las características de los objetos**. Cuando definimos una propiedad normalmente especificamos su nombre y su tipo. Las propiedades son variables donde almacenamos datos relacionados con los objetos.\n",
        "\n",
        "\n",
        "Estados en objetos \n",
        "\n",
        "\n",
        "Cuando tenemos un objeto sus propiedades toman valores. Por ejemplo, cuando tenemos un coche la propiedad color tomará un valor en concreto, como por ejemplo rojo o gris metalizado. El valor concreto de una propiedad de un objeto se llama estado.\n",
        "\n",
        "Para acceder a un estado de un objeto para ver su valor o cambiarlo se utiliza el operador punto. "
      ]
    },
    {
      "cell_type": "code",
      "metadata": {
        "id": "RGnPN8GubzUg"
      },
      "source": [
        "class Point:\n",
        "    def __init__(self, initX, initY):\n",
        "        self.x = initX\n",
        "        self.y = initY\n",
        "\n",
        "    def getX(self):\n",
        "        return self.x\n",
        "    def getY(self):\n",
        "        return self.y\n"
      ],
      "execution_count": null,
      "outputs": []
    },
    {
      "cell_type": "code",
      "metadata": {
        "id": "ovA4i2pybzUg",
        "outputId": "b44f4a86-3b40-4019-a435-e393020b1b06"
      },
      "source": [
        "print(point1.getX())"
      ],
      "execution_count": null,
      "outputs": [
        {
          "output_type": "stream",
          "text": [
            "2\n"
          ],
          "name": "stdout"
        }
      ]
    },
    {
      "cell_type": "markdown",
      "metadata": {
        "id": "rpsMn2kFbzUh"
      },
      "source": [
        "<font size=4 color='rosybrown'>\n",
        "    \n",
        ">> ### Métodos."
      ]
    },
    {
      "cell_type": "markdown",
      "metadata": {
        "id": "mu-BMSOjbzUi"
      },
      "source": [
        "<font size=4>\n",
        "\n",
        "\n",
        "**Son las funcionalidades asociadas a los objetos.** Cuando estamos programando las clases las llamamos métodos en lugar de funciones. \n",
        "\n",
        "Los métodos son las funciones que están asociadas a un objeto.\n",
        "\n",
        "\n",
        "\n",
        "Mensajes en objetos\n",
        "\n",
        "Un mensaje en un objeto es la acción de efectuar una llamada a un método. Por ejemplo, cuando le decimos a un objeto coche que se ponga en marcha estamos pasándole el mensaje \"ponte en marcha\".\n",
        "\n",
        "Para mandar mensajes a los objetos utilizamos el operador punto, seguido del método que deseamos invocar y los paréntesis, como en las llamadas a las funciones. "
      ]
    },
    {
      "cell_type": "code",
      "metadata": {
        "id": "z7BpSpItbzUi"
      },
      "source": [
        "class Point:\n",
        "    def __init__(self, initX, initY):\n",
        "        self.x = initX\n",
        "        self.y = initY\n",
        "        \n",
        "    def __str__(self):\n",
        "        return 'Point ({},{})'.format(self.x, self.y)\n",
        "    \n",
        "    def __add__(self, otherPoint):\n",
        "        return Point(self.x+otherPoint.x, self.y+otherPoint.y)\n",
        "    def __sub__(self, otherPoint):\n",
        "        return Point(self.x-otherPoint.x, self.y-otherPoint.y)\n",
        "\n",
        "    \n",
        "    def Norm(self):\n",
        "        return ((self.x**2)+(self.y**2))**0.5\n",
        "    \n",
        "    def halfway(self, target):\n",
        "        mx = (self.x + target.x)/2\n",
        "        my = (self.y + target.y)/2\n",
        "        return Point(mx, my)"
      ],
      "execution_count": null,
      "outputs": []
    },
    {
      "cell_type": "code",
      "metadata": {
        "id": "cCCPJ5cUbzUi",
        "outputId": "5ebb512c-d12c-473c-b075-370fecd7903c"
      },
      "source": [
        "p1 = Point(-5, 10)\n",
        "p2 = Point(15, 20)\n",
        "\n",
        "print(p1+p2)"
      ],
      "execution_count": null,
      "outputs": [
        {
          "output_type": "stream",
          "text": [
            "Point (10,30)\n"
          ],
          "name": "stdout"
        }
      ]
    },
    {
      "cell_type": "code",
      "metadata": {
        "id": "yZMarwHMbzUj",
        "outputId": "82da35fd-d345-450e-90d0-24d74e237b1a"
      },
      "source": [
        "p = Point(3, 4)\n",
        "q = Point(5,12)\n",
        "mid = p.halfway(q)\n",
        "print(mid)"
      ],
      "execution_count": null,
      "outputs": [
        {
          "output_type": "stream",
          "text": [
            "Point (4.0,8.0)\n"
          ],
          "name": "stdout"
        }
      ]
    },
    {
      "cell_type": "markdown",
      "metadata": {
        "id": "hTa_jsWvbzUj"
      },
      "source": [
        "[Magic Methods](https://www.python-course.eu/python3_magic_methods.php)"
      ]
    },
    {
      "cell_type": "markdown",
      "metadata": {
        "id": "LtunnE9tbzUj"
      },
      "source": [
        "<font size=4 color='rosybrown'>\n",
        "    \n",
        ">> ### Objetos."
      ]
    },
    {
      "cell_type": "markdown",
      "metadata": {
        "id": "E6QRibHubzUj"
      },
      "source": [
        "<font size=4>\n",
        "\n",
        "Los objetos son ejemplares de una clase cualquiera. Cuando creamos un ejemplar tenemos que especificar la clase a partir de la cual se creará. Esta acción de crear un objeto a partir de una clase se llama instanciar (que viene de una mala traducción de la palabra instace que en inglés significa ejemplar). "
      ]
    },
    {
      "cell_type": "markdown",
      "metadata": {
        "id": "k5-46H66bzUk"
      },
      "source": [
        "<font size=4 color='rosybrown'>\n",
        "    \n",
        ">> ### Herencia."
      ]
    },
    {
      "cell_type": "markdown",
      "metadata": {
        "id": "VofcEO-ibzUk"
      },
      "source": [
        "<font size=4>\n",
        "\n",
        "Mejor conocido como el termino en inglés *inheritance*.\n",
        "\n",
        "La herencia sirve para crear objetos que incorporen propiedades y métodos de otros objetos. Así podremos construir unos objetos a partir de otros sin tener que reescribirlo todo.\n",
        "\n",
        "Referencia: [POO](https://desarrolloweb.com/articulos/499.php)"
      ]
    }
  ]
}