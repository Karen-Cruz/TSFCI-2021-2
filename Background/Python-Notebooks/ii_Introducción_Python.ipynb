{
  "nbformat": 4,
  "nbformat_minor": 0,
  "metadata": {
    "kernelspec": {
      "display_name": "Python 3",
      "language": "python",
      "name": "python3"
    },
    "language_info": {
      "codemirror_mode": {
        "name": "ipython",
        "version": 3
      },
      "file_extension": ".py",
      "mimetype": "text/x-python",
      "name": "python",
      "nbconvert_exporter": "python",
      "pygments_lexer": "ipython3",
      "version": "3.7.4"
    },
    "colab": {
      "name": "ii-Introducción-Python.ipynb",
      "provenance": [],
      "collapsed_sections": []
    }
  },
  "cells": [
    {
      "cell_type": "markdown",
      "metadata": {
        "id": "2ofwWWSdulIt"
      },
      "source": [
        "**Introducción a Python**  by Karen Cruz in licensed under <a href=\"https://creativecommons.org/licenses/by-nc-nd/4.0?ref=chooser-v1\">Attribution-NonCommercial-NoDerivatives 4.0 International</a>\n",
        "\n",
        "\n",
        "<font size=4 color='royalblue'>\n",
        "    \n",
        "## Lenguaje de Programación Python. \n",
        "\n",
        "> ###  Programación en Python. \n",
        "\n"
      ]
    },
    {
      "cell_type": "markdown",
      "metadata": {
        "id": "0HK_yiU4ulI1"
      },
      "source": [
        "<font size=4>\n",
        "\n",
        "En el presente nb se abordaran los siguientes temas:\n",
        "\n",
        "1. Control de flujo del programa.\n",
        "\n",
        "\n",
        "2. Definición y llamada a funciones.\n",
        "\n",
        "\n",
        "3. Debugging.\n",
        "\n",
        "___"
      ]
    },
    {
      "cell_type": "markdown",
      "metadata": {
        "id": "2APCOA5mulI2"
      },
      "source": [
        "<font size=4 >\n",
        "\n",
        "\n",
        "**Lo que necesitas recordar**:\n",
        "- Ejecute sus celdas usando SHIFT + ENTER (o \"run cell\")\n",
        "\n",
        "___"
      ]
    },
    {
      "cell_type": "markdown",
      "metadata": {
        "id": "PwzKLTyHulI2"
      },
      "source": [
        "<font size=4 color='royalblue'>\n",
        "\n",
        "# 1. Control de flujo del programa."
      ]
    },
    {
      "cell_type": "markdown",
      "metadata": {
        "id": "jjWxSORyulI3"
      },
      "source": [
        "<font size=4>\n",
        "    \n",
        " Los lenguajes de programación deben proveer estructuras que le permitan a los programadores controlar el flujo de ejecución de un programa dependiendo de los datos que procesan de forma que puedan realizar esas transformaciones.\n",
        " \n",
        " Sin importar la complejidad de los algoritmos que se desea implementar, todos se pueden expresar con cuatro estructuras básicas que todos los lenguajes ofrecen de una forma u otra: \n",
        " \n",
        " \n",
        " 1. ejecución secuencial.\n",
        " \n",
        " \n",
        " 2. selección.\n",
        " \n",
        " \n",
        " 3. repetición.\n",
        " \n",
        " \n",
        " 4. invocación.\n",
        " \n",
        " \n",
        "\n",
        "La ejecución secuencial es el más básico de los mecanismos de control de flujo y consiste en la ejecución de instrucciones en el orden en que se encuentran en el programa. \n",
        "\n",
        "La selección consiste en ejecutar instrucciones diferentes dependiendo del resultado de evaluar una expresión o del valor de una variable (declaraciones if-else).\n",
        "\n",
        "La repetición es la ejecución reiterada de instrucciones por un número fijo de ocasiones o dependiendo del resultado de evaluar una expresión (bucles for y while). \n",
        "\n",
        "La invocación transfiere el control a otra sección del programa, normalmente regresando automáticamente al punto posterior a dicha invocación una vez que finaliza la ejecución de la sección invocada (funciones y subrutinas).\n",
        "\n",
        "\n",
        "Referencia: [Fundamentos de programación/Control de flujo](https://es.wikiversity.org/wiki/Fundamentos_de_programaci%C3%B3n/Control_de_flujo)"
      ]
    },
    {
      "cell_type": "markdown",
      "metadata": {
        "id": "pX0tudPxulI3"
      },
      "source": [
        "<font color='rosybrown' size=4>\n",
        "  \n",
        "> ## 1.1 Selección: Declaraciones if-else"
      ]
    },
    {
      "cell_type": "markdown",
      "metadata": {
        "id": "65-MhqPjulI4"
      },
      "source": [
        "<font size=4>\n",
        "\n",
        "Las sentencias condicionales (if-else) sirven para realizar ciertas acciones siempre y cuando se cumpla una condición. \n",
        "\n",
        "La sintaxis es la siguiente:\n",
        "\n",
        "``` python \n",
        "\n",
        "\n",
        "if boolen_expression:\n",
        "\n",
        "    statement_1\n",
        "    \n",
        "    statement_2\n",
        "    \n",
        "    ...\n",
        "    \n",
        "    statement_n\n",
        "    \n",
        "else:\n",
        "\n",
        "    statement_n+1\n",
        "    \n",
        "     ...\n",
        "     \n",
        "    statement_m\n",
        "    \n",
        "```\n",
        " \n",
        " \n",
        "Las sentencias 1 a n se ejecutan si boolean_expression  es **True**, si boolean_expression es **False** se ejecutan las sentencias n+1 a m. \n",
        "\n",
        "Se puede omitir la sentencia else, si solo se esta interesado en realizar ciertas acciones si la expresión es **True**. \n",
        "\n",
        "Si se tienen más opciones, no solo dos, se usa la siguiente sintaxis:\n",
        "\n",
        "\n",
        "``` python \n",
        "\n",
        "if condicion_1:\n",
        "\n",
        "    statement_1\n",
        "\n",
        "elif condicion_2:\n",
        "\n",
        "    statement_2\n",
        "\n",
        "elif condicion_3:\n",
        "\n",
        "    statement_3\n",
        "\n",
        "...\n",
        "\n",
        "elif condicion_n:\n",
        "\n",
        "    statement_n\n",
        "\n",
        "else:\n",
        "\n",
        "    statement\n",
        "    \n",
        "```\n",
        "\n",
        "<font color='cornflowerblue'>\n",
        "    \n",
        "**NOTA:**\n",
        "\n",
        "Las declaraciones a ejecutar dependen de la condición que se cumpla. "
      ]
    },
    {
      "cell_type": "markdown",
      "metadata": {
        "id": "82GJuqRpulI4"
      },
      "source": [
        "<font size=4>\n",
        "    \n",
        " En el siguiente ejemplo se ejecuta solo una de los tres resultados, dependiendo de que expresión se cumple para un valor dado de x:"
      ]
    },
    {
      "cell_type": "code",
      "metadata": {
        "id": "KydXG2DaulI5",
        "outputId": "100819e4-3348-48c5-8aba-7ef922d92705"
      },
      "source": [
        "x = 35\n",
        "\n",
        "# si x es menor o igual que 20, entonces se ejecutan las instrucciones dadas en if:\n",
        "\n",
        "if x<=20:\n",
        "    print(x, 'es menor o igual que 20')\n",
        "    \n",
        "\n",
        "# si x esta entre 21 y 40, entonces se ejecutan las instrucciones dadas en elif:\n",
        "    \n",
        "elif 21<=x<=40:\n",
        "    print(x, 'esta entre 20 y 40')\n",
        "    \n",
        "# si no se cumple ninguna de las anteriores, entonces se ejecuta lo siguiente:\n",
        "    \n",
        "else:\n",
        "    print(x, 'es mayor que 40')"
      ],
      "execution_count": null,
      "outputs": [
        {
          "output_type": "stream",
          "text": [
            "35 esta entre 20 y 40\n"
          ],
          "name": "stdout"
        }
      ]
    },
    {
      "cell_type": "markdown",
      "metadata": {
        "id": "GQPzFqQFulI6"
      },
      "source": [
        "<font size=4>\n",
        "\n",
        "**En python el indentado es necesario.**\n",
        "\n",
        "Se utiliza para delimitar la estructura del programa permitiendo establecer bloques de código. "
      ]
    },
    {
      "cell_type": "markdown",
      "metadata": {
        "id": "Y_O39m5tulI8"
      },
      "source": [
        "<font color='rosybrown' size=4>\n",
        "  \n",
        "> ## 1.2 Repetición: Bucles for"
      ]
    },
    {
      "cell_type": "markdown",
      "metadata": {
        "id": "jQwZt5oqulI8"
      },
      "source": [
        "<font size=4>\n",
        "\n",
        "Con secuencias (objetos de tipo `string`, `list` y `tuple`), muchos cálculos implican el procesamiento de un elemento a la vez.\n",
        "\n",
        "Para cadenas, nos gustaría procesar un caracter a la vez. También podemos procesar cada uno de los elementos en una lista a la vez.\n",
        "\n",
        "La declaración `for` nos permite escribir programas que implementan iteración.\n",
        "\n",
        "``` python \n",
        "\n",
        "for i in secuencia:\n",
        "\n",
        "    statement_1\n",
        "    \n",
        "    statement_2\n",
        "    \n",
        "    ...\n",
        "    \n",
        "```\n",
        "    \n",
        "La indentación permite conocer los comandos que deben ejecutarse dentro de un ciclo `for`.\n",
        "    \n",
        "A medida que se ejecuta un programa, el intérprete siempre realiza un seguimiento de qué declaración está a punto de ejecutarse. Llamamos a esto el flujo de control o el flujo de ejecución del programa.\n",
        "\n",
        "El flujo de control hasta ahora ha sido estrictamente de arriba a abajo, una declaración a la vez (secuencial).\n",
        "\n",
        "Una función útil a la hora de realizar ciclos `for` es la función `range(n)` que genera una secuencia de numeros, que inicia en 0 y aumenta gradualmente de uno en uno hasta terminar en n-1, es decir, que genera a los numeros 0, 1, 2, ..., n-1"
      ]
    },
    {
      "cell_type": "code",
      "metadata": {
        "id": "LtjkfYSmulI8",
        "outputId": "954307a5-6378-49d0-8f5a-340b0c1a89ad"
      },
      "source": [
        "range(8)"
      ],
      "execution_count": null,
      "outputs": [
        {
          "output_type": "execute_result",
          "data": {
            "text/plain": [
              "range(0, 8)"
            ]
          },
          "metadata": {
            "tags": []
          },
          "execution_count": 2
        }
      ]
    },
    {
      "cell_type": "markdown",
      "metadata": {
        "id": "u_2pOTWtulI9"
      },
      "source": [
        "<font size=4>\n",
        "\n",
        "\n",
        "Tambien se puede especificar el paso en que la secuencia aumenta gradualmente:\n",
        "    "
      ]
    },
    {
      "cell_type": "code",
      "metadata": {
        "id": "fEDbEQiYulI9"
      },
      "source": [
        "range(5, 28, 2)\n",
        "\n",
        "# 5 es el numero inicial\n",
        "# 28-1 es el numero final\n",
        "# 2 es el paso con el que se aumenta la secuencia de numeros"
      ],
      "execution_count": null,
      "outputs": []
    },
    {
      "cell_type": "markdown",
      "metadata": {
        "id": "hbBaYLv0ulI9"
      },
      "source": [
        "<font size=4>\n",
        "\n",
        "En este caso, se inicia en 5, termina en 27 y va aumentando a pasos de 2. Es decir, genera la secuencia 5, 7, 9, 11, 13, 15, 17, 19, 21, 23, 25, 27\n"
      ]
    },
    {
      "cell_type": "markdown",
      "metadata": {
        "id": "1NbdCkRQulI-"
      },
      "source": [
        "<font size=4 color='cornflowerblue'>\n",
        "    \n",
        "**NOTA:** \n",
        "    \n",
        "La función `range()` solo trabaja con numeros enteros."
      ]
    },
    {
      "cell_type": "markdown",
      "metadata": {
        "id": "TWI-3-8YulI-"
      },
      "source": [
        "<font size=4>\n",
        "\n",
        "En el siguiente ejemplo se imprimen los numeros generados con range(5, 28, 2). \n"
      ]
    },
    {
      "cell_type": "code",
      "metadata": {
        "id": "W0tEKEmFulI-",
        "outputId": "fe244d79-57c8-48d7-e259-a697bcfb2fa6"
      },
      "source": [
        "for i in range(5, 28, 2):\n",
        "    print('El indice actual es:', i)\n",
        "print('Esto ya no esta indentado pues ya no pertence al ciclo for y por tanto, se realizara al terminar este.')"
      ],
      "execution_count": null,
      "outputs": [
        {
          "output_type": "stream",
          "text": [
            "El indice actual es: 5\n",
            "El indice actual es: 7\n",
            "El indice actual es: 9\n",
            "El indice actual es: 11\n",
            "El indice actual es: 13\n",
            "El indice actual es: 15\n",
            "El indice actual es: 17\n",
            "El indice actual es: 19\n",
            "El indice actual es: 21\n",
            "El indice actual es: 23\n",
            "El indice actual es: 25\n",
            "El indice actual es: 27\n",
            "Esto ya no esta indentado pues ya no pertence al ciclo for y por tanto, se realizara al terminar este.\n"
          ],
          "name": "stdout"
        }
      ]
    },
    {
      "cell_type": "markdown",
      "metadata": {
        "id": "cbxzY1rBulI_"
      },
      "source": [
        "<font size=4 color='red'>\n",
        "    \n",
        "Ejercicio\n",
        "    \n",
        "<font color='b'>\n",
        "    \n",
        "\n",
        "Define la siguiente tupla:\n",
        "\n",
        "    ([Sofia, 23, F], [Ernesto, 30, M], [Claudia, 26, F], [Miguel, 28, M])\n",
        " \n",
        "Imprime el nombre (Sofia, Ernesto, Claudia, Miguel) de cada elemento de la tupla definida. "
      ]
    },
    {
      "cell_type": "code",
      "metadata": {
        "id": "9K9tTX7yulI_"
      },
      "source": [
        ""
      ],
      "execution_count": null,
      "outputs": []
    },
    {
      "cell_type": "markdown",
      "metadata": {
        "id": "Mqi2F1AOulJA"
      },
      "source": [
        "<font size=4>\n",
        "    \n",
        " A continuación se da un ejemplo con ciclos for anidados. "
      ]
    },
    {
      "cell_type": "code",
      "metadata": {
        "id": "v_MXkARZulJA",
        "outputId": "a9606458-cabc-4c86-95bc-8156aa19b12d"
      },
      "source": [
        "# El iterador es el conjunto de valores que va a tomar el iterable. \n",
        "\n",
        "lista = ((1, 2), (7, 5), (3.0, 5.6))\n",
        "\n",
        "for i in lista:\n",
        "    \n",
        "    # i in lista, i es el iterable y lista es el iterador, \n",
        "    # entonces i toma los siguientes valores en cada iteracion: (1, 2), (7, 5) y (3.0, 5.6)\n",
        "        \n",
        "    for j in i:\n",
        "        \n",
        "        # j es el iterable e i el iterador\n",
        "        # si i es (1, 2), j toma los valores de 1 y 2\n",
        "        # cuando i se actualiza a (7, 5), j toma los valores 7 y 5\n",
        "        #...\n",
        "        \n",
        "        print(j, 'in ', i)"
      ],
      "execution_count": null,
      "outputs": [
        {
          "output_type": "stream",
          "text": [
            "1 in  (1, 2)\n",
            "2 in  (1, 2)\n",
            "7 in  (7, 5)\n",
            "5 in  (7, 5)\n",
            "3.0 in  (3.0, 5.6)\n",
            "5.6 in  (3.0, 5.6)\n"
          ],
          "name": "stdout"
        }
      ]
    },
    {
      "cell_type": "markdown",
      "metadata": {
        "id": "VAKcJMBDulJA"
      },
      "source": [
        "<font size=4>\n",
        "    \n",
        " A continuación se da un ejemplo en el cual se indica el índice de cada elemento en una tupla, para ello se usa la función `enumerate( )`."
      ]
    },
    {
      "cell_type": "code",
      "metadata": {
        "id": "54qIxG3dulJB"
      },
      "source": [
        "tupla = ('st', 'p3', 6, [1, 6])\n",
        "\n",
        "for i, j in enumerate(tupla):\n",
        "    print('index:', i, ', item:', j)"
      ],
      "execution_count": null,
      "outputs": []
    },
    {
      "cell_type": "markdown",
      "metadata": {
        "id": "22m5xi-CulJB"
      },
      "source": [
        "<font color='rosybrown' size=4>\n",
        "\n",
        "\n",
        "> ## 1.3 Repetición: Declaración While\n"
      ]
    },
    {
      "cell_type": "markdown",
      "metadata": {
        "id": "bUZ4ZoiSulJB"
      },
      "source": [
        "<font size=4>\n",
        "\n",
        "`while` es un iterador que realiza un conjunto de tareas siempre que una condicion es verdadera. La sintaxis es la siguiente:\n",
        "\n",
        "``` python \n",
        "\n",
        "initial_variable\n",
        "\n",
        "while condition:\n",
        "\n",
        "    statement_1\n",
        "    \n",
        "    statement_2\n",
        "    \n",
        "    ...\n",
        "    \n",
        "    initial_variable_update\n",
        "    \n",
        "```\n"
      ]
    },
    {
      "cell_type": "markdown",
      "metadata": {
        "id": "Ka8tiM87ulJC"
      },
      "source": [
        "___"
      ]
    },
    {
      "cell_type": "markdown",
      "metadata": {
        "id": "dP7ll652ulJC"
      },
      "source": [
        "<font size=4 color='royalblue'>\n",
        "\n",
        "# 2. Funciones."
      ]
    },
    {
      "cell_type": "markdown",
      "metadata": {
        "id": "Dltf5MPGulJC"
      },
      "source": [
        "<font size=4 color='rosybrown'>\n",
        "    \n",
        "> ### 2.1 In- Buitl Functions."
      ]
    },
    {
      "cell_type": "markdown",
      "metadata": {
        "id": "Ef10dtw-ulJC"
      },
      "source": [
        "<font size=4>\n",
        "    \n",
        "  Estas son las funciones que Python nos proporciona, para usarlas solo hay que mandar a llamarlas.\n",
        "  \n",
        "  Ejemplos de estas son las funciones `print()` para imprimir, `len()` para obtener el numero de elementos en una secuencia, `input()` que permite que el usuario introduzca información, la funciones de conversion de tipo (`float()`, `int()`, `str()`), etc. \n",
        "  \n",
        "  \n",
        " [In- Buitl Functions](https://docs.python.org/3/library/functions.html)"
      ]
    },
    {
      "cell_type": "markdown",
      "metadata": {
        "id": "IdLz1T6QulJD"
      },
      "source": [
        "<font size=4 color='rosybrown'>\n",
        "    \n",
        "> ### 2.2 Definición de funciones."
      ]
    },
    {
      "cell_type": "markdown",
      "metadata": {
        "id": "D8m-zLw-ulJD"
      },
      "source": [
        "<font size=4>\n",
        "\n",
        "Una función es un bloque de código con un nombre asociado, que recibe cero o más argumentos como entrada, sigue una secuencia de sentencias, la cuales ejecutan una operación deseada y devuelve un valor y/o realiza una tarea, este bloque puede ser llamado cuando se necesite.\n",
        "    \n",
        " Las funciones permiten realizar la misma tarea sin necesidad de escribir el mismo código una y otra vez.\n",
        "    \n",
        "  La estructura general para definir a una función es la siguiente:\n",
        "    \n",
        " ``` python \n",
        "    \n",
        "    def function_name(optional argument(s)):\n",
        "    \n",
        "    '''comments of the function'''\n",
        "    \n",
        "        do something and if there are arguments do something to them\n",
        "    \n",
        "        return output of the function   \n",
        "  ```\n",
        "    \n",
        "    \n",
        "Que la función regrese un valor (con `return`) es opcional. \n"
      ]
    },
    {
      "cell_type": "code",
      "metadata": {
        "id": "wI5si9GjulJD"
      },
      "source": [
        "# definicion de la funcion resta\n",
        "\n",
        "def resta(a, b):\n",
        "    \n",
        "    return a - b"
      ],
      "execution_count": null,
      "outputs": []
    },
    {
      "cell_type": "code",
      "metadata": {
        "id": "JLkHxmGNulJE"
      },
      "source": [
        "def adder(low, high):\n",
        "    '''----------------------\n",
        "    Function to add a range of user specified integers\n",
        "    low: integer to start at\n",
        "    high integer to end at'''\n",
        "    value = 0\n",
        "    while low <= high:\n",
        "        value += low\n",
        "        low += 1\n",
        "    return value "
      ],
      "execution_count": null,
      "outputs": []
    },
    {
      "cell_type": "markdown",
      "metadata": {
        "id": "WKHqwsDPulJE"
      },
      "source": [
        "<font size=4>\n",
        "\n",
        "Los comentarios sirven para indicar lo que hace un función y al usar la función `help()` se imprime en pantalla estos comentarios. "
      ]
    },
    {
      "cell_type": "code",
      "metadata": {
        "id": "0x5B7wqdulJE",
        "colab": {
          "base_uri": "https://localhost:8080/"
        },
        "outputId": "27875820-ce9c-470d-f602-07c0c1bab525"
      },
      "source": [
        "help(print)"
      ],
      "execution_count": null,
      "outputs": [
        {
          "output_type": "stream",
          "text": [
            "Help on built-in function print in module builtins:\n",
            "\n",
            "print(...)\n",
            "    print(value, ..., sep=' ', end='\\n', file=sys.stdout, flush=False)\n",
            "    \n",
            "    Prints the values to a stream, or to sys.stdout by default.\n",
            "    Optional keyword arguments:\n",
            "    file:  a file-like object (stream); defaults to the current sys.stdout.\n",
            "    sep:   string inserted between values, default a space.\n",
            "    end:   string appended after the last value, default a newline.\n",
            "    flush: whether to forcibly flush the stream.\n",
            "\n"
          ],
          "name": "stdout"
        }
      ]
    },
    {
      "cell_type": "code",
      "metadata": {
        "colab": {
          "base_uri": "https://localhost:8080/"
        },
        "id": "JQ-5LRZ7aqxM",
        "outputId": "ec65e51a-2ac9-423d-a743-f6e7b33007b5"
      },
      "source": [
        "\r\n",
        "help(adder)"
      ],
      "execution_count": null,
      "outputs": [
        {
          "output_type": "stream",
          "text": [
            "Help on function adder in module __main__:\n",
            "\n",
            "adder(low, high)\n",
            "    ----------------------\n",
            "    Function to add a range of user specified integers\n",
            "    low: integer to start at\n",
            "    high integer to end at\n",
            "\n"
          ],
          "name": "stdout"
        }
      ]
    },
    {
      "cell_type": "markdown",
      "metadata": {
        "id": "x7jaHFMXulJF"
      },
      "source": [
        "<font size=4 color='rosybrown'>\n",
        "    \n",
        "> ### 2.3 Llamada a funciones."
      ]
    },
    {
      "cell_type": "markdown",
      "metadata": {
        "id": "nKIYGL4bulJF"
      },
      "source": [
        "<font size=4>\n",
        "    \n",
        "Las llamadas o invocacion a funciones sirve para ejecutar una función determinada. Para invocar a una función basta con llamarla con el nombre que se le asigno y poner entre paréntesis a las variables que queremos que use.\n",
        "\n",
        "Una vez que la función ya esta definida se puede llamar desde cualquier parte del programa. \n",
        "\n",
        "Por ejemplo, en la celda anterior se definio a la función *resta(a, b)*, a continuación la invocamos para que se realice la resta entre los numeros 8 y 9."
      ]
    },
    {
      "cell_type": "code",
      "metadata": {
        "id": "leGo4qI5ulJF",
        "outputId": "6c17c20d-a6ef-4118-ec2a-87d7c6eb8311"
      },
      "source": [
        "# llamada a la funcion resta\n",
        "\n",
        "resta(8,9)"
      ],
      "execution_count": null,
      "outputs": [
        {
          "output_type": "execute_result",
          "data": {
            "text/plain": [
              "-1"
            ]
          },
          "metadata": {
            "tags": []
          },
          "execution_count": 9
        }
      ]
    },
    {
      "cell_type": "code",
      "metadata": {
        "id": "HojQAKjSulJG",
        "outputId": "b5b7ca93-6296-4869-b5eb-04d7992526e7"
      },
      "source": [
        "adder(1,10)"
      ],
      "execution_count": null,
      "outputs": [
        {
          "output_type": "execute_result",
          "data": {
            "text/plain": [
              "55"
            ]
          },
          "metadata": {
            "tags": []
          },
          "execution_count": 10
        }
      ]
    },
    {
      "cell_type": "markdown",
      "metadata": {
        "id": "KvOJsSaxulJG"
      },
      "source": [
        "<font size=4 color='rosybrown'>\n",
        "    \n",
        "> ### Funciones lambda."
      ]
    },
    {
      "cell_type": "markdown",
      "metadata": {
        "id": "scV8TOVKulJG"
      },
      "source": [
        "<font size=4>\n",
        "\n",
        "Otra manera de definir funciones es usando la función `lambda`.\n",
        "\n",
        "Una función lambda es una pequeña función anónima.\n",
        "\n",
        "Una función lambda puede tomar cualquier número de argumentos, pero solo puede tener una expresión.\n",
        "\n",
        "```Python\n",
        "\n",
        "\n",
        "lambda args: some to do with the args\n",
        "\n",
        "\n",
        "```\n",
        "\n",
        "**Ejemplo**\n",
        "\n",
        "Se define la función square(x), la cual toma un solo argumento y lo eleva al cuadrado:\n",
        "\n"
      ]
    },
    {
      "cell_type": "code",
      "metadata": {
        "id": "J20PXNuWulJH"
      },
      "source": [
        "def square(x):\n",
        "    \n",
        "    '''La funcion square eleva al \n",
        "    cuadrado al argumento dado'''\n",
        "    \n",
        "    return x**2"
      ],
      "execution_count": null,
      "outputs": []
    },
    {
      "cell_type": "markdown",
      "metadata": {
        "id": "UkPv4I1xulJH"
      },
      "source": [
        "<font size=4>\n",
        "    \n",
        " Se define la misma funcion que arriba usando `lambda`:"
      ]
    },
    {
      "cell_type": "code",
      "metadata": {
        "id": "peJbCPQoulJH"
      },
      "source": [
        "square1 = lambda x: x**2"
      ],
      "execution_count": null,
      "outputs": []
    },
    {
      "cell_type": "markdown",
      "metadata": {
        "id": "OVvEzO19ulJI"
      },
      "source": [
        "<font size=4>\n",
        "    \n",
        "El resultado es el mismo:"
      ]
    },
    {
      "cell_type": "code",
      "metadata": {
        "id": "PHbqRGQZulJI"
      },
      "source": [
        "square(8) == square1(8)"
      ],
      "execution_count": null,
      "outputs": []
    },
    {
      "cell_type": "markdown",
      "metadata": {
        "id": "QQYVKh7nulJI"
      },
      "source": [
        "___"
      ]
    },
    {
      "cell_type": "markdown",
      "metadata": {
        "id": "ETp0xpCaulJI"
      },
      "source": [
        "<font size=4 color='royalblue'>\n",
        "\n",
        "# 3. Debugging."
      ]
    },
    {
      "cell_type": "markdown",
      "metadata": {
        "id": "pBeGs4D2ulJJ"
      },
      "source": [
        "<font size=4>\n",
        "    \n",
        " Los errores de un programa se denominan *bugs* y el proceso de rastrearlos y corregirlos se denomina *debugging*.\n",
        " \n",
        " Muchas veces esto se traduce a descubrir qué es lo que realmente le dijiste al programa que hiciera, en lugar de lo que pensabas que le dijiste que hiciera. \n",
        " \n",
        " Primero se dan un par de consejos para que la cantidad de errores a buscar sea mínima:\n",
        " \n",
        " 1. Empieza poco a poco: Cuando comiences a escribir un programa, escribe pequeñas secciones y ve probando que funcionen correctamente. Mientras menos líneas de código tengas, menos posibilidades tienes de equivocarte y más fácil es encontrar al error. \n",
        " \n",
        " \n",
        " \n",
        " 2. Mantenlo trabajando: Cada vez que vayas agregando código, prueba que todo funcione como debería. \n",
        " \n",
        " \n",
        "En Python se tienen tres tipos de errores:\n",
        "\n",
        "1. Syntax errors\n",
        "\n",
        "\n",
        "2. runtime errors\n",
        "\n",
        "\n",
        "3. semantic errors\n"
      ]
    },
    {
      "cell_type": "markdown",
      "metadata": {
        "id": "yVc6BqdFulJK"
      },
      "source": [
        "<font size=4 color='rosybrown'>\n",
        "    \n",
        "> ## 3.1 Syntax errors."
      ]
    },
    {
      "cell_type": "markdown",
      "metadata": {
        "id": "hCu0b7aLulJK"
      },
      "source": [
        "<font size=4>\n",
        "\n",
        "Recordemos que la sintaxis es la estructura del programa y las reglas que sigue sobre la estructura, si definiste algo con una sintaxis erronea el compilador de Python lo identificara y te lo hará saber mostrando un mensaje de error:\n",
        "\n",
        "\n",
        "\n",
        "```Python\n",
        "\n",
        "\n",
        "ParseError: error in the syntax\n",
        "\n",
        "```\n",
        "\n",
        "Dentro de este tenemos los siguientes errores:\n",
        "\n",
        "\n",
        "1. TypeError\n",
        "\n",
        "\n",
        "2. NameError\n",
        "\n",
        "\n",
        "3. ValueError"
      ]
    },
    {
      "cell_type": "markdown",
      "metadata": {
        "id": "z5WtwbN3ulJK"
      },
      "source": [
        "<font size=4 color='rosybrown'>\n",
        "    \n",
        ">> #### Type error."
      ]
    },
    {
      "cell_type": "markdown",
      "metadata": {
        "id": "ixrj47neulJL"
      },
      "source": [
        "<font size=4>\n",
        "    \n",
        " Sucede cuando tratas de combinar dos objetos que no son compatibles. \n",
        " \n",
        " **Ejemplo**"
      ]
    },
    {
      "cell_type": "code",
      "metadata": {
        "id": "EsrQxW_UulJL",
        "outputId": "b9c6f492-c674-417b-b834-3b99d1ed06e6"
      },
      "source": [
        "a = 'hola'\n",
        "\n",
        "b = 4\n",
        "\n",
        "c = a+b"
      ],
      "execution_count": null,
      "outputs": [
        {
          "output_type": "error",
          "ename": "TypeError",
          "evalue": "can only concatenate str (not \"int\") to str",
          "traceback": [
            "\u001b[0;31m---------------------------------------------------------------------------\u001b[0m",
            "\u001b[0;31mTypeError\u001b[0m                                 Traceback (most recent call last)",
            "\u001b[0;32m<ipython-input-11-9750538c91e1>\u001b[0m in \u001b[0;36m<module>\u001b[0;34m\u001b[0m\n\u001b[1;32m      3\u001b[0m \u001b[0mb\u001b[0m \u001b[0;34m=\u001b[0m \u001b[0;36m4\u001b[0m\u001b[0;34m\u001b[0m\u001b[0;34m\u001b[0m\u001b[0m\n\u001b[1;32m      4\u001b[0m \u001b[0;34m\u001b[0m\u001b[0m\n\u001b[0;32m----> 5\u001b[0;31m \u001b[0mc\u001b[0m \u001b[0;34m=\u001b[0m \u001b[0ma\u001b[0m\u001b[0;34m+\u001b[0m\u001b[0mb\u001b[0m\u001b[0;34m\u001b[0m\u001b[0;34m\u001b[0m\u001b[0m\n\u001b[0m",
            "\u001b[0;31mTypeError\u001b[0m: can only concatenate str (not \"int\") to str"
          ]
        }
      ]
    },
    {
      "cell_type": "markdown",
      "metadata": {
        "id": "FRVsJ-a5ulJL"
      },
      "source": [
        "<font size=4 color='rosybrown'>\n",
        "    \n",
        ">> #### Name error."
      ]
    },
    {
      "cell_type": "markdown",
      "metadata": {
        "id": "wEgpNRvqulJM"
      },
      "source": [
        "<font size=4>\n",
        "    \n",
        " Sucede cuando llamas a una variable antes de definirla o cuando usar un nombre que no se puede usar para una variable. \n",
        " \n",
        " Los nombres de una variable comienzan con letras o con '_', nunca con numeros, ademas de que Python tiene un conjunto de palabras clave las cuales no se pueden usar para nombrar variables. \n",
        " \n",
        " [keywords en Python](https://docs.python.org/3/reference/lexical_analysis.html#keywords)\n",
        " \n",
        " **Ejemplo**"
      ]
    },
    {
      "cell_type": "code",
      "metadata": {
        "id": "TgyTGLKjulJM",
        "outputId": "b2b2e0d8-5269-4fd3-9862-e4f89a0991f8"
      },
      "source": [
        "kwlist"
      ],
      "execution_count": null,
      "outputs": [
        {
          "output_type": "error",
          "ename": "NameError",
          "evalue": "name 'kwlist' is not defined",
          "traceback": [
            "\u001b[0;31m---------------------------------------------------------------------------\u001b[0m",
            "\u001b[0;31mNameError\u001b[0m                                 Traceback (most recent call last)",
            "\u001b[0;32m<ipython-input-12-7c0e51779300>\u001b[0m in \u001b[0;36m<module>\u001b[0;34m\u001b[0m\n\u001b[0;32m----> 1\u001b[0;31m \u001b[0mkwlist\u001b[0m\u001b[0;34m\u001b[0m\u001b[0;34m\u001b[0m\u001b[0m\n\u001b[0m",
            "\u001b[0;31mNameError\u001b[0m: name 'kwlist' is not defined"
          ]
        }
      ]
    },
    {
      "cell_type": "markdown",
      "metadata": {
        "id": "bPGO_jSRulJM"
      },
      "source": [
        "<font size=4 color='rosybrown'>\n",
        "    \n",
        ">> #### Value error."
      ]
    },
    {
      "cell_type": "markdown",
      "metadata": {
        "id": "JiJaPRg-ulJN"
      },
      "source": [
        "<font size=4>\n",
        "    \n",
        "Cuando pasas un parámetro a una función y la función espera ciertas limitaciones en los valores.\n",
        "\n",
        " **Ejemplo**"
      ]
    },
    {
      "cell_type": "code",
      "metadata": {
        "id": "Y8xLKm2UulJN",
        "outputId": "ee0398ac-c4cd-471d-d0aa-8a30dbb2dcdb"
      },
      "source": [
        "int('dog')"
      ],
      "execution_count": null,
      "outputs": [
        {
          "output_type": "error",
          "ename": "ValueError",
          "evalue": "invalid literal for int() with base 10: 'dog'",
          "traceback": [
            "\u001b[0;31m---------------------------------------------------------------------------\u001b[0m",
            "\u001b[0;31mValueError\u001b[0m                                Traceback (most recent call last)",
            "\u001b[0;32m<ipython-input-13-0c2d0636677c>\u001b[0m in \u001b[0;36m<module>\u001b[0;34m\u001b[0m\n\u001b[0;32m----> 1\u001b[0;31m \u001b[0mint\u001b[0m\u001b[0;34m(\u001b[0m\u001b[0;34m'dog'\u001b[0m\u001b[0;34m)\u001b[0m\u001b[0;34m\u001b[0m\u001b[0;34m\u001b[0m\u001b[0m\n\u001b[0m",
            "\u001b[0;31mValueError\u001b[0m: invalid literal for int() with base 10: 'dog'"
          ]
        }
      ]
    },
    {
      "cell_type": "markdown",
      "metadata": {
        "id": "vYDDQz7KulJN"
      },
      "source": [
        "<font size=4 color='rosybrown'>\n",
        "    \n",
        "> ## 3.2 Runtime errors."
      ]
    },
    {
      "cell_type": "markdown",
      "metadata": {
        "id": "Jom0DDhDulJN"
      },
      "source": [
        "<font size=4>\n",
        "    \n",
        "El error aparece hasta que se ejecuta el programa y es encontrado por el intérprete. "
      ]
    },
    {
      "cell_type": "markdown",
      "metadata": {
        "id": "3eXb3M-GulJO"
      },
      "source": [
        "<font size=4 color='rosybrown'>\n",
        "    \n",
        "> ## 3.3 Semantic errors."
      ]
    },
    {
      "cell_type": "markdown",
      "metadata": {
        "id": "UH67Gbi3ulJO"
      },
      "source": [
        "<font size=4>\n",
        "    \n",
        "Ejecuta con éxito el programa pero el programa no hace lo correcto. \n",
        "\n",
        "A esto nos referiamos con ' Muchas veces esto se traduce a descubrir qué es lo que realmente le dijiste al programa que hiciera, en lugar de lo que pensabas que le dijiste que hiciera'.\n",
        "\n",
        "\n",
        "\n",
        "Para depurar a un programa es necesario conocer el tipo de errores que se obtienen, pues así es más fácil identificar en dónde esta el error. \n",
        "\n"
      ]
    },
    {
      "cell_type": "markdown",
      "metadata": {
        "id": "sglQRldaulJO"
      },
      "source": [
        "\n",
        "<font size=4 color='cornflowerblue'>\n",
        "\n",
        "¡Felicidades, ahora ya puedes identificar los errores a la hora de compilar!\n",
        "___"
      ]
    }
  ]
}